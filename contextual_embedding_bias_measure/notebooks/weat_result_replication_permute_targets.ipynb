{
 "cells": [
  {
   "cell_type": "code",
   "execution_count": 1,
   "metadata": {},
   "outputs": [],
   "source": [
    "%load_ext autoreload\n",
    "%autoreload 2"
   ]
  },
  {
   "cell_type": "code",
   "execution_count": 2,
   "metadata": {},
   "outputs": [],
   "source": [
    "import torch\n",
    "import pandas as pd\n",
    "import numpy as np\n",
    "from pathlib import Path\n",
    "from typing import *\n",
    "import matplotlib.pyplot as plt\n",
    "%matplotlib inline"
   ]
  },
  {
   "cell_type": "code",
   "execution_count": 3,
   "metadata": {},
   "outputs": [],
   "source": [
    "import sys\n",
    "sys.path.append(\"../lib\")"
   ]
  },
  {
   "cell_type": "code",
   "execution_count": 4,
   "metadata": {},
   "outputs": [
    {
     "name": "stdout",
     "output_type": "stream",
     "text": [
      "Better speed can be achieved with apex installed from https://www.github.com/nvidia/apex.\n"
     ]
    }
   ],
   "source": [
    "from bert_utils import Config, BertPreprocessor"
   ]
  },
  {
   "cell_type": "code",
   "execution_count": 5,
   "metadata": {},
   "outputs": [],
   "source": [
    "config = Config(\n",
    "    model_type=\"bert-base-uncased\",\n",
    "    max_seq_len=128,\n",
    "    group=True,\n",
    ")"
   ]
  },
  {
   "cell_type": "code",
   "execution_count": 6,
   "metadata": {},
   "outputs": [],
   "source": [
    "processor = BertPreprocessor(config.model_type, config.max_seq_len)"
   ]
  },
  {
   "cell_type": "code",
   "execution_count": null,
   "metadata": {},
   "outputs": [],
   "source": []
  },
  {
   "cell_type": "code",
   "execution_count": 7,
   "metadata": {},
   "outputs": [
    {
     "data": {
      "text/plain": [
       "BertForMaskedLM(\n",
       "  (bert): BertModel(\n",
       "    (embeddings): BertEmbeddings(\n",
       "      (word_embeddings): Embedding(30522, 768)\n",
       "      (position_embeddings): Embedding(512, 768)\n",
       "      (token_type_embeddings): Embedding(2, 768)\n",
       "      (LayerNorm): BertLayerNorm()\n",
       "      (dropout): Dropout(p=0.1)\n",
       "    )\n",
       "    (encoder): BertEncoder(\n",
       "      (layer): ModuleList(\n",
       "        (0): BertLayer(\n",
       "          (attention): BertAttention(\n",
       "            (self): BertSelfAttention(\n",
       "              (query): Linear(in_features=768, out_features=768, bias=True)\n",
       "              (key): Linear(in_features=768, out_features=768, bias=True)\n",
       "              (value): Linear(in_features=768, out_features=768, bias=True)\n",
       "              (dropout): Dropout(p=0.1)\n",
       "            )\n",
       "            (output): BertSelfOutput(\n",
       "              (dense): Linear(in_features=768, out_features=768, bias=True)\n",
       "              (LayerNorm): BertLayerNorm()\n",
       "              (dropout): Dropout(p=0.1)\n",
       "            )\n",
       "          )\n",
       "          (intermediate): BertIntermediate(\n",
       "            (dense): Linear(in_features=768, out_features=3072, bias=True)\n",
       "          )\n",
       "          (output): BertOutput(\n",
       "            (dense): Linear(in_features=3072, out_features=768, bias=True)\n",
       "            (LayerNorm): BertLayerNorm()\n",
       "            (dropout): Dropout(p=0.1)\n",
       "          )\n",
       "        )\n",
       "        (1): BertLayer(\n",
       "          (attention): BertAttention(\n",
       "            (self): BertSelfAttention(\n",
       "              (query): Linear(in_features=768, out_features=768, bias=True)\n",
       "              (key): Linear(in_features=768, out_features=768, bias=True)\n",
       "              (value): Linear(in_features=768, out_features=768, bias=True)\n",
       "              (dropout): Dropout(p=0.1)\n",
       "            )\n",
       "            (output): BertSelfOutput(\n",
       "              (dense): Linear(in_features=768, out_features=768, bias=True)\n",
       "              (LayerNorm): BertLayerNorm()\n",
       "              (dropout): Dropout(p=0.1)\n",
       "            )\n",
       "          )\n",
       "          (intermediate): BertIntermediate(\n",
       "            (dense): Linear(in_features=768, out_features=3072, bias=True)\n",
       "          )\n",
       "          (output): BertOutput(\n",
       "            (dense): Linear(in_features=3072, out_features=768, bias=True)\n",
       "            (LayerNorm): BertLayerNorm()\n",
       "            (dropout): Dropout(p=0.1)\n",
       "          )\n",
       "        )\n",
       "        (2): BertLayer(\n",
       "          (attention): BertAttention(\n",
       "            (self): BertSelfAttention(\n",
       "              (query): Linear(in_features=768, out_features=768, bias=True)\n",
       "              (key): Linear(in_features=768, out_features=768, bias=True)\n",
       "              (value): Linear(in_features=768, out_features=768, bias=True)\n",
       "              (dropout): Dropout(p=0.1)\n",
       "            )\n",
       "            (output): BertSelfOutput(\n",
       "              (dense): Linear(in_features=768, out_features=768, bias=True)\n",
       "              (LayerNorm): BertLayerNorm()\n",
       "              (dropout): Dropout(p=0.1)\n",
       "            )\n",
       "          )\n",
       "          (intermediate): BertIntermediate(\n",
       "            (dense): Linear(in_features=768, out_features=3072, bias=True)\n",
       "          )\n",
       "          (output): BertOutput(\n",
       "            (dense): Linear(in_features=3072, out_features=768, bias=True)\n",
       "            (LayerNorm): BertLayerNorm()\n",
       "            (dropout): Dropout(p=0.1)\n",
       "          )\n",
       "        )\n",
       "        (3): BertLayer(\n",
       "          (attention): BertAttention(\n",
       "            (self): BertSelfAttention(\n",
       "              (query): Linear(in_features=768, out_features=768, bias=True)\n",
       "              (key): Linear(in_features=768, out_features=768, bias=True)\n",
       "              (value): Linear(in_features=768, out_features=768, bias=True)\n",
       "              (dropout): Dropout(p=0.1)\n",
       "            )\n",
       "            (output): BertSelfOutput(\n",
       "              (dense): Linear(in_features=768, out_features=768, bias=True)\n",
       "              (LayerNorm): BertLayerNorm()\n",
       "              (dropout): Dropout(p=0.1)\n",
       "            )\n",
       "          )\n",
       "          (intermediate): BertIntermediate(\n",
       "            (dense): Linear(in_features=768, out_features=3072, bias=True)\n",
       "          )\n",
       "          (output): BertOutput(\n",
       "            (dense): Linear(in_features=3072, out_features=768, bias=True)\n",
       "            (LayerNorm): BertLayerNorm()\n",
       "            (dropout): Dropout(p=0.1)\n",
       "          )\n",
       "        )\n",
       "        (4): BertLayer(\n",
       "          (attention): BertAttention(\n",
       "            (self): BertSelfAttention(\n",
       "              (query): Linear(in_features=768, out_features=768, bias=True)\n",
       "              (key): Linear(in_features=768, out_features=768, bias=True)\n",
       "              (value): Linear(in_features=768, out_features=768, bias=True)\n",
       "              (dropout): Dropout(p=0.1)\n",
       "            )\n",
       "            (output): BertSelfOutput(\n",
       "              (dense): Linear(in_features=768, out_features=768, bias=True)\n",
       "              (LayerNorm): BertLayerNorm()\n",
       "              (dropout): Dropout(p=0.1)\n",
       "            )\n",
       "          )\n",
       "          (intermediate): BertIntermediate(\n",
       "            (dense): Linear(in_features=768, out_features=3072, bias=True)\n",
       "          )\n",
       "          (output): BertOutput(\n",
       "            (dense): Linear(in_features=3072, out_features=768, bias=True)\n",
       "            (LayerNorm): BertLayerNorm()\n",
       "            (dropout): Dropout(p=0.1)\n",
       "          )\n",
       "        )\n",
       "        (5): BertLayer(\n",
       "          (attention): BertAttention(\n",
       "            (self): BertSelfAttention(\n",
       "              (query): Linear(in_features=768, out_features=768, bias=True)\n",
       "              (key): Linear(in_features=768, out_features=768, bias=True)\n",
       "              (value): Linear(in_features=768, out_features=768, bias=True)\n",
       "              (dropout): Dropout(p=0.1)\n",
       "            )\n",
       "            (output): BertSelfOutput(\n",
       "              (dense): Linear(in_features=768, out_features=768, bias=True)\n",
       "              (LayerNorm): BertLayerNorm()\n",
       "              (dropout): Dropout(p=0.1)\n",
       "            )\n",
       "          )\n",
       "          (intermediate): BertIntermediate(\n",
       "            (dense): Linear(in_features=768, out_features=3072, bias=True)\n",
       "          )\n",
       "          (output): BertOutput(\n",
       "            (dense): Linear(in_features=3072, out_features=768, bias=True)\n",
       "            (LayerNorm): BertLayerNorm()\n",
       "            (dropout): Dropout(p=0.1)\n",
       "          )\n",
       "        )\n",
       "        (6): BertLayer(\n",
       "          (attention): BertAttention(\n",
       "            (self): BertSelfAttention(\n",
       "              (query): Linear(in_features=768, out_features=768, bias=True)\n",
       "              (key): Linear(in_features=768, out_features=768, bias=True)\n",
       "              (value): Linear(in_features=768, out_features=768, bias=True)\n",
       "              (dropout): Dropout(p=0.1)\n",
       "            )\n",
       "            (output): BertSelfOutput(\n",
       "              (dense): Linear(in_features=768, out_features=768, bias=True)\n",
       "              (LayerNorm): BertLayerNorm()\n",
       "              (dropout): Dropout(p=0.1)\n",
       "            )\n",
       "          )\n",
       "          (intermediate): BertIntermediate(\n",
       "            (dense): Linear(in_features=768, out_features=3072, bias=True)\n",
       "          )\n",
       "          (output): BertOutput(\n",
       "            (dense): Linear(in_features=3072, out_features=768, bias=True)\n",
       "            (LayerNorm): BertLayerNorm()\n",
       "            (dropout): Dropout(p=0.1)\n",
       "          )\n",
       "        )\n",
       "        (7): BertLayer(\n",
       "          (attention): BertAttention(\n",
       "            (self): BertSelfAttention(\n",
       "              (query): Linear(in_features=768, out_features=768, bias=True)\n",
       "              (key): Linear(in_features=768, out_features=768, bias=True)\n",
       "              (value): Linear(in_features=768, out_features=768, bias=True)\n",
       "              (dropout): Dropout(p=0.1)\n",
       "            )\n",
       "            (output): BertSelfOutput(\n",
       "              (dense): Linear(in_features=768, out_features=768, bias=True)\n",
       "              (LayerNorm): BertLayerNorm()\n",
       "              (dropout): Dropout(p=0.1)\n",
       "            )\n",
       "          )\n",
       "          (intermediate): BertIntermediate(\n",
       "            (dense): Linear(in_features=768, out_features=3072, bias=True)\n",
       "          )\n",
       "          (output): BertOutput(\n",
       "            (dense): Linear(in_features=3072, out_features=768, bias=True)\n",
       "            (LayerNorm): BertLayerNorm()\n",
       "            (dropout): Dropout(p=0.1)\n",
       "          )\n",
       "        )\n",
       "        (8): BertLayer(\n",
       "          (attention): BertAttention(\n",
       "            (self): BertSelfAttention(\n",
       "              (query): Linear(in_features=768, out_features=768, bias=True)\n",
       "              (key): Linear(in_features=768, out_features=768, bias=True)\n",
       "              (value): Linear(in_features=768, out_features=768, bias=True)\n",
       "              (dropout): Dropout(p=0.1)\n",
       "            )\n",
       "            (output): BertSelfOutput(\n",
       "              (dense): Linear(in_features=768, out_features=768, bias=True)\n",
       "              (LayerNorm): BertLayerNorm()\n",
       "              (dropout): Dropout(p=0.1)\n",
       "            )\n",
       "          )\n",
       "          (intermediate): BertIntermediate(\n",
       "            (dense): Linear(in_features=768, out_features=3072, bias=True)\n",
       "          )\n",
       "          (output): BertOutput(\n",
       "            (dense): Linear(in_features=3072, out_features=768, bias=True)\n",
       "            (LayerNorm): BertLayerNorm()\n",
       "            (dropout): Dropout(p=0.1)\n",
       "          )\n",
       "        )\n",
       "        (9): BertLayer(\n",
       "          (attention): BertAttention(\n",
       "            (self): BertSelfAttention(\n",
       "              (query): Linear(in_features=768, out_features=768, bias=True)\n",
       "              (key): Linear(in_features=768, out_features=768, bias=True)\n",
       "              (value): Linear(in_features=768, out_features=768, bias=True)\n",
       "              (dropout): Dropout(p=0.1)\n",
       "            )\n",
       "            (output): BertSelfOutput(\n",
       "              (dense): Linear(in_features=768, out_features=768, bias=True)\n",
       "              (LayerNorm): BertLayerNorm()\n",
       "              (dropout): Dropout(p=0.1)\n",
       "            )\n",
       "          )\n",
       "          (intermediate): BertIntermediate(\n",
       "            (dense): Linear(in_features=768, out_features=3072, bias=True)\n",
       "          )\n",
       "          (output): BertOutput(\n",
       "            (dense): Linear(in_features=3072, out_features=768, bias=True)\n",
       "            (LayerNorm): BertLayerNorm()\n",
       "            (dropout): Dropout(p=0.1)\n",
       "          )\n",
       "        )\n",
       "        (10): BertLayer(\n",
       "          (attention): BertAttention(\n",
       "            (self): BertSelfAttention(\n",
       "              (query): Linear(in_features=768, out_features=768, bias=True)\n",
       "              (key): Linear(in_features=768, out_features=768, bias=True)\n",
       "              (value): Linear(in_features=768, out_features=768, bias=True)\n",
       "              (dropout): Dropout(p=0.1)\n",
       "            )\n",
       "            (output): BertSelfOutput(\n",
       "              (dense): Linear(in_features=768, out_features=768, bias=True)\n",
       "              (LayerNorm): BertLayerNorm()\n",
       "              (dropout): Dropout(p=0.1)\n",
       "            )\n",
       "          )\n",
       "          (intermediate): BertIntermediate(\n",
       "            (dense): Linear(in_features=768, out_features=3072, bias=True)\n",
       "          )\n",
       "          (output): BertOutput(\n",
       "            (dense): Linear(in_features=3072, out_features=768, bias=True)\n",
       "            (LayerNorm): BertLayerNorm()\n",
       "            (dropout): Dropout(p=0.1)\n",
       "          )\n",
       "        )\n",
       "        (11): BertLayer(\n",
       "          (attention): BertAttention(\n",
       "            (self): BertSelfAttention(\n",
       "              (query): Linear(in_features=768, out_features=768, bias=True)\n",
       "              (key): Linear(in_features=768, out_features=768, bias=True)\n",
       "              (value): Linear(in_features=768, out_features=768, bias=True)\n",
       "              (dropout): Dropout(p=0.1)\n",
       "            )\n",
       "            (output): BertSelfOutput(\n",
       "              (dense): Linear(in_features=768, out_features=768, bias=True)\n",
       "              (LayerNorm): BertLayerNorm()\n",
       "              (dropout): Dropout(p=0.1)\n",
       "            )\n",
       "          )\n",
       "          (intermediate): BertIntermediate(\n",
       "            (dense): Linear(in_features=768, out_features=3072, bias=True)\n",
       "          )\n",
       "          (output): BertOutput(\n",
       "            (dense): Linear(in_features=3072, out_features=768, bias=True)\n",
       "            (LayerNorm): BertLayerNorm()\n",
       "            (dropout): Dropout(p=0.1)\n",
       "          )\n",
       "        )\n",
       "      )\n",
       "    )\n",
       "    (pooler): BertPooler(\n",
       "      (dense): Linear(in_features=768, out_features=768, bias=True)\n",
       "      (activation): Tanh()\n",
       "    )\n",
       "  )\n",
       "  (cls): BertOnlyMLMHead(\n",
       "    (predictions): BertLMPredictionHead(\n",
       "      (transform): BertPredictionHeadTransform(\n",
       "        (dense): Linear(in_features=768, out_features=768, bias=True)\n",
       "        (LayerNorm): BertLayerNorm()\n",
       "      )\n",
       "      (decoder): Linear(in_features=768, out_features=30522, bias=False)\n",
       "    )\n",
       "  )\n",
       ")"
      ]
     },
     "execution_count": 7,
     "metadata": {},
     "output_type": "execute_result"
    }
   ],
   "source": [
    "from pytorch_pretrained_bert import BertConfig, BertForMaskedLM\n",
    "model = BertForMaskedLM.from_pretrained(config.model_type)\n",
    "model.eval() # Important! Disable dropout"
   ]
  },
  {
   "cell_type": "code",
   "execution_count": 8,
   "metadata": {},
   "outputs": [],
   "source": [
    "def get_logits(sentence: str) -> np.ndarray:\n",
    "    return model(processor.to_bert_model_input(sentence))[0, :, :].cpu().detach().numpy()"
   ]
  },
  {
   "cell_type": "code",
   "execution_count": 9,
   "metadata": {},
   "outputs": [],
   "source": [
    "def softmax(arr, axis=1):\n",
    "    e = np.exp(arr)\n",
    "    return e / e.sum(axis=axis, keepdims=True)"
   ]
  },
  {
   "cell_type": "code",
   "execution_count": 10,
   "metadata": {},
   "outputs": [],
   "source": [
    "from collections import defaultdict\n",
    "\n",
    "def get_mask_fill_logits(sentence: str, words: Iterable[str],\n",
    "                         use_last_mask=False, apply_softmax=True) -> Dict[str, float]:\n",
    "    mask_i = processor.get_index(sentence, \"[MASK]\", last=use_last_mask, accept_wordpiece=True)\n",
    "    logits = defaultdict(list)\n",
    "    out_logits = get_logits(sentence)\n",
    "    if apply_softmax: \n",
    "        out_logits = softmax(out_logits)\n",
    "    return {w: out_logits[mask_i, processor.token_to_index(w, accept_wordpiece=True)] for w in words}"
   ]
  },
  {
   "cell_type": "code",
   "execution_count": 11,
   "metadata": {},
   "outputs": [],
   "source": [
    "def likelihood_score(\n",
    "    sentence: str, target: str, word: str, gender_comes_first=True) -> Dict[str, float]:\n",
    "    \"\"\"\n",
    "    Input a sentence of the form \"GGG is XXX\"\n",
    "    XXX is a placeholder for the target word\n",
    "    GGG is a placeholder for the gendered words (the subject)\n",
    "    We will predict the bias when filling in the gendered words and \n",
    "    filling in the target word.\n",
    "    \n",
    "    gender_comes_first: whether GGG comes before XXX (TODO: better way of handling this?)\n",
    "    \"\"\"\n",
    "    # probability of filling [MASK] with \"he\" vs. \"she\" when target is \"programmer\"\n",
    "    subject_fill_logits = get_mask_fill_logits(\n",
    "        sentence.replace(\"XXX\", word).replace(\"GGG\", \"[MASK]\"), \n",
    "        [target], use_last_mask=not gender_comes_first,\n",
    "    )\n",
    "    subject_fill_bias = np.log(subject_fill_logits[target])\n",
    "    # male words are simply more likely than female words\n",
    "    # correct for this by masking the target word and measuring the prior probabilities\n",
    "    subject_fill_prior_logits = get_mask_fill_logits(\n",
    "        sentence.replace(\"XXX\", \"[MASK]\").replace(\"GGG\", \"[MASK]\"), \n",
    "        [target], use_last_mask=gender_comes_first,\n",
    "    )\n",
    "    subject_fill_bias_prior_correction = np.log(subject_fill_prior_logits[target])\n",
    "    \n",
    "    return {\n",
    "            \"target\": target,\n",
    "            \"stimulus\": word,\n",
    "            \"bias\": subject_fill_bias,\n",
    "            \"prior_correction\": subject_fill_bias_prior_correction,\n",
    "            \"bias_prior_corrected\": subject_fill_bias - subject_fill_bias_prior_correction,\n",
    "           }"
   ]
  },
  {
   "cell_type": "code",
   "execution_count": 12,
   "metadata": {},
   "outputs": [
    {
     "data": {
      "text/plain": [
       "{'flower': 0.0007418045, 'bug': 1.07483065e-05}"
      ]
     },
     "execution_count": 12,
     "metadata": {},
     "output_type": "execute_result"
    }
   ],
   "source": [
    "get_mask_fill_logits(\"the [MASK] is beautiful\", [\"flower\", \"bug\"])"
   ]
  },
  {
   "cell_type": "code",
   "execution_count": 13,
   "metadata": {},
   "outputs": [],
   "source": [
    "def get_word_vector(sentence: str, word: str):\n",
    "    idx = processor.get_index(sentence, word, accept_wordpiece=True)\n",
    "    outputs = None\n",
    "    with torch.no_grad():\n",
    "        sequence_output, _ = model.bert(processor.to_bert_model_input(sentence),\n",
    "                                        output_all_encoded_layers=False)\n",
    "        sequence_output.squeeze_(0)\n",
    "    return sequence_output.detach().cpu().numpy()[idx]"
   ]
  },
  {
   "cell_type": "code",
   "execution_count": 14,
   "metadata": {},
   "outputs": [],
   "source": [
    "glove_vectors = {}\n",
    "with open(\"../data/glove.840B.300d.txt\") as f:\n",
    "    for line in f.readlines():\n",
    "        try:\n",
    "            word, *nums = line.split(\" \")\n",
    "            glove_vectors[word] = np.array([float(x) for x in nums])\n",
    "        except ValueError: pass"
   ]
  },
  {
   "cell_type": "code",
   "execution_count": 15,
   "metadata": {},
   "outputs": [],
   "source": [
    "def get_glove_vector(word):\n",
    "    return glove_vectors[word]"
   ]
  },
  {
   "cell_type": "code",
   "execution_count": 16,
   "metadata": {},
   "outputs": [],
   "source": [
    "def cosine_similarity(x, y):\n",
    "    return np.dot(x, y) / (np.linalg.norm(x) * np.linalg.norm(y))"
   ]
  },
  {
   "cell_type": "code",
   "execution_count": 17,
   "metadata": {},
   "outputs": [],
   "source": [
    "def exact_mc_perm_test(xs, ys, nmc=100000):\n",
    "    n, k = len(xs), 0\n",
    "    diff = np.abs(np.mean(xs) - np.mean(ys))\n",
    "    zs = np.concatenate([xs, ys])\n",
    "    for j in range(nmc):\n",
    "        np.random.shuffle(zs)\n",
    "        k += diff < np.abs(np.mean(zs[:n]) - np.mean(zs[n:]))\n",
    "    return k / nmc"
   ]
  },
  {
   "cell_type": "code",
   "execution_count": 18,
   "metadata": {},
   "outputs": [],
   "source": [
    "def get_effect_size(df1, df2, k=\"bias_prior_corrected\"):\n",
    "    diff = (df1[k].mean() - df2[k].mean())\n",
    "    std_ = pd.concat([df1, df2], axis=0)[k].std() + 1e-8\n",
    "    return diff / std_"
   ]
  },
  {
   "cell_type": "code",
   "execution_count": 19,
   "metadata": {},
   "outputs": [
    {
     "data": {
      "text/plain": [
       "array([ 1.06368981e-01,  2.22109944e-01, -7.18900710e-02,  1.70865208e-01,\n",
       "        3.62271130e-01, -1.20856173e-01, -6.16569072e-02,  7.87993014e-01,\n",
       "        3.73470277e-01, -2.52068788e-02,  2.59380415e-02, -1.49484515e+00,\n",
       "       -1.80714339e-01,  1.11428046e+00, -1.03053045e+00,  8.63718629e-01,\n",
       "        1.34956554e-01,  1.07128906e+00,  1.33132488e-01,  8.86740983e-01,\n",
       "       -1.61312252e-01, -5.93275666e-01,  7.23842531e-02, -5.57698727e-01,\n",
       "        1.10267997e+00, -5.62288702e-01, -2.21851468e-01,  8.34756434e-01,\n",
       "        4.88106251e-01, -9.58737545e-03,  2.16243431e-01,  1.58447415e-01,\n",
       "        5.18487573e-01,  2.14277059e-01,  1.41341776e-01, -2.22598836e-01,\n",
       "       -1.90466464e-01,  3.14576089e-01, -4.24953640e-01, -3.25795412e-01,\n",
       "       -7.41146207e-01, -1.04409921e+00,  6.84069693e-01,  4.49090391e-01,\n",
       "        2.56366640e-01, -7.32405841e-01, -9.85546291e-01,  3.55273962e-01,\n",
       "        9.63769078e-01,  3.46497685e-01,  5.14260270e-02,  5.61741829e-01,\n",
       "        2.53276557e-01, -1.06839582e-01,  4.62810844e-01,  5.47232985e-01,\n",
       "       -8.03264439e-01, -7.77305782e-01, -2.00483069e-01, -5.28368652e-01,\n",
       "       -4.77690130e-01,  8.90957415e-02,  3.79050702e-01, -1.00972623e-01,\n",
       "        9.57354382e-02, -8.97196531e-02, -1.48199782e-01,  1.25381127e-01,\n",
       "       -9.09168482e-01, -4.43255305e-01,  1.24072984e-01,  4.07963157e-01,\n",
       "        3.49193692e-01, -5.10466397e-02, -4.53874558e-01,  2.38604575e-01,\n",
       "       -3.83497477e-01,  2.26236850e-01, -2.38299608e-01, -4.38013464e-01,\n",
       "       -2.28099123e-01, -1.11407205e-01,  4.13440824e-01,  3.87609601e-01,\n",
       "       -9.92384851e-02,  8.58978555e-02, -9.76567388e-01,  4.05916125e-02,\n",
       "       -8.99848193e-02,  2.05641463e-01,  1.58096999e-01, -1.85252249e-01,\n",
       "       -5.00990033e-01,  2.39046738e-01, -1.34954974e-01, -4.15777504e-01,\n",
       "        7.87928179e-02,  4.71143514e-01, -7.26344436e-02,  2.40168869e-01,\n",
       "        8.60921502e-01, -8.16042796e-02, -2.44584799e-01,  4.08138663e-01,\n",
       "       -6.02751017e-01, -4.35080647e-01, -6.49738684e-02, -1.62538052e-01,\n",
       "        2.65623093e-01,  7.45046318e-01, -7.62215137e-01,  4.02591825e-01,\n",
       "       -4.47385967e-01,  1.19652681e-01, -1.14981556e+00,  1.24807298e+00,\n",
       "        5.31869054e-01, -4.88356024e-01,  1.46928906e-01, -2.39980787e-01,\n",
       "        6.72569454e-01, -3.89886498e-01,  3.02860647e-01,  4.00121957e-01,\n",
       "       -1.69996873e-01, -5.11887789e-01,  1.92454278e-01,  1.86521038e-01,\n",
       "       -8.37388277e-01,  1.05222076e-01, -4.64141965e-01,  4.67706025e-01,\n",
       "       -1.85250938e-01, -5.01711607e-01,  2.23010242e-01, -9.75935996e-01,\n",
       "       -1.94809794e-01, -2.00362623e-01, -7.91728795e-02,  4.77515608e-02,\n",
       "       -3.62029701e-01,  5.16069472e-01, -1.61559820e-01,  1.06315076e+00,\n",
       "       -8.03826526e-02,  6.59516990e-01, -7.46724010e-03,  8.29805657e-02,\n",
       "       -2.24850401e-01, -7.57497668e-01,  4.00907844e-01,  2.02943131e-01,\n",
       "       -6.59538507e-02, -1.73678249e-03, -2.10254133e-01,  3.24883103e-01,\n",
       "       -6.15544379e-01,  6.77369595e-01,  1.87589467e-01,  3.29709873e-02,\n",
       "       -3.59585851e-01, -7.53547251e-01,  1.65893599e-01,  4.97107536e-01,\n",
       "       -3.97464752e-01, -4.43160623e-01,  3.82502854e-01,  2.65457422e-01,\n",
       "       -7.97319859e-02,  7.20816851e-01, -8.93282592e-01, -5.99093139e-02,\n",
       "        2.71350294e-01,  6.12363108e-02,  9.22666311e-01, -2.92799324e-01,\n",
       "        2.65346080e-01, -8.09284627e-01, -3.07701796e-01,  6.68435514e-01,\n",
       "       -2.71839380e-01,  6.16510868e-01,  4.73261476e-01,  7.08366990e-01,\n",
       "       -8.79258588e-02, -4.17531103e-01,  1.00453734e+00,  5.55702150e-01,\n",
       "       -2.85637200e-01, -1.49904445e-01, -1.97960675e-01, -6.10363305e-01,\n",
       "       -2.67986149e-01,  2.12840855e-01, -1.73632026e-01, -9.85312238e-02,\n",
       "       -3.27346995e-02, -3.27063292e-01, -9.93387163e-01, -3.90170366e-01,\n",
       "        6.61131918e-01,  1.64618939e-01, -2.00865805e-01, -4.29663807e-01,\n",
       "       -5.69214582e-01, -1.22738808e-01,  5.86378455e-01, -4.87890542e-01,\n",
       "        5.74025631e-01,  3.13331276e-01, -2.59083629e-01, -9.16627422e-03,\n",
       "        9.99531269e-01, -3.05078536e-01,  4.39469755e-01,  4.63630967e-02,\n",
       "       -6.72843233e-02,  1.23664588e-02, -6.13554195e-03,  1.25280358e-02,\n",
       "        3.91279697e-01,  2.25989133e-01, -5.14249146e-01,  7.67559528e-01,\n",
       "       -5.49520493e-01,  4.78257298e-01,  6.96447790e-01, -4.86617565e-01,\n",
       "        2.84597397e-01, -7.60635063e-02,  2.09487885e-01,  3.72304261e-01,\n",
       "        8.20942044e-01, -2.82124788e-01, -2.64740199e-01,  3.12003285e-01,\n",
       "       -1.26166716e-01,  1.17298737e-02, -1.29803643e-01,  7.37189174e-01,\n",
       "        7.90813416e-02,  5.44379354e-01, -1.34594947e-01,  8.24180692e-02,\n",
       "        3.50829810e-01, -3.43899488e-01,  3.32312882e-01, -2.02917501e-01,\n",
       "        5.53840160e-01, -6.55832946e-01, -2.59503394e-01,  4.76768583e-01,\n",
       "        3.65735330e-02, -5.60238004e-01, -1.65224865e-01, -7.70688206e-02,\n",
       "        8.48134309e-02,  6.74858332e-01,  1.67155758e-01, -5.50796054e-02,\n",
       "        2.92653978e-01,  9.48139355e-02,  3.49618912e-01, -1.01741724e-01,\n",
       "       -5.75546384e-01, -9.16644856e-02, -4.70333934e-01,  1.39525563e-01,\n",
       "        1.03665918e-01, -8.79750922e-02, -3.27949107e-01,  1.46400169e-01,\n",
       "       -1.55136958e-01,  2.56914407e-01, -4.41621065e-01, -6.69948876e-01,\n",
       "       -5.78221858e-01, -2.89916396e-01, -4.90754358e-02, -5.57358712e-02,\n",
       "        3.50906163e-01,  2.79748857e-01, -7.24174023e-01, -1.26637459e-01,\n",
       "        4.46231127e-01, -4.43808049e-01,  2.34892964e-01,  6.79355264e-01,\n",
       "       -3.44262838e-01, -1.74710810e-01, -9.37994301e-01,  5.34851611e-01,\n",
       "       -4.74429876e-01,  9.28930044e-02,  2.20538184e-01, -2.23297417e-01,\n",
       "        4.19267535e-01,  4.41841558e-02,  9.44655120e-01, -2.93298215e-02,\n",
       "        5.16590357e-01,  3.71194452e-01,  6.15360737e-01, -5.15531898e-01,\n",
       "       -4.88995552e-01,  7.38495231e-01, -1.74699128e-01,  2.31962785e-01,\n",
       "       -4.53382158e+00,  1.38129652e-01, -3.99392061e-02,  2.39824895e-02,\n",
       "        4.55935448e-01,  1.36820510e-01, -1.29579276e-01, -1.26011580e-01,\n",
       "        1.06470764e-01,  1.37061700e-01,  7.21079648e-01, -1.68523654e-01,\n",
       "        9.27704275e-01,  1.15799606e-01,  3.16249192e-01, -4.17039931e-01,\n",
       "        3.86142761e-01, -1.19816017e+00, -3.30825984e-01,  1.68343082e-01,\n",
       "       -6.97976768e-01,  7.14323521e-02,  1.21875212e-01,  4.71082807e-01,\n",
       "        1.15364403e-01,  2.85468586e-02,  1.08732000e-01, -4.02184606e-01,\n",
       "       -7.08010554e-01,  7.19707072e-01, -6.40041232e-01, -3.56172532e-01,\n",
       "        6.06680095e-01,  7.74816155e-01, -7.36118615e-01, -4.47126061e-01,\n",
       "        4.02376354e-02, -6.86363935e-01,  2.88285494e-01,  2.14421347e-01,\n",
       "       -4.81394619e-01, -9.51110184e-01,  7.40530670e-01,  9.28562880e-01,\n",
       "        1.59917891e-01, -3.86909485e-01, -5.57639301e-01, -1.57299310e-01,\n",
       "       -2.53450006e-01,  7.66297400e-01,  7.25700617e-01, -5.26717603e-02,\n",
       "        4.22823519e-01, -4.83141333e-01, -7.36653209e-02, -2.71598190e-01,\n",
       "        2.12322444e-01,  5.62419415e-01, -3.76054704e-01, -1.32401258e-01,\n",
       "       -9.67185438e-01, -3.04849535e-01, -1.35320261e-01, -3.68716538e-01,\n",
       "       -5.14563501e-01, -6.20891988e-01, -5.71697831e-01, -3.99815649e-01,\n",
       "        1.85978636e-01,  5.12269378e-01,  4.00952309e-01, -3.20577383e-01,\n",
       "       -1.97420239e-01, -1.55722570e+00, -5.24126291e-01, -4.06745493e-01,\n",
       "       -4.88030851e-01,  2.44067430e-01,  1.13590643e-01, -3.55472788e-02,\n",
       "        4.02468592e-01, -6.37131870e-01,  8.35756242e-01,  4.04143155e-01,\n",
       "        6.41270220e-01, -7.00438917e-01, -1.38531476e-01, -4.34188306e-01,\n",
       "        8.99959952e-02,  8.98114890e-02,  1.78909421e-01,  4.16035801e-02,\n",
       "        1.30685121e-01,  5.43633640e-01,  1.61817521e-01, -3.23454291e-01,\n",
       "        4.83743668e-01,  3.85014445e-01,  7.64078557e-01, -8.34070206e-01,\n",
       "       -7.31380358e-02, -1.72004282e-01,  3.93361837e-01,  2.44497314e-01,\n",
       "       -8.41715485e-02, -4.31857288e-01, -1.02624631e+00,  1.33562073e-01,\n",
       "        3.45307171e-01,  1.86023384e-01,  1.26864409e+00, -3.96883667e-01,\n",
       "        7.20792055e-01, -5.74663401e-01,  7.64546245e-02,  7.88794979e-02,\n",
       "        4.09598053e-01,  2.75424331e-01,  8.58077765e-01, -2.31392816e-01,\n",
       "       -7.54590034e-01,  6.75302386e-01, -9.43761319e-02, -1.94428906e-01,\n",
       "        2.03639761e-01,  2.28710979e-01, -7.69647062e-01, -6.05421476e-02,\n",
       "       -9.27394450e-01,  2.02782229e-01,  7.57926106e-02, -4.03024375e-01,\n",
       "       -2.50724554e-01,  6.90565944e-01, -3.04469705e-01,  4.84251112e-01,\n",
       "       -1.05760849e+00, -1.22488630e+00, -2.68401951e-02,  4.93184984e-01,\n",
       "       -2.82255094e-02,  5.37833832e-02, -7.81419873e-01,  5.19675851e-01,\n",
       "        1.17235065e+00,  4.66052368e-02,  1.40038326e-01, -3.94703895e-01,\n",
       "       -4.01081920e-01, -4.00583804e-01, -3.29864919e-01, -3.89830291e-01,\n",
       "        8.50432664e-02, -1.00752425e+00, -6.19486570e-01, -1.16372538e+00,\n",
       "        2.22055390e-01,  2.31030703e-01, -5.49963295e-01, -7.19014406e-01,\n",
       "        2.97052890e-01,  2.51613081e-01, -1.85337409e-01, -1.48723513e-01,\n",
       "        5.02508759e-01,  1.38924599e-01,  3.66462260e-01, -2.06580952e-01,\n",
       "       -2.47316360e-01,  1.05458927e+00, -1.24157429e-01,  2.89026290e-01,\n",
       "       -6.68336093e-01, -2.57178098e-01, -1.54251039e-01,  4.66681868e-01,\n",
       "       -6.68328822e-01,  2.04154059e-01,  1.36733979e-01,  5.20241499e-01,\n",
       "       -1.22909248e-01, -2.04425767e-01, -3.31187576e-01,  2.44014785e-01,\n",
       "        6.06477559e-01, -2.26640776e-01,  1.73310623e-01, -1.15606987e+00,\n",
       "       -5.63660860e-01,  6.05199099e-01, -9.50557232e-01,  5.69975853e-01,\n",
       "       -8.86081696e-01, -5.27899265e-01, -7.94336200e-01, -6.86111569e-01,\n",
       "       -2.13280559e-01,  4.57363784e-01,  2.95509070e-01, -1.24294078e+00,\n",
       "        6.75270975e-01, -4.16886330e-01, -1.39369458e-01, -1.25983328e-01,\n",
       "       -1.08479790e-01, -4.27219778e-01,  6.90889657e-01,  3.16939205e-02,\n",
       "       -5.68817258e-01, -5.08291647e-02,  7.81225115e-02, -5.47761261e-01,\n",
       "       -1.06468332e+00, -8.24098825e-01, -4.01884429e-02,  4.05545086e-02,\n",
       "       -2.56478041e-01,  3.28599930e-01, -8.22212338e-01,  2.60284573e-01,\n",
       "        2.77458787e-01,  9.54261646e-02,  6.41825795e-03, -4.98912722e-01,\n",
       "       -2.92940527e-01, -7.07516670e-01, -1.52387515e-01,  4.57335383e-01,\n",
       "       -6.91831946e-01,  4.01380926e-01,  1.05152816e-01, -2.18253493e-01,\n",
       "        6.76671088e-01, -1.97770447e-01, -1.67898163e-02,  1.05948903e-01,\n",
       "       -7.11154640e-01, -3.23545009e-01,  3.90837610e-01,  4.15822774e-01,\n",
       "       -5.71506143e-01,  1.74523696e-01, -3.49796981e-01, -4.12658006e-02,\n",
       "       -5.92121780e-01,  9.35913920e-01,  1.17991567e-01,  5.62198758e-01,\n",
       "       -3.72251242e-01,  7.48511434e-01, -5.85671842e-01,  5.99284112e-01,\n",
       "       -4.19356316e-01,  8.60666782e-02,  7.13525057e-01, -8.62761080e-01,\n",
       "        2.57612884e-01,  4.63201851e-01, -3.24389517e-01, -3.87123615e-01,\n",
       "        1.26571208e-01, -4.87368673e-01, -1.44880712e-01,  3.96623045e-01,\n",
       "        9.33789760e-02, -7.66997457e-01,  1.52846411e-01,  2.18596622e-01,\n",
       "        1.03887379e+00, -4.50378895e-01, -4.82612550e-01,  5.47775984e-01,\n",
       "       -7.64466524e-02, -2.75666267e-02, -2.11762249e-01,  2.41730228e-01,\n",
       "       -2.00064719e-01, -1.00313950e+00,  5.30778348e-01, -8.17351460e-01,\n",
       "        2.32117716e-02,  1.94842577e-01,  2.77003080e-01, -1.59762874e-01,\n",
       "       -2.09863737e-01,  4.31712657e-01, -8.37902546e-01,  2.25763321e-02,\n",
       "       -1.50683016e-01, -1.69860899e-01, -4.66837510e-02, -4.68170047e-01,\n",
       "        2.99406499e-01,  2.24031527e-02,  1.15544796e-01,  4.00306076e-01,\n",
       "        9.41042840e-01,  3.78793329e-01, -2.34509110e-01, -3.30593228e-01,\n",
       "       -4.55935538e-01,  3.79622936e-01,  5.43193579e-01,  6.02495670e-02,\n",
       "        3.68198454e-01,  2.76881367e-01, -1.56596959e-01, -6.57819748e-01,\n",
       "        1.58715583e-02,  1.67994529e-01,  7.90990070e-02,  1.54479161e-01,\n",
       "        4.90975320e-01,  2.75600165e-01, -8.77218902e-01,  1.77820429e-01,\n",
       "        6.94642439e-02, -5.61373830e-01,  5.18324018e-01, -3.10645670e-01,\n",
       "        1.85658365e-01,  8.25923085e-02,  8.61015439e-01,  2.04244629e-01,\n",
       "        4.75536883e-01,  6.87890291e-01, -6.20347142e-01, -1.23703569e-01,\n",
       "        8.43648374e-01, -2.63560951e-01,  3.93254668e-01,  1.75094768e-01,\n",
       "       -1.26994801e+00,  1.00738525e+00,  3.38514857e-02, -3.47852170e-01,\n",
       "       -2.11264908e-01, -1.11962743e-02,  1.88761592e-01, -1.66788995e-02,\n",
       "        5.68394899e-01, -4.58167523e-01,  1.30343676e+00,  3.29140484e-01,\n",
       "        5.46641469e-01, -3.21961045e-02,  2.89696574e-01,  1.48957849e-01,\n",
       "        1.99962303e-01,  2.41495743e-01,  1.33437943e+00,  2.12382510e-01,\n",
       "       -1.36262089e-01, -4.51153487e-01,  7.00960338e-01, -2.55881160e-01,\n",
       "       -2.59274423e-01,  5.78921288e-02, -1.41588151e-01,  1.10462356e+00,\n",
       "        7.51244053e-02,  2.35104501e-01, -2.87890106e-01,  2.58328378e-01,\n",
       "       -1.03069150e+00,  1.06716383e+00, -4.04172599e-01,  4.79335599e-02,\n",
       "       -9.84776855e-01, -8.76864791e-02,  3.04778397e-01, -7.15065598e-01,\n",
       "        5.34994960e-01,  9.05356944e-01,  9.52498198e-01, -5.50198331e-02,\n",
       "       -1.20324224e-01, -4.17085886e-01,  1.07436311e+00,  5.77311277e-01,\n",
       "        7.36602068e-01,  4.23544616e-01, -2.73052990e-01,  3.25897187e-01,\n",
       "       -3.88508797e-01, -3.46491098e-01, -5.67286983e-02, -4.33420449e-01,\n",
       "       -5.11853322e-02, -4.95139658e-01,  2.81705379e-01,  7.30852544e-01,\n",
       "        2.33443618e-01, -2.26418138e-01,  1.03887029e-01,  9.29237902e-03,\n",
       "       -2.92512089e-01,  3.44494700e-01,  2.16404170e-01, -4.23719827e-03,\n",
       "        4.13833499e-01, -2.13304728e-01, -3.54139686e-01,  5.84296137e-03,\n",
       "        1.50866294e-02,  2.84027666e-01,  3.78559947e-01,  1.98405072e-01,\n",
       "       -7.75684237e-01,  1.83305115e-01, -4.69022721e-01,  1.06922364e+00,\n",
       "       -5.05056143e-01,  3.14204276e-01,  1.98298842e-01, -7.17022493e-02,\n",
       "        1.46759883e-01,  3.48679006e-01, -1.89368621e-01, -3.63281667e-01,\n",
       "       -3.87411803e-01, -3.29566807e-01, -5.20225763e-01,  1.04127157e+00,\n",
       "        6.45576835e-01, -1.19615388e+00, -3.86946239e-02,  8.02033186e-01,\n",
       "        3.74546587e-01, -2.84893245e-01, -2.37130046e-01,  1.45654678e-02,\n",
       "        6.64201826e-02,  4.17400718e-01,  1.79777056e-01,  1.18220717e-01,\n",
       "       -4.44052339e-01,  4.48320538e-01, -9.31756258e-01, -5.55737793e-01,\n",
       "        1.20350704e-01,  5.34013689e-01, -2.35694230e-01,  2.27902338e-01,\n",
       "       -8.65200609e-02, -3.15869600e-01, -1.51770458e-01, -6.60384536e-01,\n",
       "       -1.54837877e-01, -1.32897389e+00,  3.83679755e-02, -1.97420418e-01,\n",
       "        6.28133476e-01,  4.46448952e-01, -1.30691543e-01, -2.68271506e-01,\n",
       "        8.98965299e-02, -4.23212051e-01,  1.44195080e-01, -1.03101182e+00],\n",
       "      dtype=float32)"
      ]
     },
     "execution_count": 19,
     "metadata": {},
     "output_type": "execute_result"
    }
   ],
   "source": [
    "get_word_vector(\"the flower is beautiful\", \"flower\")"
   ]
  },
  {
   "cell_type": "code",
   "execution_count": null,
   "metadata": {},
   "outputs": [],
   "source": []
  },
  {
   "cell_type": "code",
   "execution_count": 20,
   "metadata": {},
   "outputs": [],
   "source": [
    "rev_vocab = {v:k for k, v in processor.full_vocab.items()}"
   ]
  },
  {
   "cell_type": "code",
   "execution_count": 21,
   "metadata": {},
   "outputs": [],
   "source": [
    "from scipy.stats import ttest_ind, ranksums"
   ]
  },
  {
   "cell_type": "code",
   "execution_count": 22,
   "metadata": {},
   "outputs": [],
   "source": [
    "from mlxtend.evaluate import permutation_test"
   ]
  },
  {
   "cell_type": "code",
   "execution_count": null,
   "metadata": {},
   "outputs": [],
   "source": []
  },
  {
   "cell_type": "markdown",
   "metadata": {},
   "source": [
    "# Flowers vs. Insects"
   ]
  },
  {
   "cell_type": "markdown",
   "metadata": {},
   "source": [
    "All borrowed from WEAT"
   ]
  },
  {
   "cell_type": "code",
   "execution_count": 23,
   "metadata": {},
   "outputs": [],
   "source": [
    "def to_words(wlist, filter_oov=True):\n",
    "    return [w.strip() for w in wlist.replace(\"\\n\", \" \").split(\", \") if w.strip() in rev_vocab or not filter_oov]"
   ]
  },
  {
   "cell_type": "markdown",
   "metadata": {},
   "source": [
    "Words not in vocab are removed and target words are converted to adjectives when applicable and removed otherwise"
   ]
  },
  {
   "cell_type": "code",
   "execution_count": 24,
   "metadata": {},
   "outputs": [],
   "source": [
    "flower_words = to_words(\"\"\"aster, clover, hyacinth, marigold, poppy, azalea, crocus, iris, orchid, rose, bluebell, daffodil, lilac, pansy, tulip, buttercup, daisy, lily, peony, violet, carnation, gladiola,\n",
    "magnolia, petunia, zinnia\"\"\")\n",
    "insect_words = to_words(\"\"\"ant, caterpillar, flea, locust, spider, bedbug, centipede, fly, maggot, tarantula,\n",
    "bee, cockroach, gnat, mosquito, termite, beetle, cricket, hornet, moth, wasp, blackfly,\n",
    "dragonfly, horsefly, roach, weevil\"\"\")[:len(flower_words)]\n",
    "# flower_words = [\"flowers\"]\n",
    "# insect_words = [\"bugs\"]\n",
    "pleasant_words = to_words(\"\"\"caress, freedom, health, love, peace, cheer, friend, heaven, loyal, pleasure, diamond, gentle, honest, lucky, rainbow, diploma, gift, honor, miracle, sunrise, family,\n",
    "happy, laughter, paradise, vacation\"\"\", filter_oov=False)\n",
    "unpleasant_words = to_words(\"\"\"abuse, crash, filth, murder, sickness, accident, death, grief, poison, stink,\n",
    "assault, disaster, hatred, pollute, tragedy, divorce, jail, poverty, ugly, cancer, kill, rotten,\n",
    "vomit, agony, prison\"\"\", filter_oov=False)"
   ]
  },
  {
   "cell_type": "code",
   "execution_count": 25,
   "metadata": {},
   "outputs": [
    {
     "data": {
      "text/plain": [
       "['clover',\n",
       " 'poppy',\n",
       " 'iris',\n",
       " 'orchid',\n",
       " 'rose',\n",
       " 'daisy',\n",
       " 'lily',\n",
       " 'violet',\n",
       " 'magnolia']"
      ]
     },
     "execution_count": 25,
     "metadata": {},
     "output_type": "execute_result"
    }
   ],
   "source": [
    "flower_words"
   ]
  },
  {
   "cell_type": "code",
   "execution_count": 26,
   "metadata": {},
   "outputs": [
    {
     "data": {
      "text/plain": [
       "{'target': 'clover',\n",
       " 'stimulus': 'beautiful',\n",
       " 'bias': -18.59528,\n",
       " 'prior_correction': -21.155012,\n",
       " 'bias_prior_corrected': 2.5597324}"
      ]
     },
     "execution_count": 26,
     "metadata": {},
     "output_type": "execute_result"
    }
   ],
   "source": [
    "likelihood_score(\"GGG are XXX.\", flower_words[0], \"beautiful\")"
   ]
  },
  {
   "cell_type": "code",
   "execution_count": 27,
   "metadata": {},
   "outputs": [
    {
     "data": {
      "text/plain": [
       "{'target': 'ant',\n",
       " 'stimulus': 'beautiful',\n",
       " 'bias': -18.65312,\n",
       " 'prior_correction': -17.560097,\n",
       " 'bias_prior_corrected': -1.0930233}"
      ]
     },
     "execution_count": 27,
     "metadata": {},
     "output_type": "execute_result"
    }
   ],
   "source": [
    "likelihood_score(\"GGG are XXX.\", insect_words[0], \"beautiful\")"
   ]
  },
  {
   "cell_type": "code",
   "execution_count": 28,
   "metadata": {},
   "outputs": [],
   "source": [
    "from itertools import product"
   ]
  },
  {
   "cell_type": "code",
   "execution_count": 29,
   "metadata": {},
   "outputs": [],
   "source": [
    "def get_bias_scores(targets, A, B, sentences, group=config.group):\n",
    "    df1 = pd.concat([\n",
    "        pd.DataFrame([\n",
    "            likelihood_score(sentence, target, word) for target, word in product(targets, A)\n",
    "        ]) for sentence in sentences\n",
    "    ])\n",
    "    if group: df1 = df1.groupby(\"target\").mean()[\"bias_prior_corrected\"].reset_index()\n",
    "    \n",
    "    df2 = pd.concat([\n",
    "        pd.DataFrame([\n",
    "            likelihood_score(sentence, target, word) for target, word in product(targets, B)\n",
    "        ]) for sentence in sentences\n",
    "    ])\n",
    "    if group: df2 = df2.groupby(\"target\").mean()[\"bias_prior_corrected\"].reset_index()\n",
    "    \n",
    "    df = df1.copy()\n",
    "    df[\"bias_prior_corrected\"] = df1[\"bias_prior_corrected\"] - df2[\"bias_prior_corrected\"]\n",
    "    return df[[\"target\", \"bias_prior_corrected\"]]"
   ]
  },
  {
   "cell_type": "code",
   "execution_count": 30,
   "metadata": {},
   "outputs": [],
   "source": [
    "df1 = get_bias_scores(flower_words, pleasant_words, unpleasant_words, [\"the GGG is XXX\",\n",
    "                                                                       \"GGG are XXX\"])"
   ]
  },
  {
   "cell_type": "code",
   "execution_count": 31,
   "metadata": {},
   "outputs": [
    {
     "data": {
      "text/html": [
       "<div>\n",
       "<style scoped>\n",
       "    .dataframe tbody tr th:only-of-type {\n",
       "        vertical-align: middle;\n",
       "    }\n",
       "\n",
       "    .dataframe tbody tr th {\n",
       "        vertical-align: top;\n",
       "    }\n",
       "\n",
       "    .dataframe thead th {\n",
       "        text-align: right;\n",
       "    }\n",
       "</style>\n",
       "<table border=\"1\" class=\"dataframe\">\n",
       "  <thead>\n",
       "    <tr style=\"text-align: right;\">\n",
       "      <th></th>\n",
       "      <th>target</th>\n",
       "      <th>bias_prior_corrected</th>\n",
       "    </tr>\n",
       "  </thead>\n",
       "  <tbody>\n",
       "    <tr>\n",
       "      <th>0</th>\n",
       "      <td>clover</td>\n",
       "      <td>-0.336581</td>\n",
       "    </tr>\n",
       "    <tr>\n",
       "      <th>1</th>\n",
       "      <td>daisy</td>\n",
       "      <td>0.024941</td>\n",
       "    </tr>\n",
       "    <tr>\n",
       "      <th>2</th>\n",
       "      <td>iris</td>\n",
       "      <td>-0.134799</td>\n",
       "    </tr>\n",
       "    <tr>\n",
       "      <th>3</th>\n",
       "      <td>lily</td>\n",
       "      <td>0.318310</td>\n",
       "    </tr>\n",
       "    <tr>\n",
       "      <th>4</th>\n",
       "      <td>magnolia</td>\n",
       "      <td>-0.291729</td>\n",
       "    </tr>\n",
       "    <tr>\n",
       "      <th>5</th>\n",
       "      <td>orchid</td>\n",
       "      <td>0.067988</td>\n",
       "    </tr>\n",
       "    <tr>\n",
       "      <th>6</th>\n",
       "      <td>poppy</td>\n",
       "      <td>-0.281059</td>\n",
       "    </tr>\n",
       "    <tr>\n",
       "      <th>7</th>\n",
       "      <td>rose</td>\n",
       "      <td>0.156728</td>\n",
       "    </tr>\n",
       "    <tr>\n",
       "      <th>8</th>\n",
       "      <td>violet</td>\n",
       "      <td>-0.266575</td>\n",
       "    </tr>\n",
       "  </tbody>\n",
       "</table>\n",
       "</div>"
      ],
      "text/plain": [
       "     target  bias_prior_corrected\n",
       "0    clover             -0.336581\n",
       "1     daisy              0.024941\n",
       "2      iris             -0.134799\n",
       "3      lily              0.318310\n",
       "4  magnolia             -0.291729\n",
       "5    orchid              0.067988\n",
       "6     poppy             -0.281059\n",
       "7      rose              0.156728\n",
       "8    violet             -0.266575"
      ]
     },
     "execution_count": 31,
     "metadata": {},
     "output_type": "execute_result"
    }
   ],
   "source": [
    "df1"
   ]
  },
  {
   "cell_type": "code",
   "execution_count": 32,
   "metadata": {},
   "outputs": [],
   "source": [
    "df2 = get_bias_scores(insect_words, pleasant_words, unpleasant_words, [\"the GGG is XXX\",\n",
    "                                                                       \"GGG are XXX\"])"
   ]
  },
  {
   "cell_type": "code",
   "execution_count": 33,
   "metadata": {},
   "outputs": [
    {
     "data": {
      "text/html": [
       "<div>\n",
       "<style scoped>\n",
       "    .dataframe tbody tr th:only-of-type {\n",
       "        vertical-align: middle;\n",
       "    }\n",
       "\n",
       "    .dataframe tbody tr th {\n",
       "        vertical-align: top;\n",
       "    }\n",
       "\n",
       "    .dataframe thead th {\n",
       "        text-align: right;\n",
       "    }\n",
       "</style>\n",
       "<table border=\"1\" class=\"dataframe\">\n",
       "  <thead>\n",
       "    <tr style=\"text-align: right;\">\n",
       "      <th></th>\n",
       "      <th>target</th>\n",
       "      <th>bias_prior_corrected</th>\n",
       "    </tr>\n",
       "  </thead>\n",
       "  <tbody>\n",
       "    <tr>\n",
       "      <th>0</th>\n",
       "      <td>ant</td>\n",
       "      <td>-0.497984</td>\n",
       "    </tr>\n",
       "    <tr>\n",
       "      <th>1</th>\n",
       "      <td>bee</td>\n",
       "      <td>0.361684</td>\n",
       "    </tr>\n",
       "    <tr>\n",
       "      <th>2</th>\n",
       "      <td>beetle</td>\n",
       "      <td>-1.212803</td>\n",
       "    </tr>\n",
       "    <tr>\n",
       "      <th>3</th>\n",
       "      <td>cricket</td>\n",
       "      <td>-0.190748</td>\n",
       "    </tr>\n",
       "    <tr>\n",
       "      <th>4</th>\n",
       "      <td>flea</td>\n",
       "      <td>-1.278719</td>\n",
       "    </tr>\n",
       "    <tr>\n",
       "      <th>5</th>\n",
       "      <td>fly</td>\n",
       "      <td>-0.718072</td>\n",
       "    </tr>\n",
       "    <tr>\n",
       "      <th>6</th>\n",
       "      <td>hornet</td>\n",
       "      <td>-0.782070</td>\n",
       "    </tr>\n",
       "    <tr>\n",
       "      <th>7</th>\n",
       "      <td>mosquito</td>\n",
       "      <td>-1.241040</td>\n",
       "    </tr>\n",
       "    <tr>\n",
       "      <th>8</th>\n",
       "      <td>spider</td>\n",
       "      <td>-0.746276</td>\n",
       "    </tr>\n",
       "  </tbody>\n",
       "</table>\n",
       "</div>"
      ],
      "text/plain": [
       "     target  bias_prior_corrected\n",
       "0       ant             -0.497984\n",
       "1       bee              0.361684\n",
       "2    beetle             -1.212803\n",
       "3   cricket             -0.190748\n",
       "4      flea             -1.278719\n",
       "5       fly             -0.718072\n",
       "6    hornet             -0.782070\n",
       "7  mosquito             -1.241040\n",
       "8    spider             -0.746276"
      ]
     },
     "execution_count": 33,
     "metadata": {},
     "output_type": "execute_result"
    }
   ],
   "source": [
    "df2"
   ]
  },
  {
   "cell_type": "code",
   "execution_count": null,
   "metadata": {},
   "outputs": [],
   "source": []
  },
  {
   "cell_type": "markdown",
   "metadata": {},
   "source": [
    "Statistical test (is the t-test appropriate here?)"
   ]
  },
  {
   "cell_type": "code",
   "execution_count": 34,
   "metadata": {},
   "outputs": [
    {
     "data": {
      "text/plain": [
       "1.2037209881253004"
      ]
     },
     "execution_count": 34,
     "metadata": {},
     "output_type": "execute_result"
    }
   ],
   "source": [
    "get_effect_size(df1, df2)"
   ]
  },
  {
   "cell_type": "code",
   "execution_count": 35,
   "metadata": {},
   "outputs": [
    {
     "data": {
      "text/plain": [
       "Ttest_indResult(statistic=3.155125309928693, pvalue=0.006128925343537042)"
      ]
     },
     "execution_count": 35,
     "metadata": {},
     "output_type": "execute_result"
    }
   ],
   "source": [
    "ttest_ind(df1[\"bias_prior_corrected\"], df2[\"bias_prior_corrected\"])"
   ]
  },
  {
   "cell_type": "code",
   "execution_count": 36,
   "metadata": {},
   "outputs": [
    {
     "data": {
      "text/plain": [
       "RanksumsResult(statistic=2.4283093212859135, pvalue=0.015169399414045479)"
      ]
     },
     "execution_count": 36,
     "metadata": {},
     "output_type": "execute_result"
    }
   ],
   "source": [
    "ranksums(df1[\"bias_prior_corrected\"], df2[\"bias_prior_corrected\"])"
   ]
  },
  {
   "cell_type": "code",
   "execution_count": 37,
   "metadata": {},
   "outputs": [
    {
     "data": {
      "text/plain": [
       "0.00749"
      ]
     },
     "execution_count": 37,
     "metadata": {},
     "output_type": "execute_result"
    }
   ],
   "source": [
    "exact_mc_perm_test(df1[\"bias_prior_corrected\"], df2[\"bias_prior_corrected\"])"
   ]
  },
  {
   "cell_type": "code",
   "execution_count": null,
   "metadata": {},
   "outputs": [],
   "source": []
  },
  {
   "cell_type": "markdown",
   "metadata": {},
   "source": [
    "### WEAT"
   ]
  },
  {
   "cell_type": "code",
   "execution_count": 38,
   "metadata": {},
   "outputs": [],
   "source": [
    "def get_word_bias_scores(targets, A, B, sentences, group=config.group):\n",
    "    wvs_targets = [\n",
    "        (t, get_word_vector(sentence.replace(\"GGG\", t).replace(\"XXX\", \"[MASK]\"), t) )\n",
    "        for sentence in sentences\n",
    "        for t in targets\n",
    "    ]\n",
    "    wvs_A = [\n",
    "        get_word_vector(sentence.replace(\"GGG\", \"[MASK]\").replace(\"XXX\", a), a) \n",
    "        for sentence in sentences\n",
    "        for a in A\n",
    "    ]\n",
    "    wvs_B = [\n",
    "        get_word_vector(sentence.replace(\"GGG\", \"[MASK]\").replace(\"XXX\", b), b) \n",
    "        for sentence in sentences\n",
    "        for b in B\n",
    "    ]\n",
    "    df1 = pd.DataFrame([\n",
    "        {\"target\": t, \"score\": cosine_similarity(wv, wva)}\n",
    "        for wva in wvs_A\n",
    "        for t, wv in wvs_targets\n",
    "    ])\n",
    "    if group: df1 = df1.groupby(\"target\").mean()[\"score\"].reset_index()\n",
    "    df2 = pd.DataFrame([\n",
    "        {\"target\": t, \"score\": cosine_similarity(wv, wvb)}\n",
    "        for wvb in wvs_B\n",
    "        for t, wv in wvs_targets\n",
    "    ])\n",
    "    if group: df2 = df2.groupby(\"target\").mean()[\"score\"].reset_index()\n",
    "    df = df1.copy()\n",
    "    df[\"bias_prior_corrected\"] = df1[\"score\"] - df2[\"score\"]\n",
    "    return df[[\"target\", \"bias_prior_corrected\"]]"
   ]
  },
  {
   "cell_type": "code",
   "execution_count": 39,
   "metadata": {},
   "outputs": [],
   "source": [
    "def get_glove_bias_scores(targets, A, B, sentences, group=config.group):\n",
    "    wvs_targets = [\n",
    "        (t, get_glove_vector(t))\n",
    "        for t in targets\n",
    "    ]\n",
    "    wvs_A = [\n",
    "        get_glove_vector(a) \n",
    "        for a in A\n",
    "    ]\n",
    "    wvs_B = [\n",
    "        get_glove_vector(b) \n",
    "        for b in B\n",
    "    ]\n",
    "    df1 = pd.DataFrame([\n",
    "        {\"target\": t, \"score\": cosine_similarity(wv, wva)}\n",
    "        for wva in wvs_A\n",
    "        for t, wv in wvs_targets\n",
    "    ])\n",
    "    if group: df1 = df1.groupby(\"target\").mean()[\"score\"].reset_index()\n",
    "    df2 = pd.DataFrame([\n",
    "        {\"target\": t, \"score\": cosine_similarity(wv, wvb)}\n",
    "        for wvb in wvs_B\n",
    "        for t, wv in wvs_targets\n",
    "    ])\n",
    "    if group: df2 = df2.groupby(\"target\").mean()[\"score\"].reset_index()\n",
    "    df = df1.copy()\n",
    "    df[\"bias_prior_corrected\"] = df1[\"score\"] - df2[\"score\"]\n",
    "    return df[[\"target\", \"bias_prior_corrected\"]]"
   ]
  },
  {
   "cell_type": "code",
   "execution_count": 40,
   "metadata": {},
   "outputs": [],
   "source": [
    "df1 = get_word_bias_scores(flower_words, pleasant_words, \n",
    "                           unpleasant_words, [\"GGG are XXX\", \"the GGG is XXX\"], group=config.group)"
   ]
  },
  {
   "cell_type": "code",
   "execution_count": 41,
   "metadata": {},
   "outputs": [],
   "source": [
    "df2 = get_word_bias_scores(insect_words, pleasant_words, \n",
    "                           unpleasant_words, [\"GGG are XXX\", \"the GGG is XXX\"], group=config.group)"
   ]
  },
  {
   "cell_type": "code",
   "execution_count": null,
   "metadata": {},
   "outputs": [],
   "source": []
  },
  {
   "cell_type": "markdown",
   "metadata": {},
   "source": [
    "Statistical Tests"
   ]
  },
  {
   "cell_type": "code",
   "execution_count": 42,
   "metadata": {},
   "outputs": [
    {
     "data": {
      "text/plain": [
       "0.6928185128092582"
      ]
     },
     "execution_count": 42,
     "metadata": {},
     "output_type": "execute_result"
    }
   ],
   "source": [
    "get_effect_size(df1, df2)"
   ]
  },
  {
   "cell_type": "code",
   "execution_count": 43,
   "metadata": {},
   "outputs": [
    {
     "data": {
      "text/plain": [
       "Ttest_indResult(statistic=1.52605067193457, pvalue=0.14652092608269146)"
      ]
     },
     "execution_count": 43,
     "metadata": {},
     "output_type": "execute_result"
    }
   ],
   "source": [
    "ttest_ind(df1[\"bias_prior_corrected\"], df2[\"bias_prior_corrected\"])"
   ]
  },
  {
   "cell_type": "code",
   "execution_count": 44,
   "metadata": {},
   "outputs": [
    {
     "data": {
      "text/plain": [
       "RanksumsResult(statistic=1.5452877499092177, pvalue=0.12227667721471389)"
      ]
     },
     "execution_count": 44,
     "metadata": {},
     "output_type": "execute_result"
    }
   ],
   "source": [
    "ranksums(df1[\"bias_prior_corrected\"], df2[\"bias_prior_corrected\"])"
   ]
  },
  {
   "cell_type": "code",
   "execution_count": 45,
   "metadata": {},
   "outputs": [
    {
     "data": {
      "text/plain": [
       "0.14386"
      ]
     },
     "execution_count": 45,
     "metadata": {},
     "output_type": "execute_result"
    }
   ],
   "source": [
    "exact_mc_perm_test(df1[\"bias_prior_corrected\"], df2[\"bias_prior_corrected\"])"
   ]
  },
  {
   "cell_type": "code",
   "execution_count": null,
   "metadata": {},
   "outputs": [],
   "source": []
  },
  {
   "cell_type": "markdown",
   "metadata": {},
   "source": [
    "### GloVe WEAT"
   ]
  },
  {
   "cell_type": "code",
   "execution_count": 46,
   "metadata": {},
   "outputs": [],
   "source": [
    "df1 = get_glove_bias_scores(flower_words, pleasant_words, \n",
    "                           unpleasant_words, [\"GGG are XXX\", \"the GGG is XXX\"], group=config.group)"
   ]
  },
  {
   "cell_type": "code",
   "execution_count": 47,
   "metadata": {},
   "outputs": [],
   "source": [
    "df2 = get_glove_bias_scores(insect_words, pleasant_words, \n",
    "                           unpleasant_words, [\"GGG are XXX\", \"the GGG is XXX\"], group=config.group)"
   ]
  },
  {
   "cell_type": "markdown",
   "metadata": {},
   "source": [
    "Statistical Tests"
   ]
  },
  {
   "cell_type": "code",
   "execution_count": 48,
   "metadata": {},
   "outputs": [
    {
     "data": {
      "text/plain": [
       "1.5433197464264068"
      ]
     },
     "execution_count": 48,
     "metadata": {},
     "output_type": "execute_result"
    }
   ],
   "source": [
    "get_effect_size(df1, df2)"
   ]
  },
  {
   "cell_type": "code",
   "execution_count": 49,
   "metadata": {},
   "outputs": [
    {
     "data": {
      "text/plain": [
       "Ttest_indResult(statistic=5.224953822681006, pvalue=8.338096426571345e-05)"
      ]
     },
     "execution_count": 49,
     "metadata": {},
     "output_type": "execute_result"
    }
   ],
   "source": [
    "ttest_ind(df1[\"bias_prior_corrected\"], df2[\"bias_prior_corrected\"])"
   ]
  },
  {
   "cell_type": "code",
   "execution_count": 50,
   "metadata": {},
   "outputs": [
    {
     "data": {
      "text/plain": [
       "RanksumsResult(statistic=3.487935206937949, pvalue=0.0004867660221606486)"
      ]
     },
     "execution_count": 50,
     "metadata": {},
     "output_type": "execute_result"
    }
   ],
   "source": [
    "ranksums(df1[\"bias_prior_corrected\"], df2[\"bias_prior_corrected\"])"
   ]
  },
  {
   "cell_type": "code",
   "execution_count": 51,
   "metadata": {},
   "outputs": [
    {
     "data": {
      "text/plain": [
       "0.0"
      ]
     },
     "execution_count": 51,
     "metadata": {},
     "output_type": "execute_result"
    }
   ],
   "source": [
    "exact_mc_perm_test(df1[\"bias_prior_corrected\"], df2[\"bias_prior_corrected\"])"
   ]
  },
  {
   "cell_type": "code",
   "execution_count": null,
   "metadata": {},
   "outputs": [],
   "source": []
  },
  {
   "cell_type": "markdown",
   "metadata": {},
   "source": [
    "# Career vs Family"
   ]
  },
  {
   "cell_type": "code",
   "execution_count": 52,
   "metadata": {},
   "outputs": [],
   "source": [
    "male_words = to_words(\"John, Paul, Mike, Kevin, Steve, Greg, Jeff, Bill\".lower())\n",
    "female_words = to_words(\"Amy, Joan, Lisa, Sarah, Diana, Kate, Ann, Donna\".lower())\n",
    "career_words = to_words(\"executive, management, professional, corporation, salary, office, business, career\")\n",
    "family_words = to_words(\"home, parents, children, family, cousins, marriage, wedding, relatives\")"
   ]
  },
  {
   "cell_type": "code",
   "execution_count": 53,
   "metadata": {},
   "outputs": [
    {
     "data": {
      "text/plain": [
       "True"
      ]
     },
     "execution_count": 53,
     "metadata": {},
     "output_type": "execute_result"
    }
   ],
   "source": [
    "len(male_words) == len(female_words)"
   ]
  },
  {
   "cell_type": "code",
   "execution_count": 54,
   "metadata": {},
   "outputs": [],
   "source": [
    "df1 = get_bias_scores(male_words, career_words, family_words, \n",
    "                      [\"GGG likes XXX\", \"GGG is interested in XXX\"])"
   ]
  },
  {
   "cell_type": "code",
   "execution_count": 55,
   "metadata": {},
   "outputs": [],
   "source": [
    "df2 = get_bias_scores(female_words, career_words, family_words, \n",
    "                      [\"GGG likes XXX\", \"GGG is interested in XXX\"])"
   ]
  },
  {
   "cell_type": "code",
   "execution_count": null,
   "metadata": {},
   "outputs": [],
   "source": []
  },
  {
   "cell_type": "markdown",
   "metadata": {},
   "source": [
    "Test for statistical significance"
   ]
  },
  {
   "cell_type": "code",
   "execution_count": 56,
   "metadata": {},
   "outputs": [
    {
     "data": {
      "text/plain": [
       "1.3207784092314527"
      ]
     },
     "execution_count": 56,
     "metadata": {},
     "output_type": "execute_result"
    }
   ],
   "source": [
    "get_effect_size(df1, df2)"
   ]
  },
  {
   "cell_type": "code",
   "execution_count": 57,
   "metadata": {},
   "outputs": [
    {
     "data": {
      "text/plain": [
       "Ttest_indResult(statistic=3.4896177530474892, pvalue=0.003608911862548736)"
      ]
     },
     "execution_count": 57,
     "metadata": {},
     "output_type": "execute_result"
    }
   ],
   "source": [
    "ttest_ind(df1[\"bias_prior_corrected\"], df2[\"bias_prior_corrected\"])"
   ]
  },
  {
   "cell_type": "code",
   "execution_count": 58,
   "metadata": {},
   "outputs": [
    {
     "data": {
      "text/plain": [
       "RanksumsResult(statistic=2.100420126042015, pvalue=0.03569190011680441)"
      ]
     },
     "execution_count": 58,
     "metadata": {},
     "output_type": "execute_result"
    }
   ],
   "source": [
    "ranksums(df1[\"bias_prior_corrected\"], df2[\"bias_prior_corrected\"])"
   ]
  },
  {
   "cell_type": "code",
   "execution_count": 59,
   "metadata": {},
   "outputs": [
    {
     "data": {
      "text/plain": [
       "0.0064"
      ]
     },
     "execution_count": 59,
     "metadata": {},
     "output_type": "execute_result"
    }
   ],
   "source": [
    "exact_mc_perm_test(df1[\"bias_prior_corrected\"], df2[\"bias_prior_corrected\"], )"
   ]
  },
  {
   "cell_type": "code",
   "execution_count": null,
   "metadata": {},
   "outputs": [],
   "source": []
  },
  {
   "cell_type": "markdown",
   "metadata": {},
   "source": [
    "### WEAT"
   ]
  },
  {
   "cell_type": "code",
   "execution_count": 60,
   "metadata": {},
   "outputs": [],
   "source": [
    "df1 = get_word_bias_scores(male_words, career_words, family_words, \n",
    "                      [\"GGG likes XXX\", \"GGG like XXX\", \"GGG is interested in XXX\"])\n",
    "\n",
    "df2 = get_word_bias_scores(female_words, career_words, family_words, \n",
    "                      [\"GGG likes XXX\", \"GGG like XXX\", \"GGG is interested in XXX\"])"
   ]
  },
  {
   "cell_type": "code",
   "execution_count": 61,
   "metadata": {},
   "outputs": [
    {
     "data": {
      "text/plain": [
       "0.5047117823050309"
      ]
     },
     "execution_count": 61,
     "metadata": {},
     "output_type": "execute_result"
    }
   ],
   "source": [
    "get_effect_size(df1, df2)"
   ]
  },
  {
   "cell_type": "code",
   "execution_count": 62,
   "metadata": {},
   "outputs": [
    {
     "data": {
      "text/plain": [
       "Ttest_indResult(statistic=1.0101080392589703, pvalue=0.32958370951776483)"
      ]
     },
     "execution_count": 62,
     "metadata": {},
     "output_type": "execute_result"
    }
   ],
   "source": [
    "ttest_ind(df1[\"bias_prior_corrected\"], df2[\"bias_prior_corrected\"])"
   ]
  },
  {
   "cell_type": "code",
   "execution_count": 63,
   "metadata": {},
   "outputs": [
    {
     "data": {
      "text/plain": [
       "RanksumsResult(statistic=1.4702940882294102, pvalue=0.14148212148279338)"
      ]
     },
     "execution_count": 63,
     "metadata": {},
     "output_type": "execute_result"
    }
   ],
   "source": [
    "ranksums(df1[\"bias_prior_corrected\"], df2[\"bias_prior_corrected\"])"
   ]
  },
  {
   "cell_type": "code",
   "execution_count": 64,
   "metadata": {},
   "outputs": [
    {
     "data": {
      "text/plain": [
       "0.32593"
      ]
     },
     "execution_count": 64,
     "metadata": {},
     "output_type": "execute_result"
    }
   ],
   "source": [
    "exact_mc_perm_test(df1[\"bias_prior_corrected\"], df2[\"bias_prior_corrected\"], )"
   ]
  },
  {
   "cell_type": "code",
   "execution_count": null,
   "metadata": {},
   "outputs": [],
   "source": []
  },
  {
   "cell_type": "markdown",
   "metadata": {},
   "source": [
    "### Glove WEAT"
   ]
  },
  {
   "cell_type": "code",
   "execution_count": 65,
   "metadata": {},
   "outputs": [],
   "source": [
    "male_words = [w for w in to_words(\"John, Paul, Mike, Kevin, Steve, Greg, Jeff, Bill\", filter_oov=False) if w.lower() in male_words]\n",
    "female_words = [w for w in to_words(\"Amy, Joan, Lisa, Sarah, Diana, Kate, Ann, Donna\", filter_oov=False) if w.lower() in female_words]"
   ]
  },
  {
   "cell_type": "code",
   "execution_count": 66,
   "metadata": {},
   "outputs": [],
   "source": [
    "df1 = get_glove_bias_scores(male_words, career_words, family_words, \n",
    "                      [\"GGG likes XXX\", \"GGG like XXX\", \"GGG is interested in XXX\"])\n",
    "\n",
    "df2 = get_glove_bias_scores(female_words, career_words, family_words, \n",
    "                      [\"GGG likes XXX\", \"GGG like XXX\", \"GGG is interested in XXX\"])"
   ]
  },
  {
   "cell_type": "code",
   "execution_count": 67,
   "metadata": {},
   "outputs": [
    {
     "data": {
      "text/plain": [
       "1.8139144159248477"
      ]
     },
     "execution_count": 67,
     "metadata": {},
     "output_type": "execute_result"
    }
   ],
   "source": [
    "get_effect_size(df1, df2)"
   ]
  },
  {
   "cell_type": "code",
   "execution_count": 68,
   "metadata": {},
   "outputs": [
    {
     "data": {
      "text/plain": [
       "Ttest_indResult(statistic=10.010070098265702, pvalue=9.22564299365985e-08)"
      ]
     },
     "execution_count": 68,
     "metadata": {},
     "output_type": "execute_result"
    }
   ],
   "source": [
    "ttest_ind(df1[\"bias_prior_corrected\"], df2[\"bias_prior_corrected\"])"
   ]
  },
  {
   "cell_type": "code",
   "execution_count": 69,
   "metadata": {},
   "outputs": [
    {
     "data": {
      "text/plain": [
       "RanksumsResult(statistic=3.3606722016672235, pvalue=0.0007775304469403846)"
      ]
     },
     "execution_count": 69,
     "metadata": {},
     "output_type": "execute_result"
    }
   ],
   "source": [
    "ranksums(df1[\"bias_prior_corrected\"], df2[\"bias_prior_corrected\"])"
   ]
  },
  {
   "cell_type": "code",
   "execution_count": 70,
   "metadata": {},
   "outputs": [
    {
     "data": {
      "text/plain": [
       "0.0"
      ]
     },
     "execution_count": 70,
     "metadata": {},
     "output_type": "execute_result"
    }
   ],
   "source": [
    "exact_mc_perm_test(df1[\"bias_prior_corrected\"], df2[\"bias_prior_corrected\"], )"
   ]
  },
  {
   "cell_type": "code",
   "execution_count": null,
   "metadata": {},
   "outputs": [],
   "source": []
  },
  {
   "cell_type": "markdown",
   "metadata": {},
   "source": [
    "# Math vs. Art"
   ]
  },
  {
   "cell_type": "code",
   "execution_count": 71,
   "metadata": {},
   "outputs": [],
   "source": [
    "male_words = to_words(\"male, man, boy, brother, son, he, his, him\")\n",
    "female_words = to_words(\"female, woman, girl, sister, daughter, she, her, hers\")"
   ]
  },
  {
   "cell_type": "code",
   "execution_count": 72,
   "metadata": {},
   "outputs": [
    {
     "data": {
      "text/plain": [
       "True"
      ]
     },
     "execution_count": 72,
     "metadata": {},
     "output_type": "execute_result"
    }
   ],
   "source": [
    "len(male_words) == len(female_words)"
   ]
  },
  {
   "cell_type": "code",
   "execution_count": 73,
   "metadata": {},
   "outputs": [],
   "source": [
    "math_words = to_words(\"math, algebra, geometry, calculus, equations, computation, numbers, addition\")\n",
    "art_words = to_words(\"poetry, art, dance, Shakespear, literature, novels, symphony, drama, sculptures\".lower())"
   ]
  },
  {
   "cell_type": "code",
   "execution_count": 74,
   "metadata": {},
   "outputs": [
    {
     "data": {
      "text/plain": [
       "True"
      ]
     },
     "execution_count": 74,
     "metadata": {},
     "output_type": "execute_result"
    }
   ],
   "source": [
    "len(math_words) == len(art_words)"
   ]
  },
  {
   "cell_type": "code",
   "execution_count": 75,
   "metadata": {},
   "outputs": [],
   "source": [
    "# sentences = [\"GGG likes XXX\", \n",
    "#              \"GGG like XXX\",\n",
    "#              \"GGG is interested in XXX\"]"
   ]
  },
  {
   "cell_type": "code",
   "execution_count": 76,
   "metadata": {},
   "outputs": [],
   "source": [
    "sentences = [\"XXX likes GGG\", \n",
    "             \"XXX like GGG\",\n",
    "             \"XXX is interested in GGG\"]"
   ]
  },
  {
   "cell_type": "code",
   "execution_count": 77,
   "metadata": {},
   "outputs": [],
   "source": [
    "df1 = pd.concat([get_bias_scores(math_words, male_words, female_words, \n",
    "                sentences),\n",
    "#                  get_bias_scores([\"he\"], math_words, art_words, \n",
    "#                       [\"GGG likes XXX\", \"GGG is interested in XXX\"]),\n",
    "#                  get_bias_scores([\"his\"], math_words, art_words, \n",
    "#                       [\"GGG interest is in XXX\"]),\n",
    "                ]\n",
    "               )\n",
    "\n",
    "df2 = pd.concat([get_bias_scores(art_words, male_words, female_words, \n",
    "                 sentences),\n",
    "#                  get_bias_scores([\"she\"], math_words, art_words, \n",
    "#                       [\"GGG likes XXX\", \"GGG is interested in XXX\"]),\n",
    "#                  get_bias_scores([\"her\"], math_words, art_words, \n",
    "#                       [\"GGG interest is in XXX\"]),\n",
    "                ]\n",
    "               )"
   ]
  },
  {
   "cell_type": "code",
   "execution_count": 78,
   "metadata": {},
   "outputs": [
    {
     "data": {
      "text/html": [
       "<div>\n",
       "<style scoped>\n",
       "    .dataframe tbody tr th:only-of-type {\n",
       "        vertical-align: middle;\n",
       "    }\n",
       "\n",
       "    .dataframe tbody tr th {\n",
       "        vertical-align: top;\n",
       "    }\n",
       "\n",
       "    .dataframe thead th {\n",
       "        text-align: right;\n",
       "    }\n",
       "</style>\n",
       "<table border=\"1\" class=\"dataframe\">\n",
       "  <thead>\n",
       "    <tr style=\"text-align: right;\">\n",
       "      <th></th>\n",
       "      <th>target</th>\n",
       "      <th>bias_prior_corrected</th>\n",
       "    </tr>\n",
       "  </thead>\n",
       "  <tbody>\n",
       "    <tr>\n",
       "      <th>0</th>\n",
       "      <td>addition</td>\n",
       "      <td>-0.209766</td>\n",
       "    </tr>\n",
       "    <tr>\n",
       "      <th>1</th>\n",
       "      <td>algebra</td>\n",
       "      <td>-0.000297</td>\n",
       "    </tr>\n",
       "    <tr>\n",
       "      <th>2</th>\n",
       "      <td>calculus</td>\n",
       "      <td>0.012278</td>\n",
       "    </tr>\n",
       "    <tr>\n",
       "      <th>3</th>\n",
       "      <td>computation</td>\n",
       "      <td>-0.467537</td>\n",
       "    </tr>\n",
       "    <tr>\n",
       "      <th>4</th>\n",
       "      <td>equations</td>\n",
       "      <td>-0.259801</td>\n",
       "    </tr>\n",
       "    <tr>\n",
       "      <th>5</th>\n",
       "      <td>geometry</td>\n",
       "      <td>-0.169219</td>\n",
       "    </tr>\n",
       "    <tr>\n",
       "      <th>6</th>\n",
       "      <td>math</td>\n",
       "      <td>-0.257134</td>\n",
       "    </tr>\n",
       "    <tr>\n",
       "      <th>7</th>\n",
       "      <td>numbers</td>\n",
       "      <td>-0.217840</td>\n",
       "    </tr>\n",
       "  </tbody>\n",
       "</table>\n",
       "</div>"
      ],
      "text/plain": [
       "        target  bias_prior_corrected\n",
       "0     addition             -0.209766\n",
       "1      algebra             -0.000297\n",
       "2     calculus              0.012278\n",
       "3  computation             -0.467537\n",
       "4    equations             -0.259801\n",
       "5     geometry             -0.169219\n",
       "6         math             -0.257134\n",
       "7      numbers             -0.217840"
      ]
     },
     "execution_count": 78,
     "metadata": {},
     "output_type": "execute_result"
    }
   ],
   "source": [
    "df1"
   ]
  },
  {
   "cell_type": "code",
   "execution_count": 79,
   "metadata": {},
   "outputs": [
    {
     "data": {
      "text/plain": [
       "-0.048069718002426015"
      ]
     },
     "execution_count": 79,
     "metadata": {},
     "output_type": "execute_result"
    }
   ],
   "source": [
    "get_effect_size(df1, df2)"
   ]
  },
  {
   "cell_type": "code",
   "execution_count": 80,
   "metadata": {},
   "outputs": [
    {
     "data": {
      "text/plain": [
       "Ttest_indResult(statistic=-0.09290815463621517, pvalue=0.9272929875235238)"
      ]
     },
     "execution_count": 80,
     "metadata": {},
     "output_type": "execute_result"
    }
   ],
   "source": [
    "ttest_ind(df1[\"bias_prior_corrected\"], df2[\"bias_prior_corrected\"])"
   ]
  },
  {
   "cell_type": "code",
   "execution_count": 81,
   "metadata": {},
   "outputs": [
    {
     "data": {
      "text/plain": [
       "RanksumsResult(statistic=0.42008402520840293, pvalue=0.6744240722352938)"
      ]
     },
     "execution_count": 81,
     "metadata": {},
     "output_type": "execute_result"
    }
   ],
   "source": [
    "ranksums(df1[\"bias_prior_corrected\"], df2[\"bias_prior_corrected\"])"
   ]
  },
  {
   "cell_type": "code",
   "execution_count": 82,
   "metadata": {},
   "outputs": [
    {
     "data": {
      "text/plain": [
       "0.93612"
      ]
     },
     "execution_count": 82,
     "metadata": {},
     "output_type": "execute_result"
    }
   ],
   "source": [
    "exact_mc_perm_test(df1[\"bias_prior_corrected\"], df2[\"bias_prior_corrected\"])"
   ]
  },
  {
   "cell_type": "code",
   "execution_count": null,
   "metadata": {},
   "outputs": [],
   "source": []
  },
  {
   "cell_type": "markdown",
   "metadata": {},
   "source": [
    "### WEAT"
   ]
  },
  {
   "cell_type": "code",
   "execution_count": 83,
   "metadata": {},
   "outputs": [],
   "source": [
    "df1 = pd.concat([get_word_bias_scores(math_words, male_words, female_words, \n",
    "                sentences),\n",
    "#                  get_bias_scores([\"he\"], math_words, art_words, \n",
    "#                       [\"GGG likes XXX\", \"GGG is interested in XXX\"]),\n",
    "#                  get_bias_scores([\"his\"], math_words, art_words, \n",
    "#                       [\"GGG interest is in XXX\"]),\n",
    "                ]\n",
    "               )\n",
    "\n",
    "df2 = pd.concat([get_word_bias_scores(art_words, male_words, female_words, \n",
    "                 sentences),\n",
    "#                  get_bias_scores([\"she\"], math_words, art_words, \n",
    "#                       [\"GGG likes XXX\", \"GGG is interested in XXX\"]),\n",
    "#                  get_bias_scores([\"her\"], math_words, art_words, \n",
    "#                       [\"GGG interest is in XXX\"]),\n",
    "                ]\n",
    "               )"
   ]
  },
  {
   "cell_type": "code",
   "execution_count": 84,
   "metadata": {},
   "outputs": [
    {
     "data": {
      "text/plain": [
       "0.6755147300797202"
      ]
     },
     "execution_count": 84,
     "metadata": {},
     "output_type": "execute_result"
    }
   ],
   "source": [
    "get_effect_size(df1, df2)"
   ]
  },
  {
   "cell_type": "code",
   "execution_count": 85,
   "metadata": {},
   "outputs": [
    {
     "data": {
      "text/plain": [
       "Ttest_indResult(statistic=1.392704398087732, pvalue=0.185433131612376)"
      ]
     },
     "execution_count": 85,
     "metadata": {},
     "output_type": "execute_result"
    }
   ],
   "source": [
    "ttest_ind(df1[\"bias_prior_corrected\"], df2[\"bias_prior_corrected\"])"
   ]
  },
  {
   "cell_type": "code",
   "execution_count": 86,
   "metadata": {},
   "outputs": [
    {
     "data": {
      "text/plain": [
       "RanksumsResult(statistic=0.8401680504168059, pvalue=0.40081416938293446)"
      ]
     },
     "execution_count": 86,
     "metadata": {},
     "output_type": "execute_result"
    }
   ],
   "source": [
    "ranksums(df1[\"bias_prior_corrected\"], df2[\"bias_prior_corrected\"])"
   ]
  },
  {
   "cell_type": "code",
   "execution_count": 87,
   "metadata": {},
   "outputs": [
    {
     "data": {
      "text/plain": [
       "0.19006"
      ]
     },
     "execution_count": 87,
     "metadata": {},
     "output_type": "execute_result"
    }
   ],
   "source": [
    "exact_mc_perm_test(df1[\"bias_prior_corrected\"], df2[\"bias_prior_corrected\"])"
   ]
  },
  {
   "cell_type": "code",
   "execution_count": null,
   "metadata": {},
   "outputs": [],
   "source": []
  },
  {
   "cell_type": "markdown",
   "metadata": {},
   "source": [
    "### GloVe WEAT"
   ]
  },
  {
   "cell_type": "code",
   "execution_count": 88,
   "metadata": {},
   "outputs": [],
   "source": [
    "df1 = get_glove_bias_scores(math_words, male_words, female_words, sentences)\n",
    "df2 = get_glove_bias_scores(art_words, male_words, female_words, sentences)"
   ]
  },
  {
   "cell_type": "code",
   "execution_count": 89,
   "metadata": {},
   "outputs": [
    {
     "data": {
      "text/html": [
       "<div>\n",
       "<style scoped>\n",
       "    .dataframe tbody tr th:only-of-type {\n",
       "        vertical-align: middle;\n",
       "    }\n",
       "\n",
       "    .dataframe tbody tr th {\n",
       "        vertical-align: top;\n",
       "    }\n",
       "\n",
       "    .dataframe thead th {\n",
       "        text-align: right;\n",
       "    }\n",
       "</style>\n",
       "<table border=\"1\" class=\"dataframe\">\n",
       "  <thead>\n",
       "    <tr style=\"text-align: right;\">\n",
       "      <th></th>\n",
       "      <th>target</th>\n",
       "      <th>bias_prior_corrected</th>\n",
       "    </tr>\n",
       "  </thead>\n",
       "  <tbody>\n",
       "    <tr>\n",
       "      <th>0</th>\n",
       "      <td>addition</td>\n",
       "      <td>-0.010817</td>\n",
       "    </tr>\n",
       "    <tr>\n",
       "      <th>1</th>\n",
       "      <td>algebra</td>\n",
       "      <td>0.003242</td>\n",
       "    </tr>\n",
       "    <tr>\n",
       "      <th>2</th>\n",
       "      <td>calculus</td>\n",
       "      <td>0.031652</td>\n",
       "    </tr>\n",
       "    <tr>\n",
       "      <th>3</th>\n",
       "      <td>computation</td>\n",
       "      <td>0.016247</td>\n",
       "    </tr>\n",
       "    <tr>\n",
       "      <th>4</th>\n",
       "      <td>equations</td>\n",
       "      <td>0.003074</td>\n",
       "    </tr>\n",
       "    <tr>\n",
       "      <th>5</th>\n",
       "      <td>geometry</td>\n",
       "      <td>0.001272</td>\n",
       "    </tr>\n",
       "    <tr>\n",
       "      <th>6</th>\n",
       "      <td>math</td>\n",
       "      <td>0.003159</td>\n",
       "    </tr>\n",
       "    <tr>\n",
       "      <th>7</th>\n",
       "      <td>numbers</td>\n",
       "      <td>0.035001</td>\n",
       "    </tr>\n",
       "  </tbody>\n",
       "</table>\n",
       "</div>"
      ],
      "text/plain": [
       "        target  bias_prior_corrected\n",
       "0     addition             -0.010817\n",
       "1      algebra              0.003242\n",
       "2     calculus              0.031652\n",
       "3  computation              0.016247\n",
       "4    equations              0.003074\n",
       "5     geometry              0.001272\n",
       "6         math              0.003159\n",
       "7      numbers              0.035001"
      ]
     },
     "execution_count": 89,
     "metadata": {},
     "output_type": "execute_result"
    }
   ],
   "source": [
    "df1"
   ]
  },
  {
   "cell_type": "code",
   "execution_count": 90,
   "metadata": {},
   "outputs": [
    {
     "data": {
      "text/html": [
       "<div>\n",
       "<style scoped>\n",
       "    .dataframe tbody tr th:only-of-type {\n",
       "        vertical-align: middle;\n",
       "    }\n",
       "\n",
       "    .dataframe tbody tr th {\n",
       "        vertical-align: top;\n",
       "    }\n",
       "\n",
       "    .dataframe thead th {\n",
       "        text-align: right;\n",
       "    }\n",
       "</style>\n",
       "<table border=\"1\" class=\"dataframe\">\n",
       "  <thead>\n",
       "    <tr style=\"text-align: right;\">\n",
       "      <th></th>\n",
       "      <th>target</th>\n",
       "      <th>bias_prior_corrected</th>\n",
       "    </tr>\n",
       "  </thead>\n",
       "  <tbody>\n",
       "    <tr>\n",
       "      <th>0</th>\n",
       "      <td>art</td>\n",
       "      <td>0.005488</td>\n",
       "    </tr>\n",
       "    <tr>\n",
       "      <th>1</th>\n",
       "      <td>dance</td>\n",
       "      <td>-0.052323</td>\n",
       "    </tr>\n",
       "    <tr>\n",
       "      <th>2</th>\n",
       "      <td>drama</td>\n",
       "      <td>-0.016766</td>\n",
       "    </tr>\n",
       "    <tr>\n",
       "      <th>3</th>\n",
       "      <td>literature</td>\n",
       "      <td>-0.011785</td>\n",
       "    </tr>\n",
       "    <tr>\n",
       "      <th>4</th>\n",
       "      <td>novels</td>\n",
       "      <td>-0.033697</td>\n",
       "    </tr>\n",
       "    <tr>\n",
       "      <th>5</th>\n",
       "      <td>poetry</td>\n",
       "      <td>-0.026572</td>\n",
       "    </tr>\n",
       "    <tr>\n",
       "      <th>6</th>\n",
       "      <td>sculptures</td>\n",
       "      <td>-0.001336</td>\n",
       "    </tr>\n",
       "    <tr>\n",
       "      <th>7</th>\n",
       "      <td>symphony</td>\n",
       "      <td>0.022459</td>\n",
       "    </tr>\n",
       "  </tbody>\n",
       "</table>\n",
       "</div>"
      ],
      "text/plain": [
       "       target  bias_prior_corrected\n",
       "0         art              0.005488\n",
       "1       dance             -0.052323\n",
       "2       drama             -0.016766\n",
       "3  literature             -0.011785\n",
       "4      novels             -0.033697\n",
       "5      poetry             -0.026572\n",
       "6  sculptures             -0.001336\n",
       "7    symphony              0.022459"
      ]
     },
     "execution_count": 90,
     "metadata": {},
     "output_type": "execute_result"
    }
   ],
   "source": [
    "df2"
   ]
  },
  {
   "cell_type": "code",
   "execution_count": 91,
   "metadata": {},
   "outputs": [
    {
     "data": {
      "text/plain": [
       "1.060843415494596"
      ]
     },
     "execution_count": 91,
     "metadata": {},
     "output_type": "execute_result"
    }
   ],
   "source": [
    "get_effect_size(df1, df2)"
   ]
  },
  {
   "cell_type": "code",
   "execution_count": 92,
   "metadata": {},
   "outputs": [
    {
     "data": {
      "text/plain": [
       "Ttest_indResult(statistic=2.4500958627234066, pvalue=0.02803865682121175)"
      ]
     },
     "execution_count": 92,
     "metadata": {},
     "output_type": "execute_result"
    }
   ],
   "source": [
    "ttest_ind(df1[\"bias_prior_corrected\"], df2[\"bias_prior_corrected\"])"
   ]
  },
  {
   "cell_type": "code",
   "execution_count": 93,
   "metadata": {},
   "outputs": [
    {
     "data": {
      "text/plain": [
       "RanksumsResult(statistic=2.100420126042015, pvalue=0.03569190011680441)"
      ]
     },
     "execution_count": 93,
     "metadata": {},
     "output_type": "execute_result"
    }
   ],
   "source": [
    "ranksums(df1[\"bias_prior_corrected\"], df2[\"bias_prior_corrected\"])"
   ]
  },
  {
   "cell_type": "code",
   "execution_count": 94,
   "metadata": {},
   "outputs": [
    {
     "data": {
      "text/plain": [
       "0.02928"
      ]
     },
     "execution_count": 94,
     "metadata": {},
     "output_type": "execute_result"
    }
   ],
   "source": [
    "exact_mc_perm_test(df1[\"bias_prior_corrected\"], df2[\"bias_prior_corrected\"])"
   ]
  },
  {
   "cell_type": "code",
   "execution_count": null,
   "metadata": {},
   "outputs": [],
   "source": []
  },
  {
   "cell_type": "markdown",
   "metadata": {},
   "source": [
    "# Science vs. Art"
   ]
  },
  {
   "cell_type": "code",
   "execution_count": 180,
   "metadata": {},
   "outputs": [],
   "source": [
    "male_words = to_words('brother, father, uncle, grandfather, son, he, his, him')\n",
    "female_words = to_words('sister, mother, aunt, grandmother, daughter, she, hers, her')"
   ]
  },
  {
   "cell_type": "code",
   "execution_count": 181,
   "metadata": {},
   "outputs": [],
   "source": [
    "science_words = to_words(\"science, technology, physics, chemistry, Einstein, NASA, experiments, astronomy\".lower())\n",
    "art_words = to_words(\"poetry, art, Shakespeare, dance, literature, novel, symphony, drama\".lower())"
   ]
  },
  {
   "cell_type": "code",
   "execution_count": 182,
   "metadata": {},
   "outputs": [
    {
     "data": {
      "text/plain": [
       "True"
      ]
     },
     "execution_count": 182,
     "metadata": {},
     "output_type": "execute_result"
    }
   ],
   "source": [
    "len(science_words) == len(art_words)"
   ]
  },
  {
   "cell_type": "code",
   "execution_count": 183,
   "metadata": {},
   "outputs": [],
   "source": [
    "df1 = get_bias_scores(science_words, male_words, female_words, sentences)\n",
    "df2 = get_bias_scores(art_words, male_words, female_words, sentences)"
   ]
  },
  {
   "cell_type": "code",
   "execution_count": 184,
   "metadata": {},
   "outputs": [
    {
     "data": {
      "text/plain": [
       "0.7684757992531862"
      ]
     },
     "execution_count": 184,
     "metadata": {},
     "output_type": "execute_result"
    }
   ],
   "source": [
    "get_effect_size(df1, df2)"
   ]
  },
  {
   "cell_type": "code",
   "execution_count": 185,
   "metadata": {},
   "outputs": [
    {
     "data": {
      "text/plain": [
       "Ttest_indResult(statistic=1.6176660054033176, pvalue=0.12803619837668326)"
      ]
     },
     "execution_count": 185,
     "metadata": {},
     "output_type": "execute_result"
    }
   ],
   "source": [
    "ttest_ind(df1[\"bias_prior_corrected\"], df2[\"bias_prior_corrected\"])"
   ]
  },
  {
   "cell_type": "code",
   "execution_count": 186,
   "metadata": {},
   "outputs": [
    {
     "data": {
      "text/plain": [
       "RanksumsResult(statistic=1.575315094531511, pvalue=0.11518373151505122)"
      ]
     },
     "execution_count": 186,
     "metadata": {},
     "output_type": "execute_result"
    }
   ],
   "source": [
    "ranksums(df1[\"bias_prior_corrected\"], df2[\"bias_prior_corrected\"])"
   ]
  },
  {
   "cell_type": "code",
   "execution_count": 187,
   "metadata": {},
   "outputs": [
    {
     "data": {
      "text/plain": [
       "0.12731"
      ]
     },
     "execution_count": 187,
     "metadata": {},
     "output_type": "execute_result"
    }
   ],
   "source": [
    "exact_mc_perm_test(df1[\"bias_prior_corrected\"], df2[\"bias_prior_corrected\"])"
   ]
  },
  {
   "cell_type": "code",
   "execution_count": null,
   "metadata": {},
   "outputs": [],
   "source": []
  },
  {
   "cell_type": "markdown",
   "metadata": {},
   "source": [
    "### WEAT"
   ]
  },
  {
   "cell_type": "code",
   "execution_count": 149,
   "metadata": {},
   "outputs": [],
   "source": [
    "df1 = get_word_bias_scores(science_words, male_words, female_words, sentences)\n",
    "df2 = get_word_bias_scores(art_words, male_words, female_words, sentences)"
   ]
  },
  {
   "cell_type": "code",
   "execution_count": 150,
   "metadata": {},
   "outputs": [
    {
     "data": {
      "text/plain": [
       "0.572545976546155"
      ]
     },
     "execution_count": 150,
     "metadata": {},
     "output_type": "execute_result"
    }
   ],
   "source": [
    "get_effect_size(df1, df2)"
   ]
  },
  {
   "cell_type": "code",
   "execution_count": 151,
   "metadata": {},
   "outputs": [
    {
     "data": {
      "text/plain": [
       "Ttest_indResult(statistic=1.1580382899060395, pvalue=0.26622289226962775)"
      ]
     },
     "execution_count": 151,
     "metadata": {},
     "output_type": "execute_result"
    }
   ],
   "source": [
    "ttest_ind(df1[\"bias_prior_corrected\"], df2[\"bias_prior_corrected\"])"
   ]
  },
  {
   "cell_type": "code",
   "execution_count": 152,
   "metadata": {},
   "outputs": [
    {
     "data": {
      "text/plain": [
       "RanksumsResult(statistic=1.0502100630210074, pvalue=0.2936215439289058)"
      ]
     },
     "execution_count": 152,
     "metadata": {},
     "output_type": "execute_result"
    }
   ],
   "source": [
    "ranksums(df1[\"bias_prior_corrected\"], df2[\"bias_prior_corrected\"])"
   ]
  },
  {
   "cell_type": "code",
   "execution_count": 153,
   "metadata": {},
   "outputs": [
    {
     "data": {
      "text/plain": [
       "0.2913"
      ]
     },
     "execution_count": 153,
     "metadata": {},
     "output_type": "execute_result"
    }
   ],
   "source": [
    "exact_mc_perm_test(df1[\"bias_prior_corrected\"], df2[\"bias_prior_corrected\"])"
   ]
  },
  {
   "cell_type": "code",
   "execution_count": null,
   "metadata": {},
   "outputs": [],
   "source": []
  },
  {
   "cell_type": "markdown",
   "metadata": {},
   "source": [
    "### GloVe WEAT"
   ]
  },
  {
   "cell_type": "code",
   "execution_count": 188,
   "metadata": {},
   "outputs": [],
   "source": [
    "science_words = [w for w in to_words(\"science, technology, physics, chemistry, Einstein, NASA, experiments, astronomy\", filter_oov=False)\n",
    "                if w.lower() in science_words]\n",
    "art_words = [w for w in to_words(\"poetry, art, Shakespeare, dance, literature, novel, symphony, drama\", filter_oov=False)\n",
    "            if w.lower() in art_words]"
   ]
  },
  {
   "cell_type": "code",
   "execution_count": 197,
   "metadata": {},
   "outputs": [
    {
     "data": {
      "text/plain": [
       "['brother', 'father', 'uncle', 'grandfather', 'son', 'he', 'his', 'him']"
      ]
     },
     "execution_count": 197,
     "metadata": {},
     "output_type": "execute_result"
    }
   ],
   "source": [
    "male_words"
   ]
  },
  {
   "cell_type": "code",
   "execution_count": 189,
   "metadata": {},
   "outputs": [],
   "source": [
    "df1 = get_glove_bias_scores(science_words, male_words, female_words, sentences)\n",
    "df2 = get_glove_bias_scores(art_words, male_words, female_words, sentences)"
   ]
  },
  {
   "cell_type": "code",
   "execution_count": 190,
   "metadata": {},
   "outputs": [
    {
     "data": {
      "text/plain": [
       "1.2464122558303927"
      ]
     },
     "execution_count": 190,
     "metadata": {},
     "output_type": "execute_result"
    }
   ],
   "source": [
    "get_effect_size(df1, df2)"
   ]
  },
  {
   "cell_type": "code",
   "execution_count": 191,
   "metadata": {},
   "outputs": [
    {
     "data": {
      "text/plain": [
       "Ttest_indResult(statistic=3.2255688345728486, pvalue=0.006102183398522537)"
      ]
     },
     "execution_count": 191,
     "metadata": {},
     "output_type": "execute_result"
    }
   ],
   "source": [
    "ttest_ind(df1[\"bias_prior_corrected\"], df2[\"bias_prior_corrected\"])"
   ]
  },
  {
   "cell_type": "code",
   "execution_count": 192,
   "metadata": {},
   "outputs": [
    {
     "data": {
      "text/plain": [
       "RanksumsResult(statistic=2.520504151250418, pvalue=0.011718685599768608)"
      ]
     },
     "execution_count": 192,
     "metadata": {},
     "output_type": "execute_result"
    }
   ],
   "source": [
    "ranksums(df1[\"bias_prior_corrected\"], df2[\"bias_prior_corrected\"])"
   ]
  },
  {
   "cell_type": "code",
   "execution_count": 193,
   "metadata": {},
   "outputs": [
    {
     "data": {
      "text/plain": [
       "0.00746"
      ]
     },
     "execution_count": 193,
     "metadata": {},
     "output_type": "execute_result"
    }
   ],
   "source": [
    "exact_mc_perm_test(df1[\"bias_prior_corrected\"], df2[\"bias_prior_corrected\"])"
   ]
  },
  {
   "cell_type": "code",
   "execution_count": null,
   "metadata": {},
   "outputs": [],
   "source": []
  },
  {
   "cell_type": "markdown",
   "metadata": {},
   "source": [
    "# African American and Pleasantness"
   ]
  },
  {
   "cell_type": "code",
   "execution_count": 114,
   "metadata": {},
   "outputs": [],
   "source": [
    "aa_words = to_words(\"\"\"Darnell, Hakim, Jermaine, Kareem, Jamal, Leroy, Rasheed,\n",
    "Tremayne, Tyrone, Aisha, Ebony, Keisha, Kenya, Latonya, Lakisha, Latoya, Tamika,\n",
    "Tanisha\"\"\".lower())\n",
    "eu_words = to_words(\"\"\"Brad, Brendan, Geoffrey, Greg, Brett, Jay, Matthew, Neil, Todd, Allison, Anne, Carrie, \n",
    "Emily, Jill, Laurie, Kristen, Meredith, Sarah\"\"\".lower())[:len(aa_words)]"
   ]
  },
  {
   "cell_type": "code",
   "execution_count": null,
   "metadata": {},
   "outputs": [],
   "source": []
  },
  {
   "cell_type": "code",
   "execution_count": 115,
   "metadata": {},
   "outputs": [],
   "source": [
    "df1 = get_bias_scores(aa_words, pleasant_words, unpleasant_words, [\"GGG is XXX.\", \"GGG are XXX.\"])\n",
    "df2 = get_bias_scores(eu_words, pleasant_words, unpleasant_words, [\"GGG is XXX\", \"GGG are XXX.\"])"
   ]
  },
  {
   "cell_type": "code",
   "execution_count": 116,
   "metadata": {},
   "outputs": [
    {
     "data": {
      "text/html": [
       "<div>\n",
       "<style scoped>\n",
       "    .dataframe tbody tr th:only-of-type {\n",
       "        vertical-align: middle;\n",
       "    }\n",
       "\n",
       "    .dataframe tbody tr th {\n",
       "        vertical-align: top;\n",
       "    }\n",
       "\n",
       "    .dataframe thead th {\n",
       "        text-align: right;\n",
       "    }\n",
       "</style>\n",
       "<table border=\"1\" class=\"dataframe\">\n",
       "  <thead>\n",
       "    <tr style=\"text-align: right;\">\n",
       "      <th></th>\n",
       "      <th>target</th>\n",
       "      <th>bias_prior_corrected</th>\n",
       "    </tr>\n",
       "  </thead>\n",
       "  <tbody>\n",
       "    <tr>\n",
       "      <th>0</th>\n",
       "      <td>ebony</td>\n",
       "      <td>-0.520532</td>\n",
       "    </tr>\n",
       "    <tr>\n",
       "      <th>1</th>\n",
       "      <td>jamal</td>\n",
       "      <td>-0.229488</td>\n",
       "    </tr>\n",
       "    <tr>\n",
       "      <th>2</th>\n",
       "      <td>kenya</td>\n",
       "      <td>0.335659</td>\n",
       "    </tr>\n",
       "    <tr>\n",
       "      <th>3</th>\n",
       "      <td>leroy</td>\n",
       "      <td>-0.218528</td>\n",
       "    </tr>\n",
       "    <tr>\n",
       "      <th>4</th>\n",
       "      <td>tyrone</td>\n",
       "      <td>-0.271441</td>\n",
       "    </tr>\n",
       "  </tbody>\n",
       "</table>\n",
       "</div>"
      ],
      "text/plain": [
       "   target  bias_prior_corrected\n",
       "0   ebony             -0.520532\n",
       "1   jamal             -0.229488\n",
       "2   kenya              0.335659\n",
       "3   leroy             -0.218528\n",
       "4  tyrone             -0.271441"
      ]
     },
     "execution_count": 116,
     "metadata": {},
     "output_type": "execute_result"
    }
   ],
   "source": [
    "df1"
   ]
  },
  {
   "cell_type": "code",
   "execution_count": 117,
   "metadata": {},
   "outputs": [
    {
     "data": {
      "text/html": [
       "<div>\n",
       "<style scoped>\n",
       "    .dataframe tbody tr th:only-of-type {\n",
       "        vertical-align: middle;\n",
       "    }\n",
       "\n",
       "    .dataframe tbody tr th {\n",
       "        vertical-align: top;\n",
       "    }\n",
       "\n",
       "    .dataframe thead th {\n",
       "        text-align: right;\n",
       "    }\n",
       "</style>\n",
       "<table border=\"1\" class=\"dataframe\">\n",
       "  <thead>\n",
       "    <tr style=\"text-align: right;\">\n",
       "      <th></th>\n",
       "      <th>target</th>\n",
       "      <th>bias_prior_corrected</th>\n",
       "    </tr>\n",
       "  </thead>\n",
       "  <tbody>\n",
       "    <tr>\n",
       "      <th>0</th>\n",
       "      <td>brad</td>\n",
       "      <td>-0.125455</td>\n",
       "    </tr>\n",
       "    <tr>\n",
       "      <th>1</th>\n",
       "      <td>brendan</td>\n",
       "      <td>0.597332</td>\n",
       "    </tr>\n",
       "    <tr>\n",
       "      <th>2</th>\n",
       "      <td>brett</td>\n",
       "      <td>-0.126301</td>\n",
       "    </tr>\n",
       "    <tr>\n",
       "      <th>3</th>\n",
       "      <td>geoffrey</td>\n",
       "      <td>0.437044</td>\n",
       "    </tr>\n",
       "    <tr>\n",
       "      <th>4</th>\n",
       "      <td>greg</td>\n",
       "      <td>0.168149</td>\n",
       "    </tr>\n",
       "  </tbody>\n",
       "</table>\n",
       "</div>"
      ],
      "text/plain": [
       "     target  bias_prior_corrected\n",
       "0      brad             -0.125455\n",
       "1   brendan              0.597332\n",
       "2     brett             -0.126301\n",
       "3  geoffrey              0.437044\n",
       "4      greg              0.168149"
      ]
     },
     "execution_count": 117,
     "metadata": {},
     "output_type": "execute_result"
    }
   ],
   "source": [
    "df2"
   ]
  },
  {
   "cell_type": "code",
   "execution_count": 118,
   "metadata": {},
   "outputs": [
    {
     "data": {
      "text/plain": [
       "-1.0311045387669684"
      ]
     },
     "execution_count": 118,
     "metadata": {},
     "output_type": "execute_result"
    }
   ],
   "source": [
    "get_effect_size(df1, df2)"
   ]
  },
  {
   "cell_type": "code",
   "execution_count": 119,
   "metadata": {},
   "outputs": [
    {
     "data": {
      "text/plain": [
       "0.10399"
      ]
     },
     "execution_count": 119,
     "metadata": {},
     "output_type": "execute_result"
    }
   ],
   "source": [
    "exact_mc_perm_test(df1[\"bias_prior_corrected\"], df2[\"bias_prior_corrected\"])"
   ]
  },
  {
   "cell_type": "code",
   "execution_count": null,
   "metadata": {},
   "outputs": [],
   "source": []
  },
  {
   "cell_type": "markdown",
   "metadata": {},
   "source": [
    "### WEAT"
   ]
  },
  {
   "cell_type": "code",
   "execution_count": 120,
   "metadata": {},
   "outputs": [],
   "source": [
    "df1 = get_word_bias_scores(aa_words, pleasant_words, unpleasant_words, [\"GGG is XXX.\", \"GGG are XXX.\"])\n",
    "df2 = get_word_bias_scores(eu_words, pleasant_words, unpleasant_words, [\"GGG is XXX.\", \"GGG are XXX.\"])"
   ]
  },
  {
   "cell_type": "code",
   "execution_count": 121,
   "metadata": {},
   "outputs": [
    {
     "data": {
      "text/plain": [
       "-1.012015296165567"
      ]
     },
     "execution_count": 121,
     "metadata": {},
     "output_type": "execute_result"
    }
   ],
   "source": [
    "get_effect_size(df1, df2)"
   ]
  },
  {
   "cell_type": "code",
   "execution_count": 122,
   "metadata": {},
   "outputs": [
    {
     "data": {
      "text/plain": [
       "0.14422"
      ]
     },
     "execution_count": 122,
     "metadata": {},
     "output_type": "execute_result"
    }
   ],
   "source": [
    "exact_mc_perm_test(df1[\"bias_prior_corrected\"], df2[\"bias_prior_corrected\"])"
   ]
  },
  {
   "cell_type": "code",
   "execution_count": null,
   "metadata": {},
   "outputs": [],
   "source": []
  },
  {
   "cell_type": "markdown",
   "metadata": {},
   "source": [
    "### GloVe WEAT"
   ]
  },
  {
   "cell_type": "code",
   "execution_count": 123,
   "metadata": {},
   "outputs": [],
   "source": [
    "aa_words = [w for w in to_words(\"\"\"Darnell, Hakim, Jermaine, Kareem, Jamal, Leroy, Rasheed,\n",
    "Tremayne, Tyrone, Aisha, Ebony, Keisha, Kenya, Latonya, Lakisha, Latoya, Tamika,\n",
    "Tanisha\"\"\", filter_oov=False) if w.lower() in aa_words]\n",
    "eu_words = [w for w in to_words(\"\"\"Brad, Brendan, Geoffrey, Greg, Brett, Jay, Matthew, Neil, Todd, Allison, Anne, Carrie, \n",
    "Emily, Jill, Laurie, Kristen, Meredith, Sarah\"\"\", filter_oov=False) if w.lower() in eu_words]"
   ]
  },
  {
   "cell_type": "code",
   "execution_count": 124,
   "metadata": {},
   "outputs": [],
   "source": [
    "df1 = get_glove_bias_scores(aa_words, pleasant_words, unpleasant_words, [\"GGG is XXX.\", \"GGG are XXX.\"])\n",
    "df2 = get_glove_bias_scores(eu_words, pleasant_words, unpleasant_words, [\"GGG is XXX.\", \"GGG are XXX.\"])"
   ]
  },
  {
   "cell_type": "code",
   "execution_count": 125,
   "metadata": {},
   "outputs": [
    {
     "data": {
      "text/plain": [
       "-1.0030052864455994"
      ]
     },
     "execution_count": 125,
     "metadata": {},
     "output_type": "execute_result"
    }
   ],
   "source": [
    "get_effect_size(df1, df2)"
   ]
  },
  {
   "cell_type": "code",
   "execution_count": 126,
   "metadata": {},
   "outputs": [
    {
     "data": {
      "text/plain": [
       "0.12804"
      ]
     },
     "execution_count": 126,
     "metadata": {},
     "output_type": "execute_result"
    }
   ],
   "source": [
    "exact_mc_perm_test(df1[\"bias_prior_corrected\"], df2[\"bias_prior_corrected\"])"
   ]
  },
  {
   "cell_type": "code",
   "execution_count": null,
   "metadata": {},
   "outputs": [],
   "source": []
  }
 ],
 "metadata": {
  "kernelspec": {
   "display_name": "Python 3",
   "language": "python",
   "name": "python3"
  },
  "language_info": {
   "codemirror_mode": {
    "name": "ipython",
    "version": 3
   },
   "file_extension": ".py",
   "mimetype": "text/x-python",
   "name": "python",
   "nbconvert_exporter": "python",
   "pygments_lexer": "ipython3",
   "version": "3.6.7"
  }
 },
 "nbformat": 4,
 "nbformat_minor": 2
}
