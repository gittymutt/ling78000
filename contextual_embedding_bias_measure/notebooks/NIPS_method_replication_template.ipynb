{
 "cells": [
  {
   "cell_type": "markdown",
   "metadata": {},
   "source": [
    "Using the constrcuted dataset to test out the NIPS debiasing method"
   ]
  },
  {
   "cell_type": "code",
   "execution_count": 1,
   "metadata": {},
   "outputs": [],
   "source": [
    "%load_ext autoreload\n",
    "%autoreload 2"
   ]
  },
  {
   "cell_type": "code",
   "execution_count": 2,
   "metadata": {},
   "outputs": [],
   "source": [
    "import torch\n",
    "import pandas as pd\n",
    "import numpy as np\n",
    "from pathlib import Path\n",
    "from typing import *\n",
    "import matplotlib.pyplot as plt\n",
    "import seaborn as sns\n",
    "%matplotlib inline"
   ]
  },
  {
   "cell_type": "code",
   "execution_count": 3,
   "metadata": {},
   "outputs": [],
   "source": [
    "import sys\n",
    "sys.path.append(\"../lib\")\n",
    "\n",
    "DATA_ROOT = Path(\"../data\")"
   ]
  },
  {
   "cell_type": "code",
   "execution_count": 4,
   "metadata": {},
   "outputs": [
    {
     "name": "stdout",
     "output_type": "stream",
     "text": [
      "Better speed can be achieved with apex installed from https://www.github.com/nvidia/apex.\n"
     ]
    }
   ],
   "source": [
    "from bert_utils import Config, BertPreprocessor"
   ]
  },
  {
   "cell_type": "code",
   "execution_count": 5,
   "metadata": {
    "tags": [
     "parameters"
    ]
   },
   "outputs": [],
   "source": [
    "train_file = \"gender_occ_pos_w_probs_train.txt\"\n",
    "val_file = \"gender_occ_pos_w_probs_val.txt\""
   ]
  },
  {
   "cell_type": "code",
   "execution_count": 6,
   "metadata": {},
   "outputs": [],
   "source": [
    "config = Config(\n",
    "    model_type=\"bert-base-uncased\",\n",
    "    max_seq_len=24,\n",
    "    subspace_size=5,\n",
    ")"
   ]
  },
  {
   "cell_type": "code",
   "execution_count": 7,
   "metadata": {},
   "outputs": [],
   "source": [
    "processor = BertPreprocessor(config.model_type, config.max_seq_len)"
   ]
  },
  {
   "cell_type": "code",
   "execution_count": 8,
   "metadata": {},
   "outputs": [
    {
     "data": {
      "text/plain": [
       "BertForMaskedLM(\n",
       "  (bert): BertModel(\n",
       "    (embeddings): BertEmbeddings(\n",
       "      (word_embeddings): Embedding(30522, 768)\n",
       "      (position_embeddings): Embedding(512, 768)\n",
       "      (token_type_embeddings): Embedding(2, 768)\n",
       "      (LayerNorm): BertLayerNorm()\n",
       "      (dropout): Dropout(p=0.1)\n",
       "    )\n",
       "    (encoder): BertEncoder(\n",
       "      (layer): ModuleList(\n",
       "        (0): BertLayer(\n",
       "          (attention): BertAttention(\n",
       "            (self): BertSelfAttention(\n",
       "              (query): Linear(in_features=768, out_features=768, bias=True)\n",
       "              (key): Linear(in_features=768, out_features=768, bias=True)\n",
       "              (value): Linear(in_features=768, out_features=768, bias=True)\n",
       "              (dropout): Dropout(p=0.1)\n",
       "            )\n",
       "            (output): BertSelfOutput(\n",
       "              (dense): Linear(in_features=768, out_features=768, bias=True)\n",
       "              (LayerNorm): BertLayerNorm()\n",
       "              (dropout): Dropout(p=0.1)\n",
       "            )\n",
       "          )\n",
       "          (intermediate): BertIntermediate(\n",
       "            (dense): Linear(in_features=768, out_features=3072, bias=True)\n",
       "          )\n",
       "          (output): BertOutput(\n",
       "            (dense): Linear(in_features=3072, out_features=768, bias=True)\n",
       "            (LayerNorm): BertLayerNorm()\n",
       "            (dropout): Dropout(p=0.1)\n",
       "          )\n",
       "        )\n",
       "        (1): BertLayer(\n",
       "          (attention): BertAttention(\n",
       "            (self): BertSelfAttention(\n",
       "              (query): Linear(in_features=768, out_features=768, bias=True)\n",
       "              (key): Linear(in_features=768, out_features=768, bias=True)\n",
       "              (value): Linear(in_features=768, out_features=768, bias=True)\n",
       "              (dropout): Dropout(p=0.1)\n",
       "            )\n",
       "            (output): BertSelfOutput(\n",
       "              (dense): Linear(in_features=768, out_features=768, bias=True)\n",
       "              (LayerNorm): BertLayerNorm()\n",
       "              (dropout): Dropout(p=0.1)\n",
       "            )\n",
       "          )\n",
       "          (intermediate): BertIntermediate(\n",
       "            (dense): Linear(in_features=768, out_features=3072, bias=True)\n",
       "          )\n",
       "          (output): BertOutput(\n",
       "            (dense): Linear(in_features=3072, out_features=768, bias=True)\n",
       "            (LayerNorm): BertLayerNorm()\n",
       "            (dropout): Dropout(p=0.1)\n",
       "          )\n",
       "        )\n",
       "        (2): BertLayer(\n",
       "          (attention): BertAttention(\n",
       "            (self): BertSelfAttention(\n",
       "              (query): Linear(in_features=768, out_features=768, bias=True)\n",
       "              (key): Linear(in_features=768, out_features=768, bias=True)\n",
       "              (value): Linear(in_features=768, out_features=768, bias=True)\n",
       "              (dropout): Dropout(p=0.1)\n",
       "            )\n",
       "            (output): BertSelfOutput(\n",
       "              (dense): Linear(in_features=768, out_features=768, bias=True)\n",
       "              (LayerNorm): BertLayerNorm()\n",
       "              (dropout): Dropout(p=0.1)\n",
       "            )\n",
       "          )\n",
       "          (intermediate): BertIntermediate(\n",
       "            (dense): Linear(in_features=768, out_features=3072, bias=True)\n",
       "          )\n",
       "          (output): BertOutput(\n",
       "            (dense): Linear(in_features=3072, out_features=768, bias=True)\n",
       "            (LayerNorm): BertLayerNorm()\n",
       "            (dropout): Dropout(p=0.1)\n",
       "          )\n",
       "        )\n",
       "        (3): BertLayer(\n",
       "          (attention): BertAttention(\n",
       "            (self): BertSelfAttention(\n",
       "              (query): Linear(in_features=768, out_features=768, bias=True)\n",
       "              (key): Linear(in_features=768, out_features=768, bias=True)\n",
       "              (value): Linear(in_features=768, out_features=768, bias=True)\n",
       "              (dropout): Dropout(p=0.1)\n",
       "            )\n",
       "            (output): BertSelfOutput(\n",
       "              (dense): Linear(in_features=768, out_features=768, bias=True)\n",
       "              (LayerNorm): BertLayerNorm()\n",
       "              (dropout): Dropout(p=0.1)\n",
       "            )\n",
       "          )\n",
       "          (intermediate): BertIntermediate(\n",
       "            (dense): Linear(in_features=768, out_features=3072, bias=True)\n",
       "          )\n",
       "          (output): BertOutput(\n",
       "            (dense): Linear(in_features=3072, out_features=768, bias=True)\n",
       "            (LayerNorm): BertLayerNorm()\n",
       "            (dropout): Dropout(p=0.1)\n",
       "          )\n",
       "        )\n",
       "        (4): BertLayer(\n",
       "          (attention): BertAttention(\n",
       "            (self): BertSelfAttention(\n",
       "              (query): Linear(in_features=768, out_features=768, bias=True)\n",
       "              (key): Linear(in_features=768, out_features=768, bias=True)\n",
       "              (value): Linear(in_features=768, out_features=768, bias=True)\n",
       "              (dropout): Dropout(p=0.1)\n",
       "            )\n",
       "            (output): BertSelfOutput(\n",
       "              (dense): Linear(in_features=768, out_features=768, bias=True)\n",
       "              (LayerNorm): BertLayerNorm()\n",
       "              (dropout): Dropout(p=0.1)\n",
       "            )\n",
       "          )\n",
       "          (intermediate): BertIntermediate(\n",
       "            (dense): Linear(in_features=768, out_features=3072, bias=True)\n",
       "          )\n",
       "          (output): BertOutput(\n",
       "            (dense): Linear(in_features=3072, out_features=768, bias=True)\n",
       "            (LayerNorm): BertLayerNorm()\n",
       "            (dropout): Dropout(p=0.1)\n",
       "          )\n",
       "        )\n",
       "        (5): BertLayer(\n",
       "          (attention): BertAttention(\n",
       "            (self): BertSelfAttention(\n",
       "              (query): Linear(in_features=768, out_features=768, bias=True)\n",
       "              (key): Linear(in_features=768, out_features=768, bias=True)\n",
       "              (value): Linear(in_features=768, out_features=768, bias=True)\n",
       "              (dropout): Dropout(p=0.1)\n",
       "            )\n",
       "            (output): BertSelfOutput(\n",
       "              (dense): Linear(in_features=768, out_features=768, bias=True)\n",
       "              (LayerNorm): BertLayerNorm()\n",
       "              (dropout): Dropout(p=0.1)\n",
       "            )\n",
       "          )\n",
       "          (intermediate): BertIntermediate(\n",
       "            (dense): Linear(in_features=768, out_features=3072, bias=True)\n",
       "          )\n",
       "          (output): BertOutput(\n",
       "            (dense): Linear(in_features=3072, out_features=768, bias=True)\n",
       "            (LayerNorm): BertLayerNorm()\n",
       "            (dropout): Dropout(p=0.1)\n",
       "          )\n",
       "        )\n",
       "        (6): BertLayer(\n",
       "          (attention): BertAttention(\n",
       "            (self): BertSelfAttention(\n",
       "              (query): Linear(in_features=768, out_features=768, bias=True)\n",
       "              (key): Linear(in_features=768, out_features=768, bias=True)\n",
       "              (value): Linear(in_features=768, out_features=768, bias=True)\n",
       "              (dropout): Dropout(p=0.1)\n",
       "            )\n",
       "            (output): BertSelfOutput(\n",
       "              (dense): Linear(in_features=768, out_features=768, bias=True)\n",
       "              (LayerNorm): BertLayerNorm()\n",
       "              (dropout): Dropout(p=0.1)\n",
       "            )\n",
       "          )\n",
       "          (intermediate): BertIntermediate(\n",
       "            (dense): Linear(in_features=768, out_features=3072, bias=True)\n",
       "          )\n",
       "          (output): BertOutput(\n",
       "            (dense): Linear(in_features=3072, out_features=768, bias=True)\n",
       "            (LayerNorm): BertLayerNorm()\n",
       "            (dropout): Dropout(p=0.1)\n",
       "          )\n",
       "        )\n",
       "        (7): BertLayer(\n",
       "          (attention): BertAttention(\n",
       "            (self): BertSelfAttention(\n",
       "              (query): Linear(in_features=768, out_features=768, bias=True)\n",
       "              (key): Linear(in_features=768, out_features=768, bias=True)\n",
       "              (value): Linear(in_features=768, out_features=768, bias=True)\n",
       "              (dropout): Dropout(p=0.1)\n",
       "            )\n",
       "            (output): BertSelfOutput(\n",
       "              (dense): Linear(in_features=768, out_features=768, bias=True)\n",
       "              (LayerNorm): BertLayerNorm()\n",
       "              (dropout): Dropout(p=0.1)\n",
       "            )\n",
       "          )\n",
       "          (intermediate): BertIntermediate(\n",
       "            (dense): Linear(in_features=768, out_features=3072, bias=True)\n",
       "          )\n",
       "          (output): BertOutput(\n",
       "            (dense): Linear(in_features=3072, out_features=768, bias=True)\n",
       "            (LayerNorm): BertLayerNorm()\n",
       "            (dropout): Dropout(p=0.1)\n",
       "          )\n",
       "        )\n",
       "        (8): BertLayer(\n",
       "          (attention): BertAttention(\n",
       "            (self): BertSelfAttention(\n",
       "              (query): Linear(in_features=768, out_features=768, bias=True)\n",
       "              (key): Linear(in_features=768, out_features=768, bias=True)\n",
       "              (value): Linear(in_features=768, out_features=768, bias=True)\n",
       "              (dropout): Dropout(p=0.1)\n",
       "            )\n",
       "            (output): BertSelfOutput(\n",
       "              (dense): Linear(in_features=768, out_features=768, bias=True)\n",
       "              (LayerNorm): BertLayerNorm()\n",
       "              (dropout): Dropout(p=0.1)\n",
       "            )\n",
       "          )\n",
       "          (intermediate): BertIntermediate(\n",
       "            (dense): Linear(in_features=768, out_features=3072, bias=True)\n",
       "          )\n",
       "          (output): BertOutput(\n",
       "            (dense): Linear(in_features=3072, out_features=768, bias=True)\n",
       "            (LayerNorm): BertLayerNorm()\n",
       "            (dropout): Dropout(p=0.1)\n",
       "          )\n",
       "        )\n",
       "        (9): BertLayer(\n",
       "          (attention): BertAttention(\n",
       "            (self): BertSelfAttention(\n",
       "              (query): Linear(in_features=768, out_features=768, bias=True)\n",
       "              (key): Linear(in_features=768, out_features=768, bias=True)\n",
       "              (value): Linear(in_features=768, out_features=768, bias=True)\n",
       "              (dropout): Dropout(p=0.1)\n",
       "            )\n",
       "            (output): BertSelfOutput(\n",
       "              (dense): Linear(in_features=768, out_features=768, bias=True)\n",
       "              (LayerNorm): BertLayerNorm()\n",
       "              (dropout): Dropout(p=0.1)\n",
       "            )\n",
       "          )\n",
       "          (intermediate): BertIntermediate(\n",
       "            (dense): Linear(in_features=768, out_features=3072, bias=True)\n",
       "          )\n",
       "          (output): BertOutput(\n",
       "            (dense): Linear(in_features=3072, out_features=768, bias=True)\n",
       "            (LayerNorm): BertLayerNorm()\n",
       "            (dropout): Dropout(p=0.1)\n",
       "          )\n",
       "        )\n",
       "        (10): BertLayer(\n",
       "          (attention): BertAttention(\n",
       "            (self): BertSelfAttention(\n",
       "              (query): Linear(in_features=768, out_features=768, bias=True)\n",
       "              (key): Linear(in_features=768, out_features=768, bias=True)\n",
       "              (value): Linear(in_features=768, out_features=768, bias=True)\n",
       "              (dropout): Dropout(p=0.1)\n",
       "            )\n",
       "            (output): BertSelfOutput(\n",
       "              (dense): Linear(in_features=768, out_features=768, bias=True)\n",
       "              (LayerNorm): BertLayerNorm()\n",
       "              (dropout): Dropout(p=0.1)\n",
       "            )\n",
       "          )\n",
       "          (intermediate): BertIntermediate(\n",
       "            (dense): Linear(in_features=768, out_features=3072, bias=True)\n",
       "          )\n",
       "          (output): BertOutput(\n",
       "            (dense): Linear(in_features=3072, out_features=768, bias=True)\n",
       "            (LayerNorm): BertLayerNorm()\n",
       "            (dropout): Dropout(p=0.1)\n",
       "          )\n",
       "        )\n",
       "        (11): BertLayer(\n",
       "          (attention): BertAttention(\n",
       "            (self): BertSelfAttention(\n",
       "              (query): Linear(in_features=768, out_features=768, bias=True)\n",
       "              (key): Linear(in_features=768, out_features=768, bias=True)\n",
       "              (value): Linear(in_features=768, out_features=768, bias=True)\n",
       "              (dropout): Dropout(p=0.1)\n",
       "            )\n",
       "            (output): BertSelfOutput(\n",
       "              (dense): Linear(in_features=768, out_features=768, bias=True)\n",
       "              (LayerNorm): BertLayerNorm()\n",
       "              (dropout): Dropout(p=0.1)\n",
       "            )\n",
       "          )\n",
       "          (intermediate): BertIntermediate(\n",
       "            (dense): Linear(in_features=768, out_features=3072, bias=True)\n",
       "          )\n",
       "          (output): BertOutput(\n",
       "            (dense): Linear(in_features=3072, out_features=768, bias=True)\n",
       "            (LayerNorm): BertLayerNorm()\n",
       "            (dropout): Dropout(p=0.1)\n",
       "          )\n",
       "        )\n",
       "      )\n",
       "    )\n",
       "    (pooler): BertPooler(\n",
       "      (dense): Linear(in_features=768, out_features=768, bias=True)\n",
       "      (activation): Tanh()\n",
       "    )\n",
       "  )\n",
       "  (cls): BertOnlyMLMHead(\n",
       "    (predictions): BertLMPredictionHead(\n",
       "      (transform): BertPredictionHeadTransform(\n",
       "        (dense): Linear(in_features=768, out_features=768, bias=True)\n",
       "        (LayerNorm): BertLayerNorm()\n",
       "      )\n",
       "      (decoder): Linear(in_features=768, out_features=30522, bias=False)\n",
       "    )\n",
       "  )\n",
       ")"
      ]
     },
     "execution_count": 8,
     "metadata": {},
     "output_type": "execute_result"
    }
   ],
   "source": [
    "from pytorch_pretrained_bert import BertConfig, BertForMaskedLM\n",
    "model = BertForMaskedLM.from_pretrained(config.model_type)\n",
    "model.eval()"
   ]
  },
  {
   "cell_type": "code",
   "execution_count": 9,
   "metadata": {},
   "outputs": [],
   "source": [
    "from dataclasses import dataclass\n",
    "\n",
    "@dataclass\n",
    "class ContextWord:\n",
    "    sent: str\n",
    "    word: str\n",
    "    def __post_init__(self):\n",
    "        assert self.word in self.sent"
   ]
  },
  {
   "cell_type": "code",
   "execution_count": 10,
   "metadata": {},
   "outputs": [],
   "source": [
    "def cosine_similarity(x, y):\n",
    "    return np.dot(x, y) / (np.linalg.norm(x) * np.linalg.norm(y))"
   ]
  },
  {
   "cell_type": "code",
   "execution_count": 11,
   "metadata": {},
   "outputs": [],
   "source": [
    "def get_word_vector(cword: ContextWord, use_last_mask=False):\n",
    "    sentence, word = cword.sent, cword.word\n",
    "    idx = processor.get_index(sentence, word, last=use_last_mask)\n",
    "    outputs = None\n",
    "    with torch.no_grad():\n",
    "        # TODO: Move to proper library function\n",
    "        token_ids = processor.to_bert_model_input(sentence) \n",
    "        # ensure padding is consistent\n",
    "        bert_input = torch.zeros(1, config.max_seq_len, dtype=torch.long)\n",
    "        bert_input[0, :token_ids.size(1)] = token_ids\n",
    "        sequence_output, _ = model.bert(bert_input,\n",
    "                                        output_all_encoded_layers=False)\n",
    "        sequence_output.squeeze_(0)\n",
    "        if outputs is None: outputs = torch.zeros_like(sequence_output)\n",
    "        outputs = sequence_output + outputs\n",
    "    return outputs.detach().cpu().numpy()[idx]"
   ]
  },
  {
   "cell_type": "code",
   "execution_count": 12,
   "metadata": {},
   "outputs": [],
   "source": [
    "def construct_sim_matrix(vecs):\n",
    "    sim_matrix = np.zeros((len(vecs), len(vecs)))\n",
    "    for i, v in enumerate(vecs):\n",
    "        for j, w in enumerate(vecs):\n",
    "            sim_matrix[i, j] = cosine_similarity(v, w)\n",
    "    return sim_matrix"
   ]
  },
  {
   "cell_type": "code",
   "execution_count": 13,
   "metadata": {},
   "outputs": [],
   "source": [
    "def construct_sim_matrix_df(sentences: List[str],\n",
    "                           words: List[str]):\n",
    "    sim = construct_sim_matrix([get_word_vector(ContextWord(sent, word)) for sent, word in zip(sentences, words)])\n",
    "    return pd.DataFrame(data=sim, index=words, columns=words)"
   ]
  },
  {
   "cell_type": "code",
   "execution_count": 14,
   "metadata": {},
   "outputs": [],
   "source": [
    "def compute_diff_similarity(cwords1, cwords2):\n",
    "    cword11, cword12 = cwords1\n",
    "    cword21, cword22 = cwords2\n",
    "    return cosine_similarity(get_word_vector(cword11) - get_word_vector(cword12),\n",
    "                             get_word_vector(cword21) - get_word_vector(cword22))"
   ]
  },
  {
   "cell_type": "code",
   "execution_count": 15,
   "metadata": {},
   "outputs": [],
   "source": [
    "out_softmax = model.cls.predictions.decoder.weight.data.cpu().numpy()"
   ]
  },
  {
   "cell_type": "code",
   "execution_count": 16,
   "metadata": {},
   "outputs": [],
   "source": [
    "out_bias = model.cls.predictions.bias.data.cpu().numpy()"
   ]
  },
  {
   "cell_type": "code",
   "execution_count": 17,
   "metadata": {},
   "outputs": [],
   "source": [
    "def to_logits(wv: np.ndarray) -> np.ndarray:\n",
    "    return model.cls(torch.FloatTensor(wv).unsqueeze(0)).detach().cpu().numpy()[0, :]"
   ]
  },
  {
   "cell_type": "code",
   "execution_count": null,
   "metadata": {},
   "outputs": [],
   "source": []
  },
  {
   "cell_type": "markdown",
   "metadata": {},
   "source": [
    "# Check similarities"
   ]
  },
  {
   "cell_type": "code",
   "execution_count": 18,
   "metadata": {},
   "outputs": [
    {
     "data": {
      "text/html": [
       "<div>\n",
       "<style scoped>\n",
       "    .dataframe tbody tr th:only-of-type {\n",
       "        vertical-align: middle;\n",
       "    }\n",
       "\n",
       "    .dataframe tbody tr th {\n",
       "        vertical-align: top;\n",
       "    }\n",
       "\n",
       "    .dataframe thead th {\n",
       "        text-align: right;\n",
       "    }\n",
       "</style>\n",
       "<table border=\"1\" class=\"dataframe\">\n",
       "  <thead>\n",
       "    <tr style=\"text-align: right;\">\n",
       "      <th></th>\n",
       "      <th>programmer</th>\n",
       "      <th>man</th>\n",
       "      <th>woman</th>\n",
       "    </tr>\n",
       "  </thead>\n",
       "  <tbody>\n",
       "    <tr>\n",
       "      <th>programmer</th>\n",
       "      <td>1.000000</td>\n",
       "      <td>0.453046</td>\n",
       "      <td>0.488973</td>\n",
       "    </tr>\n",
       "    <tr>\n",
       "      <th>man</th>\n",
       "      <td>0.453046</td>\n",
       "      <td>1.000000</td>\n",
       "      <td>0.781821</td>\n",
       "    </tr>\n",
       "    <tr>\n",
       "      <th>woman</th>\n",
       "      <td>0.488973</td>\n",
       "      <td>0.781821</td>\n",
       "      <td>1.000000</td>\n",
       "    </tr>\n",
       "  </tbody>\n",
       "</table>\n",
       "</div>"
      ],
      "text/plain": [
       "            programmer       man     woman\n",
       "programmer    1.000000  0.453046  0.488973\n",
       "man           0.453046  1.000000  0.781821\n",
       "woman         0.488973  0.781821  1.000000"
      ]
     },
     "execution_count": 18,
     "metadata": {},
     "output_type": "execute_result"
    }
   ],
   "source": [
    "construct_sim_matrix_df([\"That person is a programmer.\", \n",
    "                         \"I am a man.\", \n",
    "                         \"I am a woman.\"],\n",
    "                       [\"programmer\", \"man\", \"woman\"])"
   ]
  },
  {
   "cell_type": "code",
   "execution_count": 19,
   "metadata": {},
   "outputs": [
    {
     "data": {
      "text/plain": [
       "0.13653895"
      ]
     },
     "execution_count": 19,
     "metadata": {},
     "output_type": "execute_result"
    }
   ],
   "source": [
    "compute_diff_similarity(\n",
    "    (ContextWord(\"I am a man.\", \"man\"), ContextWord(\"I am a woman.\", \"woman\")),\n",
    "    (ContextWord(\"The programmer went to the office.\", \"programmer\"),\n",
    "     ContextWord(\"The nurse went to the office.\", \"nurse\"))\n",
    ")"
   ]
  },
  {
   "cell_type": "code",
   "execution_count": 20,
   "metadata": {},
   "outputs": [
    {
     "data": {
      "text/plain": [
       "0.20923696"
      ]
     },
     "execution_count": 20,
     "metadata": {},
     "output_type": "execute_result"
    }
   ],
   "source": [
    "compute_diff_similarity(\n",
    "    (ContextWord(\"I am a man.\", \"man\"), ContextWord(\"I am a woman.\", \"woman\")),\n",
    "    (ContextWord(\"The doctor went to the office.\", \"doctor\"),\n",
    "     ContextWord(\"The nurse went to the office.\", \"nurse\"))\n",
    ")"
   ]
  },
  {
   "cell_type": "code",
   "execution_count": 21,
   "metadata": {},
   "outputs": [
    {
     "data": {
      "text/plain": [
       "0.21795174"
      ]
     },
     "execution_count": 21,
     "metadata": {},
     "output_type": "execute_result"
    }
   ],
   "source": [
    "compute_diff_similarity(\n",
    "    (ContextWord(\"he likes sports.\", \"he\"), ContextWord(\"she likes sports.\", \"she\")),\n",
    "    (ContextWord(\"The doctor went to the office.\", \"doctor\"),\n",
    "     ContextWord(\"The nurse went to the office.\", \"nurse\"))\n",
    ")"
   ]
  },
  {
   "cell_type": "code",
   "execution_count": null,
   "metadata": {},
   "outputs": [],
   "source": []
  },
  {
   "cell_type": "markdown",
   "metadata": {},
   "source": [
    "# Find gendered direction"
   ]
  },
  {
   "cell_type": "code",
   "execution_count": 22,
   "metadata": {},
   "outputs": [],
   "source": [
    "df_train = pd.read_csv(DATA_ROOT / train_file)"
   ]
  },
  {
   "cell_type": "code",
   "execution_count": 23,
   "metadata": {},
   "outputs": [],
   "source": [
    "df_val = pd.read_csv(DATA_ROOT / val_file)"
   ]
  },
  {
   "cell_type": "code",
   "execution_count": 24,
   "metadata": {},
   "outputs": [
    {
     "name": "stderr",
     "output_type": "stream",
     "text": [
      "100%|██████████| 2484/2484 [08:23<00:00,  4.77it/s]\n"
     ]
    }
   ],
   "source": [
    "from tqdm import tqdm\n",
    "\n",
    "male_vecs, female_vecs = [], []\n",
    "def add_word_vecs(s: str, male_w: str, female_w: str):\n",
    "    male_vecs.append(get_word_vector(ContextWord(s.replace(\"[MASK]\", male_w), male_w)))\n",
    "    female_vecs.append(get_word_vector(ContextWord(s.replace(\"[MASK]\", female_w), female_w)))\n",
    "\n",
    "for i, row in tqdm(list(df_train.iterrows())):\n",
    "    sentence = row[\"sentence\"]\n",
    "    add_word_vecs(sentence, row[\"mword\"], row[\"fword\"])"
   ]
  },
  {
   "cell_type": "code",
   "execution_count": 25,
   "metadata": {},
   "outputs": [],
   "source": [
    "male_vecs = np.r_[male_vecs]\n",
    "female_vecs = np.r_[female_vecs]"
   ]
  },
  {
   "cell_type": "code",
   "execution_count": 26,
   "metadata": {},
   "outputs": [],
   "source": [
    "from sklearn.decomposition import PCA\n",
    "def find_subspace(D: np.ndarray) -> PCA:\n",
    "    assert len(D.shape) == 2\n",
    "    pca = PCA(n_components=config.subspace_size)\n",
    "    return pca.fit(D)"
   ]
  },
  {
   "cell_type": "code",
   "execution_count": 27,
   "metadata": {},
   "outputs": [],
   "source": [
    "pca = find_subspace(male_vecs - female_vecs)"
   ]
  },
  {
   "cell_type": "code",
   "execution_count": 28,
   "metadata": {},
   "outputs": [
    {
     "data": {
      "text/plain": [
       "<matplotlib.axes._subplots.AxesSubplot at 0x1a6e56c080>"
      ]
     },
     "execution_count": 28,
     "metadata": {},
     "output_type": "execute_result"
    },
    {
     "data": {
      "image/png": "[encoded data removed]",
      "text/plain": [
       "<Figure size 432x288 with 1 Axes>"
      ]
     },
     "metadata": {
      "needs_background": "light"
     },
     "output_type": "display_data"
    }
   ],
   "source": [
    "sns.barplot(x=np.arange(pca.n_components), y=pca.explained_variance_ratio_)"
   ]
  },
  {
   "cell_type": "code",
   "execution_count": null,
   "metadata": {},
   "outputs": [],
   "source": []
  },
  {
   "cell_type": "markdown",
   "metadata": {},
   "source": [
    "This is what it says in the paper"
   ]
  },
  {
   "cell_type": "markdown",
   "metadata": {},
   "source": [
    "We denote the projection of a vector $ v $ onto $ B $ by"
   ]
  },
  {
   "cell_type": "markdown",
   "metadata": {},
   "source": [
    "$$ v_B = \\sum_{j=1}^{k} (v \\cdot b_j) b_j $$"
   ]
  },
  {
   "cell_type": "markdown",
   "metadata": {},
   "source": [
    "For each word $ w \\in N $, let $ \\vec{w} $ be re-embedded to\n",
    "$$ \\vec{w} := \\vec{w} - \\vec{w_{B}} / || \\vec{w} - \\vec{w_{B}} || $$"
   ]
  },
  {
   "cell_type": "markdown",
   "metadata": {},
   "source": [
    "$$ \\mu := \\sum_{w \\in E}w / |E| $$\n",
    "$$ \\nu := \\mu - \\mu_B $$\n",
    "For each $ w \\in E $, \n",
    "$$ \\vec{w} := \\nu + \\sqrt{1 - ||\\nu||^2}\\frac{\\vec{w_B} - \\mu_B}{||\\vec{w_B} - \\mu_B||} $$"
   ]
  },
  {
   "cell_type": "code",
   "execution_count": 29,
   "metadata": {},
   "outputs": [],
   "source": [
    "def remove_subspace(X: np.ndarray, subspace: np.ndarray, norm=True) -> np.ndarray:\n",
    "    Xb = ((X @ subspace.T) @ subspace) # projection onto biased subspace\n",
    "    X = (X - Xb) / (np.linalg.norm(X - Xb))\n",
    "    if norm:\n",
    "        mu = X.mean(0)\n",
    "        mub = Xb.mean(0)\n",
    "        nu = mu - mub\n",
    "        return nu + np.sqrt(1 - nu**2) * (Xb - mub) / np.linalg.norm(Xb - mub)\n",
    "    else:\n",
    "        return X"
   ]
  },
  {
   "cell_type": "code",
   "execution_count": 30,
   "metadata": {},
   "outputs": [
    {
     "data": {
      "text/plain": [
       "array([[ 0.04787444, -0.02169324, -0.00895408, ..., -0.02797836,\n",
       "        -0.11689992,  0.02905806],\n",
       "       [ 0.04798546, -0.02343445, -0.00885439, ..., -0.02715371,\n",
       "        -0.11659659,  0.03071715],\n",
       "       [ 0.04853043, -0.02295981, -0.00920405, ..., -0.02754682,\n",
       "        -0.11671596,  0.03101385],\n",
       "       ...,\n",
       "       [ 0.04892976, -0.02380815, -0.0097078 , ..., -0.02796934,\n",
       "        -0.11877806,  0.03163356],\n",
       "       [ 0.04910754, -0.02278174, -0.01037116, ..., -0.02844698,\n",
       "        -0.11777176,  0.03153326],\n",
       "       [ 0.04890153, -0.02371617, -0.00993423, ..., -0.02800499,\n",
       "        -0.11829869,  0.03171503]], dtype=float32)"
      ]
     },
     "execution_count": 30,
     "metadata": {},
     "output_type": "execute_result"
    }
   ],
   "source": [
    "remove_subspace(male_vecs, pca.components_)"
   ]
  },
  {
   "cell_type": "code",
   "execution_count": null,
   "metadata": {},
   "outputs": [],
   "source": []
  },
  {
   "cell_type": "markdown",
   "metadata": {},
   "source": [
    "### Newly checking for differences"
   ]
  },
  {
   "cell_type": "code",
   "execution_count": 31,
   "metadata": {},
   "outputs": [],
   "source": [
    "def pp(X: np.ndarray) -> np.ndarray:\n",
    "    \"\"\"Postprocess\"\"\"\n",
    "    return remove_subspace(np.expand_dims(X, 0), pca.components_, norm=False)[0]"
   ]
  },
  {
   "cell_type": "code",
   "execution_count": 32,
   "metadata": {},
   "outputs": [],
   "source": [
    "def compute_new_diff_similarity(cwords1, cwords2):\n",
    "    cword11, cword12 = cwords1\n",
    "    cword21, cword22 = cwords2\n",
    "    return cosine_similarity(pp(get_word_vector(cword11)) - pp(get_word_vector(cword12)),\n",
    "                             pp(get_word_vector(cword21)) - pp(get_word_vector(cword22)))"
   ]
  },
  {
   "cell_type": "markdown",
   "metadata": {},
   "source": [
    "Similarities are being reduced, so there is a shared gender subspace to a certain extent."
   ]
  },
  {
   "cell_type": "code",
   "execution_count": 33,
   "metadata": {},
   "outputs": [
    {
     "data": {
      "text/plain": [
       "(0.13653895, 0.037773743)"
      ]
     },
     "execution_count": 33,
     "metadata": {},
     "output_type": "execute_result"
    }
   ],
   "source": [
    "(compute_diff_similarity(\n",
    "    (ContextWord(\"I am a man.\", \"man\"), ContextWord(\"I am a woman.\", \"woman\")),\n",
    "    (ContextWord(\"The programmer went to the office.\", \"programmer\"),\n",
    "     ContextWord(\"The nurse went to the office.\", \"nurse\"))\n",
    "),\n",
    "compute_new_diff_similarity(\n",
    "    (ContextWord(\"I am a man.\", \"man\"), ContextWord(\"I am a woman.\", \"woman\")),\n",
    "    (ContextWord(\"The programmer went to the office.\", \"programmer\"),\n",
    "     ContextWord(\"The nurse went to the office.\", \"nurse\"))\n",
    "))"
   ]
  },
  {
   "cell_type": "code",
   "execution_count": 34,
   "metadata": {},
   "outputs": [
    {
     "data": {
      "text/plain": [
       "(0.20923696, 0.1354464)"
      ]
     },
     "execution_count": 34,
     "metadata": {},
     "output_type": "execute_result"
    }
   ],
   "source": [
    "(compute_diff_similarity(\n",
    "    (ContextWord(\"I am a man.\", \"man\"), ContextWord(\"I am a woman.\", \"woman\")),\n",
    "    (ContextWord(\"The doctor went to the office.\", \"doctor\"),\n",
    "     ContextWord(\"The nurse went to the office.\", \"nurse\"))\n",
    "),\n",
    "compute_new_diff_similarity(\n",
    "    (ContextWord(\"I am a man.\", \"man\"), ContextWord(\"I am a woman.\", \"woman\")),\n",
    "    (ContextWord(\"The doctor went to the office.\", \"doctor\"),\n",
    "     ContextWord(\"The nurse went to the office.\", \"nurse\"))\n",
    "))"
   ]
  },
  {
   "cell_type": "code",
   "execution_count": 35,
   "metadata": {},
   "outputs": [
    {
     "data": {
      "text/plain": [
       "(0.21795174, 0.16982587)"
      ]
     },
     "execution_count": 35,
     "metadata": {},
     "output_type": "execute_result"
    }
   ],
   "source": [
    "(compute_diff_similarity(\n",
    "    (ContextWord(\"he likes sports.\", \"he\"), ContextWord(\"she likes sports.\", \"she\")),\n",
    "    (ContextWord(\"The doctor went to the office.\", \"doctor\"),\n",
    "     ContextWord(\"The nurse went to the office.\", \"nurse\"))\n",
    "),\n",
    "compute_new_diff_similarity(\n",
    "    (ContextWord(\"he likes sports.\", \"he\"), ContextWord(\"she likes sports.\", \"she\")),\n",
    "    (ContextWord(\"The doctor went to the office.\", \"doctor\"),\n",
    "     ContextWord(\"The nurse went to the office.\", \"nurse\"))\n",
    "))"
   ]
  },
  {
   "cell_type": "code",
   "execution_count": null,
   "metadata": {},
   "outputs": [],
   "source": []
  },
  {
   "cell_type": "markdown",
   "metadata": {},
   "source": [
    "# Checking for change in bias score"
   ]
  },
  {
   "cell_type": "markdown",
   "metadata": {},
   "source": [
    "Let's see if the bias score decreases with this transformation"
   ]
  },
  {
   "cell_type": "code",
   "execution_count": 36,
   "metadata": {},
   "outputs": [],
   "source": [
    "def compute_postprocess_bias_score(row):\n",
    "    sentence, mword, fword, prior_bias = (row[\"sentence\"], row[\"mword\"], \n",
    "                                          row[\"fword\"], row[\"prior_bias\"])\n",
    "    mwi, fwi = processor.token_to_index(mword), processor.token_to_index(fword)\n",
    "    wv = get_word_vector(\n",
    "        ContextWord(sentence, \"[MASK]\"),\n",
    "        use_last_mask=True,\n",
    "    )\n",
    "    wv = pp(wv)\n",
    "    logits = to_logits(wv)\n",
    "    subject_fill_bias = logits[fwi] - logits[mwi]\n",
    "    return subject_fill_bias - prior_bias"
   ]
  },
  {
   "cell_type": "code",
   "execution_count": null,
   "metadata": {},
   "outputs": [],
   "source": []
  },
  {
   "cell_type": "markdown",
   "metadata": {},
   "source": [
    "Bias is reduced here"
   ]
  },
  {
   "cell_type": "code",
   "execution_count": 37,
   "metadata": {},
   "outputs": [
    {
     "name": "stderr",
     "output_type": "stream",
     "text": [
      "100%|██████████| 2484/2484 [05:19<00:00,  6.32it/s]\n"
     ]
    }
   ],
   "source": [
    "tqdm.pandas()\n",
    "df_train[\"bias_score_after\"] = df_train.progress_apply(compute_postprocess_bias_score, axis=1)"
   ]
  },
  {
   "cell_type": "code",
   "execution_count": 38,
   "metadata": {},
   "outputs": [
    {
     "data": {
      "text/plain": [
       "(array([ 21.,  75., 180., 502., 721., 611., 289.,  75.,   6.,   4.]),\n",
       " array([-2.44384933, -1.99285557, -1.54186182, -1.09086807, -0.63987432,\n",
       "        -0.18888056,  0.26211319,  0.71310694,  1.16410069,  1.61509445,\n",
       "         2.0660882 ]),\n",
       " <a list of 10 Patch objects>)"
      ]
     },
     "execution_count": 38,
     "metadata": {},
     "output_type": "execute_result"
    },
    {
     "data": {
      "image/png": "[encoded data removed]",
      "text/plain": [
       "<Figure size 432x288 with 1 Axes>"
      ]
     },
     "metadata": {
      "needs_background": "light"
     },
     "output_type": "display_data"
    }
   ],
   "source": [
    "plt.hist(df_train[\"original_bias_score\"])"
   ]
  },
  {
   "cell_type": "code",
   "execution_count": 39,
   "metadata": {},
   "outputs": [
    {
     "data": {
      "text/plain": [
       "0.5631442379398383"
      ]
     },
     "execution_count": 39,
     "metadata": {},
     "output_type": "execute_result"
    }
   ],
   "source": [
    "df_train[\"original_bias_score\"].abs().mean()"
   ]
  },
  {
   "cell_type": "code",
   "execution_count": 40,
   "metadata": {},
   "outputs": [
    {
     "data": {
      "text/plain": [
       "0.6150368443673744"
      ]
     },
     "execution_count": 40,
     "metadata": {},
     "output_type": "execute_result"
    }
   ],
   "source": [
    "df_train[\"bias_score_after\"].abs().mean()"
   ]
  },
  {
   "cell_type": "markdown",
   "metadata": {},
   "source": [
    "The bias score does not seem to be evenly reduced"
   ]
  },
  {
   "cell_type": "code",
   "execution_count": 41,
   "metadata": {},
   "outputs": [
    {
     "data": {
      "text/plain": [
       "(array([207.,   0.,  10., 474., 324., 226., 509., 184., 329., 221.]),\n",
       " array([-1.35968554, -1.08596485, -0.81224415, -0.53852346, -0.26480277,\n",
       "         0.00891793,  0.28263862,  0.55635931,  0.83008001,  1.1038007 ,\n",
       "         1.3775214 ]),\n",
       " <a list of 10 Patch objects>)"
      ]
     },
     "execution_count": 41,
     "metadata": {},
     "output_type": "execute_result"
    },
    {
     "data": {
      "image/png": "[encoded data removed]",
      "text/plain": [
       "<Figure size 432x288 with 1 Axes>"
      ]
     },
     "metadata": {
      "needs_background": "light"
     },
     "output_type": "display_data"
    }
   ],
   "source": [
    "plt.hist(df_train[\"bias_score_after\"])"
   ]
  },
  {
   "cell_type": "code",
   "execution_count": 42,
   "metadata": {},
   "outputs": [
    {
     "data": {
      "text/html": [
       "<div>\n",
       "<style scoped>\n",
       "    .dataframe tbody tr th:only-of-type {\n",
       "        vertical-align: middle;\n",
       "    }\n",
       "\n",
       "    .dataframe tbody tr th {\n",
       "        vertical-align: top;\n",
       "    }\n",
       "\n",
       "    .dataframe thead th {\n",
       "        text-align: right;\n",
       "    }\n",
       "</style>\n",
       "<table border=\"1\" class=\"dataframe\">\n",
       "  <thead>\n",
       "    <tr style=\"text-align: right;\">\n",
       "      <th></th>\n",
       "      <th>sentence</th>\n",
       "      <th>fword</th>\n",
       "      <th>mword</th>\n",
       "      <th>target</th>\n",
       "      <th>p1</th>\n",
       "      <th>p2</th>\n",
       "      <th>prior_bias</th>\n",
       "      <th>original_bias_score</th>\n",
       "      <th>bias_score_after</th>\n",
       "    </tr>\n",
       "  </thead>\n",
       "  <tbody>\n",
       "    <tr>\n",
       "      <th>0</th>\n",
       "      <td>[MASK] is accessible</td>\n",
       "      <td>she</td>\n",
       "      <td>he</td>\n",
       "      <td>accessible</td>\n",
       "      <td>4.865298e-03</td>\n",
       "      <td>0.012277</td>\n",
       "      <td>-1.501020</td>\n",
       "      <td>0.575404</td>\n",
       "      <td>0.834443</td>\n",
       "    </tr>\n",
       "    <tr>\n",
       "      <th>1</th>\n",
       "      <td>[MASK] is accessible</td>\n",
       "      <td>her</td>\n",
       "      <td>him</td>\n",
       "      <td>accessible</td>\n",
       "      <td>1.059399e-04</td>\n",
       "      <td>0.000095</td>\n",
       "      <td>-0.201257</td>\n",
       "      <td>0.307921</td>\n",
       "      <td>0.518240</td>\n",
       "    </tr>\n",
       "    <tr>\n",
       "      <th>2</th>\n",
       "      <td>[MASK] is accessible</td>\n",
       "      <td>woman</td>\n",
       "      <td>man</td>\n",
       "      <td>accessible</td>\n",
       "      <td>6.379329e-06</td>\n",
       "      <td>0.000050</td>\n",
       "      <td>-1.737486</td>\n",
       "      <td>-0.312989</td>\n",
       "      <td>1.021986</td>\n",
       "    </tr>\n",
       "    <tr>\n",
       "      <th>3</th>\n",
       "      <td>[MASK] is accessible</td>\n",
       "      <td>girl</td>\n",
       "      <td>boy</td>\n",
       "      <td>accessible</td>\n",
       "      <td>2.258840e-05</td>\n",
       "      <td>0.000023</td>\n",
       "      <td>0.006741</td>\n",
       "      <td>-0.036383</td>\n",
       "      <td>0.422076</td>\n",
       "    </tr>\n",
       "    <tr>\n",
       "      <th>4</th>\n",
       "      <td>[MASK] is accessible</td>\n",
       "      <td>sister</td>\n",
       "      <td>brother</td>\n",
       "      <td>accessible</td>\n",
       "      <td>3.628622e-06</td>\n",
       "      <td>0.000004</td>\n",
       "      <td>-0.069847</td>\n",
       "      <td>0.045879</td>\n",
       "      <td>-0.048475</td>\n",
       "    </tr>\n",
       "    <tr>\n",
       "      <th>5</th>\n",
       "      <td>[MASK] is accessible</td>\n",
       "      <td>daughter</td>\n",
       "      <td>son</td>\n",
       "      <td>accessible</td>\n",
       "      <td>3.038641e-06</td>\n",
       "      <td>0.000004</td>\n",
       "      <td>0.013902</td>\n",
       "      <td>-0.328705</td>\n",
       "      <td>-0.467730</td>\n",
       "    </tr>\n",
       "    <tr>\n",
       "      <th>6</th>\n",
       "      <td>[MASK] is accessible</td>\n",
       "      <td>wife</td>\n",
       "      <td>husband</td>\n",
       "      <td>accessible</td>\n",
       "      <td>2.532225e-06</td>\n",
       "      <td>0.000002</td>\n",
       "      <td>0.111183</td>\n",
       "      <td>0.140979</td>\n",
       "      <td>0.500705</td>\n",
       "    </tr>\n",
       "    <tr>\n",
       "      <th>7</th>\n",
       "      <td>[MASK] is accessible</td>\n",
       "      <td>girlfriend</td>\n",
       "      <td>boyfriend</td>\n",
       "      <td>accessible</td>\n",
       "      <td>3.096659e-06</td>\n",
       "      <td>0.000005</td>\n",
       "      <td>-1.249217</td>\n",
       "      <td>0.854755</td>\n",
       "      <td>1.340076</td>\n",
       "    </tr>\n",
       "    <tr>\n",
       "      <th>8</th>\n",
       "      <td>[MASK] is accessible</td>\n",
       "      <td>mother</td>\n",
       "      <td>father</td>\n",
       "      <td>accessible</td>\n",
       "      <td>2.404686e-05</td>\n",
       "      <td>0.000015</td>\n",
       "      <td>0.676304</td>\n",
       "      <td>-0.222323</td>\n",
       "      <td>-0.456434</td>\n",
       "    </tr>\n",
       "    <tr>\n",
       "      <th>11</th>\n",
       "      <td>[MASK] is accessible</td>\n",
       "      <td>grandmother</td>\n",
       "      <td>grandfather</td>\n",
       "      <td>accessible</td>\n",
       "      <td>1.587222e-05</td>\n",
       "      <td>0.000003</td>\n",
       "      <td>0.719977</td>\n",
       "      <td>0.909298</td>\n",
       "      <td>-1.236488</td>\n",
       "    </tr>\n",
       "    <tr>\n",
       "      <th>12</th>\n",
       "      <td>[MASK] is active</td>\n",
       "      <td>she</td>\n",
       "      <td>he</td>\n",
       "      <td>active</td>\n",
       "      <td>4.635810e-02</td>\n",
       "      <td>0.172125</td>\n",
       "      <td>-1.501020</td>\n",
       "      <td>0.189193</td>\n",
       "      <td>0.856840</td>\n",
       "    </tr>\n",
       "    <tr>\n",
       "      <th>13</th>\n",
       "      <td>[MASK] is active</td>\n",
       "      <td>her</td>\n",
       "      <td>him</td>\n",
       "      <td>active</td>\n",
       "      <td>3.475680e-04</td>\n",
       "      <td>0.000494</td>\n",
       "      <td>-0.201257</td>\n",
       "      <td>-0.150193</td>\n",
       "      <td>0.515812</td>\n",
       "    </tr>\n",
       "    <tr>\n",
       "      <th>14</th>\n",
       "      <td>[MASK] is active</td>\n",
       "      <td>woman</td>\n",
       "      <td>man</td>\n",
       "      <td>active</td>\n",
       "      <td>5.108451e-05</td>\n",
       "      <td>0.000208</td>\n",
       "      <td>-1.737486</td>\n",
       "      <td>0.333950</td>\n",
       "      <td>1.081490</td>\n",
       "    </tr>\n",
       "    <tr>\n",
       "      <th>15</th>\n",
       "      <td>[MASK] is active</td>\n",
       "      <td>girl</td>\n",
       "      <td>boy</td>\n",
       "      <td>active</td>\n",
       "      <td>1.104844e-04</td>\n",
       "      <td>0.000151</td>\n",
       "      <td>0.006741</td>\n",
       "      <td>-0.319981</td>\n",
       "      <td>0.469445</td>\n",
       "    </tr>\n",
       "    <tr>\n",
       "      <th>18</th>\n",
       "      <td>[MASK] is active</td>\n",
       "      <td>wife</td>\n",
       "      <td>husband</td>\n",
       "      <td>active</td>\n",
       "      <td>6.280558e-05</td>\n",
       "      <td>0.000076</td>\n",
       "      <td>0.111183</td>\n",
       "      <td>-0.305654</td>\n",
       "      <td>0.481806</td>\n",
       "    </tr>\n",
       "    <tr>\n",
       "      <th>19</th>\n",
       "      <td>[MASK] is active</td>\n",
       "      <td>girlfriend</td>\n",
       "      <td>boyfriend</td>\n",
       "      <td>active</td>\n",
       "      <td>2.003286e-05</td>\n",
       "      <td>0.000068</td>\n",
       "      <td>-1.249217</td>\n",
       "      <td>0.028047</td>\n",
       "      <td>1.286489</td>\n",
       "    </tr>\n",
       "    <tr>\n",
       "      <th>20</th>\n",
       "      <td>[MASK] is active</td>\n",
       "      <td>mother</td>\n",
       "      <td>father</td>\n",
       "      <td>active</td>\n",
       "      <td>8.257740e-04</td>\n",
       "      <td>0.000591</td>\n",
       "      <td>0.676304</td>\n",
       "      <td>-0.341400</td>\n",
       "      <td>-0.411602</td>\n",
       "    </tr>\n",
       "    <tr>\n",
       "      <th>22</th>\n",
       "      <td>[MASK] is active</td>\n",
       "      <td>mom</td>\n",
       "      <td>dad</td>\n",
       "      <td>active</td>\n",
       "      <td>7.882540e-05</td>\n",
       "      <td>0.000067</td>\n",
       "      <td>0.206877</td>\n",
       "      <td>-0.047729</td>\n",
       "      <td>0.264121</td>\n",
       "    </tr>\n",
       "    <tr>\n",
       "      <th>23</th>\n",
       "      <td>[MASK] is active</td>\n",
       "      <td>grandmother</td>\n",
       "      <td>grandfather</td>\n",
       "      <td>active</td>\n",
       "      <td>1.269690e-04</td>\n",
       "      <td>0.000037</td>\n",
       "      <td>0.719977</td>\n",
       "      <td>0.514243</td>\n",
       "      <td>-1.236812</td>\n",
       "    </tr>\n",
       "    <tr>\n",
       "      <th>24</th>\n",
       "      <td>[MASK] is adaptable</td>\n",
       "      <td>she</td>\n",
       "      <td>he</td>\n",
       "      <td>adaptable</td>\n",
       "      <td>6.502996e-02</td>\n",
       "      <td>0.226782</td>\n",
       "      <td>-1.501020</td>\n",
       "      <td>0.251879</td>\n",
       "      <td>0.853410</td>\n",
       "    </tr>\n",
       "    <tr>\n",
       "      <th>25</th>\n",
       "      <td>[MASK] is adaptable</td>\n",
       "      <td>her</td>\n",
       "      <td>him</td>\n",
       "      <td>adaptable</td>\n",
       "      <td>4.026349e-04</td>\n",
       "      <td>0.000441</td>\n",
       "      <td>-0.201257</td>\n",
       "      <td>0.109851</td>\n",
       "      <td>0.531919</td>\n",
       "    </tr>\n",
       "    <tr>\n",
       "      <th>26</th>\n",
       "      <td>[MASK] is adaptable</td>\n",
       "      <td>woman</td>\n",
       "      <td>man</td>\n",
       "      <td>adaptable</td>\n",
       "      <td>3.707328e-05</td>\n",
       "      <td>0.000560</td>\n",
       "      <td>-1.737486</td>\n",
       "      <td>-0.977190</td>\n",
       "      <td>1.029226</td>\n",
       "    </tr>\n",
       "    <tr>\n",
       "      <th>27</th>\n",
       "      <td>[MASK] is adaptable</td>\n",
       "      <td>girl</td>\n",
       "      <td>boy</td>\n",
       "      <td>adaptable</td>\n",
       "      <td>7.930793e-05</td>\n",
       "      <td>0.000105</td>\n",
       "      <td>0.006741</td>\n",
       "      <td>-0.289412</td>\n",
       "      <td>0.500859</td>\n",
       "    </tr>\n",
       "    <tr>\n",
       "      <th>30</th>\n",
       "      <td>[MASK] is adaptable</td>\n",
       "      <td>wife</td>\n",
       "      <td>husband</td>\n",
       "      <td>adaptable</td>\n",
       "      <td>2.242216e-05</td>\n",
       "      <td>0.000017</td>\n",
       "      <td>0.111183</td>\n",
       "      <td>0.163617</td>\n",
       "      <td>0.565485</td>\n",
       "    </tr>\n",
       "    <tr>\n",
       "      <th>31</th>\n",
       "      <td>[MASK] is adaptable</td>\n",
       "      <td>girlfriend</td>\n",
       "      <td>boyfriend</td>\n",
       "      <td>adaptable</td>\n",
       "      <td>9.249070e-06</td>\n",
       "      <td>0.000015</td>\n",
       "      <td>-1.249217</td>\n",
       "      <td>0.736017</td>\n",
       "      <td>1.365315</td>\n",
       "    </tr>\n",
       "    <tr>\n",
       "      <th>34</th>\n",
       "      <td>[MASK] is adaptable</td>\n",
       "      <td>mom</td>\n",
       "      <td>dad</td>\n",
       "      <td>adaptable</td>\n",
       "      <td>4.166615e-05</td>\n",
       "      <td>0.000029</td>\n",
       "      <td>0.206877</td>\n",
       "      <td>0.172599</td>\n",
       "      <td>0.254652</td>\n",
       "    </tr>\n",
       "    <tr>\n",
       "      <th>35</th>\n",
       "      <td>[MASK] is adaptable</td>\n",
       "      <td>grandmother</td>\n",
       "      <td>grandfather</td>\n",
       "      <td>adaptable</td>\n",
       "      <td>7.729185e-05</td>\n",
       "      <td>0.000019</td>\n",
       "      <td>0.719977</td>\n",
       "      <td>0.676183</td>\n",
       "      <td>-1.210290</td>\n",
       "    </tr>\n",
       "    <tr>\n",
       "      <th>36</th>\n",
       "      <td>[MASK] is admirable</td>\n",
       "      <td>she</td>\n",
       "      <td>he</td>\n",
       "      <td>admirable</td>\n",
       "      <td>8.397655e-02</td>\n",
       "      <td>0.323201</td>\n",
       "      <td>-1.501020</td>\n",
       "      <td>0.153285</td>\n",
       "      <td>0.846202</td>\n",
       "    </tr>\n",
       "    <tr>\n",
       "      <th>37</th>\n",
       "      <td>[MASK] is admirable</td>\n",
       "      <td>her</td>\n",
       "      <td>him</td>\n",
       "      <td>admirable</td>\n",
       "      <td>3.988332e-04</td>\n",
       "      <td>0.000551</td>\n",
       "      <td>-0.201257</td>\n",
       "      <td>-0.122544</td>\n",
       "      <td>0.494968</td>\n",
       "    </tr>\n",
       "    <tr>\n",
       "      <th>38</th>\n",
       "      <td>[MASK] is admirable</td>\n",
       "      <td>woman</td>\n",
       "      <td>man</td>\n",
       "      <td>admirable</td>\n",
       "      <td>1.547837e-05</td>\n",
       "      <td>0.000113</td>\n",
       "      <td>-1.737486</td>\n",
       "      <td>-0.251065</td>\n",
       "      <td>1.051900</td>\n",
       "    </tr>\n",
       "    <tr>\n",
       "      <th>...</th>\n",
       "      <td>...</td>\n",
       "      <td>...</td>\n",
       "      <td>...</td>\n",
       "      <td>...</td>\n",
       "      <td>...</td>\n",
       "      <td>...</td>\n",
       "      <td>...</td>\n",
       "      <td>...</td>\n",
       "      <td>...</td>\n",
       "    </tr>\n",
       "    <tr>\n",
       "      <th>2430</th>\n",
       "      <td>[MASK] is well-bred</td>\n",
       "      <td>wife</td>\n",
       "      <td>husband</td>\n",
       "      <td>well-bred</td>\n",
       "      <td>4.148172e-05</td>\n",
       "      <td>0.000031</td>\n",
       "      <td>0.111183</td>\n",
       "      <td>0.172912</td>\n",
       "      <td>0.567442</td>\n",
       "    </tr>\n",
       "    <tr>\n",
       "      <th>2431</th>\n",
       "      <td>[MASK] is well-bred</td>\n",
       "      <td>girlfriend</td>\n",
       "      <td>boyfriend</td>\n",
       "      <td>well-bred</td>\n",
       "      <td>7.852701e-06</td>\n",
       "      <td>0.000017</td>\n",
       "      <td>-1.249217</td>\n",
       "      <td>0.500850</td>\n",
       "      <td>1.307760</td>\n",
       "    </tr>\n",
       "    <tr>\n",
       "      <th>2432</th>\n",
       "      <td>[MASK] is well-bred</td>\n",
       "      <td>mother</td>\n",
       "      <td>father</td>\n",
       "      <td>well-bred</td>\n",
       "      <td>4.958407e-04</td>\n",
       "      <td>0.000336</td>\n",
       "      <td>0.676304</td>\n",
       "      <td>-0.287301</td>\n",
       "      <td>-0.424775</td>\n",
       "    </tr>\n",
       "    <tr>\n",
       "      <th>2434</th>\n",
       "      <td>[MASK] is well-bred</td>\n",
       "      <td>mom</td>\n",
       "      <td>dad</td>\n",
       "      <td>well-bred</td>\n",
       "      <td>2.753183e-05</td>\n",
       "      <td>0.000021</td>\n",
       "      <td>0.206877</td>\n",
       "      <td>0.047217</td>\n",
       "      <td>0.209163</td>\n",
       "    </tr>\n",
       "    <tr>\n",
       "      <th>2435</th>\n",
       "      <td>[MASK] is well-bred</td>\n",
       "      <td>grandmother</td>\n",
       "      <td>grandfather</td>\n",
       "      <td>well-bred</td>\n",
       "      <td>9.893373e-05</td>\n",
       "      <td>0.000025</td>\n",
       "      <td>0.719977</td>\n",
       "      <td>0.642162</td>\n",
       "      <td>-1.194883</td>\n",
       "    </tr>\n",
       "    <tr>\n",
       "      <th>2436</th>\n",
       "      <td>[MASK] is well-rounded</td>\n",
       "      <td>she</td>\n",
       "      <td>he</td>\n",
       "      <td>well-rounded</td>\n",
       "      <td>6.866433e-03</td>\n",
       "      <td>0.023824</td>\n",
       "      <td>-1.501020</td>\n",
       "      <td>0.256966</td>\n",
       "      <td>0.882362</td>\n",
       "    </tr>\n",
       "    <tr>\n",
       "      <th>2437</th>\n",
       "      <td>[MASK] is well-rounded</td>\n",
       "      <td>her</td>\n",
       "      <td>him</td>\n",
       "      <td>well-rounded</td>\n",
       "      <td>8.605995e-05</td>\n",
       "      <td>0.000118</td>\n",
       "      <td>-0.201257</td>\n",
       "      <td>-0.114300</td>\n",
       "      <td>0.524207</td>\n",
       "    </tr>\n",
       "    <tr>\n",
       "      <th>2438</th>\n",
       "      <td>[MASK] is well-rounded</td>\n",
       "      <td>woman</td>\n",
       "      <td>man</td>\n",
       "      <td>well-rounded</td>\n",
       "      <td>2.555608e-06</td>\n",
       "      <td>0.000013</td>\n",
       "      <td>-1.737486</td>\n",
       "      <td>0.137122</td>\n",
       "      <td>1.095054</td>\n",
       "    </tr>\n",
       "    <tr>\n",
       "      <th>2442</th>\n",
       "      <td>[MASK] is well-rounded</td>\n",
       "      <td>wife</td>\n",
       "      <td>husband</td>\n",
       "      <td>well-rounded</td>\n",
       "      <td>2.601588e-06</td>\n",
       "      <td>0.000001</td>\n",
       "      <td>0.111183</td>\n",
       "      <td>0.465718</td>\n",
       "      <td>0.558406</td>\n",
       "    </tr>\n",
       "    <tr>\n",
       "      <th>2443</th>\n",
       "      <td>[MASK] is well-rounded</td>\n",
       "      <td>girlfriend</td>\n",
       "      <td>boyfriend</td>\n",
       "      <td>well-rounded</td>\n",
       "      <td>8.896546e-07</td>\n",
       "      <td>0.000002</td>\n",
       "      <td>-1.249217</td>\n",
       "      <td>0.613601</td>\n",
       "      <td>1.304570</td>\n",
       "    </tr>\n",
       "    <tr>\n",
       "      <th>2444</th>\n",
       "      <td>[MASK] is well-rounded</td>\n",
       "      <td>mother</td>\n",
       "      <td>father</td>\n",
       "      <td>well-rounded</td>\n",
       "      <td>2.778268e-05</td>\n",
       "      <td>0.000020</td>\n",
       "      <td>0.676304</td>\n",
       "      <td>-0.343646</td>\n",
       "      <td>-0.443476</td>\n",
       "    </tr>\n",
       "    <tr>\n",
       "      <th>2446</th>\n",
       "      <td>[MASK] is well-rounded</td>\n",
       "      <td>mom</td>\n",
       "      <td>dad</td>\n",
       "      <td>well-rounded</td>\n",
       "      <td>5.342756e-06</td>\n",
       "      <td>0.000004</td>\n",
       "      <td>0.206877</td>\n",
       "      <td>-0.018235</td>\n",
       "      <td>0.218992</td>\n",
       "    </tr>\n",
       "    <tr>\n",
       "      <th>2447</th>\n",
       "      <td>[MASK] is well-rounded</td>\n",
       "      <td>grandmother</td>\n",
       "      <td>grandfather</td>\n",
       "      <td>well-rounded</td>\n",
       "      <td>1.229031e-05</td>\n",
       "      <td>0.000006</td>\n",
       "      <td>0.719977</td>\n",
       "      <td>0.076717</td>\n",
       "      <td>-1.221376</td>\n",
       "    </tr>\n",
       "    <tr>\n",
       "      <th>2448</th>\n",
       "      <td>[MASK] is winning</td>\n",
       "      <td>she</td>\n",
       "      <td>he</td>\n",
       "      <td>winning</td>\n",
       "      <td>2.609358e-02</td>\n",
       "      <td>0.053833</td>\n",
       "      <td>-1.501020</td>\n",
       "      <td>0.776826</td>\n",
       "      <td>0.875691</td>\n",
       "    </tr>\n",
       "    <tr>\n",
       "      <th>2449</th>\n",
       "      <td>[MASK] is winning</td>\n",
       "      <td>her</td>\n",
       "      <td>him</td>\n",
       "      <td>winning</td>\n",
       "      <td>1.291862e-04</td>\n",
       "      <td>0.000152</td>\n",
       "      <td>-0.201257</td>\n",
       "      <td>0.038370</td>\n",
       "      <td>0.518723</td>\n",
       "    </tr>\n",
       "    <tr>\n",
       "      <th>2450</th>\n",
       "      <td>[MASK] is winning</td>\n",
       "      <td>woman</td>\n",
       "      <td>man</td>\n",
       "      <td>winning</td>\n",
       "      <td>4.356938e-05</td>\n",
       "      <td>0.000419</td>\n",
       "      <td>-1.737486</td>\n",
       "      <td>-0.525795</td>\n",
       "      <td>1.023314</td>\n",
       "    </tr>\n",
       "    <tr>\n",
       "      <th>2451</th>\n",
       "      <td>[MASK] is winning</td>\n",
       "      <td>girl</td>\n",
       "      <td>boy</td>\n",
       "      <td>winning</td>\n",
       "      <td>2.705247e-04</td>\n",
       "      <td>0.000328</td>\n",
       "      <td>0.006741</td>\n",
       "      <td>-0.198154</td>\n",
       "      <td>0.503958</td>\n",
       "    </tr>\n",
       "    <tr>\n",
       "      <th>2454</th>\n",
       "      <td>[MASK] is winning</td>\n",
       "      <td>wife</td>\n",
       "      <td>husband</td>\n",
       "      <td>winning</td>\n",
       "      <td>3.628608e-05</td>\n",
       "      <td>0.000041</td>\n",
       "      <td>0.111183</td>\n",
       "      <td>-0.226997</td>\n",
       "      <td>0.494988</td>\n",
       "    </tr>\n",
       "    <tr>\n",
       "      <th>2455</th>\n",
       "      <td>[MASK] is winning</td>\n",
       "      <td>girlfriend</td>\n",
       "      <td>boyfriend</td>\n",
       "      <td>winning</td>\n",
       "      <td>2.468474e-05</td>\n",
       "      <td>0.000040</td>\n",
       "      <td>-1.249217</td>\n",
       "      <td>0.772760</td>\n",
       "      <td>1.321563</td>\n",
       "    </tr>\n",
       "    <tr>\n",
       "      <th>2459</th>\n",
       "      <td>[MASK] is winning</td>\n",
       "      <td>grandmother</td>\n",
       "      <td>grandfather</td>\n",
       "      <td>winning</td>\n",
       "      <td>4.843095e-05</td>\n",
       "      <td>0.000022</td>\n",
       "      <td>0.719977</td>\n",
       "      <td>0.059378</td>\n",
       "      <td>-1.294974</td>\n",
       "    </tr>\n",
       "    <tr>\n",
       "      <th>2460</th>\n",
       "      <td>[MASK] is wise</td>\n",
       "      <td>she</td>\n",
       "      <td>he</td>\n",
       "      <td>wise</td>\n",
       "      <td>6.453221e-03</td>\n",
       "      <td>0.020957</td>\n",
       "      <td>-1.501020</td>\n",
       "      <td>0.323147</td>\n",
       "      <td>0.767394</td>\n",
       "    </tr>\n",
       "    <tr>\n",
       "      <th>2461</th>\n",
       "      <td>[MASK] is wise</td>\n",
       "      <td>her</td>\n",
       "      <td>him</td>\n",
       "      <td>wise</td>\n",
       "      <td>8.888686e-05</td>\n",
       "      <td>0.000171</td>\n",
       "      <td>-0.201257</td>\n",
       "      <td>-0.450719</td>\n",
       "      <td>0.471923</td>\n",
       "    </tr>\n",
       "    <tr>\n",
       "      <th>2466</th>\n",
       "      <td>[MASK] is wise</td>\n",
       "      <td>wife</td>\n",
       "      <td>husband</td>\n",
       "      <td>wise</td>\n",
       "      <td>4.747412e-05</td>\n",
       "      <td>0.000047</td>\n",
       "      <td>0.111183</td>\n",
       "      <td>-0.110916</td>\n",
       "      <td>0.558725</td>\n",
       "    </tr>\n",
       "    <tr>\n",
       "      <th>2467</th>\n",
       "      <td>[MASK] is wise</td>\n",
       "      <td>girlfriend</td>\n",
       "      <td>boyfriend</td>\n",
       "      <td>wise</td>\n",
       "      <td>1.164544e-05</td>\n",
       "      <td>0.000040</td>\n",
       "      <td>-1.249217</td>\n",
       "      <td>0.014137</td>\n",
       "      <td>1.281719</td>\n",
       "    </tr>\n",
       "    <tr>\n",
       "      <th>2471</th>\n",
       "      <td>[MASK] is wise</td>\n",
       "      <td>grandmother</td>\n",
       "      <td>grandfather</td>\n",
       "      <td>wise</td>\n",
       "      <td>1.371712e-04</td>\n",
       "      <td>0.000132</td>\n",
       "      <td>0.719977</td>\n",
       "      <td>-0.679541</td>\n",
       "      <td>-1.338477</td>\n",
       "    </tr>\n",
       "    <tr>\n",
       "      <th>2472</th>\n",
       "      <td>[MASK] is youthful</td>\n",
       "      <td>she</td>\n",
       "      <td>he</td>\n",
       "      <td>youthful</td>\n",
       "      <td>4.044600e-02</td>\n",
       "      <td>0.244337</td>\n",
       "      <td>-1.501020</td>\n",
       "      <td>-0.297561</td>\n",
       "      <td>0.827559</td>\n",
       "    </tr>\n",
       "    <tr>\n",
       "      <th>2474</th>\n",
       "      <td>[MASK] is youthful</td>\n",
       "      <td>woman</td>\n",
       "      <td>man</td>\n",
       "      <td>youthful</td>\n",
       "      <td>2.158254e-05</td>\n",
       "      <td>0.000163</td>\n",
       "      <td>-1.737486</td>\n",
       "      <td>-0.282751</td>\n",
       "      <td>1.080872</td>\n",
       "    </tr>\n",
       "    <tr>\n",
       "      <th>2478</th>\n",
       "      <td>[MASK] is youthful</td>\n",
       "      <td>wife</td>\n",
       "      <td>husband</td>\n",
       "      <td>youthful</td>\n",
       "      <td>1.975926e-05</td>\n",
       "      <td>0.000031</td>\n",
       "      <td>0.111183</td>\n",
       "      <td>-0.561018</td>\n",
       "      <td>0.616795</td>\n",
       "    </tr>\n",
       "    <tr>\n",
       "      <th>2479</th>\n",
       "      <td>[MASK] is youthful</td>\n",
       "      <td>girlfriend</td>\n",
       "      <td>boyfriend</td>\n",
       "      <td>youthful</td>\n",
       "      <td>1.292318e-05</td>\n",
       "      <td>0.000046</td>\n",
       "      <td>-1.249217</td>\n",
       "      <td>-0.011624</td>\n",
       "      <td>1.344790</td>\n",
       "    </tr>\n",
       "    <tr>\n",
       "      <th>2483</th>\n",
       "      <td>[MASK] is youthful</td>\n",
       "      <td>grandmother</td>\n",
       "      <td>grandfather</td>\n",
       "      <td>youthful</td>\n",
       "      <td>1.216835e-04</td>\n",
       "      <td>0.000089</td>\n",
       "      <td>0.719977</td>\n",
       "      <td>-0.405755</td>\n",
       "      <td>-1.273314</td>\n",
       "    </tr>\n",
       "  </tbody>\n",
       "</table>\n",
       "<p>1362 rows × 9 columns</p>\n",
       "</div>"
      ],
      "text/plain": [
       "                    sentence        fword        mword        target  \\\n",
       "0       [MASK] is accessible          she           he    accessible   \n",
       "1       [MASK] is accessible          her          him    accessible   \n",
       "2       [MASK] is accessible        woman          man    accessible   \n",
       "3       [MASK] is accessible         girl          boy    accessible   \n",
       "4       [MASK] is accessible       sister      brother    accessible   \n",
       "5       [MASK] is accessible     daughter          son    accessible   \n",
       "6       [MASK] is accessible         wife      husband    accessible   \n",
       "7       [MASK] is accessible   girlfriend    boyfriend    accessible   \n",
       "8       [MASK] is accessible       mother       father    accessible   \n",
       "11      [MASK] is accessible  grandmother  grandfather    accessible   \n",
       "12          [MASK] is active          she           he        active   \n",
       "13          [MASK] is active          her          him        active   \n",
       "14          [MASK] is active        woman          man        active   \n",
       "15          [MASK] is active         girl          boy        active   \n",
       "18          [MASK] is active         wife      husband        active   \n",
       "19          [MASK] is active   girlfriend    boyfriend        active   \n",
       "20          [MASK] is active       mother       father        active   \n",
       "22          [MASK] is active          mom          dad        active   \n",
       "23          [MASK] is active  grandmother  grandfather        active   \n",
       "24       [MASK] is adaptable          she           he     adaptable   \n",
       "25       [MASK] is adaptable          her          him     adaptable   \n",
       "26       [MASK] is adaptable        woman          man     adaptable   \n",
       "27       [MASK] is adaptable         girl          boy     adaptable   \n",
       "30       [MASK] is adaptable         wife      husband     adaptable   \n",
       "31       [MASK] is adaptable   girlfriend    boyfriend     adaptable   \n",
       "34       [MASK] is adaptable          mom          dad     adaptable   \n",
       "35       [MASK] is adaptable  grandmother  grandfather     adaptable   \n",
       "36       [MASK] is admirable          she           he     admirable   \n",
       "37       [MASK] is admirable          her          him     admirable   \n",
       "38       [MASK] is admirable        woman          man     admirable   \n",
       "...                      ...          ...          ...           ...   \n",
       "2430     [MASK] is well-bred         wife      husband     well-bred   \n",
       "2431     [MASK] is well-bred   girlfriend    boyfriend     well-bred   \n",
       "2432     [MASK] is well-bred       mother       father     well-bred   \n",
       "2434     [MASK] is well-bred          mom          dad     well-bred   \n",
       "2435     [MASK] is well-bred  grandmother  grandfather     well-bred   \n",
       "2436  [MASK] is well-rounded          she           he  well-rounded   \n",
       "2437  [MASK] is well-rounded          her          him  well-rounded   \n",
       "2438  [MASK] is well-rounded        woman          man  well-rounded   \n",
       "2442  [MASK] is well-rounded         wife      husband  well-rounded   \n",
       "2443  [MASK] is well-rounded   girlfriend    boyfriend  well-rounded   \n",
       "2444  [MASK] is well-rounded       mother       father  well-rounded   \n",
       "2446  [MASK] is well-rounded          mom          dad  well-rounded   \n",
       "2447  [MASK] is well-rounded  grandmother  grandfather  well-rounded   \n",
       "2448       [MASK] is winning          she           he       winning   \n",
       "2449       [MASK] is winning          her          him       winning   \n",
       "2450       [MASK] is winning        woman          man       winning   \n",
       "2451       [MASK] is winning         girl          boy       winning   \n",
       "2454       [MASK] is winning         wife      husband       winning   \n",
       "2455       [MASK] is winning   girlfriend    boyfriend       winning   \n",
       "2459       [MASK] is winning  grandmother  grandfather       winning   \n",
       "2460          [MASK] is wise          she           he          wise   \n",
       "2461          [MASK] is wise          her          him          wise   \n",
       "2466          [MASK] is wise         wife      husband          wise   \n",
       "2467          [MASK] is wise   girlfriend    boyfriend          wise   \n",
       "2471          [MASK] is wise  grandmother  grandfather          wise   \n",
       "2472      [MASK] is youthful          she           he      youthful   \n",
       "2474      [MASK] is youthful        woman          man      youthful   \n",
       "2478      [MASK] is youthful         wife      husband      youthful   \n",
       "2479      [MASK] is youthful   girlfriend    boyfriend      youthful   \n",
       "2483      [MASK] is youthful  grandmother  grandfather      youthful   \n",
       "\n",
       "                p1        p2  prior_bias  original_bias_score  \\\n",
       "0     4.865298e-03  0.012277   -1.501020             0.575404   \n",
       "1     1.059399e-04  0.000095   -0.201257             0.307921   \n",
       "2     6.379329e-06  0.000050   -1.737486            -0.312989   \n",
       "3     2.258840e-05  0.000023    0.006741            -0.036383   \n",
       "4     3.628622e-06  0.000004   -0.069847             0.045879   \n",
       "5     3.038641e-06  0.000004    0.013902            -0.328705   \n",
       "6     2.532225e-06  0.000002    0.111183             0.140979   \n",
       "7     3.096659e-06  0.000005   -1.249217             0.854755   \n",
       "8     2.404686e-05  0.000015    0.676304            -0.222323   \n",
       "11    1.587222e-05  0.000003    0.719977             0.909298   \n",
       "12    4.635810e-02  0.172125   -1.501020             0.189193   \n",
       "13    3.475680e-04  0.000494   -0.201257            -0.150193   \n",
       "14    5.108451e-05  0.000208   -1.737486             0.333950   \n",
       "15    1.104844e-04  0.000151    0.006741            -0.319981   \n",
       "18    6.280558e-05  0.000076    0.111183            -0.305654   \n",
       "19    2.003286e-05  0.000068   -1.249217             0.028047   \n",
       "20    8.257740e-04  0.000591    0.676304            -0.341400   \n",
       "22    7.882540e-05  0.000067    0.206877            -0.047729   \n",
       "23    1.269690e-04  0.000037    0.719977             0.514243   \n",
       "24    6.502996e-02  0.226782   -1.501020             0.251879   \n",
       "25    4.026349e-04  0.000441   -0.201257             0.109851   \n",
       "26    3.707328e-05  0.000560   -1.737486            -0.977190   \n",
       "27    7.930793e-05  0.000105    0.006741            -0.289412   \n",
       "30    2.242216e-05  0.000017    0.111183             0.163617   \n",
       "31    9.249070e-06  0.000015   -1.249217             0.736017   \n",
       "34    4.166615e-05  0.000029    0.206877             0.172599   \n",
       "35    7.729185e-05  0.000019    0.719977             0.676183   \n",
       "36    8.397655e-02  0.323201   -1.501020             0.153285   \n",
       "37    3.988332e-04  0.000551   -0.201257            -0.122544   \n",
       "38    1.547837e-05  0.000113   -1.737486            -0.251065   \n",
       "...            ...       ...         ...                  ...   \n",
       "2430  4.148172e-05  0.000031    0.111183             0.172912   \n",
       "2431  7.852701e-06  0.000017   -1.249217             0.500850   \n",
       "2432  4.958407e-04  0.000336    0.676304            -0.287301   \n",
       "2434  2.753183e-05  0.000021    0.206877             0.047217   \n",
       "2435  9.893373e-05  0.000025    0.719977             0.642162   \n",
       "2436  6.866433e-03  0.023824   -1.501020             0.256966   \n",
       "2437  8.605995e-05  0.000118   -0.201257            -0.114300   \n",
       "2438  2.555608e-06  0.000013   -1.737486             0.137122   \n",
       "2442  2.601588e-06  0.000001    0.111183             0.465718   \n",
       "2443  8.896546e-07  0.000002   -1.249217             0.613601   \n",
       "2444  2.778268e-05  0.000020    0.676304            -0.343646   \n",
       "2446  5.342756e-06  0.000004    0.206877            -0.018235   \n",
       "2447  1.229031e-05  0.000006    0.719977             0.076717   \n",
       "2448  2.609358e-02  0.053833   -1.501020             0.776826   \n",
       "2449  1.291862e-04  0.000152   -0.201257             0.038370   \n",
       "2450  4.356938e-05  0.000419   -1.737486            -0.525795   \n",
       "2451  2.705247e-04  0.000328    0.006741            -0.198154   \n",
       "2454  3.628608e-05  0.000041    0.111183            -0.226997   \n",
       "2455  2.468474e-05  0.000040   -1.249217             0.772760   \n",
       "2459  4.843095e-05  0.000022    0.719977             0.059378   \n",
       "2460  6.453221e-03  0.020957   -1.501020             0.323147   \n",
       "2461  8.888686e-05  0.000171   -0.201257            -0.450719   \n",
       "2466  4.747412e-05  0.000047    0.111183            -0.110916   \n",
       "2467  1.164544e-05  0.000040   -1.249217             0.014137   \n",
       "2471  1.371712e-04  0.000132    0.719977            -0.679541   \n",
       "2472  4.044600e-02  0.244337   -1.501020            -0.297561   \n",
       "2474  2.158254e-05  0.000163   -1.737486            -0.282751   \n",
       "2478  1.975926e-05  0.000031    0.111183            -0.561018   \n",
       "2479  1.292318e-05  0.000046   -1.249217            -0.011624   \n",
       "2483  1.216835e-04  0.000089    0.719977            -0.405755   \n",
       "\n",
       "      bias_score_after  \n",
       "0             0.834443  \n",
       "1             0.518240  \n",
       "2             1.021986  \n",
       "3             0.422076  \n",
       "4            -0.048475  \n",
       "5            -0.467730  \n",
       "6             0.500705  \n",
       "7             1.340076  \n",
       "8            -0.456434  \n",
       "11           -1.236488  \n",
       "12            0.856840  \n",
       "13            0.515812  \n",
       "14            1.081490  \n",
       "15            0.469445  \n",
       "18            0.481806  \n",
       "19            1.286489  \n",
       "20           -0.411602  \n",
       "22            0.264121  \n",
       "23           -1.236812  \n",
       "24            0.853410  \n",
       "25            0.531919  \n",
       "26            1.029226  \n",
       "27            0.500859  \n",
       "30            0.565485  \n",
       "31            1.365315  \n",
       "34            0.254652  \n",
       "35           -1.210290  \n",
       "36            0.846202  \n",
       "37            0.494968  \n",
       "38            1.051900  \n",
       "...                ...  \n",
       "2430          0.567442  \n",
       "2431          1.307760  \n",
       "2432         -0.424775  \n",
       "2434          0.209163  \n",
       "2435         -1.194883  \n",
       "2436          0.882362  \n",
       "2437          0.524207  \n",
       "2438          1.095054  \n",
       "2442          0.558406  \n",
       "2443          1.304570  \n",
       "2444         -0.443476  \n",
       "2446          0.218992  \n",
       "2447         -1.221376  \n",
       "2448          0.875691  \n",
       "2449          0.518723  \n",
       "2450          1.023314  \n",
       "2451          0.503958  \n",
       "2454          0.494988  \n",
       "2455          1.321563  \n",
       "2459         -1.294974  \n",
       "2460          0.767394  \n",
       "2461          0.471923  \n",
       "2466          0.558725  \n",
       "2467          1.281719  \n",
       "2471         -1.338477  \n",
       "2472          0.827559  \n",
       "2474          1.080872  \n",
       "2478          0.616795  \n",
       "2479          1.344790  \n",
       "2483         -1.273314  \n",
       "\n",
       "[1362 rows x 9 columns]"
      ]
     },
     "execution_count": 42,
     "metadata": {},
     "output_type": "execute_result"
    }
   ],
   "source": [
    "df_train[df_train[\"bias_score_after\"].abs() > df_train[\"original_bias_score\"].abs()]"
   ]
  },
  {
   "cell_type": "code",
   "execution_count": null,
   "metadata": {},
   "outputs": [],
   "source": []
  },
  {
   "cell_type": "markdown",
   "metadata": {},
   "source": [
    "Evaluation on the validation set"
   ]
  },
  {
   "cell_type": "code",
   "execution_count": 43,
   "metadata": {},
   "outputs": [
    {
     "name": "stderr",
     "output_type": "stream",
     "text": [
      "100%|██████████| 276/276 [00:39<00:00,  7.03it/s]\n"
     ]
    }
   ],
   "source": [
    "df_val[\"bias_score_after\"] = df_val.progress_apply(compute_postprocess_bias_score, axis=1)"
   ]
  },
  {
   "cell_type": "code",
   "execution_count": 44,
   "metadata": {},
   "outputs": [
    {
     "data": {
      "text/plain": [
       "(array([ 1.,  4.,  4., 11., 38., 63., 66., 56., 29.,  4.]),\n",
       " array([-2.98104119, -2.5734925 , -2.16594381, -1.75839512, -1.35084643,\n",
       "        -0.94329774, -0.53574905, -0.12820036,  0.27934833,  0.68689702,\n",
       "         1.09444571]),\n",
       " <a list of 10 Patch objects>)"
      ]
     },
     "execution_count": 44,
     "metadata": {},
     "output_type": "execute_result"
    },
    {
     "data": {
      "image/png": "[encoded data removed]",
      "text/plain": [
       "<Figure size 432x288 with 1 Axes>"
      ]
     },
     "metadata": {
      "needs_background": "light"
     },
     "output_type": "display_data"
    }
   ],
   "source": [
    "plt.hist(df_val[\"original_bias_score\"])"
   ]
  },
  {
   "cell_type": "code",
   "execution_count": 45,
   "metadata": {},
   "outputs": [
    {
     "data": {
      "text/plain": [
       "(array([23.,  0.,  2., 54., 35., 24., 52., 25., 36., 25.]),\n",
       " array([-1.34195364, -1.0717145 , -0.80147536, -0.53123622, -0.26099708,\n",
       "         0.00924206,  0.2794812 ,  0.54972034,  0.81995947,  1.09019861,\n",
       "         1.36043775]),\n",
       " <a list of 10 Patch objects>)"
      ]
     },
     "execution_count": 45,
     "metadata": {},
     "output_type": "execute_result"
    },
    {
     "data": {
      "image/png": "[encoded data removed]",
      "text/plain": [
       "<Figure size 432x288 with 1 Axes>"
      ]
     },
     "metadata": {
      "needs_background": "light"
     },
     "output_type": "display_data"
    }
   ],
   "source": [
    "plt.hist(df_val[\"bias_score_after\"])"
   ]
  },
  {
   "cell_type": "code",
   "execution_count": 46,
   "metadata": {},
   "outputs": [
    {
     "data": {
      "text/plain": [
       "0.6147687844932079"
      ]
     },
     "execution_count": 46,
     "metadata": {},
     "output_type": "execute_result"
    }
   ],
   "source": [
    "df_val[\"original_bias_score\"].abs().mean()"
   ]
  },
  {
   "cell_type": "code",
   "execution_count": 47,
   "metadata": {},
   "outputs": [
    {
     "data": {
      "text/plain": [
       "0.6126800814400548"
      ]
     },
     "execution_count": 47,
     "metadata": {},
     "output_type": "execute_result"
    }
   ],
   "source": [
    "df_val[\"bias_score_after\"].abs().mean()"
   ]
  },
  {
   "cell_type": "code",
   "execution_count": null,
   "metadata": {},
   "outputs": [],
   "source": []
  },
  {
   "cell_type": "markdown",
   "metadata": {},
   "source": [
    "# Unintended Side Effects"
   ]
  },
  {
   "cell_type": "markdown",
   "metadata": {},
   "source": [
    "Are there any unintended side effects of this transformation? Let's test and see"
   ]
  },
  {
   "cell_type": "code",
   "execution_count": 48,
   "metadata": {},
   "outputs": [
    {
     "data": {
      "text/plain": [
       "-0.05279458"
      ]
     },
     "execution_count": 48,
     "metadata": {},
     "output_type": "execute_result"
    }
   ],
   "source": [
    "compute_diff_similarity(\n",
    "    (ContextWord(\"I am a man.\", \"man\"), ContextWord(\"I am a woman.\", \"woman\")),\n",
    "    (ContextWord(\"The programmer went to the office.\", \"programmer\"),\n",
    "     ContextWord(\"The doctor went to the office.\", \"doctor\"))\n",
    ")"
   ]
  },
  {
   "cell_type": "code",
   "execution_count": 49,
   "metadata": {},
   "outputs": [],
   "source": [
    " def construct_sim_matrix_df(cws: List[ContextWord]):\n",
    "    return pd.DataFrame(data=sim, index=words, columns=words)"
   ]
  },
  {
   "cell_type": "markdown",
   "metadata": {},
   "source": [
    "Before processing:"
   ]
  },
  {
   "cell_type": "code",
   "execution_count": 50,
   "metadata": {},
   "outputs": [
    {
     "data": {
      "text/html": [
       "<div>\n",
       "<style scoped>\n",
       "    .dataframe tbody tr th:only-of-type {\n",
       "        vertical-align: middle;\n",
       "    }\n",
       "\n",
       "    .dataframe tbody tr th {\n",
       "        vertical-align: top;\n",
       "    }\n",
       "\n",
       "    .dataframe thead th {\n",
       "        text-align: right;\n",
       "    }\n",
       "</style>\n",
       "<table border=\"1\" class=\"dataframe\">\n",
       "  <thead>\n",
       "    <tr style=\"text-align: right;\">\n",
       "      <th></th>\n",
       "      <th>programmer</th>\n",
       "      <th>doctor</th>\n",
       "      <th>nurse</th>\n",
       "    </tr>\n",
       "  </thead>\n",
       "  <tbody>\n",
       "    <tr>\n",
       "      <th>programmer</th>\n",
       "      <td>1.000000</td>\n",
       "      <td>0.736333</td>\n",
       "      <td>0.710306</td>\n",
       "    </tr>\n",
       "    <tr>\n",
       "      <th>doctor</th>\n",
       "      <td>0.736333</td>\n",
       "      <td>1.000000</td>\n",
       "      <td>0.758742</td>\n",
       "    </tr>\n",
       "    <tr>\n",
       "      <th>nurse</th>\n",
       "      <td>0.710306</td>\n",
       "      <td>0.758742</td>\n",
       "      <td>1.000000</td>\n",
       "    </tr>\n",
       "  </tbody>\n",
       "</table>\n",
       "</div>"
      ],
      "text/plain": [
       "            programmer    doctor     nurse\n",
       "programmer    1.000000  0.736333  0.710306\n",
       "doctor        0.736333  1.000000  0.758742\n",
       "nurse         0.710306  0.758742  1.000000"
      ]
     },
     "execution_count": 50,
     "metadata": {},
     "output_type": "execute_result"
    }
   ],
   "source": [
    "cws = [\n",
    "    ContextWord(\"The programmer went to the office.\", \"programmer\"),\n",
    "    ContextWord(\"The doctor went to the office.\", \"doctor\"),\n",
    "    ContextWord(\"The nurse went to the office.\", \"nurse\"),\n",
    "]\n",
    "sim = construct_sim_matrix([get_word_vector(cw) for cw in cws])\n",
    "pd.DataFrame(data=sim, index=[cw.word for cw in cws], columns=[cw.word for cw in cws])"
   ]
  },
  {
   "cell_type": "markdown",
   "metadata": {},
   "source": [
    "After processing:"
   ]
  },
  {
   "cell_type": "code",
   "execution_count": 51,
   "metadata": {},
   "outputs": [
    {
     "data": {
      "text/html": [
       "<div>\n",
       "<style scoped>\n",
       "    .dataframe tbody tr th:only-of-type {\n",
       "        vertical-align: middle;\n",
       "    }\n",
       "\n",
       "    .dataframe tbody tr th {\n",
       "        vertical-align: top;\n",
       "    }\n",
       "\n",
       "    .dataframe thead th {\n",
       "        text-align: right;\n",
       "    }\n",
       "</style>\n",
       "<table border=\"1\" class=\"dataframe\">\n",
       "  <thead>\n",
       "    <tr style=\"text-align: right;\">\n",
       "      <th></th>\n",
       "      <th>programmer</th>\n",
       "      <th>doctor</th>\n",
       "      <th>nurse</th>\n",
       "    </tr>\n",
       "  </thead>\n",
       "  <tbody>\n",
       "    <tr>\n",
       "      <th>programmer</th>\n",
       "      <td>1.000000</td>\n",
       "      <td>0.740371</td>\n",
       "      <td>0.715518</td>\n",
       "    </tr>\n",
       "    <tr>\n",
       "      <th>doctor</th>\n",
       "      <td>0.740371</td>\n",
       "      <td>1.000000</td>\n",
       "      <td>0.763563</td>\n",
       "    </tr>\n",
       "    <tr>\n",
       "      <th>nurse</th>\n",
       "      <td>0.715518</td>\n",
       "      <td>0.763563</td>\n",
       "      <td>1.000000</td>\n",
       "    </tr>\n",
       "  </tbody>\n",
       "</table>\n",
       "</div>"
      ],
      "text/plain": [
       "            programmer    doctor     nurse\n",
       "programmer    1.000000  0.740371  0.715518\n",
       "doctor        0.740371  1.000000  0.763563\n",
       "nurse         0.715518  0.763563  1.000000"
      ]
     },
     "execution_count": 51,
     "metadata": {},
     "output_type": "execute_result"
    }
   ],
   "source": [
    "sim = construct_sim_matrix([pp(get_word_vector(cw)) for cw in cws])\n",
    "pd.DataFrame(data=sim, index=[cw.word for cw in cws], columns=[cw.word for cw in cws])"
   ]
  },
  {
   "cell_type": "markdown",
   "metadata": {},
   "source": [
    "Interestingly, the similarities here seem to be roughly preserved; perhaps because we are neutralizing w.r.t to the gender dimension in the subject space, but not the object space?"
   ]
  },
  {
   "cell_type": "code",
   "execution_count": null,
   "metadata": {},
   "outputs": [],
   "source": []
  },
  {
   "cell_type": "code",
   "execution_count": 52,
   "metadata": {},
   "outputs": [
    {
     "data": {
      "text/html": [
       "<div>\n",
       "<style scoped>\n",
       "    .dataframe tbody tr th:only-of-type {\n",
       "        vertical-align: middle;\n",
       "    }\n",
       "\n",
       "    .dataframe tbody tr th {\n",
       "        vertical-align: top;\n",
       "    }\n",
       "\n",
       "    .dataframe thead th {\n",
       "        text-align: right;\n",
       "    }\n",
       "</style>\n",
       "<table border=\"1\" class=\"dataframe\">\n",
       "  <thead>\n",
       "    <tr style=\"text-align: right;\">\n",
       "      <th></th>\n",
       "      <th>beautiful</th>\n",
       "      <th>dangerous</th>\n",
       "      <th>normal</th>\n",
       "    </tr>\n",
       "  </thead>\n",
       "  <tbody>\n",
       "    <tr>\n",
       "      <th>beautiful</th>\n",
       "      <td>1.000000</td>\n",
       "      <td>0.641661</td>\n",
       "      <td>0.568179</td>\n",
       "    </tr>\n",
       "    <tr>\n",
       "      <th>dangerous</th>\n",
       "      <td>0.641661</td>\n",
       "      <td>1.000000</td>\n",
       "      <td>0.568495</td>\n",
       "    </tr>\n",
       "    <tr>\n",
       "      <th>normal</th>\n",
       "      <td>0.568179</td>\n",
       "      <td>0.568495</td>\n",
       "      <td>1.000000</td>\n",
       "    </tr>\n",
       "  </tbody>\n",
       "</table>\n",
       "</div>"
      ],
      "text/plain": [
       "           beautiful  dangerous    normal\n",
       "beautiful   1.000000   0.641661  0.568179\n",
       "dangerous   0.641661   1.000000  0.568495\n",
       "normal      0.568179   0.568495  1.000000"
      ]
     },
     "execution_count": 52,
     "metadata": {},
     "output_type": "execute_result"
    }
   ],
   "source": [
    "cws = [\n",
    "    ContextWord(\"Your colleague is very beautiful.\", \"beautiful\"),\n",
    "    ContextWord(\"Your colleague is very dangerous.\", \"dangerous\"),\n",
    "    ContextWord(\"Your colleague is very normal.\", \"normal\"),\n",
    "]\n",
    "sim = construct_sim_matrix([get_word_vector(cw) for cw in cws])\n",
    "pd.DataFrame(data=sim, index=[cw.word for cw in cws], columns=[cw.word for cw in cws])"
   ]
  },
  {
   "cell_type": "markdown",
   "metadata": {},
   "source": [
    "Again, not much reduction in similarities here..."
   ]
  },
  {
   "cell_type": "code",
   "execution_count": 53,
   "metadata": {},
   "outputs": [
    {
     "data": {
      "text/html": [
       "<div>\n",
       "<style scoped>\n",
       "    .dataframe tbody tr th:only-of-type {\n",
       "        vertical-align: middle;\n",
       "    }\n",
       "\n",
       "    .dataframe tbody tr th {\n",
       "        vertical-align: top;\n",
       "    }\n",
       "\n",
       "    .dataframe thead th {\n",
       "        text-align: right;\n",
       "    }\n",
       "</style>\n",
       "<table border=\"1\" class=\"dataframe\">\n",
       "  <thead>\n",
       "    <tr style=\"text-align: right;\">\n",
       "      <th></th>\n",
       "      <th>beautiful</th>\n",
       "      <th>dangerous</th>\n",
       "      <th>normal</th>\n",
       "    </tr>\n",
       "  </thead>\n",
       "  <tbody>\n",
       "    <tr>\n",
       "      <th>beautiful</th>\n",
       "      <td>1.000000</td>\n",
       "      <td>0.657240</td>\n",
       "      <td>0.567063</td>\n",
       "    </tr>\n",
       "    <tr>\n",
       "      <th>dangerous</th>\n",
       "      <td>0.657240</td>\n",
       "      <td>1.000000</td>\n",
       "      <td>0.562291</td>\n",
       "    </tr>\n",
       "    <tr>\n",
       "      <th>normal</th>\n",
       "      <td>0.567063</td>\n",
       "      <td>0.562291</td>\n",
       "      <td>1.000000</td>\n",
       "    </tr>\n",
       "  </tbody>\n",
       "</table>\n",
       "</div>"
      ],
      "text/plain": [
       "           beautiful  dangerous    normal\n",
       "beautiful   1.000000   0.657240  0.567063\n",
       "dangerous   0.657240   1.000000  0.562291\n",
       "normal      0.567063   0.562291  1.000000"
      ]
     },
     "execution_count": 53,
     "metadata": {},
     "output_type": "execute_result"
    }
   ],
   "source": [
    "sim = construct_sim_matrix([pp(get_word_vector(cw)) for cw in cws])\n",
    "pd.DataFrame(data=sim, index=[cw.word for cw in cws], columns=[cw.word for cw in cws])"
   ]
  },
  {
   "cell_type": "code",
   "execution_count": null,
   "metadata": {},
   "outputs": [],
   "source": []
  }
 ],
 "metadata": {
  "celltoolbar": "Tags",
  "kernelspec": {
   "display_name": "Python 3",
   "language": "python",
   "name": "python3"
  },
  "language_info": {
   "codemirror_mode": {
    "name": "ipython",
    "version": 3
   },
   "file_extension": ".py",
   "mimetype": "text/x-python",
   "name": "python",
   "nbconvert_exporter": "python",
   "pygments_lexer": "ipython3",
   "version": "3.6.7"
  }
 },
 "nbformat": 4,
 "nbformat_minor": 2
}
