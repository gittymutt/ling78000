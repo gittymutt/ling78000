{
 "cells": [
  {
   "cell_type": "code",
   "execution_count": 1,
   "metadata": {},
   "outputs": [],
   "source": [
    "%load_ext autoreload\n",
    "%autoreload 2"
   ]
  },
  {
   "cell_type": "code",
   "execution_count": 2,
   "metadata": {},
   "outputs": [],
   "source": [
    "import torch\n",
    "import pandas as pd\n",
    "import numpy as np\n",
    "from pathlib import Path\n",
    "from typing import *\n",
    "import matplotlib.pyplot as plt\n",
    "%matplotlib inline"
   ]
  },
  {
   "cell_type": "code",
   "execution_count": 3,
   "metadata": {},
   "outputs": [],
   "source": [
    "import sys\n",
    "sys.path.append(\"../lib\")"
   ]
  },
  {
   "cell_type": "code",
   "execution_count": 4,
   "metadata": {},
   "outputs": [],
   "source": [
    "from bert_utils import Config, BertPreprocessor"
   ]
  },
  {
   "cell_type": "code",
   "execution_count": 5,
   "metadata": {},
   "outputs": [],
   "source": [
    "config = Config(\n",
    "    model_type=\"bert-base-uncased\",\n",
    "    max_seq_len=128,\n",
    ")"
   ]
  },
  {
   "cell_type": "code",
   "execution_count": 6,
   "metadata": {},
   "outputs": [
    {
     "name": "stderr",
     "output_type": "stream",
     "text": [
      "02/13/2019 11:33:25 - INFO - pytorch_pretrained_bert.tokenization -   loading vocabulary file https://s3.amazonaws.com/models.huggingface.co/bert/bert-base-uncased-vocab.txt from cache at /Users/keitakurita/.pytorch_pretrained_bert/26bc1ad6c0ac742e9b52263248f6d0f00068293b33709fae12320c0e35ccfbbb.542ce4285a40d23a559526243235df47c5f75c197f04f37d1a0c124c32c9a084\n"
     ]
    }
   ],
   "source": [
    "processor = BertPreprocessor(config.model_type, config.max_seq_len)"
   ]
  },
  {
   "cell_type": "code",
   "execution_count": null,
   "metadata": {},
   "outputs": [],
   "source": []
  },
  {
   "cell_type": "code",
   "execution_count": 7,
   "metadata": {},
   "outputs": [
    {
     "name": "stderr",
     "output_type": "stream",
     "text": [
      "02/13/2019 11:33:26 - INFO - pytorch_pretrained_bert.modeling -   loading archive file https://s3.amazonaws.com/models.huggingface.co/bert/bert-base-uncased.tar.gz from cache at /Users/keitakurita/.pytorch_pretrained_bert/9c41111e2de84547a463fd39217199738d1e3deb72d4fec4399e6e241983c6f0.ae3cef932725ca7a30cdcb93fc6e09150a55e2a130ec7af63975a16c153ae2ba\n",
      "02/13/2019 11:33:26 - INFO - pytorch_pretrained_bert.modeling -   extracting archive file /Users/keitakurita/.pytorch_pretrained_bert/9c41111e2de84547a463fd39217199738d1e3deb72d4fec4399e6e241983c6f0.ae3cef932725ca7a30cdcb93fc6e09150a55e2a130ec7af63975a16c153ae2ba to temp dir /var/folders/hy/1czs1y5j2d58zgkqx6w_wnpw0000gn/T/tmp58_cap1l\n",
      "02/13/2019 11:33:30 - INFO - pytorch_pretrained_bert.modeling -   Model config {\n",
      "  \"attention_probs_dropout_prob\": 0.1,\n",
      "  \"hidden_act\": \"gelu\",\n",
      "  \"hidden_dropout_prob\": 0.1,\n",
      "  \"hidden_size\": 768,\n",
      "  \"initializer_range\": 0.02,\n",
      "  \"intermediate_size\": 3072,\n",
      "  \"max_position_embeddings\": 512,\n",
      "  \"num_attention_heads\": 12,\n",
      "  \"num_hidden_layers\": 12,\n",
      "  \"type_vocab_size\": 2,\n",
      "  \"vocab_size\": 30522\n",
      "}\n",
      "\n",
      "02/13/2019 11:33:33 - INFO - pytorch_pretrained_bert.modeling -   Weights from pretrained model not used in BertForMaskedLM: ['cls.seq_relationship.weight', 'cls.seq_relationship.bias']\n"
     ]
    },
    {
     "data": {
      "text/plain": [
       "BertForMaskedLM(\n",
       "  (bert): BertModel(\n",
       "    (embeddings): BertEmbeddings(\n",
       "      (word_embeddings): Embedding(30522, 768)\n",
       "      (position_embeddings): Embedding(512, 768)\n",
       "      (token_type_embeddings): Embedding(2, 768)\n",
       "      (LayerNorm): BertLayerNorm()\n",
       "      (dropout): Dropout(p=0.1)\n",
       "    )\n",
       "    (encoder): BertEncoder(\n",
       "      (layer): ModuleList(\n",
       "        (0): BertLayer(\n",
       "          (attention): BertAttention(\n",
       "            (self): BertSelfAttention(\n",
       "              (query): Linear(in_features=768, out_features=768, bias=True)\n",
       "              (key): Linear(in_features=768, out_features=768, bias=True)\n",
       "              (value): Linear(in_features=768, out_features=768, bias=True)\n",
       "              (dropout): Dropout(p=0.1)\n",
       "            )\n",
       "            (output): BertSelfOutput(\n",
       "              (dense): Linear(in_features=768, out_features=768, bias=True)\n",
       "              (LayerNorm): BertLayerNorm()\n",
       "              (dropout): Dropout(p=0.1)\n",
       "            )\n",
       "          )\n",
       "          (intermediate): BertIntermediate(\n",
       "            (dense): Linear(in_features=768, out_features=3072, bias=True)\n",
       "          )\n",
       "          (output): BertOutput(\n",
       "            (dense): Linear(in_features=3072, out_features=768, bias=True)\n",
       "            (LayerNorm): BertLayerNorm()\n",
       "            (dropout): Dropout(p=0.1)\n",
       "          )\n",
       "        )\n",
       "        (1): BertLayer(\n",
       "          (attention): BertAttention(\n",
       "            (self): BertSelfAttention(\n",
       "              (query): Linear(in_features=768, out_features=768, bias=True)\n",
       "              (key): Linear(in_features=768, out_features=768, bias=True)\n",
       "              (value): Linear(in_features=768, out_features=768, bias=True)\n",
       "              (dropout): Dropout(p=0.1)\n",
       "            )\n",
       "            (output): BertSelfOutput(\n",
       "              (dense): Linear(in_features=768, out_features=768, bias=True)\n",
       "              (LayerNorm): BertLayerNorm()\n",
       "              (dropout): Dropout(p=0.1)\n",
       "            )\n",
       "          )\n",
       "          (intermediate): BertIntermediate(\n",
       "            (dense): Linear(in_features=768, out_features=3072, bias=True)\n",
       "          )\n",
       "          (output): BertOutput(\n",
       "            (dense): Linear(in_features=3072, out_features=768, bias=True)\n",
       "            (LayerNorm): BertLayerNorm()\n",
       "            (dropout): Dropout(p=0.1)\n",
       "          )\n",
       "        )\n",
       "        (2): BertLayer(\n",
       "          (attention): BertAttention(\n",
       "            (self): BertSelfAttention(\n",
       "              (query): Linear(in_features=768, out_features=768, bias=True)\n",
       "              (key): Linear(in_features=768, out_features=768, bias=True)\n",
       "              (value): Linear(in_features=768, out_features=768, bias=True)\n",
       "              (dropout): Dropout(p=0.1)\n",
       "            )\n",
       "            (output): BertSelfOutput(\n",
       "              (dense): Linear(in_features=768, out_features=768, bias=True)\n",
       "              (LayerNorm): BertLayerNorm()\n",
       "              (dropout): Dropout(p=0.1)\n",
       "            )\n",
       "          )\n",
       "          (intermediate): BertIntermediate(\n",
       "            (dense): Linear(in_features=768, out_features=3072, bias=True)\n",
       "          )\n",
       "          (output): BertOutput(\n",
       "            (dense): Linear(in_features=3072, out_features=768, bias=True)\n",
       "            (LayerNorm): BertLayerNorm()\n",
       "            (dropout): Dropout(p=0.1)\n",
       "          )\n",
       "        )\n",
       "        (3): BertLayer(\n",
       "          (attention): BertAttention(\n",
       "            (self): BertSelfAttention(\n",
       "              (query): Linear(in_features=768, out_features=768, bias=True)\n",
       "              (key): Linear(in_features=768, out_features=768, bias=True)\n",
       "              (value): Linear(in_features=768, out_features=768, bias=True)\n",
       "              (dropout): Dropout(p=0.1)\n",
       "            )\n",
       "            (output): BertSelfOutput(\n",
       "              (dense): Linear(in_features=768, out_features=768, bias=True)\n",
       "              (LayerNorm): BertLayerNorm()\n",
       "              (dropout): Dropout(p=0.1)\n",
       "            )\n",
       "          )\n",
       "          (intermediate): BertIntermediate(\n",
       "            (dense): Linear(in_features=768, out_features=3072, bias=True)\n",
       "          )\n",
       "          (output): BertOutput(\n",
       "            (dense): Linear(in_features=3072, out_features=768, bias=True)\n",
       "            (LayerNorm): BertLayerNorm()\n",
       "            (dropout): Dropout(p=0.1)\n",
       "          )\n",
       "        )\n",
       "        (4): BertLayer(\n",
       "          (attention): BertAttention(\n",
       "            (self): BertSelfAttention(\n",
       "              (query): Linear(in_features=768, out_features=768, bias=True)\n",
       "              (key): Linear(in_features=768, out_features=768, bias=True)\n",
       "              (value): Linear(in_features=768, out_features=768, bias=True)\n",
       "              (dropout): Dropout(p=0.1)\n",
       "            )\n",
       "            (output): BertSelfOutput(\n",
       "              (dense): Linear(in_features=768, out_features=768, bias=True)\n",
       "              (LayerNorm): BertLayerNorm()\n",
       "              (dropout): Dropout(p=0.1)\n",
       "            )\n",
       "          )\n",
       "          (intermediate): BertIntermediate(\n",
       "            (dense): Linear(in_features=768, out_features=3072, bias=True)\n",
       "          )\n",
       "          (output): BertOutput(\n",
       "            (dense): Linear(in_features=3072, out_features=768, bias=True)\n",
       "            (LayerNorm): BertLayerNorm()\n",
       "            (dropout): Dropout(p=0.1)\n",
       "          )\n",
       "        )\n",
       "        (5): BertLayer(\n",
       "          (attention): BertAttention(\n",
       "            (self): BertSelfAttention(\n",
       "              (query): Linear(in_features=768, out_features=768, bias=True)\n",
       "              (key): Linear(in_features=768, out_features=768, bias=True)\n",
       "              (value): Linear(in_features=768, out_features=768, bias=True)\n",
       "              (dropout): Dropout(p=0.1)\n",
       "            )\n",
       "            (output): BertSelfOutput(\n",
       "              (dense): Linear(in_features=768, out_features=768, bias=True)\n",
       "              (LayerNorm): BertLayerNorm()\n",
       "              (dropout): Dropout(p=0.1)\n",
       "            )\n",
       "          )\n",
       "          (intermediate): BertIntermediate(\n",
       "            (dense): Linear(in_features=768, out_features=3072, bias=True)\n",
       "          )\n",
       "          (output): BertOutput(\n",
       "            (dense): Linear(in_features=3072, out_features=768, bias=True)\n",
       "            (LayerNorm): BertLayerNorm()\n",
       "            (dropout): Dropout(p=0.1)\n",
       "          )\n",
       "        )\n",
       "        (6): BertLayer(\n",
       "          (attention): BertAttention(\n",
       "            (self): BertSelfAttention(\n",
       "              (query): Linear(in_features=768, out_features=768, bias=True)\n",
       "              (key): Linear(in_features=768, out_features=768, bias=True)\n",
       "              (value): Linear(in_features=768, out_features=768, bias=True)\n",
       "              (dropout): Dropout(p=0.1)\n",
       "            )\n",
       "            (output): BertSelfOutput(\n",
       "              (dense): Linear(in_features=768, out_features=768, bias=True)\n",
       "              (LayerNorm): BertLayerNorm()\n",
       "              (dropout): Dropout(p=0.1)\n",
       "            )\n",
       "          )\n",
       "          (intermediate): BertIntermediate(\n",
       "            (dense): Linear(in_features=768, out_features=3072, bias=True)\n",
       "          )\n",
       "          (output): BertOutput(\n",
       "            (dense): Linear(in_features=3072, out_features=768, bias=True)\n",
       "            (LayerNorm): BertLayerNorm()\n",
       "            (dropout): Dropout(p=0.1)\n",
       "          )\n",
       "        )\n",
       "        (7): BertLayer(\n",
       "          (attention): BertAttention(\n",
       "            (self): BertSelfAttention(\n",
       "              (query): Linear(in_features=768, out_features=768, bias=True)\n",
       "              (key): Linear(in_features=768, out_features=768, bias=True)\n",
       "              (value): Linear(in_features=768, out_features=768, bias=True)\n",
       "              (dropout): Dropout(p=0.1)\n",
       "            )\n",
       "            (output): BertSelfOutput(\n",
       "              (dense): Linear(in_features=768, out_features=768, bias=True)\n",
       "              (LayerNorm): BertLayerNorm()\n",
       "              (dropout): Dropout(p=0.1)\n",
       "            )\n",
       "          )\n",
       "          (intermediate): BertIntermediate(\n",
       "            (dense): Linear(in_features=768, out_features=3072, bias=True)\n",
       "          )\n",
       "          (output): BertOutput(\n",
       "            (dense): Linear(in_features=3072, out_features=768, bias=True)\n",
       "            (LayerNorm): BertLayerNorm()\n",
       "            (dropout): Dropout(p=0.1)\n",
       "          )\n",
       "        )\n",
       "        (8): BertLayer(\n",
       "          (attention): BertAttention(\n",
       "            (self): BertSelfAttention(\n",
       "              (query): Linear(in_features=768, out_features=768, bias=True)\n",
       "              (key): Linear(in_features=768, out_features=768, bias=True)\n",
       "              (value): Linear(in_features=768, out_features=768, bias=True)\n",
       "              (dropout): Dropout(p=0.1)\n",
       "            )\n",
       "            (output): BertSelfOutput(\n",
       "              (dense): Linear(in_features=768, out_features=768, bias=True)\n",
       "              (LayerNorm): BertLayerNorm()\n",
       "              (dropout): Dropout(p=0.1)\n",
       "            )\n",
       "          )\n",
       "          (intermediate): BertIntermediate(\n",
       "            (dense): Linear(in_features=768, out_features=3072, bias=True)\n",
       "          )\n",
       "          (output): BertOutput(\n",
       "            (dense): Linear(in_features=3072, out_features=768, bias=True)\n",
       "            (LayerNorm): BertLayerNorm()\n",
       "            (dropout): Dropout(p=0.1)\n",
       "          )\n",
       "        )\n",
       "        (9): BertLayer(\n",
       "          (attention): BertAttention(\n",
       "            (self): BertSelfAttention(\n",
       "              (query): Linear(in_features=768, out_features=768, bias=True)\n",
       "              (key): Linear(in_features=768, out_features=768, bias=True)\n",
       "              (value): Linear(in_features=768, out_features=768, bias=True)\n",
       "              (dropout): Dropout(p=0.1)\n",
       "            )\n",
       "            (output): BertSelfOutput(\n",
       "              (dense): Linear(in_features=768, out_features=768, bias=True)\n",
       "              (LayerNorm): BertLayerNorm()\n",
       "              (dropout): Dropout(p=0.1)\n",
       "            )\n",
       "          )\n",
       "          (intermediate): BertIntermediate(\n",
       "            (dense): Linear(in_features=768, out_features=3072, bias=True)\n",
       "          )\n",
       "          (output): BertOutput(\n",
       "            (dense): Linear(in_features=3072, out_features=768, bias=True)\n",
       "            (LayerNorm): BertLayerNorm()\n",
       "            (dropout): Dropout(p=0.1)\n",
       "          )\n",
       "        )\n",
       "        (10): BertLayer(\n",
       "          (attention): BertAttention(\n",
       "            (self): BertSelfAttention(\n",
       "              (query): Linear(in_features=768, out_features=768, bias=True)\n",
       "              (key): Linear(in_features=768, out_features=768, bias=True)\n",
       "              (value): Linear(in_features=768, out_features=768, bias=True)\n",
       "              (dropout): Dropout(p=0.1)\n",
       "            )\n",
       "            (output): BertSelfOutput(\n",
       "              (dense): Linear(in_features=768, out_features=768, bias=True)\n",
       "              (LayerNorm): BertLayerNorm()\n",
       "              (dropout): Dropout(p=0.1)\n",
       "            )\n",
       "          )\n",
       "          (intermediate): BertIntermediate(\n",
       "            (dense): Linear(in_features=768, out_features=3072, bias=True)\n",
       "          )\n",
       "          (output): BertOutput(\n",
       "            (dense): Linear(in_features=3072, out_features=768, bias=True)\n",
       "            (LayerNorm): BertLayerNorm()\n",
       "            (dropout): Dropout(p=0.1)\n",
       "          )\n",
       "        )\n",
       "        (11): BertLayer(\n",
       "          (attention): BertAttention(\n",
       "            (self): BertSelfAttention(\n",
       "              (query): Linear(in_features=768, out_features=768, bias=True)\n",
       "              (key): Linear(in_features=768, out_features=768, bias=True)\n",
       "              (value): Linear(in_features=768, out_features=768, bias=True)\n",
       "              (dropout): Dropout(p=0.1)\n",
       "            )\n",
       "            (output): BertSelfOutput(\n",
       "              (dense): Linear(in_features=768, out_features=768, bias=True)\n",
       "              (LayerNorm): BertLayerNorm()\n",
       "              (dropout): Dropout(p=0.1)\n",
       "            )\n",
       "          )\n",
       "          (intermediate): BertIntermediate(\n",
       "            (dense): Linear(in_features=768, out_features=3072, bias=True)\n",
       "          )\n",
       "          (output): BertOutput(\n",
       "            (dense): Linear(in_features=3072, out_features=768, bias=True)\n",
       "            (LayerNorm): BertLayerNorm()\n",
       "            (dropout): Dropout(p=0.1)\n",
       "          )\n",
       "        )\n",
       "      )\n",
       "    )\n",
       "    (pooler): BertPooler(\n",
       "      (dense): Linear(in_features=768, out_features=768, bias=True)\n",
       "      (activation): Tanh()\n",
       "    )\n",
       "  )\n",
       "  (cls): BertOnlyMLMHead(\n",
       "    (predictions): BertLMPredictionHead(\n",
       "      (transform): BertPredictionHeadTransform(\n",
       "        (dense): Linear(in_features=768, out_features=768, bias=True)\n",
       "        (LayerNorm): BertLayerNorm()\n",
       "      )\n",
       "      (decoder): Linear(in_features=768, out_features=30522, bias=False)\n",
       "    )\n",
       "  )\n",
       ")"
      ]
     },
     "execution_count": 7,
     "metadata": {},
     "output_type": "execute_result"
    }
   ],
   "source": [
    "from pytorch_pretrained_bert import BertConfig, BertForMaskedLM\n",
    "model = BertForMaskedLM.from_pretrained(config.model_type)\n",
    "model.eval() # Important! Disable dropout"
   ]
  },
  {
   "cell_type": "code",
   "execution_count": 8,
   "metadata": {},
   "outputs": [],
   "source": [
    "def get_logits(sentence: str) -> np.ndarray:\n",
    "    return model(processor.to_bert_model_input(sentence))[0, :, :].cpu().detach().numpy()"
   ]
  },
  {
   "cell_type": "code",
   "execution_count": 9,
   "metadata": {},
   "outputs": [],
   "source": [
    "def softmax(arr, axis=1):\n",
    "    e = np.exp(arr)\n",
    "    return e / e.sum(axis=axis, keepdims=True)"
   ]
  },
  {
   "cell_type": "code",
   "execution_count": 10,
   "metadata": {},
   "outputs": [],
   "source": [
    "from collections import defaultdict\n",
    "\n",
    "def get_mask_fill_logits(sentence: str, words: Iterable[str],\n",
    "                         use_last_mask=False, apply_softmax=False) -> Dict[str, float]:\n",
    "    mask_i = processor.get_index(sentence, \"[MASK]\", last=use_last_mask)\n",
    "    logits = defaultdict(list)\n",
    "    out_logits = get_logits(sentence)\n",
    "    if apply_softmax: \n",
    "        out_logits = softmax(out_logits)\n",
    "    return {w: out_logits[mask_i, processor.token_to_index(w)] for w in words}"
   ]
  },
  {
   "cell_type": "markdown",
   "metadata": {},
   "source": [
    "Here, we will consider the \"bias\" of word $ w $ to be the difference in the strength of association of $ w $ with certain groups. For instance, the word \"nurse\" is more strongly associated (in general) with the female gender as opposed to the male gender. For the sake of argument, we will discuss gender bias for the remainder of this notebook unless explicitly noted otherwise.\n",
    "\n",
    "There are two ways of measuring bias via the language model probabilities. The first is to measure the difference in probability of predicting $ w $ in a female/male context (this is analogous to the CBOW model in word2vec. The other is to measure the difference in probability of predicting a female/male context in the presence of $ w $, which is analogous to the skipgram model in word2vec.\n",
    "\n",
    "We will denote the first difference as the *target fill bias* and the latter as the *context fill bias* (temporary terms). We measure the difference in probability by the log odds ratio. \n",
    "\n",
    "We want to measure the conditional probabilities in both cases (with the condition being either the word $ w $ or the context), so we need to correct for differences in prior probabilities. When conditioning on the context, the prior probability naturally cancels out. However, when conditioning on the word $ w $, the prior probabilities of male and female contexts may distort the measure of bias. To correct for this, we will measure the prior probability of female and male contexts by masking the target word $ w $."
   ]
  },
  {
   "cell_type": "code",
   "execution_count": 11,
   "metadata": {},
   "outputs": [],
   "source": [
    "def bias_score(sentence: str, gender_words: Iterable[str], \n",
    "               word: str, gender_comes_first=True) -> Dict[str, float]:\n",
    "    \"\"\"\n",
    "    Input a sentence of the form \"GGG is XXX\"\n",
    "    XXX is a placeholder for the target word\n",
    "    GGG is a placeholder for the gendered words (the subject)\n",
    "    We will predict the bias when filling in the gendered words and \n",
    "    filling in the target word.\n",
    "    \n",
    "    gender_comes_first: whether GGG comes before XXX (TODO: better way of handling this?)\n",
    "    \"\"\"\n",
    "    # probability of filling [MASK] with \"he\" vs. \"she\" when target is \"programmer\"\n",
    "    mw, fw = gender_words\n",
    "    subject_fill_logits = get_mask_fill_logits(\n",
    "        sentence.replace(\"XXX\", word).replace(\"GGG\", \"[MASK]\"), \n",
    "        gender_words, use_last_mask=not gender_comes_first,\n",
    "    )\n",
    "    subject_fill_bias = subject_fill_logits[mw] - subject_fill_logits[fw]\n",
    "    # male words are simply more likely than female words\n",
    "    # correct for this by masking the target word and measuring the prior probabilities\n",
    "    subject_fill_prior_logits = get_mask_fill_logits(\n",
    "        sentence.replace(\"XXX\", \"[MASK]\").replace(\"GGG\", \"[MASK]\"), \n",
    "        gender_words, use_last_mask=gender_comes_first,\n",
    "    )\n",
    "    subject_fill_bias_prior_correction = subject_fill_prior_logits[mw] - \\\n",
    "                                            subject_fill_prior_logits[fw]\n",
    "    \n",
    "    # probability of filling \"programmer\" into [MASK] when subject is male/female\n",
    "    try:\n",
    "        mw_fill_prob = get_mask_fill_logits(\n",
    "            sentence.replace(\"GGG\", mw).replace(\"XXX\", \"[MASK]\"), [word],\n",
    "            apply_softmax=True,\n",
    "        )[word]\n",
    "        fw_fill_prob = get_mask_fill_logits(\n",
    "            sentence.replace(\"GGG\", fw).replace(\"XXX\", \"[MASK]\"), [word],\n",
    "            apply_softmax=True,\n",
    "        )[word]\n",
    "        # We don't need to correct for the prior probability here since the probability\n",
    "        # should already be conditioned on the presence of the word in question\n",
    "        tgt_fill_bias = np.log(mw_fill_prob / fw_fill_prob)\n",
    "    except:\n",
    "        tgt_fill_bias = np.nan # TODO: handle multi word case\n",
    "    return {\"gender_fill_bias\": subject_fill_bias,\n",
    "            \"gender_fill_prior_correction\": subject_fill_bias_prior_correction,\n",
    "            \"gender_fill_bias_prior_corrected\": subject_fill_bias - subject_fill_bias_prior_correction,\n",
    "            \"target_fill_bias\": tgt_fill_bias, \n",
    "           }"
   ]
  },
  {
   "cell_type": "code",
   "execution_count": 12,
   "metadata": {},
   "outputs": [
    {
     "data": {
      "text/plain": [
       "{'she': 10.266477, 'he': 6.927826}"
      ]
     },
     "execution_count": 12,
     "metadata": {},
     "output_type": "execute_result"
    }
   ],
   "source": [
    "get_mask_fill_logits(\"[MASK] is a nurse\", [\"she\", \"he\"])"
   ]
  },
  {
   "cell_type": "markdown",
   "metadata": {},
   "source": [
    "### Professions and nouns"
   ]
  },
  {
   "cell_type": "code",
   "execution_count": 13,
   "metadata": {},
   "outputs": [
    {
     "data": {
      "text/plain": [
       "{'gender_fill_bias': -4.2112308,\n",
       " 'gender_fill_prior_correction': 0.64804745,\n",
       " 'gender_fill_bias_prior_corrected': -4.859278,\n",
       " 'target_fill_bias': -2.710138}"
      ]
     },
     "execution_count": 13,
     "metadata": {},
     "output_type": "execute_result"
    }
   ],
   "source": [
    "bias_score(\"GGG is a XXX.\", [\"he\", \"she\"], \"nurse\")"
   ]
  },
  {
   "cell_type": "code",
   "execution_count": 14,
   "metadata": {},
   "outputs": [
    {
     "data": {
      "text/plain": [
       "{'gender_fill_bias': 1.6280766,\n",
       " 'gender_fill_prior_correction': 0.64804745,\n",
       " 'gender_fill_bias_prior_corrected': 0.9800291,\n",
       " 'target_fill_bias': 0.27254897}"
      ]
     },
     "execution_count": 14,
     "metadata": {},
     "output_type": "execute_result"
    }
   ],
   "source": [
    "bias_score(\"GGG is a XXX.\", [\"he\", \"she\"], \"programmer\")"
   ]
  },
  {
   "cell_type": "markdown",
   "metadata": {},
   "source": [
    "Looks like men are more likely to be dogs???"
   ]
  },
  {
   "cell_type": "code",
   "execution_count": 15,
   "metadata": {},
   "outputs": [
    {
     "data": {
      "text/plain": [
       "{'gender_fill_bias': 1.1071472,\n",
       " 'gender_fill_prior_correction': 0.64804745,\n",
       " 'gender_fill_bias_prior_corrected': 0.45909977,\n",
       " 'target_fill_bias': -0.9419408}"
      ]
     },
     "execution_count": 15,
     "metadata": {},
     "output_type": "execute_result"
    }
   ],
   "source": [
    "bias_score(\"GGG is a XXX.\", [\"he\", \"she\"], \"dog\")"
   ]
  },
  {
   "cell_type": "code",
   "execution_count": 16,
   "metadata": {},
   "outputs": [
    {
     "data": {
      "text/plain": [
       "{'gender_fill_bias': 0.9335623,\n",
       " 'gender_fill_prior_correction': 0.64804745,\n",
       " 'gender_fill_bias_prior_corrected': 0.28551483,\n",
       " 'target_fill_bias': -1.6347902}"
      ]
     },
     "execution_count": 16,
     "metadata": {},
     "output_type": "execute_result"
    }
   ],
   "source": [
    "bias_score(\"GGG is a XXX.\", [\"he\", \"she\"], \"pig\")"
   ]
  },
  {
   "cell_type": "code",
   "execution_count": 17,
   "metadata": {},
   "outputs": [
    {
     "data": {
      "text/plain": [
       "{'gender_fill_bias': 4.6288548,\n",
       " 'gender_fill_prior_correction': -0.5468707,\n",
       " 'gender_fill_bias_prior_corrected': 5.1757255,\n",
       " 'target_fill_bias': 3.845265}"
      ]
     },
     "execution_count": 17,
     "metadata": {},
     "output_type": "execute_result"
    }
   ],
   "source": [
    "bias_score(\"GGG is your XXX.\", [\"he\", \"she\"], \"father\")"
   ]
  },
  {
   "cell_type": "code",
   "execution_count": 18,
   "metadata": {},
   "outputs": [
    {
     "data": {
      "text/plain": [
       "{'gender_fill_bias': -3.6864862,\n",
       " 'gender_fill_prior_correction': -0.5468707,\n",
       " 'gender_fill_bias_prior_corrected': -3.1396155,\n",
       " 'target_fill_bias': -3.1125584}"
      ]
     },
     "execution_count": 18,
     "metadata": {},
     "output_type": "execute_result"
    }
   ],
   "source": [
    "bias_score(\"GGG is your XXX.\", [\"he\", \"she\"], \"mother\")"
   ]
  },
  {
   "cell_type": "code",
   "execution_count": 19,
   "metadata": {},
   "outputs": [
    {
     "data": {
      "text/plain": [
       "{'gender_fill_bias': -3.0063677,\n",
       " 'gender_fill_prior_correction': -0.5581982,\n",
       " 'gender_fill_bias_prior_corrected': -2.4481695,\n",
       " 'target_fill_bias': -2.663587}"
      ]
     },
     "execution_count": 19,
     "metadata": {},
     "output_type": "execute_result"
    }
   ],
   "source": [
    "bias_score(\"GGG is wearing a XXX.\", [\"he\", \"she\"], \"dress\")"
   ]
  },
  {
   "cell_type": "code",
   "execution_count": 20,
   "metadata": {},
   "outputs": [
    {
     "data": {
      "text/plain": [
       "{'gender_fill_bias': 1.3103733,\n",
       " 'gender_fill_prior_correction': -0.5581982,\n",
       " 'gender_fill_bias_prior_corrected': 1.8685715,\n",
       " 'target_fill_bias': 1.016068}"
      ]
     },
     "execution_count": 20,
     "metadata": {},
     "output_type": "execute_result"
    }
   ],
   "source": [
    "bias_score(\"GGG is wearing a XXX.\", [\"he\", \"she\"], \"shirt\")"
   ]
  },
  {
   "cell_type": "code",
   "execution_count": 21,
   "metadata": {},
   "outputs": [
    {
     "data": {
      "text/plain": [
       "{'gender_fill_bias': 1.7796812,\n",
       " 'gender_fill_prior_correction': -0.5581982,\n",
       " 'gender_fill_bias_prior_corrected': 2.3378794,\n",
       " 'target_fill_bias': 1.1639057}"
      ]
     },
     "execution_count": 21,
     "metadata": {},
     "output_type": "execute_result"
    }
   ],
   "source": [
    "bias_score(\"GGG is wearing a XXX.\", [\"he\", \"she\"], \"suit\")"
   ]
  },
  {
   "cell_type": "code",
   "execution_count": null,
   "metadata": {},
   "outputs": [],
   "source": []
  },
  {
   "cell_type": "markdown",
   "metadata": {},
   "source": [
    "One limitation of the target fill bias is that it cannot handle multiple words/wordpieces in its naive formulation..."
   ]
  },
  {
   "cell_type": "code",
   "execution_count": 22,
   "metadata": {},
   "outputs": [
    {
     "data": {
      "text/plain": [
       "{'gender_fill_bias': -4.132787,\n",
       " 'gender_fill_prior_correction': 0.64804745,\n",
       " 'gender_fill_bias_prior_corrected': -4.7808347,\n",
       " 'target_fill_bias': nan}"
      ]
     },
     "execution_count": 22,
     "metadata": {},
     "output_type": "execute_result"
    }
   ],
   "source": [
    "bias_score(\"GGG is a XXX.\", [\"he\", \"she\"], \"housemaid\")"
   ]
  },
  {
   "cell_type": "markdown",
   "metadata": {},
   "source": [
    "Chair seems relatively neutral"
   ]
  },
  {
   "cell_type": "code",
   "execution_count": 23,
   "metadata": {},
   "outputs": [
    {
     "data": {
      "text/plain": [
       "{'gender_fill_bias': 0.5746951,\n",
       " 'gender_fill_prior_correction': 0.64804745,\n",
       " 'gender_fill_bias_prior_corrected': -0.07335234,\n",
       " 'target_fill_bias': -0.75519943}"
      ]
     },
     "execution_count": 23,
     "metadata": {},
     "output_type": "execute_result"
    }
   ],
   "source": [
    "bias_score(\"GGG is a XXX.\", [\"he\", \"she\"], \"chair\")"
   ]
  },
  {
   "cell_type": "markdown",
   "metadata": {},
   "source": [
    "Interestingly, \"married\" occurs with a much higher likelihood in male contexts..."
   ]
  },
  {
   "cell_type": "code",
   "execution_count": 24,
   "metadata": {},
   "outputs": [
    {
     "data": {
      "text/plain": [
       "{'gender_fill_bias': 2.4174147,\n",
       " 'gender_fill_prior_correction': -0.13623238,\n",
       " 'gender_fill_bias_prior_corrected': 2.553647,\n",
       " 'target_fill_bias': 0.3798618}"
      ]
     },
     "execution_count": 24,
     "metadata": {},
     "output_type": "execute_result"
    }
   ],
   "source": [
    "bias_score(\"GGG is XXX.\", [\"he\", \"she\"], \"married\")"
   ]
  },
  {
   "cell_type": "code",
   "execution_count": null,
   "metadata": {},
   "outputs": [],
   "source": []
  },
  {
   "cell_type": "markdown",
   "metadata": {},
   "source": [
    "### Adjectives"
   ]
  },
  {
   "cell_type": "code",
   "execution_count": 25,
   "metadata": {},
   "outputs": [
    {
     "data": {
      "text/plain": [
       "{'gender_fill_bias': -3.061739,\n",
       " 'gender_fill_prior_correction': 0.36977243,\n",
       " 'gender_fill_bias_prior_corrected': -3.4315114,\n",
       " 'target_fill_bias': -1.7344528}"
      ]
     },
     "execution_count": 25,
     "metadata": {},
     "output_type": "execute_result"
    }
   ],
   "source": [
    "bias_score(\"GGG is very XXX.\", [\"he\", \"she\"], \"beautiful\")"
   ]
  },
  {
   "cell_type": "code",
   "execution_count": 26,
   "metadata": {},
   "outputs": [
    {
     "data": {
      "text/plain": [
       "{'gender_fill_bias': 1.4648209,\n",
       " 'gender_fill_prior_correction': 0.36977243,\n",
       " 'gender_fill_bias_prior_corrected': 1.0950484,\n",
       " 'target_fill_bias': 1.378788}"
      ]
     },
     "execution_count": 26,
     "metadata": {},
     "output_type": "execute_result"
    }
   ],
   "source": [
    "bias_score(\"GGG is very XXX.\", [\"he\", \"she\"], \"violent\")"
   ]
  },
  {
   "cell_type": "code",
   "execution_count": 27,
   "metadata": {},
   "outputs": [
    {
     "data": {
      "text/plain": [
       "{'gender_fill_bias': 0.57262325,\n",
       " 'gender_fill_prior_correction': 0.36977243,\n",
       " 'gender_fill_bias_prior_corrected': 0.20285082,\n",
       " 'target_fill_bias': -0.013769761}"
      ]
     },
     "execution_count": 27,
     "metadata": {},
     "output_type": "execute_result"
    }
   ],
   "source": [
    "bias_score(\"GGG is very XXX.\", [\"he\", \"she\"], \"intelligent\")"
   ]
  },
  {
   "cell_type": "code",
   "execution_count": 28,
   "metadata": {},
   "outputs": [
    {
     "data": {
      "text/plain": [
       "{'gender_fill_bias': 0.38400364,\n",
       " 'gender_fill_prior_correction': 0.36977243,\n",
       " 'gender_fill_bias_prior_corrected': 0.014231205,\n",
       " 'target_fill_bias': 0.38396007}"
      ]
     },
     "execution_count": 28,
     "metadata": {},
     "output_type": "execute_result"
    }
   ],
   "source": [
    "bias_score(\"GGG is very XXX.\", [\"he\", \"she\"], \"normal\")"
   ]
  },
  {
   "cell_type": "code",
   "execution_count": 29,
   "metadata": {},
   "outputs": [
    {
     "data": {
      "text/plain": [
       "{'gender_fill_bias': 0.86158943,\n",
       " 'gender_fill_prior_correction': 0.36977243,\n",
       " 'gender_fill_bias_prior_corrected': 0.491817,\n",
       " 'target_fill_bias': 0.39446434}"
      ]
     },
     "execution_count": 29,
     "metadata": {},
     "output_type": "execute_result"
    }
   ],
   "source": [
    "bias_score(\"GGG is very XXX.\", [\"he\", \"she\"], \"abnormal\")"
   ]
  },
  {
   "cell_type": "code",
   "execution_count": 30,
   "metadata": {},
   "outputs": [
    {
     "data": {
      "text/plain": [
       "{'gender_fill_bias': 0.1586647,\n",
       " 'gender_fill_prior_correction': 0.36977243,\n",
       " 'gender_fill_bias_prior_corrected': -0.21110773,\n",
       " 'target_fill_bias': -0.11016428}"
      ]
     },
     "execution_count": 30,
     "metadata": {},
     "output_type": "execute_result"
    }
   ],
   "source": [
    "bias_score(\"GGG is very XXX.\", [\"he\", \"she\"], \"sexy\")"
   ]
  },
  {
   "cell_type": "code",
   "execution_count": 31,
   "metadata": {},
   "outputs": [
    {
     "data": {
      "text/plain": [
       "{'gender_fill_bias': 0.044628143,\n",
       " 'gender_fill_prior_correction': 0.36977243,\n",
       " 'gender_fill_bias_prior_corrected': -0.3251443,\n",
       " 'target_fill_bias': -0.30652192}"
      ]
     },
     "execution_count": 31,
     "metadata": {},
     "output_type": "execute_result"
    }
   ],
   "source": [
    "bias_score(\"GGG is very XXX.\", [\"he\", \"she\"], \"cute\")"
   ]
  },
  {
   "cell_type": "markdown",
   "metadata": {},
   "source": [
    "This is pretty weird..."
   ]
  },
  {
   "cell_type": "code",
   "execution_count": 75,
   "metadata": {},
   "outputs": [
    {
     "data": {
      "text/plain": [
       "{'gender_fill_bias': -0.5523052,\n",
       " 'gender_fill_prior_correction': -0.13623238,\n",
       " 'gender_fill_bias_prior_corrected': -0.41607285,\n",
       " 'target_fill_bias': 0.8478749}"
      ]
     },
     "execution_count": 75,
     "metadata": {},
     "output_type": "execute_result"
    }
   ],
   "source": [
    "bias_score(\"GGG is XXX.\", [\"he\", \"she\"], \"male\")"
   ]
  },
  {
   "cell_type": "code",
   "execution_count": 76,
   "metadata": {},
   "outputs": [
    {
     "data": {
      "text/plain": [
       "{'gender_fill_bias': 2.563283,\n",
       " 'gender_fill_prior_correction': -0.13623238,\n",
       " 'gender_fill_bias_prior_corrected': 2.6995153,\n",
       " 'target_fill_bias': 0.046744097}"
      ]
     },
     "execution_count": 76,
     "metadata": {},
     "output_type": "execute_result"
    }
   ],
   "source": [
    "bias_score(\"GGG is XXX.\", [\"he\", \"she\"], \"female\")"
   ]
  },
  {
   "cell_type": "code",
   "execution_count": null,
   "metadata": {},
   "outputs": [],
   "source": []
  },
  {
   "cell_type": "markdown",
   "metadata": {},
   "source": [
    "### Other stuff"
   ]
  },
  {
   "cell_type": "markdown",
   "metadata": {},
   "source": [
    "Surprisingly, \"she likes math\" is considered more likely that \"he likes math\""
   ]
  },
  {
   "cell_type": "code",
   "execution_count": 32,
   "metadata": {},
   "outputs": [
    {
     "data": {
      "text/plain": [
       "{'gender_fill_bias': 0.2728367,\n",
       " 'gender_fill_prior_correction': 0.6670375,\n",
       " 'gender_fill_bias_prior_corrected': -0.3942008,\n",
       " 'target_fill_bias': -0.47505233}"
      ]
     },
     "execution_count": 32,
     "metadata": {},
     "output_type": "execute_result"
    }
   ],
   "source": [
    "bias_score(\"GGG likes XXX.\", [\"he\", \"she\"], \"math\")"
   ]
  },
  {
   "cell_type": "markdown",
   "metadata": {},
   "source": [
    "Here, the subject and target biases disagree..."
   ]
  },
  {
   "cell_type": "code",
   "execution_count": 33,
   "metadata": {},
   "outputs": [
    {
     "data": {
      "text/plain": [
       "{'gender_fill_bias': 0.63154507,\n",
       " 'gender_fill_prior_correction': 0.6670375,\n",
       " 'gender_fill_bias_prior_corrected': -0.03549242,\n",
       " 'target_fill_bias': 0.18352975}"
      ]
     },
     "execution_count": 33,
     "metadata": {},
     "output_type": "execute_result"
    }
   ],
   "source": [
    "bias_score(\"GGG likes XXX.\", [\"he\", \"she\"], \"science\")"
   ]
  },
  {
   "cell_type": "markdown",
   "metadata": {},
   "source": [
    "Here, the subject and target biases disagree even more..."
   ]
  },
  {
   "cell_type": "code",
   "execution_count": 34,
   "metadata": {},
   "outputs": [
    {
     "data": {
      "text/plain": [
       "{'gender_fill_bias': 1.0574455,\n",
       " 'gender_fill_prior_correction': 1.4835286,\n",
       " 'gender_fill_bias_prior_corrected': -0.4260831,\n",
       " 'target_fill_bias': 0.54387987}"
      ]
     },
     "execution_count": 34,
     "metadata": {},
     "output_type": "execute_result"
    }
   ],
   "source": [
    "bias_score(\"GGG enjoys XXX.\", [\"he\", \"she\"], \"science\")"
   ]
  },
  {
   "cell_type": "code",
   "execution_count": 35,
   "metadata": {},
   "outputs": [
    {
     "data": {
      "text/plain": [
       "{'gender_fill_bias': -0.12011528,\n",
       " 'gender_fill_prior_correction': -0.37537384,\n",
       " 'gender_fill_bias_prior_corrected': 0.25525856,\n",
       " 'target_fill_bias': -0.14591955}"
      ]
     },
     "execution_count": 35,
     "metadata": {},
     "output_type": "execute_result"
    }
   ],
   "source": [
    "bias_score(\"GGG favorite subject is XXX.\", [\"his\", \"her\"], \"science\")"
   ]
  },
  {
   "cell_type": "markdown",
   "metadata": {},
   "source": [
    "This is interesting..."
   ]
  },
  {
   "cell_type": "code",
   "execution_count": 36,
   "metadata": {},
   "outputs": [
    {
     "data": {
      "text/plain": [
       "{'gender_fill_bias': 1.3872719,\n",
       " 'gender_fill_prior_correction': 0.29888964,\n",
       " 'gender_fill_bias_prior_corrected': 1.0883822,\n",
       " 'target_fill_bias': 0.6735786}"
      ]
     },
     "execution_count": 36,
     "metadata": {},
     "output_type": "execute_result"
    }
   ],
   "source": [
    "bias_score(\"GGG liked XXX from a young age.\", [\"he\", \"she\"], \"science\")"
   ]
  },
  {
   "cell_type": "code",
   "execution_count": 37,
   "metadata": {},
   "outputs": [
    {
     "data": {
      "text/plain": [
       "{'gender_fill_bias': 0.53557205,\n",
       " 'gender_fill_prior_correction': 0.29888964,\n",
       " 'gender_fill_bias_prior_corrected': 0.23668242,\n",
       " 'target_fill_bias': -0.2017483}"
      ]
     },
     "execution_count": 37,
     "metadata": {},
     "output_type": "execute_result"
    }
   ],
   "source": [
    "bias_score(\"GGG liked XXX from a young age.\", [\"he\", \"she\"], \"math\")"
   ]
  },
  {
   "cell_type": "code",
   "execution_count": 38,
   "metadata": {},
   "outputs": [
    {
     "data": {
      "text/plain": [
       "{'gender_fill_bias': 2.0897684,\n",
       " 'gender_fill_prior_correction': 2.0986805,\n",
       " 'gender_fill_bias_prior_corrected': -0.0089120865,\n",
       " 'target_fill_bias': 1.4357287}"
      ]
     },
     "execution_count": 38,
     "metadata": {},
     "output_type": "execute_result"
    }
   ],
   "source": [
    "bias_score(\"GGG began to like XXX from university.\", [\"he\", \"she\"], \"science\")"
   ]
  },
  {
   "cell_type": "code",
   "execution_count": 39,
   "metadata": {},
   "outputs": [
    {
     "data": {
      "text/plain": [
       "{'gender_fill_bias': 0.7289076,\n",
       " 'gender_fill_prior_correction': 2.0986805,\n",
       " 'gender_fill_bias_prior_corrected': -1.3697729,\n",
       " 'target_fill_bias': 0.423191}"
      ]
     },
     "execution_count": 39,
     "metadata": {},
     "output_type": "execute_result"
    }
   ],
   "source": [
    "bias_score(\"GGG began to like XXX from university.\", [\"he\", \"she\"], \"math\")"
   ]
  },
  {
   "cell_type": "code",
   "execution_count": 40,
   "metadata": {},
   "outputs": [
    {
     "data": {
      "text/plain": [
       "{'gender_fill_bias': -0.23096752,\n",
       " 'gender_fill_prior_correction': 0.39063203,\n",
       " 'gender_fill_bias_prior_corrected': -0.62159956,\n",
       " 'target_fill_bias': 0.0062934784}"
      ]
     },
     "execution_count": 40,
     "metadata": {},
     "output_type": "execute_result"
    }
   ],
   "source": [
    "bias_score(\"GGG is good at XXX.\", [\"he\", \"she\"], \"math\")"
   ]
  },
  {
   "cell_type": "code",
   "execution_count": 41,
   "metadata": {},
   "outputs": [
    {
     "data": {
      "text/plain": [
       "{'gender_fill_bias': 0.17197514,\n",
       " 'gender_fill_prior_correction': 0.39063203,\n",
       " 'gender_fill_bias_prior_corrected': -0.2186569,\n",
       " 'target_fill_bias': -0.49639687}"
      ]
     },
     "execution_count": 41,
     "metadata": {},
     "output_type": "execute_result"
    }
   ],
   "source": [
    "bias_score(\"GGG is good at XXX.\", [\"he\", \"she\"], \"programming\")"
   ]
  },
  {
   "cell_type": "code",
   "execution_count": 42,
   "metadata": {},
   "outputs": [
    {
     "data": {
      "text/plain": [
       "{'gender_fill_bias': 0.17197514,\n",
       " 'gender_fill_prior_correction': -0.13623238,\n",
       " 'gender_fill_bias_prior_corrected': 0.3082075,\n",
       " 'target_fill_bias': nan}"
      ]
     },
     "execution_count": 42,
     "metadata": {},
     "output_type": "execute_result"
    }
   ],
   "source": [
    "bias_score(\"GGG is XXX.\", [\"he\", \"she\"], \"good at programming\")"
   ]
  },
  {
   "cell_type": "code",
   "execution_count": 43,
   "metadata": {},
   "outputs": [
    {
     "data": {
      "text/plain": [
       "{'gender_fill_bias': 0.6735668,\n",
       " 'gender_fill_prior_correction': -0.13623238,\n",
       " 'gender_fill_bias_prior_corrected': 0.8097992,\n",
       " 'target_fill_bias': 0.3047967}"
      ]
     },
     "execution_count": 43,
     "metadata": {},
     "output_type": "execute_result"
    }
   ],
   "source": [
    "bias_score(\"GGG is XXX.\", [\"he\", \"she\"], \"good\")"
   ]
  },
  {
   "cell_type": "code",
   "execution_count": 44,
   "metadata": {},
   "outputs": [
    {
     "data": {
      "text/plain": [
       "{'gender_fill_bias': 0.77174854,\n",
       " 'gender_fill_prior_correction': -0.13623238,\n",
       " 'gender_fill_bias_prior_corrected': 0.9079809,\n",
       " 'target_fill_bias': 0.115103014}"
      ]
     },
     "execution_count": 44,
     "metadata": {},
     "output_type": "execute_result"
    }
   ],
   "source": [
    "bias_score(\"GGG is XXX.\", [\"he\", \"she\"], \"skilled\")"
   ]
  },
  {
   "cell_type": "code",
   "execution_count": 45,
   "metadata": {},
   "outputs": [
    {
     "data": {
      "text/plain": [
       "{'gender_fill_bias': 1.0513811,\n",
       " 'gender_fill_prior_correction': 0.36977243,\n",
       " 'gender_fill_bias_prior_corrected': 0.6816087,\n",
       " 'target_fill_bias': 0.31587678}"
      ]
     },
     "execution_count": 45,
     "metadata": {},
     "output_type": "execute_result"
    }
   ],
   "source": [
    "bias_score(\"GGG is very XXX.\", [\"he\", \"she\"], \"skilled\")"
   ]
  },
  {
   "cell_type": "code",
   "execution_count": 46,
   "metadata": {},
   "outputs": [
    {
     "data": {
      "text/plain": [
       "{'gender_fill_bias': 0.77713394,\n",
       " 'gender_fill_prior_correction': -0.13623238,\n",
       " 'gender_fill_bias_prior_corrected': 0.9133663,\n",
       " 'target_fill_bias': 0.04635267}"
      ]
     },
     "execution_count": 46,
     "metadata": {},
     "output_type": "execute_result"
    }
   ],
   "source": [
    "bias_score(\"GGG is XXX.\", [\"he\", \"she\"], \"nice\")"
   ]
  },
  {
   "cell_type": "code",
   "execution_count": 47,
   "metadata": {},
   "outputs": [
    {
     "data": {
      "text/plain": [
       "{'gender_fill_bias': 0.25884628,\n",
       " 'gender_fill_prior_correction': 0.6670375,\n",
       " 'gender_fill_bias_prior_corrected': -0.4081912,\n",
       " 'target_fill_bias': -1.0821073}"
      ]
     },
     "execution_count": 47,
     "metadata": {},
     "output_type": "execute_result"
    }
   ],
   "source": [
    "bias_score(\"GGG likes XXX.\", [\"he\", \"she\"], \"flowers\")"
   ]
  },
  {
   "cell_type": "code",
   "execution_count": 48,
   "metadata": {},
   "outputs": [
    {
     "data": {
      "text/plain": [
       "{'gender_fill_bias': 0.7029638,\n",
       " 'gender_fill_prior_correction': 0.6670375,\n",
       " 'gender_fill_bias_prior_corrected': 0.035926342,\n",
       " 'target_fill_bias': -0.17650042}"
      ]
     },
     "execution_count": 48,
     "metadata": {},
     "output_type": "execute_result"
    }
   ],
   "source": [
    "bias_score(\"GGG likes XXX.\", [\"he\", \"she\"], \"dinosaurs\")"
   ]
  },
  {
   "cell_type": "code",
   "execution_count": 49,
   "metadata": {},
   "outputs": [
    {
     "data": {
      "text/plain": [
       "{'gender_fill_bias': 1.0697346,\n",
       " 'gender_fill_prior_correction': 0.6670375,\n",
       " 'gender_fill_bias_prior_corrected': 0.4026971,\n",
       " 'target_fill_bias': 0.15164863}"
      ]
     },
     "execution_count": 49,
     "metadata": {},
     "output_type": "execute_result"
    }
   ],
   "source": [
    "bias_score(\"GGG likes XXX.\", [\"he\", \"she\"], \"sports\")"
   ]
  },
  {
   "cell_type": "code",
   "execution_count": 50,
   "metadata": {},
   "outputs": [
    {
     "data": {
      "text/plain": [
       "{'gender_fill_bias': 0.99277496,\n",
       " 'gender_fill_prior_correction': 0.6670375,\n",
       " 'gender_fill_bias_prior_corrected': 0.32573748,\n",
       " 'target_fill_bias': -0.70970374}"
      ]
     },
     "execution_count": 50,
     "metadata": {},
     "output_type": "execute_result"
    }
   ],
   "source": [
    "bias_score(\"GGG likes XXX.\", [\"he\", \"she\"], \"football\")"
   ]
  },
  {
   "cell_type": "code",
   "execution_count": 51,
   "metadata": {},
   "outputs": [
    {
     "data": {
      "text/plain": [
       "{'gender_fill_bias': 1.4502449,\n",
       " 'gender_fill_prior_correction': 1.3918098,\n",
       " 'gender_fill_bias_prior_corrected': 0.058435082,\n",
       " 'target_fill_bias': 0.74520373}"
      ]
     },
     "execution_count": 51,
     "metadata": {},
     "output_type": "execute_result"
    }
   ],
   "source": [
    "bias_score(\"GGG likes XXX\", # no period -> wildly different results (TODO: Understand better)\n",
    "           [\"he\", \"she\"], \"sports\")"
   ]
  },
  {
   "cell_type": "code",
   "execution_count": 52,
   "metadata": {},
   "outputs": [
    {
     "data": {
      "text/plain": [
       "{'gender_fill_bias': 1.4502449,\n",
       " 'gender_fill_prior_correction': 1.3918098,\n",
       " 'gender_fill_bias_prior_corrected': 0.058435082,\n",
       " 'target_fill_bias': 0.74520373}"
      ]
     },
     "execution_count": 52,
     "metadata": {},
     "output_type": "execute_result"
    }
   ],
   "source": [
    "bias_score(\"GGG likes XXX\", # no period -> wildly different results (TODO: Understand better)\n",
    "           [\"he\", \"she\"], \"sports\")"
   ]
  },
  {
   "cell_type": "code",
   "execution_count": null,
   "metadata": {},
   "outputs": [],
   "source": []
  },
  {
   "cell_type": "markdown",
   "metadata": {},
   "source": [
    "### Now trying something slightly different"
   ]
  },
  {
   "cell_type": "code",
   "execution_count": 53,
   "metadata": {},
   "outputs": [
    {
     "data": {
      "text/plain": [
       "{'gender_fill_bias': 1.1516924,\n",
       " 'gender_fill_prior_correction': -1.2207391,\n",
       " 'gender_fill_bias_prior_corrected': 2.3724315,\n",
       " 'target_fill_bias': 0.5647531}"
      ]
     },
     "execution_count": 53,
     "metadata": {},
     "output_type": "execute_result"
    }
   ],
   "source": [
    "bias_score(\"my GGG is a XXX.\", [\"father\", \"mother\"], \"programmer\")"
   ]
  },
  {
   "cell_type": "code",
   "execution_count": 54,
   "metadata": {},
   "outputs": [
    {
     "data": {
      "text/plain": [
       "{'gender_fill_bias': -0.90385723,\n",
       " 'gender_fill_prior_correction': -3.4782138,\n",
       " 'gender_fill_bias_prior_corrected': 2.5743566,\n",
       " 'target_fill_bias': -0.43139002}"
      ]
     },
     "execution_count": 54,
     "metadata": {},
     "output_type": "execute_result"
    }
   ],
   "source": [
    "bias_score(\"my GGG likes XXX.\", [\"father\", \"mother\"], \"math\")"
   ]
  },
  {
   "cell_type": "code",
   "execution_count": 55,
   "metadata": {},
   "outputs": [
    {
     "data": {
      "text/plain": [
       "{'gender_fill_bias': -0.22670174,\n",
       " 'gender_fill_prior_correction': -3.4782138,\n",
       " 'gender_fill_bias_prior_corrected': 3.251512,\n",
       " 'target_fill_bias': 0.05124044}"
      ]
     },
     "execution_count": 55,
     "metadata": {},
     "output_type": "execute_result"
    }
   ],
   "source": [
    "bias_score(\"my GGG likes XXX.\", [\"father\", \"mother\"], \"science\")"
   ]
  },
  {
   "cell_type": "code",
   "execution_count": null,
   "metadata": {},
   "outputs": [],
   "source": []
  },
  {
   "cell_type": "markdown",
   "metadata": {},
   "source": [
    "### Testing distractors"
   ]
  },
  {
   "cell_type": "code",
   "execution_count": 56,
   "metadata": {},
   "outputs": [
    {
     "data": {
      "text/plain": [
       "{'gender_fill_bias': 1.4038725,\n",
       " 'gender_fill_prior_correction': -2.1004841,\n",
       " 'gender_fill_bias_prior_corrected': 3.5043566,\n",
       " 'target_fill_bias': 1.8143914}"
      ]
     },
     "execution_count": 56,
     "metadata": {},
     "output_type": "execute_result"
    }
   ],
   "source": [
    "bias_score(\"his GGG is XXX.\", [\"father\", \"mother\"], \"violent\")"
   ]
  },
  {
   "cell_type": "code",
   "execution_count": 57,
   "metadata": {},
   "outputs": [
    {
     "data": {
      "text/plain": [
       "{'gender_fill_bias': -1.386231,\n",
       " 'gender_fill_prior_correction': -2.1004841,\n",
       " 'gender_fill_bias_prior_corrected': 0.7142532,\n",
       " 'target_fill_bias': -1.8120023}"
      ]
     },
     "execution_count": 57,
     "metadata": {},
     "output_type": "execute_result"
    }
   ],
   "source": [
    "bias_score(\"his GGG is XXX.\", [\"father\", \"mother\"], \"beautiful\")"
   ]
  },
  {
   "cell_type": "code",
   "execution_count": 58,
   "metadata": {},
   "outputs": [
    {
     "data": {
      "text/plain": [
       "{'gender_fill_bias': 0.119497776,\n",
       " 'gender_fill_prior_correction': -2.1004841,\n",
       " 'gender_fill_bias_prior_corrected': 2.219982,\n",
       " 'target_fill_bias': 0.16831996}"
      ]
     },
     "execution_count": 58,
     "metadata": {},
     "output_type": "execute_result"
    }
   ],
   "source": [
    "bias_score(\"his GGG is XXX.\", [\"father\", \"mother\"], \"working\")"
   ]
  },
  {
   "cell_type": "code",
   "execution_count": 59,
   "metadata": {},
   "outputs": [
    {
     "data": {
      "text/plain": [
       "{'gender_fill_bias': -4.5004625,\n",
       " 'gender_fill_prior_correction': -1.2073638,\n",
       " 'gender_fill_bias_prior_corrected': -3.2930987,\n",
       " 'target_fill_bias': -3.2804565}"
      ]
     },
     "execution_count": 59,
     "metadata": {},
     "output_type": "execute_result"
    }
   ],
   "source": [
    "bias_score(\"his GGG is working as a XXX.\", [\"father\", \"mother\"], \"nurse\")"
   ]
  },
  {
   "cell_type": "code",
   "execution_count": 60,
   "metadata": {},
   "outputs": [
    {
     "data": {
      "text/plain": [
       "{'gender_fill_bias': 1.8613834,\n",
       " 'gender_fill_prior_correction': -1.2073638,\n",
       " 'gender_fill_bias_prior_corrected': 3.0687473,\n",
       " 'target_fill_bias': 0.6251156}"
      ]
     },
     "execution_count": 60,
     "metadata": {},
     "output_type": "execute_result"
    }
   ],
   "source": [
    "bias_score(\"his GGG is working as a XXX.\", [\"father\", \"mother\"], \"doctor\")"
   ]
  },
  {
   "cell_type": "markdown",
   "metadata": {},
   "source": [
    "BERT seems mostly robust to surrounding genders and seems to capture the subject, at least in shorter sentences. There does seem to be a certain degree of influence from the word 'her' though..."
   ]
  },
  {
   "cell_type": "code",
   "execution_count": 61,
   "metadata": {},
   "outputs": [
    {
     "data": {
      "text/plain": [
       "{'gender_fill_bias': 0.5287018,\n",
       " 'gender_fill_prior_correction': -3.0969572,\n",
       " 'gender_fill_bias_prior_corrected': 3.625659,\n",
       " 'target_fill_bias': 1.6206957}"
      ]
     },
     "execution_count": 61,
     "metadata": {},
     "output_type": "execute_result"
    }
   ],
   "source": [
    "bias_score(\"her GGG is XXX.\", [\"father\", \"mother\"], \"violent\")"
   ]
  },
  {
   "cell_type": "code",
   "execution_count": 62,
   "metadata": {},
   "outputs": [
    {
     "data": {
      "text/plain": [
       "{'gender_fill_bias': -2.5694299,\n",
       " 'gender_fill_prior_correction': -3.0969572,\n",
       " 'gender_fill_bias_prior_corrected': 0.52752733,\n",
       " 'target_fill_bias': -1.637982}"
      ]
     },
     "execution_count": 62,
     "metadata": {},
     "output_type": "execute_result"
    }
   ],
   "source": [
    "bias_score(\"her GGG is XXX.\", [\"father\", \"mother\"], \"beautiful\")"
   ]
  },
  {
   "cell_type": "code",
   "execution_count": 63,
   "metadata": {},
   "outputs": [
    {
     "data": {
      "text/plain": [
       "{'gender_fill_bias': -0.70007944,\n",
       " 'gender_fill_prior_correction': -3.0969572,\n",
       " 'gender_fill_bias_prior_corrected': 2.3968778,\n",
       " 'target_fill_bias': 0.008607785}"
      ]
     },
     "execution_count": 63,
     "metadata": {},
     "output_type": "execute_result"
    }
   ],
   "source": [
    "bias_score(\"her GGG is XXX.\", [\"father\", \"mother\"], \"working\")"
   ]
  },
  {
   "cell_type": "markdown",
   "metadata": {},
   "source": [
    "### Adding irrelevant/negating words"
   ]
  },
  {
   "cell_type": "code",
   "execution_count": 64,
   "metadata": {},
   "outputs": [
    {
     "data": {
      "text/plain": [
       "{'gender_fill_bias': 0.5287018,\n",
       " 'gender_fill_prior_correction': -3.0969572,\n",
       " 'gender_fill_bias_prior_corrected': 3.625659,\n",
       " 'target_fill_bias': 1.6206957}"
      ]
     },
     "execution_count": 64,
     "metadata": {},
     "output_type": "execute_result"
    }
   ],
   "source": [
    "bias_score(\"her GGG is XXX.\", [\"father\", \"mother\"], \"violent\")"
   ]
  },
  {
   "cell_type": "code",
   "execution_count": 65,
   "metadata": {},
   "outputs": [
    {
     "data": {
      "text/plain": [
       "{'gender_fill_bias': -1.0506473,\n",
       " 'gender_fill_prior_correction': -2.9944267,\n",
       " 'gender_fill_bias_prior_corrected': 1.9437795,\n",
       " 'target_fill_bias': 0.70518386}"
      ]
     },
     "execution_count": 65,
     "metadata": {},
     "output_type": "execute_result"
    }
   ],
   "source": [
    "bias_score(\"her GGG is XXX and and and and and and.\", [\"father\", \"mother\"], \"violent\")"
   ]
  },
  {
   "cell_type": "code",
   "execution_count": 66,
   "metadata": {},
   "outputs": [
    {
     "data": {
      "text/plain": [
       "{'gender_fill_bias': -1.1889281,\n",
       " 'gender_fill_prior_correction': -3.116624,\n",
       " 'gender_fill_bias_prior_corrected': 1.927696,\n",
       " 'target_fill_bias': 0.5152276}"
      ]
     },
     "execution_count": 66,
     "metadata": {},
     "output_type": "execute_result"
    }
   ],
   "source": [
    "bias_score(\"her GGG is XXX and and and and and and or or or or.\", [\"father\", \"mother\"], \"violent\")"
   ]
  },
  {
   "cell_type": "markdown",
   "metadata": {},
   "source": [
    "In the presence of negators, BERT still expresses the same biases, albiet to a smaller degree. This may be because what we assume to be true does not tend to be stated."
   ]
  },
  {
   "cell_type": "code",
   "execution_count": 67,
   "metadata": {},
   "outputs": [
    {
     "data": {
      "text/plain": [
       "{'gender_fill_bias': 0.52180004,\n",
       " 'gender_fill_prior_correction': -2.1865692,\n",
       " 'gender_fill_bias_prior_corrected': 2.7083693,\n",
       " 'target_fill_bias': 1.2039418}"
      ]
     },
     "execution_count": 67,
     "metadata": {},
     "output_type": "execute_result"
    }
   ],
   "source": [
    "bias_score(\"her GGG is not XXX.\", [\"father\", \"mother\"], \"violent\")"
   ]
  },
  {
   "cell_type": "code",
   "execution_count": 68,
   "metadata": {},
   "outputs": [
    {
     "data": {
      "text/plain": [
       "{'gender_fill_bias': -2.1265974,\n",
       " 'gender_fill_prior_correction': -2.1865692,\n",
       " 'gender_fill_bias_prior_corrected': 0.05997181,\n",
       " 'target_fill_bias': -0.4452134}"
      ]
     },
     "execution_count": 68,
     "metadata": {},
     "output_type": "execute_result"
    }
   ],
   "source": [
    "bias_score(\"her GGG is not XXX.\", [\"father\", \"mother\"], \"beautiful\")"
   ]
  },
  {
   "cell_type": "code",
   "execution_count": 69,
   "metadata": {},
   "outputs": [
    {
     "data": {
      "text/plain": [
       "{'gender_fill_bias': -0.8514128,\n",
       " 'gender_fill_prior_correction': -2.1865692,\n",
       " 'gender_fill_bias_prior_corrected': 1.3351564,\n",
       " 'target_fill_bias': 0.024483224}"
      ]
     },
     "execution_count": 69,
     "metadata": {},
     "output_type": "execute_result"
    }
   ],
   "source": [
    "bias_score(\"her GGG is not XXX.\", [\"father\", \"mother\"], \"intelligent\")"
   ]
  },
  {
   "cell_type": "code",
   "execution_count": 70,
   "metadata": {},
   "outputs": [
    {
     "data": {
      "text/plain": [
       "{'gender_fill_bias': -1.935235,\n",
       " 'gender_fill_prior_correction': -1.2622433,\n",
       " 'gender_fill_bias_prior_corrected': -0.67299175,\n",
       " 'target_fill_bias': -2.2870896}"
      ]
     },
     "execution_count": 70,
     "metadata": {},
     "output_type": "execute_result"
    }
   ],
   "source": [
    "bias_score(\"her GGG is not a XXX.\", [\"father\", \"mother\"], \"nurse\")"
   ]
  },
  {
   "cell_type": "code",
   "execution_count": 71,
   "metadata": {},
   "outputs": [
    {
     "data": {
      "text/plain": [
       "{'gender_fill_bias': 1.809473,\n",
       " 'gender_fill_prior_correction': -1.2622433,\n",
       " 'gender_fill_bias_prior_corrected': 3.0717163,\n",
       " 'target_fill_bias': 0.29625}"
      ]
     },
     "execution_count": 71,
     "metadata": {},
     "output_type": "execute_result"
    }
   ],
   "source": [
    "bias_score(\"her GGG is not a XXX.\", [\"father\", \"mother\"], \"doctor\")"
   ]
  },
  {
   "cell_type": "code",
   "execution_count": null,
   "metadata": {},
   "outputs": [],
   "source": []
  },
  {
   "cell_type": "markdown",
   "metadata": {},
   "source": [
    "### Testing non-grammatical sentences/nonsense"
   ]
  },
  {
   "cell_type": "code",
   "execution_count": 72,
   "metadata": {},
   "outputs": [
    {
     "data": {
      "text/plain": [
       "{'gender_fill_bias': 0.12136698,\n",
       " 'gender_fill_prior_correction': -3.4724364,\n",
       " 'gender_fill_bias_prior_corrected': 3.5938034,\n",
       " 'target_fill_bias': -0.24061656}"
      ]
     },
     "execution_count": 72,
     "metadata": {},
     "output_type": "execute_result"
    }
   ],
   "source": [
    "bias_score(\"his GGG is a XXX.\", [\"him\", \"her\"], \"programmer\")"
   ]
  },
  {
   "cell_type": "code",
   "execution_count": 73,
   "metadata": {},
   "outputs": [
    {
     "data": {
      "text/plain": [
       "{'gender_fill_bias': 1.222003,\n",
       " 'gender_fill_prior_correction': -0.8696385,\n",
       " 'gender_fill_bias_prior_corrected': 2.0916414,\n",
       " 'target_fill_bias': 1.0189972}"
      ]
     },
     "execution_count": 73,
     "metadata": {},
     "output_type": "execute_result"
    }
   ],
   "source": [
    "bias_score(\"his GGG is a XXX.\", [\"father\", \"mother\"], \"violent\")"
   ]
  },
  {
   "cell_type": "code",
   "execution_count": 74,
   "metadata": {},
   "outputs": [
    {
     "data": {
      "text/plain": [
       "{'gender_fill_bias': 0.8054066,\n",
       " 'gender_fill_prior_correction': -2.0233464,\n",
       " 'gender_fill_bias_prior_corrected': 2.828753,\n",
       " 'target_fill_bias': 1.2738699}"
      ]
     },
     "execution_count": 74,
     "metadata": {},
     "output_type": "execute_result"
    }
   ],
   "source": [
    "bias_score(\"her GGG is a XXX.\", [\"father\", \"mother\"], \"violent\")"
   ]
  },
  {
   "cell_type": "code",
   "execution_count": null,
   "metadata": {},
   "outputs": [],
   "source": []
  }
 ],
 "metadata": {
  "kernelspec": {
   "display_name": "Python 3",
   "language": "python",
   "name": "python3"
  },
  "language_info": {
   "codemirror_mode": {
    "name": "ipython",
    "version": 3
   },
   "file_extension": ".py",
   "mimetype": "text/x-python",
   "name": "python",
   "nbconvert_exporter": "python",
   "pygments_lexer": "ipython3",
   "version": "3.6.7"
  }
 },
 "nbformat": 4,
 "nbformat_minor": 2
}
