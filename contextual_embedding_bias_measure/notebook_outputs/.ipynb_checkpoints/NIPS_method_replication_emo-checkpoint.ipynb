{
 "cells": [
  {
   "cell_type": "markdown",
   "metadata": {
    "papermill": {
     "duration": 0.056555,
     "end_time": "2019-03-20T16:50:04.439339",
     "exception": false,
     "start_time": "2019-03-20T16:50:04.382784",
     "status": "completed"
    },
    "tags": []
   },
   "source": [
    "Using the constrcuted dataset to test out the NIPS debiasing method"
   ]
  },
  {
   "cell_type": "code",
   "execution_count": 1,
   "metadata": {
    "papermill": {
     "duration": 0.103601,
     "end_time": "2019-03-20T16:50:04.608683",
     "exception": false,
     "start_time": "2019-03-20T16:50:04.505082",
     "status": "completed"
    },
    "tags": []
   },
   "outputs": [],
   "source": [
    "%load_ext autoreload\n",
    "%autoreload 2"
   ]
  },
  {
   "cell_type": "code",
   "execution_count": 4,
   "metadata": {
    "papermill": {
     "duration": 2.513619,
     "end_time": "2019-03-20T16:50:07.195585",
     "exception": false,
     "start_time": "2019-03-20T16:50:04.681966",
     "status": "completed"
    },
    "tags": []
   },
   "outputs": [],
   "source": [
    "import torch\n",
    "import pandas as pd\n",
    "import numpy as np\n",
    "from pathlib import Path\n",
    "from typing import *\n",
    "import matplotlib.pyplot as plt\n",
    "import seaborn as sns\n",
    "%matplotlib inline"
   ]
  },
  {
   "cell_type": "code",
   "execution_count": 5,
   "metadata": {
    "papermill": {
     "duration": 0.125548,
     "end_time": "2019-03-20T16:50:07.382839",
     "exception": false,
     "start_time": "2019-03-20T16:50:07.257291",
     "status": "completed"
    },
    "tags": []
   },
   "outputs": [],
   "source": [
    "import sys\n",
    "sys.path.append(\"../lib\")\n",
    "\n",
    "DATA_ROOT = Path(\"../data\")"
   ]
  },
  {
   "cell_type": "code",
   "execution_count": 6,
   "metadata": {
    "papermill": {
     "duration": 4.121156,
     "end_time": "2019-03-20T16:50:11.567808",
     "exception": false,
     "start_time": "2019-03-20T16:50:07.446652",
     "status": "completed"
    },
    "tags": []
   },
   "outputs": [],
   "source": [
    "from bert_utils import Config, BertPreprocessor"
   ]
  },
  {
   "cell_type": "code",
   "execution_count": 7,
   "metadata": {
    "papermill": {
     "duration": 0.152303,
     "end_time": "2019-03-20T16:50:11.779130",
     "exception": false,
     "start_time": "2019-03-20T16:50:11.626827",
     "status": "completed"
    },
    "tags": [
     "parameters"
    ]
   },
   "outputs": [],
   "source": [
    "train_file = \"gender_occ_pos_w_probs_train.txt\"\n",
    "val_file = \"gender_occ_pos_w_probs_val.txt\""
   ]
  },
  {
   "cell_type": "code",
   "execution_count": 8,
   "metadata": {
    "papermill": {
     "duration": 0.166508,
     "end_time": "2019-03-20T16:50:12.091003",
     "exception": false,
     "start_time": "2019-03-20T16:50:11.924495",
     "status": "completed"
    },
    "tags": [
     "injected-parameters"
    ]
   },
   "outputs": [],
   "source": [
    "# Parameters\n",
    "train_file = \"gender_emo_w_probs_train.txt\"\n",
    "val_file = \"gender_emo_w_probs_val.txt\"\n"
   ]
  },
  {
   "cell_type": "code",
   "execution_count": 9,
   "metadata": {
    "papermill": {
     "duration": 0.163464,
     "end_time": "2019-03-20T16:50:12.316521",
     "exception": false,
     "start_time": "2019-03-20T16:50:12.153057",
     "status": "completed"
    },
    "tags": []
   },
   "outputs": [],
   "source": [
    "config = Config(\n",
    "    model_type=\"bert-base-uncased\",\n",
    "    max_seq_len=24,\n",
    "    subspace_size=5,\n",
    ")"
   ]
  },
  {
   "cell_type": "code",
   "execution_count": 10,
   "metadata": {
    "papermill": {
     "duration": 0.485295,
     "end_time": "2019-03-20T16:50:12.896562",
     "exception": false,
     "start_time": "2019-03-20T16:50:12.411267",
     "status": "completed"
    },
    "tags": []
   },
   "outputs": [],
   "source": [
    "processor = BertPreprocessor(config.model_type, config.max_seq_len)"
   ]
  },
  {
   "cell_type": "code",
   "execution_count": 11,
   "metadata": {
    "papermill": {
     "duration": 12.700665,
     "end_time": "2019-03-20T16:50:25.672988",
     "exception": false,
     "start_time": "2019-03-20T16:50:12.972323",
     "status": "completed"
    },
    "tags": []
   },
   "outputs": [
    {
     "data": {
      "text/plain": [
       "BertForMaskedLM(\n",
       "  (bert): BertModel(\n",
       "    (embeddings): BertEmbeddings(\n",
       "      (word_embeddings): Embedding(30522, 768, padding_idx=0)\n",
       "      (position_embeddings): Embedding(512, 768)\n",
       "      (token_type_embeddings): Embedding(2, 768)\n",
       "      (LayerNorm): BertLayerNorm()\n",
       "      (dropout): Dropout(p=0.1, inplace=False)\n",
       "    )\n",
       "    (encoder): BertEncoder(\n",
       "      (layer): ModuleList(\n",
       "        (0): BertLayer(\n",
       "          (attention): BertAttention(\n",
       "            (self): BertSelfAttention(\n",
       "              (query): Linear(in_features=768, out_features=768, bias=True)\n",
       "              (key): Linear(in_features=768, out_features=768, bias=True)\n",
       "              (value): Linear(in_features=768, out_features=768, bias=True)\n",
       "              (dropout): Dropout(p=0.1, inplace=False)\n",
       "            )\n",
       "            (output): BertSelfOutput(\n",
       "              (dense): Linear(in_features=768, out_features=768, bias=True)\n",
       "              (LayerNorm): BertLayerNorm()\n",
       "              (dropout): Dropout(p=0.1, inplace=False)\n",
       "            )\n",
       "          )\n",
       "          (intermediate): BertIntermediate(\n",
       "            (dense): Linear(in_features=768, out_features=3072, bias=True)\n",
       "          )\n",
       "          (output): BertOutput(\n",
       "            (dense): Linear(in_features=3072, out_features=768, bias=True)\n",
       "            (LayerNorm): BertLayerNorm()\n",
       "            (dropout): Dropout(p=0.1, inplace=False)\n",
       "          )\n",
       "        )\n",
       "        (1): BertLayer(\n",
       "          (attention): BertAttention(\n",
       "            (self): BertSelfAttention(\n",
       "              (query): Linear(in_features=768, out_features=768, bias=True)\n",
       "              (key): Linear(in_features=768, out_features=768, bias=True)\n",
       "              (value): Linear(in_features=768, out_features=768, bias=True)\n",
       "              (dropout): Dropout(p=0.1, inplace=False)\n",
       "            )\n",
       "            (output): BertSelfOutput(\n",
       "              (dense): Linear(in_features=768, out_features=768, bias=True)\n",
       "              (LayerNorm): BertLayerNorm()\n",
       "              (dropout): Dropout(p=0.1, inplace=False)\n",
       "            )\n",
       "          )\n",
       "          (intermediate): BertIntermediate(\n",
       "            (dense): Linear(in_features=768, out_features=3072, bias=True)\n",
       "          )\n",
       "          (output): BertOutput(\n",
       "            (dense): Linear(in_features=3072, out_features=768, bias=True)\n",
       "            (LayerNorm): BertLayerNorm()\n",
       "            (dropout): Dropout(p=0.1, inplace=False)\n",
       "          )\n",
       "        )\n",
       "        (2): BertLayer(\n",
       "          (attention): BertAttention(\n",
       "            (self): BertSelfAttention(\n",
       "              (query): Linear(in_features=768, out_features=768, bias=True)\n",
       "              (key): Linear(in_features=768, out_features=768, bias=True)\n",
       "              (value): Linear(in_features=768, out_features=768, bias=True)\n",
       "              (dropout): Dropout(p=0.1, inplace=False)\n",
       "            )\n",
       "            (output): BertSelfOutput(\n",
       "              (dense): Linear(in_features=768, out_features=768, bias=True)\n",
       "              (LayerNorm): BertLayerNorm()\n",
       "              (dropout): Dropout(p=0.1, inplace=False)\n",
       "            )\n",
       "          )\n",
       "          (intermediate): BertIntermediate(\n",
       "            (dense): Linear(in_features=768, out_features=3072, bias=True)\n",
       "          )\n",
       "          (output): BertOutput(\n",
       "            (dense): Linear(in_features=3072, out_features=768, bias=True)\n",
       "            (LayerNorm): BertLayerNorm()\n",
       "            (dropout): Dropout(p=0.1, inplace=False)\n",
       "          )\n",
       "        )\n",
       "        (3): BertLayer(\n",
       "          (attention): BertAttention(\n",
       "            (self): BertSelfAttention(\n",
       "              (query): Linear(in_features=768, out_features=768, bias=True)\n",
       "              (key): Linear(in_features=768, out_features=768, bias=True)\n",
       "              (value): Linear(in_features=768, out_features=768, bias=True)\n",
       "              (dropout): Dropout(p=0.1, inplace=False)\n",
       "            )\n",
       "            (output): BertSelfOutput(\n",
       "              (dense): Linear(in_features=768, out_features=768, bias=True)\n",
       "              (LayerNorm): BertLayerNorm()\n",
       "              (dropout): Dropout(p=0.1, inplace=False)\n",
       "            )\n",
       "          )\n",
       "          (intermediate): BertIntermediate(\n",
       "            (dense): Linear(in_features=768, out_features=3072, bias=True)\n",
       "          )\n",
       "          (output): BertOutput(\n",
       "            (dense): Linear(in_features=3072, out_features=768, bias=True)\n",
       "            (LayerNorm): BertLayerNorm()\n",
       "            (dropout): Dropout(p=0.1, inplace=False)\n",
       "          )\n",
       "        )\n",
       "        (4): BertLayer(\n",
       "          (attention): BertAttention(\n",
       "            (self): BertSelfAttention(\n",
       "              (query): Linear(in_features=768, out_features=768, bias=True)\n",
       "              (key): Linear(in_features=768, out_features=768, bias=True)\n",
       "              (value): Linear(in_features=768, out_features=768, bias=True)\n",
       "              (dropout): Dropout(p=0.1, inplace=False)\n",
       "            )\n",
       "            (output): BertSelfOutput(\n",
       "              (dense): Linear(in_features=768, out_features=768, bias=True)\n",
       "              (LayerNorm): BertLayerNorm()\n",
       "              (dropout): Dropout(p=0.1, inplace=False)\n",
       "            )\n",
       "          )\n",
       "          (intermediate): BertIntermediate(\n",
       "            (dense): Linear(in_features=768, out_features=3072, bias=True)\n",
       "          )\n",
       "          (output): BertOutput(\n",
       "            (dense): Linear(in_features=3072, out_features=768, bias=True)\n",
       "            (LayerNorm): BertLayerNorm()\n",
       "            (dropout): Dropout(p=0.1, inplace=False)\n",
       "          )\n",
       "        )\n",
       "        (5): BertLayer(\n",
       "          (attention): BertAttention(\n",
       "            (self): BertSelfAttention(\n",
       "              (query): Linear(in_features=768, out_features=768, bias=True)\n",
       "              (key): Linear(in_features=768, out_features=768, bias=True)\n",
       "              (value): Linear(in_features=768, out_features=768, bias=True)\n",
       "              (dropout): Dropout(p=0.1, inplace=False)\n",
       "            )\n",
       "            (output): BertSelfOutput(\n",
       "              (dense): Linear(in_features=768, out_features=768, bias=True)\n",
       "              (LayerNorm): BertLayerNorm()\n",
       "              (dropout): Dropout(p=0.1, inplace=False)\n",
       "            )\n",
       "          )\n",
       "          (intermediate): BertIntermediate(\n",
       "            (dense): Linear(in_features=768, out_features=3072, bias=True)\n",
       "          )\n",
       "          (output): BertOutput(\n",
       "            (dense): Linear(in_features=3072, out_features=768, bias=True)\n",
       "            (LayerNorm): BertLayerNorm()\n",
       "            (dropout): Dropout(p=0.1, inplace=False)\n",
       "          )\n",
       "        )\n",
       "        (6): BertLayer(\n",
       "          (attention): BertAttention(\n",
       "            (self): BertSelfAttention(\n",
       "              (query): Linear(in_features=768, out_features=768, bias=True)\n",
       "              (key): Linear(in_features=768, out_features=768, bias=True)\n",
       "              (value): Linear(in_features=768, out_features=768, bias=True)\n",
       "              (dropout): Dropout(p=0.1, inplace=False)\n",
       "            )\n",
       "            (output): BertSelfOutput(\n",
       "              (dense): Linear(in_features=768, out_features=768, bias=True)\n",
       "              (LayerNorm): BertLayerNorm()\n",
       "              (dropout): Dropout(p=0.1, inplace=False)\n",
       "            )\n",
       "          )\n",
       "          (intermediate): BertIntermediate(\n",
       "            (dense): Linear(in_features=768, out_features=3072, bias=True)\n",
       "          )\n",
       "          (output): BertOutput(\n",
       "            (dense): Linear(in_features=3072, out_features=768, bias=True)\n",
       "            (LayerNorm): BertLayerNorm()\n",
       "            (dropout): Dropout(p=0.1, inplace=False)\n",
       "          )\n",
       "        )\n",
       "        (7): BertLayer(\n",
       "          (attention): BertAttention(\n",
       "            (self): BertSelfAttention(\n",
       "              (query): Linear(in_features=768, out_features=768, bias=True)\n",
       "              (key): Linear(in_features=768, out_features=768, bias=True)\n",
       "              (value): Linear(in_features=768, out_features=768, bias=True)\n",
       "              (dropout): Dropout(p=0.1, inplace=False)\n",
       "            )\n",
       "            (output): BertSelfOutput(\n",
       "              (dense): Linear(in_features=768, out_features=768, bias=True)\n",
       "              (LayerNorm): BertLayerNorm()\n",
       "              (dropout): Dropout(p=0.1, inplace=False)\n",
       "            )\n",
       "          )\n",
       "          (intermediate): BertIntermediate(\n",
       "            (dense): Linear(in_features=768, out_features=3072, bias=True)\n",
       "          )\n",
       "          (output): BertOutput(\n",
       "            (dense): Linear(in_features=3072, out_features=768, bias=True)\n",
       "            (LayerNorm): BertLayerNorm()\n",
       "            (dropout): Dropout(p=0.1, inplace=False)\n",
       "          )\n",
       "        )\n",
       "        (8): BertLayer(\n",
       "          (attention): BertAttention(\n",
       "            (self): BertSelfAttention(\n",
       "              (query): Linear(in_features=768, out_features=768, bias=True)\n",
       "              (key): Linear(in_features=768, out_features=768, bias=True)\n",
       "              (value): Linear(in_features=768, out_features=768, bias=True)\n",
       "              (dropout): Dropout(p=0.1, inplace=False)\n",
       "            )\n",
       "            (output): BertSelfOutput(\n",
       "              (dense): Linear(in_features=768, out_features=768, bias=True)\n",
       "              (LayerNorm): BertLayerNorm()\n",
       "              (dropout): Dropout(p=0.1, inplace=False)\n",
       "            )\n",
       "          )\n",
       "          (intermediate): BertIntermediate(\n",
       "            (dense): Linear(in_features=768, out_features=3072, bias=True)\n",
       "          )\n",
       "          (output): BertOutput(\n",
       "            (dense): Linear(in_features=3072, out_features=768, bias=True)\n",
       "            (LayerNorm): BertLayerNorm()\n",
       "            (dropout): Dropout(p=0.1, inplace=False)\n",
       "          )\n",
       "        )\n",
       "        (9): BertLayer(\n",
       "          (attention): BertAttention(\n",
       "            (self): BertSelfAttention(\n",
       "              (query): Linear(in_features=768, out_features=768, bias=True)\n",
       "              (key): Linear(in_features=768, out_features=768, bias=True)\n",
       "              (value): Linear(in_features=768, out_features=768, bias=True)\n",
       "              (dropout): Dropout(p=0.1, inplace=False)\n",
       "            )\n",
       "            (output): BertSelfOutput(\n",
       "              (dense): Linear(in_features=768, out_features=768, bias=True)\n",
       "              (LayerNorm): BertLayerNorm()\n",
       "              (dropout): Dropout(p=0.1, inplace=False)\n",
       "            )\n",
       "          )\n",
       "          (intermediate): BertIntermediate(\n",
       "            (dense): Linear(in_features=768, out_features=3072, bias=True)\n",
       "          )\n",
       "          (output): BertOutput(\n",
       "            (dense): Linear(in_features=3072, out_features=768, bias=True)\n",
       "            (LayerNorm): BertLayerNorm()\n",
       "            (dropout): Dropout(p=0.1, inplace=False)\n",
       "          )\n",
       "        )\n",
       "        (10): BertLayer(\n",
       "          (attention): BertAttention(\n",
       "            (self): BertSelfAttention(\n",
       "              (query): Linear(in_features=768, out_features=768, bias=True)\n",
       "              (key): Linear(in_features=768, out_features=768, bias=True)\n",
       "              (value): Linear(in_features=768, out_features=768, bias=True)\n",
       "              (dropout): Dropout(p=0.1, inplace=False)\n",
       "            )\n",
       "            (output): BertSelfOutput(\n",
       "              (dense): Linear(in_features=768, out_features=768, bias=True)\n",
       "              (LayerNorm): BertLayerNorm()\n",
       "              (dropout): Dropout(p=0.1, inplace=False)\n",
       "            )\n",
       "          )\n",
       "          (intermediate): BertIntermediate(\n",
       "            (dense): Linear(in_features=768, out_features=3072, bias=True)\n",
       "          )\n",
       "          (output): BertOutput(\n",
       "            (dense): Linear(in_features=3072, out_features=768, bias=True)\n",
       "            (LayerNorm): BertLayerNorm()\n",
       "            (dropout): Dropout(p=0.1, inplace=False)\n",
       "          )\n",
       "        )\n",
       "        (11): BertLayer(\n",
       "          (attention): BertAttention(\n",
       "            (self): BertSelfAttention(\n",
       "              (query): Linear(in_features=768, out_features=768, bias=True)\n",
       "              (key): Linear(in_features=768, out_features=768, bias=True)\n",
       "              (value): Linear(in_features=768, out_features=768, bias=True)\n",
       "              (dropout): Dropout(p=0.1, inplace=False)\n",
       "            )\n",
       "            (output): BertSelfOutput(\n",
       "              (dense): Linear(in_features=768, out_features=768, bias=True)\n",
       "              (LayerNorm): BertLayerNorm()\n",
       "              (dropout): Dropout(p=0.1, inplace=False)\n",
       "            )\n",
       "          )\n",
       "          (intermediate): BertIntermediate(\n",
       "            (dense): Linear(in_features=768, out_features=3072, bias=True)\n",
       "          )\n",
       "          (output): BertOutput(\n",
       "            (dense): Linear(in_features=3072, out_features=768, bias=True)\n",
       "            (LayerNorm): BertLayerNorm()\n",
       "            (dropout): Dropout(p=0.1, inplace=False)\n",
       "          )\n",
       "        )\n",
       "      )\n",
       "    )\n",
       "    (pooler): BertPooler(\n",
       "      (dense): Linear(in_features=768, out_features=768, bias=True)\n",
       "      (activation): Tanh()\n",
       "    )\n",
       "  )\n",
       "  (cls): BertOnlyMLMHead(\n",
       "    (predictions): BertLMPredictionHead(\n",
       "      (transform): BertPredictionHeadTransform(\n",
       "        (dense): Linear(in_features=768, out_features=768, bias=True)\n",
       "        (LayerNorm): BertLayerNorm()\n",
       "      )\n",
       "      (decoder): Linear(in_features=768, out_features=30522, bias=False)\n",
       "    )\n",
       "  )\n",
       ")"
      ]
     },
     "execution_count": 11,
     "metadata": {},
     "output_type": "execute_result"
    }
   ],
   "source": [
    "from pytorch_pretrained_bert import BertConfig, BertForMaskedLM\n",
    "model = BertForMaskedLM.from_pretrained(config.model_type)\n",
    "model.eval()"
   ]
  },
  {
   "cell_type": "code",
   "execution_count": 12,
   "metadata": {
    "papermill": {
     "duration": 0.172104,
     "end_time": "2019-03-20T16:50:25.908406",
     "exception": false,
     "start_time": "2019-03-20T16:50:25.736302",
     "status": "completed"
    },
    "tags": []
   },
   "outputs": [
    {
     "ename": "ModuleNotFoundError",
     "evalue": "No module named 'dataclasses'",
     "output_type": "error",
     "traceback": [
      "\u001b[1;31m---------------------------------------------------------------------------\u001b[0m",
      "\u001b[1;31mModuleNotFoundError\u001b[0m                       Traceback (most recent call last)",
      "\u001b[1;32m<ipython-input-12-c5474c033acc>\u001b[0m in \u001b[0;36m<module>\u001b[1;34m\u001b[0m\n\u001b[1;32m----> 1\u001b[1;33m \u001b[1;32mfrom\u001b[0m \u001b[0mdataclasses\u001b[0m \u001b[1;32mimport\u001b[0m \u001b[0mdataclass\u001b[0m\u001b[1;33m\u001b[0m\u001b[1;33m\u001b[0m\u001b[0m\n\u001b[0m\u001b[0;32m      2\u001b[0m \u001b[1;33m\u001b[0m\u001b[0m\n\u001b[0;32m      3\u001b[0m \u001b[1;33m@\u001b[0m\u001b[0mdataclass\u001b[0m\u001b[1;33m\u001b[0m\u001b[1;33m\u001b[0m\u001b[0m\n\u001b[0;32m      4\u001b[0m \u001b[1;32mclass\u001b[0m \u001b[0mContextWord\u001b[0m\u001b[1;33m:\u001b[0m\u001b[1;33m\u001b[0m\u001b[1;33m\u001b[0m\u001b[0m\n\u001b[0;32m      5\u001b[0m     \u001b[0msent\u001b[0m\u001b[1;33m:\u001b[0m \u001b[0mstr\u001b[0m\u001b[1;33m\u001b[0m\u001b[1;33m\u001b[0m\u001b[0m\n",
      "\u001b[1;31mModuleNotFoundError\u001b[0m: No module named 'dataclasses'"
     ]
    }
   ],
   "source": [
    "from dataclasses import dataclass\n",
    "\n",
    "@dataclass\n",
    "class ContextWord:\n",
    "    sent: str\n",
    "    word: str\n",
    "    def __post_init__(self):\n",
    "        assert self.word in self.sent"
   ]
  },
  {
   "cell_type": "code",
   "execution_count": null,
   "metadata": {
    "papermill": {
     "duration": 0.156401,
     "end_time": "2019-03-20T16:50:26.130229",
     "exception": false,
     "start_time": "2019-03-20T16:50:25.973828",
     "status": "completed"
    },
    "tags": []
   },
   "outputs": [],
   "source": [
    "def cosine_similarity(x, y):\n",
    "    return np.dot(x, y) / (np.linalg.norm(x) * np.linalg.norm(y))"
   ]
  },
  {
   "cell_type": "code",
   "execution_count": 14,
   "metadata": {
    "papermill": {
     "duration": 0.161819,
     "end_time": "2019-03-20T16:50:26.353456",
     "exception": false,
     "start_time": "2019-03-20T16:50:26.191637",
     "status": "completed"
    },
    "tags": []
   },
   "outputs": [
    {
     "ename": "NameError",
     "evalue": "name 'ContextWord' is not defined",
     "output_type": "error",
     "traceback": [
      "\u001b[1;31m---------------------------------------------------------------------------\u001b[0m",
      "\u001b[1;31mNameError\u001b[0m                                 Traceback (most recent call last)",
      "\u001b[1;32m<ipython-input-14-f16fb21e6ba0>\u001b[0m in \u001b[0;36m<module>\u001b[1;34m\u001b[0m\n\u001b[1;32m----> 1\u001b[1;33m \u001b[1;32mdef\u001b[0m \u001b[0mget_word_vector\u001b[0m\u001b[1;33m(\u001b[0m\u001b[0mcword\u001b[0m\u001b[1;33m:\u001b[0m \u001b[0mContextWord\u001b[0m\u001b[1;33m,\u001b[0m \u001b[0muse_last_mask\u001b[0m\u001b[1;33m=\u001b[0m\u001b[1;32mFalse\u001b[0m\u001b[1;33m)\u001b[0m\u001b[1;33m:\u001b[0m\u001b[1;33m\u001b[0m\u001b[1;33m\u001b[0m\u001b[0m\n\u001b[0m\u001b[0;32m      2\u001b[0m     \u001b[0msentence\u001b[0m\u001b[1;33m,\u001b[0m \u001b[0mword\u001b[0m \u001b[1;33m=\u001b[0m \u001b[0mcword\u001b[0m\u001b[1;33m.\u001b[0m\u001b[0msent\u001b[0m\u001b[1;33m,\u001b[0m \u001b[0mcword\u001b[0m\u001b[1;33m.\u001b[0m\u001b[0mword\u001b[0m\u001b[1;33m\u001b[0m\u001b[1;33m\u001b[0m\u001b[0m\n\u001b[0;32m      3\u001b[0m     \u001b[0midx\u001b[0m \u001b[1;33m=\u001b[0m \u001b[0mprocessor\u001b[0m\u001b[1;33m.\u001b[0m\u001b[0mget_index\u001b[0m\u001b[1;33m(\u001b[0m\u001b[0msentence\u001b[0m\u001b[1;33m,\u001b[0m \u001b[0mword\u001b[0m\u001b[1;33m,\u001b[0m \u001b[0mlast\u001b[0m\u001b[1;33m=\u001b[0m\u001b[0muse_last_mask\u001b[0m\u001b[1;33m)\u001b[0m\u001b[1;33m\u001b[0m\u001b[1;33m\u001b[0m\u001b[0m\n\u001b[0;32m      4\u001b[0m     \u001b[0moutputs\u001b[0m \u001b[1;33m=\u001b[0m \u001b[1;32mNone\u001b[0m\u001b[1;33m\u001b[0m\u001b[1;33m\u001b[0m\u001b[0m\n\u001b[0;32m      5\u001b[0m     \u001b[1;32mwith\u001b[0m \u001b[0mtorch\u001b[0m\u001b[1;33m.\u001b[0m\u001b[0mno_grad\u001b[0m\u001b[1;33m(\u001b[0m\u001b[1;33m)\u001b[0m\u001b[1;33m:\u001b[0m\u001b[1;33m\u001b[0m\u001b[1;33m\u001b[0m\u001b[0m\n",
      "\u001b[1;31mNameError\u001b[0m: name 'ContextWord' is not defined"
     ]
    }
   ],
   "source": [
    "def get_word_vector(cword: ContextWord, use_last_mask=False):\n",
    "    sentence, word = cword.sent, cword.word\n",
    "    idx = processor.get_index(sentence, word, last=use_last_mask)\n",
    "    outputs = None\n",
    "    with torch.no_grad():\n",
    "        # TODO: Move to proper library function\n",
    "        token_ids = processor.to_bert_model_input(sentence) \n",
    "        # ensure padding is consistent\n",
    "        bert_input = torch.zeros(1, config.max_seq_len, dtype=torch.long)\n",
    "        bert_input[0, :token_ids.size(1)] = token_ids\n",
    "        sequence_output, _ = model.bert(bert_input,\n",
    "                                        output_all_encoded_layers=False)\n",
    "        sequence_output.squeeze_(0)\n",
    "        if outputs is None: outputs = torch.zeros_like(sequence_output)\n",
    "        outputs = sequence_output + outputs\n",
    "    return outputs.detach().cpu().numpy()[idx]"
   ]
  },
  {
   "cell_type": "code",
   "execution_count": 13,
   "metadata": {
    "papermill": {
     "duration": 0.153526,
     "end_time": "2019-03-20T16:50:26.573212",
     "exception": false,
     "start_time": "2019-03-20T16:50:26.419686",
     "status": "completed"
    },
    "tags": []
   },
   "outputs": [],
   "source": [
    "def construct_sim_matrix(vecs):\n",
    "    sim_matrix = np.zeros((len(vecs), len(vecs)))\n",
    "    for i, v in enumerate(vecs):\n",
    "        for j, w in enumerate(vecs):\n",
    "            sim_matrix[i, j] = cosine_similarity(v, w)\n",
    "    return sim_matrix"
   ]
  },
  {
   "cell_type": "code",
   "execution_count": 14,
   "metadata": {
    "papermill": {
     "duration": 0.155023,
     "end_time": "2019-03-20T16:50:26.795398",
     "exception": false,
     "start_time": "2019-03-20T16:50:26.640375",
     "status": "completed"
    },
    "tags": []
   },
   "outputs": [],
   "source": [
    "def construct_sim_matrix_df(sentences: List[str],\n",
    "                           words: List[str]):\n",
    "    sim = construct_sim_matrix([get_word_vector(ContextWord(sent, word)) for sent, word in zip(sentences, words)])\n",
    "    return pd.DataFrame(data=sim, index=words, columns=words)"
   ]
  },
  {
   "cell_type": "code",
   "execution_count": 15,
   "metadata": {
    "papermill": {
     "duration": 0.148825,
     "end_time": "2019-03-20T16:50:27.009505",
     "exception": false,
     "start_time": "2019-03-20T16:50:26.860680",
     "status": "completed"
    },
    "tags": []
   },
   "outputs": [],
   "source": [
    "def compute_diff_similarity(cwords1, cwords2):\n",
    "    cword11, cword12 = cwords1\n",
    "    cword21, cword22 = cwords2\n",
    "    return cosine_similarity(get_word_vector(cword11) - get_word_vector(cword12),\n",
    "                             get_word_vector(cword21) - get_word_vector(cword22))"
   ]
  },
  {
   "cell_type": "code",
   "execution_count": 16,
   "metadata": {
    "papermill": {
     "duration": 0.158983,
     "end_time": "2019-03-20T16:50:27.231051",
     "exception": false,
     "start_time": "2019-03-20T16:50:27.072068",
     "status": "completed"
    },
    "tags": []
   },
   "outputs": [],
   "source": [
    "out_softmax = model.cls.predictions.decoder.weight.data.cpu().numpy()"
   ]
  },
  {
   "cell_type": "code",
   "execution_count": 17,
   "metadata": {
    "papermill": {
     "duration": 0.149522,
     "end_time": "2019-03-20T16:50:27.442541",
     "exception": false,
     "start_time": "2019-03-20T16:50:27.293019",
     "status": "completed"
    },
    "tags": []
   },
   "outputs": [],
   "source": [
    "out_bias = model.cls.predictions.bias.data.cpu().numpy()"
   ]
  },
  {
   "cell_type": "code",
   "execution_count": 18,
   "metadata": {
    "papermill": {
     "duration": 0.157966,
     "end_time": "2019-03-20T16:50:27.659794",
     "exception": false,
     "start_time": "2019-03-20T16:50:27.501828",
     "status": "completed"
    },
    "tags": []
   },
   "outputs": [],
   "source": [
    "def to_logits(wv: np.ndarray) -> np.ndarray:\n",
    "    return model.cls(torch.FloatTensor(wv).unsqueeze(0)).detach().cpu().numpy()[0, :]"
   ]
  },
  {
   "cell_type": "code",
   "execution_count": null,
   "metadata": {
    "papermill": {
     "duration": 0.059322,
     "end_time": "2019-03-20T16:50:27.780428",
     "exception": false,
     "start_time": "2019-03-20T16:50:27.721106",
     "status": "completed"
    },
    "tags": []
   },
   "outputs": [],
   "source": []
  },
  {
   "cell_type": "markdown",
   "metadata": {
    "papermill": {
     "duration": 0.064728,
     "end_time": "2019-03-20T16:50:27.909786",
     "exception": false,
     "start_time": "2019-03-20T16:50:27.845058",
     "status": "completed"
    },
    "tags": []
   },
   "source": [
    "# Check similarities"
   ]
  },
  {
   "cell_type": "code",
   "execution_count": 19,
   "metadata": {
    "papermill": {
     "duration": 0.965838,
     "end_time": "2019-03-20T16:50:28.940393",
     "exception": false,
     "start_time": "2019-03-20T16:50:27.974555",
     "status": "completed"
    },
    "tags": []
   },
   "outputs": [
    {
     "data": {
      "text/html": [
       "<div>\n",
       "<style scoped>\n",
       "    .dataframe tbody tr th:only-of-type {\n",
       "        vertical-align: middle;\n",
       "    }\n",
       "\n",
       "    .dataframe tbody tr th {\n",
       "        vertical-align: top;\n",
       "    }\n",
       "\n",
       "    .dataframe thead th {\n",
       "        text-align: right;\n",
       "    }\n",
       "</style>\n",
       "<table border=\"1\" class=\"dataframe\">\n",
       "  <thead>\n",
       "    <tr style=\"text-align: right;\">\n",
       "      <th></th>\n",
       "      <th>programmer</th>\n",
       "      <th>man</th>\n",
       "      <th>woman</th>\n",
       "    </tr>\n",
       "  </thead>\n",
       "  <tbody>\n",
       "    <tr>\n",
       "      <th>programmer</th>\n",
       "      <td>1.000000</td>\n",
       "      <td>0.453046</td>\n",
       "      <td>0.488973</td>\n",
       "    </tr>\n",
       "    <tr>\n",
       "      <th>man</th>\n",
       "      <td>0.453046</td>\n",
       "      <td>1.000000</td>\n",
       "      <td>0.781821</td>\n",
       "    </tr>\n",
       "    <tr>\n",
       "      <th>woman</th>\n",
       "      <td>0.488973</td>\n",
       "      <td>0.781821</td>\n",
       "      <td>1.000000</td>\n",
       "    </tr>\n",
       "  </tbody>\n",
       "</table>\n",
       "</div>"
      ],
      "text/plain": [
       "            programmer       man     woman\n",
       "programmer    1.000000  0.453046  0.488973\n",
       "man           0.453046  1.000000  0.781821\n",
       "woman         0.488973  0.781821  1.000000"
      ]
     },
     "execution_count": 19,
     "metadata": {},
     "output_type": "execute_result"
    }
   ],
   "source": [
    "construct_sim_matrix_df([\"That person is a programmer.\", \n",
    "                         \"I am a man.\", \n",
    "                         \"I am a woman.\"],\n",
    "                       [\"programmer\", \"man\", \"woman\"])"
   ]
  },
  {
   "cell_type": "code",
   "execution_count": 20,
   "metadata": {
    "papermill": {
     "duration": 0.934264,
     "end_time": "2019-03-20T16:50:29.935990",
     "exception": false,
     "start_time": "2019-03-20T16:50:29.001726",
     "status": "completed"
    },
    "tags": []
   },
   "outputs": [
    {
     "data": {
      "text/plain": [
       "0.13653895"
      ]
     },
     "execution_count": 20,
     "metadata": {},
     "output_type": "execute_result"
    }
   ],
   "source": [
    "compute_diff_similarity(\n",
    "    (ContextWord(\"I am a man.\", \"man\"), ContextWord(\"I am a woman.\", \"woman\")),\n",
    "    (ContextWord(\"The programmer went to the office.\", \"programmer\"),\n",
    "     ContextWord(\"The nurse went to the office.\", \"nurse\"))\n",
    ")"
   ]
  },
  {
   "cell_type": "code",
   "execution_count": 21,
   "metadata": {
    "papermill": {
     "duration": 0.772662,
     "end_time": "2019-03-20T16:50:30.775490",
     "exception": false,
     "start_time": "2019-03-20T16:50:30.002828",
     "status": "completed"
    },
    "tags": []
   },
   "outputs": [
    {
     "data": {
      "text/plain": [
       "0.20923696"
      ]
     },
     "execution_count": 21,
     "metadata": {},
     "output_type": "execute_result"
    }
   ],
   "source": [
    "compute_diff_similarity(\n",
    "    (ContextWord(\"I am a man.\", \"man\"), ContextWord(\"I am a woman.\", \"woman\")),\n",
    "    (ContextWord(\"The doctor went to the office.\", \"doctor\"),\n",
    "     ContextWord(\"The nurse went to the office.\", \"nurse\"))\n",
    ")"
   ]
  },
  {
   "cell_type": "code",
   "execution_count": 22,
   "metadata": {
    "papermill": {
     "duration": 0.795163,
     "end_time": "2019-03-20T16:50:31.640868",
     "exception": false,
     "start_time": "2019-03-20T16:50:30.845705",
     "status": "completed"
    },
    "tags": []
   },
   "outputs": [
    {
     "data": {
      "text/plain": [
       "0.21795174"
      ]
     },
     "execution_count": 22,
     "metadata": {},
     "output_type": "execute_result"
    }
   ],
   "source": [
    "compute_diff_similarity(\n",
    "    (ContextWord(\"he likes sports.\", \"he\"), ContextWord(\"she likes sports.\", \"she\")),\n",
    "    (ContextWord(\"The doctor went to the office.\", \"doctor\"),\n",
    "     ContextWord(\"The nurse went to the office.\", \"nurse\"))\n",
    ")"
   ]
  },
  {
   "cell_type": "code",
   "execution_count": null,
   "metadata": {
    "papermill": {
     "duration": 0.068567,
     "end_time": "2019-03-20T16:50:31.777708",
     "exception": false,
     "start_time": "2019-03-20T16:50:31.709141",
     "status": "completed"
    },
    "tags": []
   },
   "outputs": [],
   "source": []
  },
  {
   "cell_type": "markdown",
   "metadata": {
    "papermill": {
     "duration": 0.081955,
     "end_time": "2019-03-20T16:50:31.936344",
     "exception": false,
     "start_time": "2019-03-20T16:50:31.854389",
     "status": "completed"
    },
    "tags": []
   },
   "source": [
    "# Find gendered direction"
   ]
  },
  {
   "cell_type": "code",
   "execution_count": 23,
   "metadata": {
    "papermill": {
     "duration": 0.184471,
     "end_time": "2019-03-20T16:50:32.192529",
     "exception": false,
     "start_time": "2019-03-20T16:50:32.008058",
     "status": "completed"
    },
    "tags": []
   },
   "outputs": [],
   "source": [
    "df_train = pd.read_csv(DATA_ROOT / train_file)"
   ]
  },
  {
   "cell_type": "code",
   "execution_count": 24,
   "metadata": {
    "papermill": {
     "duration": 0.176011,
     "end_time": "2019-03-20T16:50:32.436460",
     "exception": false,
     "start_time": "2019-03-20T16:50:32.260449",
     "status": "completed"
    },
    "tags": []
   },
   "outputs": [],
   "source": [
    "df_val = pd.read_csv(DATA_ROOT / val_file)"
   ]
  },
  {
   "cell_type": "code",
   "execution_count": 25,
   "metadata": {
    "papermill": {
     "duration": 273.186254,
     "end_time": "2019-03-20T16:55:05.693517",
     "exception": false,
     "start_time": "2019-03-20T16:50:32.507263",
     "status": "completed"
    },
    "tags": []
   },
   "outputs": [
    {
     "name": "stderr",
     "output_type": "stream",
     "text": [
      "100%|██████████| 864/864 [04:32<00:00,  3.67it/s]\n"
     ]
    }
   ],
   "source": [
    "from tqdm import tqdm\n",
    "\n",
    "male_vecs, female_vecs = [], []\n",
    "def add_word_vecs(s: str, male_w: str, female_w: str):\n",
    "    male_vecs.append(get_word_vector(ContextWord(s.replace(\"[MASK]\", male_w), male_w)))\n",
    "    female_vecs.append(get_word_vector(ContextWord(s.replace(\"[MASK]\", female_w), female_w)))\n",
    "\n",
    "for i, row in tqdm(list(df_train.iterrows())):\n",
    "    sentence = row[\"sentence\"]\n",
    "    add_word_vecs(sentence, row[\"mword\"], row[\"fword\"])"
   ]
  },
  {
   "cell_type": "code",
   "execution_count": 26,
   "metadata": {
    "papermill": {
     "duration": 1.044726,
     "end_time": "2019-03-20T16:55:07.229768",
     "exception": false,
     "start_time": "2019-03-20T16:55:06.185042",
     "status": "completed"
    },
    "tags": []
   },
   "outputs": [],
   "source": [
    "male_vecs = np.r_[male_vecs]\n",
    "female_vecs = np.r_[female_vecs]"
   ]
  },
  {
   "cell_type": "code",
   "execution_count": 27,
   "metadata": {
    "papermill": {
     "duration": 0.668256,
     "end_time": "2019-03-20T16:55:08.379432",
     "exception": false,
     "start_time": "2019-03-20T16:55:07.711176",
     "status": "completed"
    },
    "tags": []
   },
   "outputs": [],
   "source": [
    "from sklearn.decomposition import PCA\n",
    "def find_subspace(D: np.ndarray) -> PCA:\n",
    "    assert len(D.shape) == 2\n",
    "    pca = PCA(n_components=config.subspace_size)\n",
    "    return pca.fit(D)"
   ]
  },
  {
   "cell_type": "code",
   "execution_count": 28,
   "metadata": {
    "papermill": {
     "duration": 0.749577,
     "end_time": "2019-03-20T16:55:09.628034",
     "exception": false,
     "start_time": "2019-03-20T16:55:08.878457",
     "status": "completed"
    },
    "tags": []
   },
   "outputs": [],
   "source": [
    "pca = find_subspace(male_vecs - female_vecs)"
   ]
  },
  {
   "cell_type": "code",
   "execution_count": 29,
   "metadata": {
    "papermill": {
     "duration": 0.978977,
     "end_time": "2019-03-20T16:55:11.144114",
     "exception": false,
     "start_time": "2019-03-20T16:55:10.165137",
     "status": "completed"
    },
    "tags": []
   },
   "outputs": [
    {
     "data": {
      "text/plain": [
       "<matplotlib.axes._subplots.AxesSubplot at 0x1a2a7c5748>"
      ]
     },
     "execution_count": 29,
     "metadata": {},
     "output_type": "execute_result"
    },
    {
     "data": {
      "image/png": "[encoded data removed]",
      "text/plain": [
       "<Figure size 432x288 with 1 Axes>"
      ]
     },
     "metadata": {
      "needs_background": "light"
     },
     "output_type": "display_data"
    }
   ],
   "source": [
    "sns.barplot(x=np.arange(pca.n_components), y=pca.explained_variance_ratio_)"
   ]
  },
  {
   "cell_type": "code",
   "execution_count": null,
   "metadata": {
    "papermill": {
     "duration": 0.560616,
     "end_time": "2019-03-20T16:55:12.203207",
     "exception": false,
     "start_time": "2019-03-20T16:55:11.642591",
     "status": "completed"
    },
    "tags": []
   },
   "outputs": [],
   "source": []
  },
  {
   "cell_type": "markdown",
   "metadata": {
    "papermill": {
     "duration": 0.569559,
     "end_time": "2019-03-20T16:55:13.371306",
     "exception": false,
     "start_time": "2019-03-20T16:55:12.801747",
     "status": "completed"
    },
    "tags": []
   },
   "source": [
    "This is what it says in the paper"
   ]
  },
  {
   "cell_type": "markdown",
   "metadata": {
    "papermill": {
     "duration": 0.55393,
     "end_time": "2019-03-20T16:55:14.471120",
     "exception": false,
     "start_time": "2019-03-20T16:55:13.917190",
     "status": "completed"
    },
    "tags": []
   },
   "source": [
    "We denote the projection of a vector $ v $ onto $ B $ by"
   ]
  },
  {
   "cell_type": "markdown",
   "metadata": {
    "papermill": {
     "duration": 0.566663,
     "end_time": "2019-03-20T16:55:15.744807",
     "exception": false,
     "start_time": "2019-03-20T16:55:15.178144",
     "status": "completed"
    },
    "tags": []
   },
   "source": [
    "$$ v_B = \\sum_{j=1}^{k} (v \\cdot b_j) b_j $$"
   ]
  },
  {
   "cell_type": "markdown",
   "metadata": {
    "papermill": {
     "duration": 0.526275,
     "end_time": "2019-03-20T16:55:16.820821",
     "exception": false,
     "start_time": "2019-03-20T16:55:16.294546",
     "status": "completed"
    },
    "tags": []
   },
   "source": [
    "For each word $ w \\in N $, let $ \\vec{w} $ be re-embedded to\n",
    "$$ \\vec{w} := \\vec{w} - \\vec{w_{B}} / || \\vec{w} - \\vec{w_{B}} || $$"
   ]
  },
  {
   "cell_type": "markdown",
   "metadata": {
    "papermill": {
     "duration": 0.503317,
     "end_time": "2019-03-20T16:55:17.842145",
     "exception": false,
     "start_time": "2019-03-20T16:55:17.338828",
     "status": "completed"
    },
    "tags": []
   },
   "source": [
    "$$ \\mu := \\sum_{w \\in E}w / |E| $$\n",
    "$$ \\nu := \\mu - \\mu_B $$\n",
    "For each $ w \\in E $, \n",
    "$$ \\vec{w} := \\nu + \\sqrt{1 - ||\\nu||^2}\\frac{\\vec{w_B} - \\mu_B}{||\\vec{w_B} - \\mu_B||} $$"
   ]
  },
  {
   "cell_type": "code",
   "execution_count": 30,
   "metadata": {
    "papermill": {
     "duration": 0.581152,
     "end_time": "2019-03-20T16:55:18.908888",
     "exception": false,
     "start_time": "2019-03-20T16:55:18.327736",
     "status": "completed"
    },
    "tags": []
   },
   "outputs": [],
   "source": [
    "def remove_subspace(X: np.ndarray, subspace: np.ndarray, norm=True) -> np.ndarray:\n",
    "    Xb = ((X @ subspace.T) @ subspace) # projection onto biased subspace\n",
    "    X = (X - Xb) / (np.linalg.norm(X - Xb))\n",
    "    if norm:\n",
    "        mu = X.mean(0)\n",
    "        mub = Xb.mean(0)\n",
    "        nu = mu - mub\n",
    "        return nu + np.sqrt(1 - nu**2) * (Xb - mub) / np.linalg.norm(Xb - mub)\n",
    "    else:\n",
    "        return X"
   ]
  },
  {
   "cell_type": "code",
   "execution_count": 31,
   "metadata": {
    "papermill": {
     "duration": 0.607419,
     "end_time": "2019-03-20T16:55:20.013852",
     "exception": false,
     "start_time": "2019-03-20T16:55:19.406433",
     "status": "completed"
    },
    "tags": []
   },
   "outputs": [
    {
     "data": {
      "text/plain": [
       "array([[ 0.05750234, -0.04525623, -0.02131852, ...,  0.0319312 ,\n",
       "        -0.15257937,  0.00385126],\n",
       "       [ 0.05876423, -0.04803424, -0.02217929, ...,  0.03185872,\n",
       "        -0.15659258,  0.00598402],\n",
       "       [ 0.0568763 , -0.04828515, -0.0227893 , ...,  0.03089112,\n",
       "        -0.15277423,  0.00733754],\n",
       "       ...,\n",
       "       [ 0.0594499 , -0.04949377, -0.02185628, ...,  0.03214797,\n",
       "        -0.15959617,  0.00524225],\n",
       "       [ 0.05834688, -0.04916738, -0.02396237, ...,  0.03053905,\n",
       "        -0.15623659,  0.00721749],\n",
       "       [ 0.05987932, -0.04884812, -0.02171919, ...,  0.03200333,\n",
       "        -0.1593855 ,  0.00586626]], dtype=float32)"
      ]
     },
     "execution_count": 31,
     "metadata": {},
     "output_type": "execute_result"
    }
   ],
   "source": [
    "remove_subspace(male_vecs, pca.components_)"
   ]
  },
  {
   "cell_type": "code",
   "execution_count": null,
   "metadata": {
    "papermill": {
     "duration": 0.550913,
     "end_time": "2019-03-20T16:55:21.062955",
     "exception": false,
     "start_time": "2019-03-20T16:55:20.512042",
     "status": "completed"
    },
    "tags": []
   },
   "outputs": [],
   "source": []
  },
  {
   "cell_type": "markdown",
   "metadata": {
    "papermill": {
     "duration": 0.561688,
     "end_time": "2019-03-20T16:55:22.181065",
     "exception": false,
     "start_time": "2019-03-20T16:55:21.619377",
     "status": "completed"
    },
    "tags": []
   },
   "source": [
    "### Newly checking for differences"
   ]
  },
  {
   "cell_type": "code",
   "execution_count": 32,
   "metadata": {
    "papermill": {
     "duration": 0.627822,
     "end_time": "2019-03-20T16:55:23.332361",
     "exception": false,
     "start_time": "2019-03-20T16:55:22.704539",
     "status": "completed"
    },
    "tags": []
   },
   "outputs": [],
   "source": [
    "def pp(X: np.ndarray) -> np.ndarray:\n",
    "    \"\"\"Postprocess\"\"\"\n",
    "    return remove_subspace(np.expand_dims(X, 0), pca.components_, norm=False)[0]"
   ]
  },
  {
   "cell_type": "code",
   "execution_count": 33,
   "metadata": {
    "papermill": {
     "duration": 0.647841,
     "end_time": "2019-03-20T16:55:24.521250",
     "exception": false,
     "start_time": "2019-03-20T16:55:23.873409",
     "status": "completed"
    },
    "tags": []
   },
   "outputs": [],
   "source": [
    "def compute_new_diff_similarity(cwords1, cwords2):\n",
    "    cword11, cword12 = cwords1\n",
    "    cword21, cword22 = cwords2\n",
    "    return cosine_similarity(pp(get_word_vector(cword11)) - pp(get_word_vector(cword12)),\n",
    "                             pp(get_word_vector(cword21)) - pp(get_word_vector(cword22)))"
   ]
  },
  {
   "cell_type": "markdown",
   "metadata": {
    "papermill": {
     "duration": 0.539043,
     "end_time": "2019-03-20T16:55:25.576661",
     "exception": false,
     "start_time": "2019-03-20T16:55:25.037618",
     "status": "completed"
    },
    "tags": []
   },
   "source": [
    "Similarities are being reduced, so there is a shared gender subspace to a certain extent."
   ]
  },
  {
   "cell_type": "code",
   "execution_count": 34,
   "metadata": {
    "papermill": {
     "duration": 1.787986,
     "end_time": "2019-03-20T16:55:27.892682",
     "exception": false,
     "start_time": "2019-03-20T16:55:26.104696",
     "status": "completed"
    },
    "tags": []
   },
   "outputs": [
    {
     "data": {
      "text/plain": [
       "(0.13653895, 0.034595642)"
      ]
     },
     "execution_count": 34,
     "metadata": {},
     "output_type": "execute_result"
    }
   ],
   "source": [
    "(compute_diff_similarity(\n",
    "    (ContextWord(\"I am a man.\", \"man\"), ContextWord(\"I am a woman.\", \"woman\")),\n",
    "    (ContextWord(\"The programmer went to the office.\", \"programmer\"),\n",
    "     ContextWord(\"The nurse went to the office.\", \"nurse\"))\n",
    "),\n",
    "compute_new_diff_similarity(\n",
    "    (ContextWord(\"I am a man.\", \"man\"), ContextWord(\"I am a woman.\", \"woman\")),\n",
    "    (ContextWord(\"The programmer went to the office.\", \"programmer\"),\n",
    "     ContextWord(\"The nurse went to the office.\", \"nurse\"))\n",
    "))"
   ]
  },
  {
   "cell_type": "code",
   "execution_count": 35,
   "metadata": {
    "papermill": {
     "duration": 1.53779,
     "end_time": "2019-03-20T16:55:29.889664",
     "exception": false,
     "start_time": "2019-03-20T16:55:28.351874",
     "status": "completed"
    },
    "tags": []
   },
   "outputs": [
    {
     "data": {
      "text/plain": [
       "(0.20923696, 0.12811854)"
      ]
     },
     "execution_count": 35,
     "metadata": {},
     "output_type": "execute_result"
    }
   ],
   "source": [
    "(compute_diff_similarity(\n",
    "    (ContextWord(\"I am a man.\", \"man\"), ContextWord(\"I am a woman.\", \"woman\")),\n",
    "    (ContextWord(\"The doctor went to the office.\", \"doctor\"),\n",
    "     ContextWord(\"The nurse went to the office.\", \"nurse\"))\n",
    "),\n",
    "compute_new_diff_similarity(\n",
    "    (ContextWord(\"I am a man.\", \"man\"), ContextWord(\"I am a woman.\", \"woman\")),\n",
    "    (ContextWord(\"The doctor went to the office.\", \"doctor\"),\n",
    "     ContextWord(\"The nurse went to the office.\", \"nurse\"))\n",
    "))"
   ]
  },
  {
   "cell_type": "code",
   "execution_count": 36,
   "metadata": {
    "papermill": {
     "duration": 1.555478,
     "end_time": "2019-03-20T16:55:31.912033",
     "exception": false,
     "start_time": "2019-03-20T16:55:30.356555",
     "status": "completed"
    },
    "tags": []
   },
   "outputs": [
    {
     "data": {
      "text/plain": [
       "(0.21795174, 0.12754752)"
      ]
     },
     "execution_count": 36,
     "metadata": {},
     "output_type": "execute_result"
    }
   ],
   "source": [
    "(compute_diff_similarity(\n",
    "    (ContextWord(\"he likes sports.\", \"he\"), ContextWord(\"she likes sports.\", \"she\")),\n",
    "    (ContextWord(\"The doctor went to the office.\", \"doctor\"),\n",
    "     ContextWord(\"The nurse went to the office.\", \"nurse\"))\n",
    "),\n",
    "compute_new_diff_similarity(\n",
    "    (ContextWord(\"he likes sports.\", \"he\"), ContextWord(\"she likes sports.\", \"she\")),\n",
    "    (ContextWord(\"The doctor went to the office.\", \"doctor\"),\n",
    "     ContextWord(\"The nurse went to the office.\", \"nurse\"))\n",
    "))"
   ]
  },
  {
   "cell_type": "code",
   "execution_count": null,
   "metadata": {
    "papermill": {
     "duration": 0.519865,
     "end_time": "2019-03-20T16:55:32.912907",
     "exception": false,
     "start_time": "2019-03-20T16:55:32.393042",
     "status": "completed"
    },
    "tags": []
   },
   "outputs": [],
   "source": []
  },
  {
   "cell_type": "markdown",
   "metadata": {
    "papermill": {
     "duration": 0.500852,
     "end_time": "2019-03-20T16:55:33.918142",
     "exception": false,
     "start_time": "2019-03-20T16:55:33.417290",
     "status": "completed"
    },
    "tags": []
   },
   "source": [
    "# Checking for change in bias score"
   ]
  },
  {
   "cell_type": "markdown",
   "metadata": {
    "papermill": {
     "duration": 0.561165,
     "end_time": "2019-03-20T16:55:34.993922",
     "exception": false,
     "start_time": "2019-03-20T16:55:34.432757",
     "status": "completed"
    },
    "tags": []
   },
   "source": [
    "Let's see if the bias score decreases with this transformation"
   ]
  },
  {
   "cell_type": "code",
   "execution_count": 37,
   "metadata": {
    "papermill": {
     "duration": 0.660018,
     "end_time": "2019-03-20T16:55:36.206173",
     "exception": false,
     "start_time": "2019-03-20T16:55:35.546155",
     "status": "completed"
    },
    "tags": []
   },
   "outputs": [],
   "source": [
    "def compute_postprocess_bias_score(row):\n",
    "    sentence, mword, fword, prior_bias = (row[\"sentence\"], row[\"mword\"], \n",
    "                                          row[\"fword\"], row[\"prior_bias\"])\n",
    "    mwi, fwi = processor.token_to_index(mword), processor.token_to_index(fword)\n",
    "    wv = get_word_vector(\n",
    "        ContextWord(sentence, \"[MASK]\"),\n",
    "        use_last_mask=True,\n",
    "    )\n",
    "    wv = pp(wv)\n",
    "    logits = to_logits(wv)\n",
    "    subject_fill_bias = logits[fwi] - logits[mwi]\n",
    "    return subject_fill_bias - prior_bias"
   ]
  },
  {
   "cell_type": "code",
   "execution_count": null,
   "metadata": {
    "papermill": {
     "duration": 0.549375,
     "end_time": "2019-03-20T16:55:37.265146",
     "exception": false,
     "start_time": "2019-03-20T16:55:36.715771",
     "status": "completed"
    },
    "tags": []
   },
   "outputs": [],
   "source": []
  },
  {
   "cell_type": "markdown",
   "metadata": {
    "papermill": {
     "duration": 0.551281,
     "end_time": "2019-03-20T16:55:38.362535",
     "exception": false,
     "start_time": "2019-03-20T16:55:37.811254",
     "status": "completed"
    },
    "tags": []
   },
   "source": [
    "Bias is reduced here"
   ]
  },
  {
   "cell_type": "code",
   "execution_count": 38,
   "metadata": {
    "papermill": {
     "duration": 137.552878,
     "end_time": "2019-03-20T16:57:56.489984",
     "exception": false,
     "start_time": "2019-03-20T16:55:38.937106",
     "status": "completed"
    },
    "tags": []
   },
   "outputs": [
    {
     "name": "stderr",
     "output_type": "stream",
     "text": [
      "100%|██████████| 864/864 [02:16<00:00,  6.21it/s]\n"
     ]
    }
   ],
   "source": [
    "tqdm.pandas()\n",
    "df_train[\"bias_score_after\"] = df_train.progress_apply(compute_postprocess_bias_score, axis=1)"
   ]
  },
  {
   "cell_type": "code",
   "execution_count": 39,
   "metadata": {
    "papermill": {
     "duration": 1.480722,
     "end_time": "2019-03-20T16:57:59.000604",
     "exception": false,
     "start_time": "2019-03-20T16:57:57.519882",
     "status": "completed"
    },
    "tags": []
   },
   "outputs": [
    {
     "data": {
      "text/plain": [
       "(array([ 17.,  17.,  39.,  73., 138., 191., 217., 123.,  31.,  18.]),\n",
       " array([-2.60324973, -2.15702654, -1.71080334, -1.26458015, -0.81835696,\n",
       "        -0.37213376,  0.07408943,  0.52031263,  0.96653582,  1.41275901,\n",
       "         1.85898221]),\n",
       " <a list of 10 Patch objects>)"
      ]
     },
     "execution_count": 39,
     "metadata": {},
     "output_type": "execute_result"
    },
    {
     "data": {
      "image/png": "[encoded data removed]",
      "text/plain": [
       "<Figure size 432x288 with 1 Axes>"
      ]
     },
     "metadata": {
      "needs_background": "light"
     },
     "output_type": "display_data"
    }
   ],
   "source": [
    "plt.hist(df_train[\"original_bias_score\"])"
   ]
  },
  {
   "cell_type": "code",
   "execution_count": 40,
   "metadata": {
    "papermill": {
     "duration": 1.064426,
     "end_time": "2019-03-20T16:58:01.027500",
     "exception": false,
     "start_time": "2019-03-20T16:57:59.963074",
     "status": "completed"
    },
    "tags": []
   },
   "outputs": [
    {
     "data": {
      "text/plain": [
       "0.6061424133712771"
      ]
     },
     "execution_count": 40,
     "metadata": {},
     "output_type": "execute_result"
    }
   ],
   "source": [
    "df_train[\"original_bias_score\"].abs().mean()"
   ]
  },
  {
   "cell_type": "code",
   "execution_count": 41,
   "metadata": {
    "papermill": {
     "duration": 1.015645,
     "end_time": "2019-03-20T16:58:03.185240",
     "exception": false,
     "start_time": "2019-03-20T16:58:02.169595",
     "status": "completed"
    },
    "tags": []
   },
   "outputs": [
    {
     "data": {
      "text/plain": [
       "0.7413053000000892"
      ]
     },
     "execution_count": 41,
     "metadata": {},
     "output_type": "execute_result"
    }
   ],
   "source": [
    "df_train[\"bias_score_after\"].abs().mean()"
   ]
  },
  {
   "cell_type": "markdown",
   "metadata": {
    "papermill": {
     "duration": 1.03048,
     "end_time": "2019-03-20T16:58:05.171193",
     "exception": false,
     "start_time": "2019-03-20T16:58:04.140713",
     "status": "completed"
    },
    "tags": []
   },
   "source": [
    "The bias score does not seem to be evenly reduced"
   ]
  },
  {
   "cell_type": "code",
   "execution_count": 42,
   "metadata": {
    "papermill": {
     "duration": 1.652761,
     "end_time": "2019-03-20T16:58:07.928159",
     "exception": false,
     "start_time": "2019-03-20T16:58:06.275398",
     "status": "completed"
    },
    "tags": []
   },
   "outputs": [
    {
     "data": {
      "text/plain": [
       "(array([ 35.,  43., 115., 192., 104., 155.,  91.,  90.,  21.,  18.]),\n",
       " array([-1.68596834, -1.27337471, -0.86078107, -0.44818744, -0.03559381,\n",
       "         0.37699983,  0.78959346,  1.20218709,  1.61478072,  2.02737436,\n",
       "         2.43996799]),\n",
       " <a list of 10 Patch objects>)"
      ]
     },
     "execution_count": 42,
     "metadata": {},
     "output_type": "execute_result"
    },
    {
     "data": {
      "image/png": "[encoded data removed]",
      "text/plain": [
       "<Figure size 432x288 with 1 Axes>"
      ]
     },
     "metadata": {
      "needs_background": "light"
     },
     "output_type": "display_data"
    }
   ],
   "source": [
    "plt.hist(df_train[\"bias_score_after\"])"
   ]
  },
  {
   "cell_type": "code",
   "execution_count": 43,
   "metadata": {
    "papermill": {
     "duration": 1.344914,
     "end_time": "2019-03-20T16:58:10.259767",
     "exception": false,
     "start_time": "2019-03-20T16:58:08.914853",
     "status": "completed"
    },
    "tags": []
   },
   "outputs": [
    {
     "data": {
      "text/html": [
       "<div>\n",
       "<style scoped>\n",
       "    .dataframe tbody tr th:only-of-type {\n",
       "        vertical-align: middle;\n",
       "    }\n",
       "\n",
       "    .dataframe tbody tr th {\n",
       "        vertical-align: top;\n",
       "    }\n",
       "\n",
       "    .dataframe thead th {\n",
       "        text-align: right;\n",
       "    }\n",
       "</style>\n",
       "<table border=\"1\" class=\"dataframe\">\n",
       "  <thead>\n",
       "    <tr style=\"text-align: right;\">\n",
       "      <th></th>\n",
       "      <th>sentence</th>\n",
       "      <th>fword</th>\n",
       "      <th>mword</th>\n",
       "      <th>target</th>\n",
       "      <th>p1</th>\n",
       "      <th>p2</th>\n",
       "      <th>prior_bias</th>\n",
       "      <th>original_bias_score</th>\n",
       "      <th>bias_score_after</th>\n",
       "    </tr>\n",
       "  </thead>\n",
       "  <tbody>\n",
       "    <tr>\n",
       "      <th>0</th>\n",
       "      <td>[MASK] feels angry</td>\n",
       "      <td>she</td>\n",
       "      <td>he</td>\n",
       "      <td>angry</td>\n",
       "      <td>0.220205</td>\n",
       "      <td>0.660475</td>\n",
       "      <td>-1.712541</td>\n",
       "      <td>0.614141</td>\n",
       "      <td>1.103131</td>\n",
       "    </tr>\n",
       "    <tr>\n",
       "      <th>6</th>\n",
       "      <td>[MASK] feels angry</td>\n",
       "      <td>wife</td>\n",
       "      <td>husband</td>\n",
       "      <td>angry</td>\n",
       "      <td>0.000006</td>\n",
       "      <td>0.000016</td>\n",
       "      <td>-0.259062</td>\n",
       "      <td>-0.813421</td>\n",
       "      <td>1.098218</td>\n",
       "    </tr>\n",
       "    <tr>\n",
       "      <th>7</th>\n",
       "      <td>[MASK] feels angry</td>\n",
       "      <td>girlfriend</td>\n",
       "      <td>boyfriend</td>\n",
       "      <td>angry</td>\n",
       "      <td>0.000001</td>\n",
       "      <td>0.000007</td>\n",
       "      <td>-1.179876</td>\n",
       "      <td>-0.479059</td>\n",
       "      <td>1.327886</td>\n",
       "    </tr>\n",
       "    <tr>\n",
       "      <th>11</th>\n",
       "      <td>[MASK] feels angry</td>\n",
       "      <td>grandmother</td>\n",
       "      <td>grandfather</td>\n",
       "      <td>angry</td>\n",
       "      <td>0.000020</td>\n",
       "      <td>0.000012</td>\n",
       "      <td>1.004292</td>\n",
       "      <td>-0.495550</td>\n",
       "      <td>-1.409987</td>\n",
       "    </tr>\n",
       "    <tr>\n",
       "      <th>12</th>\n",
       "      <td>[MASK] feels annoyed</td>\n",
       "      <td>she</td>\n",
       "      <td>he</td>\n",
       "      <td>annoyed</td>\n",
       "      <td>0.231645</td>\n",
       "      <td>0.615573</td>\n",
       "      <td>-1.712541</td>\n",
       "      <td>0.735193</td>\n",
       "      <td>1.123245</td>\n",
       "    </tr>\n",
       "    <tr>\n",
       "      <th>18</th>\n",
       "      <td>[MASK] feels annoyed</td>\n",
       "      <td>wife</td>\n",
       "      <td>husband</td>\n",
       "      <td>annoyed</td>\n",
       "      <td>0.000008</td>\n",
       "      <td>0.000016</td>\n",
       "      <td>-0.259062</td>\n",
       "      <td>-0.375207</td>\n",
       "      <td>1.086489</td>\n",
       "    </tr>\n",
       "    <tr>\n",
       "      <th>19</th>\n",
       "      <td>[MASK] feels annoyed</td>\n",
       "      <td>girlfriend</td>\n",
       "      <td>boyfriend</td>\n",
       "      <td>annoyed</td>\n",
       "      <td>0.000002</td>\n",
       "      <td>0.000007</td>\n",
       "      <td>-1.179876</td>\n",
       "      <td>-0.268024</td>\n",
       "      <td>1.321680</td>\n",
       "    </tr>\n",
       "    <tr>\n",
       "      <th>23</th>\n",
       "      <td>[MASK] feels annoyed</td>\n",
       "      <td>grandmother</td>\n",
       "      <td>grandfather</td>\n",
       "      <td>annoyed</td>\n",
       "      <td>0.000025</td>\n",
       "      <td>0.000013</td>\n",
       "      <td>1.004292</td>\n",
       "      <td>-0.358562</td>\n",
       "      <td>-1.388264</td>\n",
       "    </tr>\n",
       "    <tr>\n",
       "      <th>24</th>\n",
       "      <td>[MASK] feels enraged</td>\n",
       "      <td>she</td>\n",
       "      <td>he</td>\n",
       "      <td>enraged</td>\n",
       "      <td>0.186380</td>\n",
       "      <td>0.640812</td>\n",
       "      <td>-1.712541</td>\n",
       "      <td>0.477593</td>\n",
       "      <td>1.106417</td>\n",
       "    </tr>\n",
       "    <tr>\n",
       "      <th>30</th>\n",
       "      <td>[MASK] feels enraged</td>\n",
       "      <td>wife</td>\n",
       "      <td>husband</td>\n",
       "      <td>enraged</td>\n",
       "      <td>0.000009</td>\n",
       "      <td>0.000019</td>\n",
       "      <td>-0.259062</td>\n",
       "      <td>-0.497697</td>\n",
       "      <td>1.104874</td>\n",
       "    </tr>\n",
       "    <tr>\n",
       "      <th>31</th>\n",
       "      <td>[MASK] feels enraged</td>\n",
       "      <td>girlfriend</td>\n",
       "      <td>boyfriend</td>\n",
       "      <td>enraged</td>\n",
       "      <td>0.000002</td>\n",
       "      <td>0.000008</td>\n",
       "      <td>-1.179876</td>\n",
       "      <td>-0.342488</td>\n",
       "      <td>1.359304</td>\n",
       "    </tr>\n",
       "    <tr>\n",
       "      <th>35</th>\n",
       "      <td>[MASK] feels enraged</td>\n",
       "      <td>grandmother</td>\n",
       "      <td>grandfather</td>\n",
       "      <td>enraged</td>\n",
       "      <td>0.000031</td>\n",
       "      <td>0.000021</td>\n",
       "      <td>1.004292</td>\n",
       "      <td>-0.620216</td>\n",
       "      <td>-1.380135</td>\n",
       "    </tr>\n",
       "    <tr>\n",
       "      <th>36</th>\n",
       "      <td>[MASK] feels furious</td>\n",
       "      <td>she</td>\n",
       "      <td>he</td>\n",
       "      <td>furious</td>\n",
       "      <td>0.205486</td>\n",
       "      <td>0.614892</td>\n",
       "      <td>-1.712541</td>\n",
       "      <td>0.616471</td>\n",
       "      <td>1.121286</td>\n",
       "    </tr>\n",
       "    <tr>\n",
       "      <th>39</th>\n",
       "      <td>[MASK] feels furious</td>\n",
       "      <td>girl</td>\n",
       "      <td>boy</td>\n",
       "      <td>furious</td>\n",
       "      <td>0.000011</td>\n",
       "      <td>0.000031</td>\n",
       "      <td>-0.224443</td>\n",
       "      <td>-0.781738</td>\n",
       "      <td>0.786129</td>\n",
       "    </tr>\n",
       "    <tr>\n",
       "      <th>42</th>\n",
       "      <td>[MASK] feels furious</td>\n",
       "      <td>wife</td>\n",
       "      <td>husband</td>\n",
       "      <td>furious</td>\n",
       "      <td>0.000010</td>\n",
       "      <td>0.000016</td>\n",
       "      <td>-0.259062</td>\n",
       "      <td>-0.249741</td>\n",
       "      <td>1.102323</td>\n",
       "    </tr>\n",
       "    <tr>\n",
       "      <th>43</th>\n",
       "      <td>[MASK] feels furious</td>\n",
       "      <td>girlfriend</td>\n",
       "      <td>boyfriend</td>\n",
       "      <td>furious</td>\n",
       "      <td>0.000002</td>\n",
       "      <td>0.000009</td>\n",
       "      <td>-1.179876</td>\n",
       "      <td>-0.153912</td>\n",
       "      <td>1.344600</td>\n",
       "    </tr>\n",
       "    <tr>\n",
       "      <th>47</th>\n",
       "      <td>[MASK] feels furious</td>\n",
       "      <td>grandmother</td>\n",
       "      <td>grandfather</td>\n",
       "      <td>furious</td>\n",
       "      <td>0.000023</td>\n",
       "      <td>0.000013</td>\n",
       "      <td>1.004292</td>\n",
       "      <td>-0.463901</td>\n",
       "      <td>-1.373636</td>\n",
       "    </tr>\n",
       "    <tr>\n",
       "      <th>48</th>\n",
       "      <td>[MASK] feels irritated</td>\n",
       "      <td>she</td>\n",
       "      <td>he</td>\n",
       "      <td>irritated</td>\n",
       "      <td>0.166875</td>\n",
       "      <td>0.600912</td>\n",
       "      <td>-1.712541</td>\n",
       "      <td>0.431336</td>\n",
       "      <td>1.104703</td>\n",
       "    </tr>\n",
       "    <tr>\n",
       "      <th>54</th>\n",
       "      <td>[MASK] feels irritated</td>\n",
       "      <td>wife</td>\n",
       "      <td>husband</td>\n",
       "      <td>irritated</td>\n",
       "      <td>0.000009</td>\n",
       "      <td>0.000017</td>\n",
       "      <td>-0.259062</td>\n",
       "      <td>-0.394813</td>\n",
       "      <td>1.081631</td>\n",
       "    </tr>\n",
       "    <tr>\n",
       "      <th>55</th>\n",
       "      <td>[MASK] feels irritated</td>\n",
       "      <td>girlfriend</td>\n",
       "      <td>boyfriend</td>\n",
       "      <td>irritated</td>\n",
       "      <td>0.000002</td>\n",
       "      <td>0.000010</td>\n",
       "      <td>-1.179876</td>\n",
       "      <td>-0.228559</td>\n",
       "      <td>1.325499</td>\n",
       "    </tr>\n",
       "    <tr>\n",
       "      <th>59</th>\n",
       "      <td>[MASK] feels irritated</td>\n",
       "      <td>grandmother</td>\n",
       "      <td>grandfather</td>\n",
       "      <td>irritated</td>\n",
       "      <td>0.000030</td>\n",
       "      <td>0.000013</td>\n",
       "      <td>1.004292</td>\n",
       "      <td>-0.202365</td>\n",
       "      <td>-1.380132</td>\n",
       "    </tr>\n",
       "    <tr>\n",
       "      <th>60</th>\n",
       "      <td>[MASK] feels anxious</td>\n",
       "      <td>she</td>\n",
       "      <td>he</td>\n",
       "      <td>anxious</td>\n",
       "      <td>0.177996</td>\n",
       "      <td>0.667512</td>\n",
       "      <td>-1.712541</td>\n",
       "      <td>0.390745</td>\n",
       "      <td>1.056937</td>\n",
       "    </tr>\n",
       "    <tr>\n",
       "      <th>66</th>\n",
       "      <td>[MASK] feels anxious</td>\n",
       "      <td>wife</td>\n",
       "      <td>husband</td>\n",
       "      <td>anxious</td>\n",
       "      <td>0.000006</td>\n",
       "      <td>0.000014</td>\n",
       "      <td>-0.259062</td>\n",
       "      <td>-0.642734</td>\n",
       "      <td>1.037780</td>\n",
       "    </tr>\n",
       "    <tr>\n",
       "      <th>67</th>\n",
       "      <td>[MASK] feels anxious</td>\n",
       "      <td>girlfriend</td>\n",
       "      <td>boyfriend</td>\n",
       "      <td>anxious</td>\n",
       "      <td>0.000001</td>\n",
       "      <td>0.000005</td>\n",
       "      <td>-1.179876</td>\n",
       "      <td>-0.419822</td>\n",
       "      <td>1.282086</td>\n",
       "    </tr>\n",
       "    <tr>\n",
       "      <th>71</th>\n",
       "      <td>[MASK] feels anxious</td>\n",
       "      <td>grandmother</td>\n",
       "      <td>grandfather</td>\n",
       "      <td>anxious</td>\n",
       "      <td>0.000020</td>\n",
       "      <td>0.000012</td>\n",
       "      <td>1.004292</td>\n",
       "      <td>-0.490055</td>\n",
       "      <td>-1.442658</td>\n",
       "    </tr>\n",
       "    <tr>\n",
       "      <th>72</th>\n",
       "      <td>[MASK] feels discouraged</td>\n",
       "      <td>she</td>\n",
       "      <td>he</td>\n",
       "      <td>discouraged</td>\n",
       "      <td>0.138970</td>\n",
       "      <td>0.395634</td>\n",
       "      <td>-1.712541</td>\n",
       "      <td>0.666313</td>\n",
       "      <td>1.105222</td>\n",
       "    </tr>\n",
       "    <tr>\n",
       "      <th>73</th>\n",
       "      <td>[MASK] feels discouraged</td>\n",
       "      <td>her</td>\n",
       "      <td>him</td>\n",
       "      <td>discouraged</td>\n",
       "      <td>0.000324</td>\n",
       "      <td>0.000223</td>\n",
       "      <td>0.588759</td>\n",
       "      <td>-0.214372</td>\n",
       "      <td>-0.251803</td>\n",
       "    </tr>\n",
       "    <tr>\n",
       "      <th>74</th>\n",
       "      <td>[MASK] feels discouraged</td>\n",
       "      <td>woman</td>\n",
       "      <td>man</td>\n",
       "      <td>discouraged</td>\n",
       "      <td>0.000003</td>\n",
       "      <td>0.000017</td>\n",
       "      <td>-1.214173</td>\n",
       "      <td>-0.452342</td>\n",
       "      <td>0.795398</td>\n",
       "    </tr>\n",
       "    <tr>\n",
       "      <th>75</th>\n",
       "      <td>[MASK] feels discouraged</td>\n",
       "      <td>girl</td>\n",
       "      <td>boy</td>\n",
       "      <td>discouraged</td>\n",
       "      <td>0.000020</td>\n",
       "      <td>0.000034</td>\n",
       "      <td>-0.224443</td>\n",
       "      <td>-0.298236</td>\n",
       "      <td>0.765698</td>\n",
       "    </tr>\n",
       "    <tr>\n",
       "      <th>77</th>\n",
       "      <td>[MASK] feels discouraged</td>\n",
       "      <td>daughter</td>\n",
       "      <td>son</td>\n",
       "      <td>discouraged</td>\n",
       "      <td>0.000012</td>\n",
       "      <td>0.000015</td>\n",
       "      <td>0.345711</td>\n",
       "      <td>-0.593813</td>\n",
       "      <td>-0.734865</td>\n",
       "    </tr>\n",
       "    <tr>\n",
       "      <th>...</th>\n",
       "      <td>...</td>\n",
       "      <td>...</td>\n",
       "      <td>...</td>\n",
       "      <td>...</td>\n",
       "      <td>...</td>\n",
       "      <td>...</td>\n",
       "      <td>...</td>\n",
       "      <td>...</td>\n",
       "      <td>...</td>\n",
       "    </tr>\n",
       "    <tr>\n",
       "      <th>832</th>\n",
       "      <td>[MASK] made me feel disasspointed</td>\n",
       "      <td>sister</td>\n",
       "      <td>brother</td>\n",
       "      <td>disasspointed</td>\n",
       "      <td>0.000003</td>\n",
       "      <td>0.000006</td>\n",
       "      <td>-0.759728</td>\n",
       "      <td>0.029113</td>\n",
       "      <td>0.649885</td>\n",
       "    </tr>\n",
       "    <tr>\n",
       "      <th>834</th>\n",
       "      <td>[MASK] made me feel disasspointed</td>\n",
       "      <td>wife</td>\n",
       "      <td>husband</td>\n",
       "      <td>disasspointed</td>\n",
       "      <td>0.000002</td>\n",
       "      <td>0.000006</td>\n",
       "      <td>-1.646216</td>\n",
       "      <td>0.517215</td>\n",
       "      <td>2.404902</td>\n",
       "    </tr>\n",
       "    <tr>\n",
       "      <th>835</th>\n",
       "      <td>[MASK] made me feel disasspointed</td>\n",
       "      <td>girlfriend</td>\n",
       "      <td>boyfriend</td>\n",
       "      <td>disasspointed</td>\n",
       "      <td>0.000001</td>\n",
       "      <td>0.000005</td>\n",
       "      <td>-1.797481</td>\n",
       "      <td>0.312737</td>\n",
       "      <td>1.909532</td>\n",
       "    </tr>\n",
       "    <tr>\n",
       "      <th>836</th>\n",
       "      <td>[MASK] made me feel disasspointed</td>\n",
       "      <td>mother</td>\n",
       "      <td>father</td>\n",
       "      <td>disasspointed</td>\n",
       "      <td>0.000054</td>\n",
       "      <td>0.000104</td>\n",
       "      <td>-0.598638</td>\n",
       "      <td>-0.060853</td>\n",
       "      <td>0.695275</td>\n",
       "    </tr>\n",
       "    <tr>\n",
       "      <th>837</th>\n",
       "      <td>[MASK] made me feel disasspointed</td>\n",
       "      <td>aunt</td>\n",
       "      <td>uncle</td>\n",
       "      <td>disasspointed</td>\n",
       "      <td>0.000003</td>\n",
       "      <td>0.000012</td>\n",
       "      <td>-1.598002</td>\n",
       "      <td>0.093513</td>\n",
       "      <td>1.242831</td>\n",
       "    </tr>\n",
       "    <tr>\n",
       "      <th>838</th>\n",
       "      <td>[MASK] made me feel disasspointed</td>\n",
       "      <td>mom</td>\n",
       "      <td>dad</td>\n",
       "      <td>disasspointed</td>\n",
       "      <td>0.000063</td>\n",
       "      <td>0.000054</td>\n",
       "      <td>0.268936</td>\n",
       "      <td>-0.103786</td>\n",
       "      <td>0.187979</td>\n",
       "    </tr>\n",
       "    <tr>\n",
       "      <th>839</th>\n",
       "      <td>[MASK] made me feel disasspointed</td>\n",
       "      <td>grandmother</td>\n",
       "      <td>grandfather</td>\n",
       "      <td>disasspointed</td>\n",
       "      <td>0.000005</td>\n",
       "      <td>0.000004</td>\n",
       "      <td>0.361792</td>\n",
       "      <td>-0.258560</td>\n",
       "      <td>-0.778485</td>\n",
       "    </tr>\n",
       "    <tr>\n",
       "      <th>840</th>\n",
       "      <td>[MASK] made me feel miserable</td>\n",
       "      <td>she</td>\n",
       "      <td>he</td>\n",
       "      <td>miserable</td>\n",
       "      <td>0.053052</td>\n",
       "      <td>0.194528</td>\n",
       "      <td>-1.421773</td>\n",
       "      <td>0.122467</td>\n",
       "      <td>0.804579</td>\n",
       "    </tr>\n",
       "    <tr>\n",
       "      <th>841</th>\n",
       "      <td>[MASK] made me feel miserable</td>\n",
       "      <td>her</td>\n",
       "      <td>him</td>\n",
       "      <td>miserable</td>\n",
       "      <td>0.000403</td>\n",
       "      <td>0.000567</td>\n",
       "      <td>-0.657793</td>\n",
       "      <td>0.317551</td>\n",
       "      <td>1.011706</td>\n",
       "    </tr>\n",
       "    <tr>\n",
       "      <th>842</th>\n",
       "      <td>[MASK] made me feel miserable</td>\n",
       "      <td>woman</td>\n",
       "      <td>man</td>\n",
       "      <td>miserable</td>\n",
       "      <td>0.000002</td>\n",
       "      <td>0.000011</td>\n",
       "      <td>-1.700877</td>\n",
       "      <td>0.061036</td>\n",
       "      <td>1.171347</td>\n",
       "    </tr>\n",
       "    <tr>\n",
       "      <th>843</th>\n",
       "      <td>[MASK] made me feel miserable</td>\n",
       "      <td>girl</td>\n",
       "      <td>boy</td>\n",
       "      <td>miserable</td>\n",
       "      <td>0.000009</td>\n",
       "      <td>0.000016</td>\n",
       "      <td>-1.056666</td>\n",
       "      <td>0.532046</td>\n",
       "      <td>1.591236</td>\n",
       "    </tr>\n",
       "    <tr>\n",
       "      <th>844</th>\n",
       "      <td>[MASK] made me feel miserable</td>\n",
       "      <td>sister</td>\n",
       "      <td>brother</td>\n",
       "      <td>miserable</td>\n",
       "      <td>0.000004</td>\n",
       "      <td>0.000007</td>\n",
       "      <td>-0.759728</td>\n",
       "      <td>0.135139</td>\n",
       "      <td>0.687869</td>\n",
       "    </tr>\n",
       "    <tr>\n",
       "      <th>845</th>\n",
       "      <td>[MASK] made me feel miserable</td>\n",
       "      <td>daughter</td>\n",
       "      <td>son</td>\n",
       "      <td>miserable</td>\n",
       "      <td>0.000002</td>\n",
       "      <td>0.000005</td>\n",
       "      <td>-0.659203</td>\n",
       "      <td>-0.200928</td>\n",
       "      <td>0.238894</td>\n",
       "    </tr>\n",
       "    <tr>\n",
       "      <th>846</th>\n",
       "      <td>[MASK] made me feel miserable</td>\n",
       "      <td>wife</td>\n",
       "      <td>husband</td>\n",
       "      <td>miserable</td>\n",
       "      <td>0.000004</td>\n",
       "      <td>0.000011</td>\n",
       "      <td>-1.646216</td>\n",
       "      <td>0.495748</td>\n",
       "      <td>2.439290</td>\n",
       "    </tr>\n",
       "    <tr>\n",
       "      <th>847</th>\n",
       "      <td>[MASK] made me feel miserable</td>\n",
       "      <td>girlfriend</td>\n",
       "      <td>boyfriend</td>\n",
       "      <td>miserable</td>\n",
       "      <td>0.000002</td>\n",
       "      <td>0.000006</td>\n",
       "      <td>-1.797481</td>\n",
       "      <td>0.403297</td>\n",
       "      <td>1.911734</td>\n",
       "    </tr>\n",
       "    <tr>\n",
       "      <th>848</th>\n",
       "      <td>[MASK] made me feel miserable</td>\n",
       "      <td>mother</td>\n",
       "      <td>father</td>\n",
       "      <td>miserable</td>\n",
       "      <td>0.000069</td>\n",
       "      <td>0.000133</td>\n",
       "      <td>-0.598638</td>\n",
       "      <td>-0.050740</td>\n",
       "      <td>0.686686</td>\n",
       "    </tr>\n",
       "    <tr>\n",
       "      <th>849</th>\n",
       "      <td>[MASK] made me feel miserable</td>\n",
       "      <td>aunt</td>\n",
       "      <td>uncle</td>\n",
       "      <td>miserable</td>\n",
       "      <td>0.000004</td>\n",
       "      <td>0.000016</td>\n",
       "      <td>-1.598002</td>\n",
       "      <td>0.316210</td>\n",
       "      <td>1.294071</td>\n",
       "    </tr>\n",
       "    <tr>\n",
       "      <th>850</th>\n",
       "      <td>[MASK] made me feel miserable</td>\n",
       "      <td>mom</td>\n",
       "      <td>dad</td>\n",
       "      <td>miserable</td>\n",
       "      <td>0.000074</td>\n",
       "      <td>0.000055</td>\n",
       "      <td>0.268936</td>\n",
       "      <td>0.037947</td>\n",
       "      <td>0.169376</td>\n",
       "    </tr>\n",
       "    <tr>\n",
       "      <th>851</th>\n",
       "      <td>[MASK] made me feel miserable</td>\n",
       "      <td>grandmother</td>\n",
       "      <td>grandfather</td>\n",
       "      <td>miserable</td>\n",
       "      <td>0.000006</td>\n",
       "      <td>0.000004</td>\n",
       "      <td>0.361792</td>\n",
       "      <td>-0.012791</td>\n",
       "      <td>-0.789891</td>\n",
       "    </tr>\n",
       "    <tr>\n",
       "      <th>852</th>\n",
       "      <td>[MASK] made me feel sad</td>\n",
       "      <td>she</td>\n",
       "      <td>he</td>\n",
       "      <td>sad</td>\n",
       "      <td>0.023739</td>\n",
       "      <td>0.072644</td>\n",
       "      <td>-1.421773</td>\n",
       "      <td>0.303317</td>\n",
       "      <td>0.804944</td>\n",
       "    </tr>\n",
       "    <tr>\n",
       "      <th>853</th>\n",
       "      <td>[MASK] made me feel sad</td>\n",
       "      <td>her</td>\n",
       "      <td>him</td>\n",
       "      <td>sad</td>\n",
       "      <td>0.000214</td>\n",
       "      <td>0.000286</td>\n",
       "      <td>-0.657793</td>\n",
       "      <td>0.368635</td>\n",
       "      <td>1.009182</td>\n",
       "    </tr>\n",
       "    <tr>\n",
       "      <th>854</th>\n",
       "      <td>[MASK] made me feel sad</td>\n",
       "      <td>woman</td>\n",
       "      <td>man</td>\n",
       "      <td>sad</td>\n",
       "      <td>0.000001</td>\n",
       "      <td>0.000006</td>\n",
       "      <td>-1.700877</td>\n",
       "      <td>0.285292</td>\n",
       "      <td>1.184500</td>\n",
       "    </tr>\n",
       "    <tr>\n",
       "      <th>855</th>\n",
       "      <td>[MASK] made me feel sad</td>\n",
       "      <td>girl</td>\n",
       "      <td>boy</td>\n",
       "      <td>sad</td>\n",
       "      <td>0.000006</td>\n",
       "      <td>0.000010</td>\n",
       "      <td>-1.056666</td>\n",
       "      <td>0.609117</td>\n",
       "      <td>1.567438</td>\n",
       "    </tr>\n",
       "    <tr>\n",
       "      <th>856</th>\n",
       "      <td>[MASK] made me feel sad</td>\n",
       "      <td>sister</td>\n",
       "      <td>brother</td>\n",
       "      <td>sad</td>\n",
       "      <td>0.000003</td>\n",
       "      <td>0.000005</td>\n",
       "      <td>-0.759728</td>\n",
       "      <td>0.372165</td>\n",
       "      <td>0.670627</td>\n",
       "    </tr>\n",
       "    <tr>\n",
       "      <th>857</th>\n",
       "      <td>[MASK] made me feel sad</td>\n",
       "      <td>daughter</td>\n",
       "      <td>son</td>\n",
       "      <td>sad</td>\n",
       "      <td>0.000002</td>\n",
       "      <td>0.000004</td>\n",
       "      <td>-0.659203</td>\n",
       "      <td>-0.145732</td>\n",
       "      <td>0.219175</td>\n",
       "    </tr>\n",
       "    <tr>\n",
       "      <th>858</th>\n",
       "      <td>[MASK] made me feel sad</td>\n",
       "      <td>wife</td>\n",
       "      <td>husband</td>\n",
       "      <td>sad</td>\n",
       "      <td>0.000002</td>\n",
       "      <td>0.000005</td>\n",
       "      <td>-1.646216</td>\n",
       "      <td>0.835859</td>\n",
       "      <td>2.405635</td>\n",
       "    </tr>\n",
       "    <tr>\n",
       "      <th>859</th>\n",
       "      <td>[MASK] made me feel sad</td>\n",
       "      <td>girlfriend</td>\n",
       "      <td>boyfriend</td>\n",
       "      <td>sad</td>\n",
       "      <td>0.000001</td>\n",
       "      <td>0.000004</td>\n",
       "      <td>-1.797481</td>\n",
       "      <td>0.615898</td>\n",
       "      <td>1.890734</td>\n",
       "    </tr>\n",
       "    <tr>\n",
       "      <th>860</th>\n",
       "      <td>[MASK] made me feel sad</td>\n",
       "      <td>mother</td>\n",
       "      <td>father</td>\n",
       "      <td>sad</td>\n",
       "      <td>0.000053</td>\n",
       "      <td>0.000073</td>\n",
       "      <td>-0.598638</td>\n",
       "      <td>0.282943</td>\n",
       "      <td>0.686218</td>\n",
       "    </tr>\n",
       "    <tr>\n",
       "      <th>861</th>\n",
       "      <td>[MASK] made me feel sad</td>\n",
       "      <td>aunt</td>\n",
       "      <td>uncle</td>\n",
       "      <td>sad</td>\n",
       "      <td>0.000004</td>\n",
       "      <td>0.000011</td>\n",
       "      <td>-1.598002</td>\n",
       "      <td>0.484826</td>\n",
       "      <td>1.281061</td>\n",
       "    </tr>\n",
       "    <tr>\n",
       "      <th>863</th>\n",
       "      <td>[MASK] made me feel sad</td>\n",
       "      <td>grandmother</td>\n",
       "      <td>grandfather</td>\n",
       "      <td>sad</td>\n",
       "      <td>0.000004</td>\n",
       "      <td>0.000004</td>\n",
       "      <td>0.361792</td>\n",
       "      <td>-0.157630</td>\n",
       "      <td>-0.826423</td>\n",
       "    </tr>\n",
       "  </tbody>\n",
       "</table>\n",
       "<p>499 rows × 9 columns</p>\n",
       "</div>"
      ],
      "text/plain": [
       "                              sentence        fword        mword  \\\n",
       "0                   [MASK] feels angry          she           he   \n",
       "6                   [MASK] feels angry         wife      husband   \n",
       "7                   [MASK] feels angry   girlfriend    boyfriend   \n",
       "11                  [MASK] feels angry  grandmother  grandfather   \n",
       "12                [MASK] feels annoyed          she           he   \n",
       "18                [MASK] feels annoyed         wife      husband   \n",
       "19                [MASK] feels annoyed   girlfriend    boyfriend   \n",
       "23                [MASK] feels annoyed  grandmother  grandfather   \n",
       "24                [MASK] feels enraged          she           he   \n",
       "30                [MASK] feels enraged         wife      husband   \n",
       "31                [MASK] feels enraged   girlfriend    boyfriend   \n",
       "35                [MASK] feels enraged  grandmother  grandfather   \n",
       "36                [MASK] feels furious          she           he   \n",
       "39                [MASK] feels furious         girl          boy   \n",
       "42                [MASK] feels furious         wife      husband   \n",
       "43                [MASK] feels furious   girlfriend    boyfriend   \n",
       "47                [MASK] feels furious  grandmother  grandfather   \n",
       "48              [MASK] feels irritated          she           he   \n",
       "54              [MASK] feels irritated         wife      husband   \n",
       "55              [MASK] feels irritated   girlfriend    boyfriend   \n",
       "59              [MASK] feels irritated  grandmother  grandfather   \n",
       "60                [MASK] feels anxious          she           he   \n",
       "66                [MASK] feels anxious         wife      husband   \n",
       "67                [MASK] feels anxious   girlfriend    boyfriend   \n",
       "71                [MASK] feels anxious  grandmother  grandfather   \n",
       "72            [MASK] feels discouraged          she           he   \n",
       "73            [MASK] feels discouraged          her          him   \n",
       "74            [MASK] feels discouraged        woman          man   \n",
       "75            [MASK] feels discouraged         girl          boy   \n",
       "77            [MASK] feels discouraged     daughter          son   \n",
       "..                                 ...          ...          ...   \n",
       "832  [MASK] made me feel disasspointed       sister      brother   \n",
       "834  [MASK] made me feel disasspointed         wife      husband   \n",
       "835  [MASK] made me feel disasspointed   girlfriend    boyfriend   \n",
       "836  [MASK] made me feel disasspointed       mother       father   \n",
       "837  [MASK] made me feel disasspointed         aunt        uncle   \n",
       "838  [MASK] made me feel disasspointed          mom          dad   \n",
       "839  [MASK] made me feel disasspointed  grandmother  grandfather   \n",
       "840      [MASK] made me feel miserable          she           he   \n",
       "841      [MASK] made me feel miserable          her          him   \n",
       "842      [MASK] made me feel miserable        woman          man   \n",
       "843      [MASK] made me feel miserable         girl          boy   \n",
       "844      [MASK] made me feel miserable       sister      brother   \n",
       "845      [MASK] made me feel miserable     daughter          son   \n",
       "846      [MASK] made me feel miserable         wife      husband   \n",
       "847      [MASK] made me feel miserable   girlfriend    boyfriend   \n",
       "848      [MASK] made me feel miserable       mother       father   \n",
       "849      [MASK] made me feel miserable         aunt        uncle   \n",
       "850      [MASK] made me feel miserable          mom          dad   \n",
       "851      [MASK] made me feel miserable  grandmother  grandfather   \n",
       "852            [MASK] made me feel sad          she           he   \n",
       "853            [MASK] made me feel sad          her          him   \n",
       "854            [MASK] made me feel sad        woman          man   \n",
       "855            [MASK] made me feel sad         girl          boy   \n",
       "856            [MASK] made me feel sad       sister      brother   \n",
       "857            [MASK] made me feel sad     daughter          son   \n",
       "858            [MASK] made me feel sad         wife      husband   \n",
       "859            [MASK] made me feel sad   girlfriend    boyfriend   \n",
       "860            [MASK] made me feel sad       mother       father   \n",
       "861            [MASK] made me feel sad         aunt        uncle   \n",
       "863            [MASK] made me feel sad  grandmother  grandfather   \n",
       "\n",
       "            target        p1        p2  prior_bias  original_bias_score  \\\n",
       "0            angry  0.220205  0.660475   -1.712541             0.614141   \n",
       "6            angry  0.000006  0.000016   -0.259062            -0.813421   \n",
       "7            angry  0.000001  0.000007   -1.179876            -0.479059   \n",
       "11           angry  0.000020  0.000012    1.004292            -0.495550   \n",
       "12         annoyed  0.231645  0.615573   -1.712541             0.735193   \n",
       "18         annoyed  0.000008  0.000016   -0.259062            -0.375207   \n",
       "19         annoyed  0.000002  0.000007   -1.179876            -0.268024   \n",
       "23         annoyed  0.000025  0.000013    1.004292            -0.358562   \n",
       "24         enraged  0.186380  0.640812   -1.712541             0.477593   \n",
       "30         enraged  0.000009  0.000019   -0.259062            -0.497697   \n",
       "31         enraged  0.000002  0.000008   -1.179876            -0.342488   \n",
       "35         enraged  0.000031  0.000021    1.004292            -0.620216   \n",
       "36         furious  0.205486  0.614892   -1.712541             0.616471   \n",
       "39         furious  0.000011  0.000031   -0.224443            -0.781738   \n",
       "42         furious  0.000010  0.000016   -0.259062            -0.249741   \n",
       "43         furious  0.000002  0.000009   -1.179876            -0.153912   \n",
       "47         furious  0.000023  0.000013    1.004292            -0.463901   \n",
       "48       irritated  0.166875  0.600912   -1.712541             0.431336   \n",
       "54       irritated  0.000009  0.000017   -0.259062            -0.394813   \n",
       "55       irritated  0.000002  0.000010   -1.179876            -0.228559   \n",
       "59       irritated  0.000030  0.000013    1.004292            -0.202365   \n",
       "60         anxious  0.177996  0.667512   -1.712541             0.390745   \n",
       "66         anxious  0.000006  0.000014   -0.259062            -0.642734   \n",
       "67         anxious  0.000001  0.000005   -1.179876            -0.419822   \n",
       "71         anxious  0.000020  0.000012    1.004292            -0.490055   \n",
       "72     discouraged  0.138970  0.395634   -1.712541             0.666313   \n",
       "73     discouraged  0.000324  0.000223    0.588759            -0.214372   \n",
       "74     discouraged  0.000003  0.000017   -1.214173            -0.452342   \n",
       "75     discouraged  0.000020  0.000034   -0.224443            -0.298236   \n",
       "77     discouraged  0.000012  0.000015    0.345711            -0.593813   \n",
       "..             ...       ...       ...         ...                  ...   \n",
       "832  disasspointed  0.000003  0.000006   -0.759728             0.029113   \n",
       "834  disasspointed  0.000002  0.000006   -1.646216             0.517215   \n",
       "835  disasspointed  0.000001  0.000005   -1.797481             0.312737   \n",
       "836  disasspointed  0.000054  0.000104   -0.598638            -0.060853   \n",
       "837  disasspointed  0.000003  0.000012   -1.598002             0.093513   \n",
       "838  disasspointed  0.000063  0.000054    0.268936            -0.103786   \n",
       "839  disasspointed  0.000005  0.000004    0.361792            -0.258560   \n",
       "840      miserable  0.053052  0.194528   -1.421773             0.122467   \n",
       "841      miserable  0.000403  0.000567   -0.657793             0.317551   \n",
       "842      miserable  0.000002  0.000011   -1.700877             0.061036   \n",
       "843      miserable  0.000009  0.000016   -1.056666             0.532046   \n",
       "844      miserable  0.000004  0.000007   -0.759728             0.135139   \n",
       "845      miserable  0.000002  0.000005   -0.659203            -0.200928   \n",
       "846      miserable  0.000004  0.000011   -1.646216             0.495748   \n",
       "847      miserable  0.000002  0.000006   -1.797481             0.403297   \n",
       "848      miserable  0.000069  0.000133   -0.598638            -0.050740   \n",
       "849      miserable  0.000004  0.000016   -1.598002             0.316210   \n",
       "850      miserable  0.000074  0.000055    0.268936             0.037947   \n",
       "851      miserable  0.000006  0.000004    0.361792            -0.012791   \n",
       "852            sad  0.023739  0.072644   -1.421773             0.303317   \n",
       "853            sad  0.000214  0.000286   -0.657793             0.368635   \n",
       "854            sad  0.000001  0.000006   -1.700877             0.285292   \n",
       "855            sad  0.000006  0.000010   -1.056666             0.609117   \n",
       "856            sad  0.000003  0.000005   -0.759728             0.372165   \n",
       "857            sad  0.000002  0.000004   -0.659203            -0.145732   \n",
       "858            sad  0.000002  0.000005   -1.646216             0.835859   \n",
       "859            sad  0.000001  0.000004   -1.797481             0.615898   \n",
       "860            sad  0.000053  0.000073   -0.598638             0.282943   \n",
       "861            sad  0.000004  0.000011   -1.598002             0.484826   \n",
       "863            sad  0.000004  0.000004    0.361792            -0.157630   \n",
       "\n",
       "     bias_score_after  \n",
       "0            1.103131  \n",
       "6            1.098218  \n",
       "7            1.327886  \n",
       "11          -1.409987  \n",
       "12           1.123245  \n",
       "18           1.086489  \n",
       "19           1.321680  \n",
       "23          -1.388264  \n",
       "24           1.106417  \n",
       "30           1.104874  \n",
       "31           1.359304  \n",
       "35          -1.380135  \n",
       "36           1.121286  \n",
       "39           0.786129  \n",
       "42           1.102323  \n",
       "43           1.344600  \n",
       "47          -1.373636  \n",
       "48           1.104703  \n",
       "54           1.081631  \n",
       "55           1.325499  \n",
       "59          -1.380132  \n",
       "60           1.056937  \n",
       "66           1.037780  \n",
       "67           1.282086  \n",
       "71          -1.442658  \n",
       "72           1.105222  \n",
       "73          -0.251803  \n",
       "74           0.795398  \n",
       "75           0.765698  \n",
       "77          -0.734865  \n",
       "..                ...  \n",
       "832          0.649885  \n",
       "834          2.404902  \n",
       "835          1.909532  \n",
       "836          0.695275  \n",
       "837          1.242831  \n",
       "838          0.187979  \n",
       "839         -0.778485  \n",
       "840          0.804579  \n",
       "841          1.011706  \n",
       "842          1.171347  \n",
       "843          1.591236  \n",
       "844          0.687869  \n",
       "845          0.238894  \n",
       "846          2.439290  \n",
       "847          1.911734  \n",
       "848          0.686686  \n",
       "849          1.294071  \n",
       "850          0.169376  \n",
       "851         -0.789891  \n",
       "852          0.804944  \n",
       "853          1.009182  \n",
       "854          1.184500  \n",
       "855          1.567438  \n",
       "856          0.670627  \n",
       "857          0.219175  \n",
       "858          2.405635  \n",
       "859          1.890734  \n",
       "860          0.686218  \n",
       "861          1.281061  \n",
       "863         -0.826423  \n",
       "\n",
       "[499 rows x 9 columns]"
      ]
     },
     "execution_count": 43,
     "metadata": {},
     "output_type": "execute_result"
    }
   ],
   "source": [
    "df_train[df_train[\"bias_score_after\"].abs() > df_train[\"original_bias_score\"].abs()]"
   ]
  },
  {
   "cell_type": "code",
   "execution_count": null,
   "metadata": {
    "papermill": {
     "duration": 1.050963,
     "end_time": "2019-03-20T16:58:12.339794",
     "exception": false,
     "start_time": "2019-03-20T16:58:11.288831",
     "status": "completed"
    },
    "tags": []
   },
   "outputs": [],
   "source": []
  },
  {
   "cell_type": "markdown",
   "metadata": {
    "papermill": {
     "duration": 0.970494,
     "end_time": "2019-03-20T16:58:14.291585",
     "exception": false,
     "start_time": "2019-03-20T16:58:13.321091",
     "status": "completed"
    },
    "tags": []
   },
   "source": [
    "Evaluation on the validation set"
   ]
  },
  {
   "cell_type": "code",
   "execution_count": 44,
   "metadata": {
    "papermill": {
     "duration": 18.537362,
     "end_time": "2019-03-20T16:58:33.814690",
     "exception": false,
     "start_time": "2019-03-20T16:58:15.277328",
     "status": "completed"
    },
    "tags": []
   },
   "outputs": [
    {
     "name": "stderr",
     "output_type": "stream",
     "text": [
      "100%|██████████| 96/96 [00:17<00:00,  4.63it/s]\n"
     ]
    }
   ],
   "source": [
    "df_val[\"bias_score_after\"] = df_val.progress_apply(compute_postprocess_bias_score, axis=1)"
   ]
  },
  {
   "cell_type": "code",
   "execution_count": 45,
   "metadata": {
    "papermill": {
     "duration": 1.489643,
     "end_time": "2019-03-20T16:58:36.391409",
     "exception": false,
     "start_time": "2019-03-20T16:58:34.901766",
     "status": "completed"
    },
    "tags": []
   },
   "outputs": [
    {
     "data": {
      "text/plain": [
       "(array([ 1.,  2.,  3.,  1., 12., 14., 31., 21.,  5.,  6.]),\n",
       " array([-2.75335377, -2.32684494, -1.9003361 , -1.47382726, -1.04731842,\n",
       "        -0.62080958, -0.19430075,  0.23220809,  0.65871693,  1.08522577,\n",
       "         1.5117346 ]),\n",
       " <a list of 10 Patch objects>)"
      ]
     },
     "execution_count": 45,
     "metadata": {},
     "output_type": "execute_result"
    },
    {
     "data": {
      "image/png": "[encoded data removed]",
      "text/plain": [
       "<Figure size 432x288 with 1 Axes>"
      ]
     },
     "metadata": {
      "needs_background": "light"
     },
     "output_type": "display_data"
    }
   ],
   "source": [
    "plt.hist(df_val[\"original_bias_score\"])"
   ]
  },
  {
   "cell_type": "code",
   "execution_count": 46,
   "metadata": {
    "papermill": {
     "duration": 1.83555,
     "end_time": "2019-03-20T16:58:39.285152",
     "exception": false,
     "start_time": "2019-03-20T16:58:37.449602",
     "status": "completed"
    },
    "tags": []
   },
   "outputs": [
    {
     "data": {
      "text/plain": [
       "(array([ 4.,  6., 13., 20., 12., 16.,  9., 10.,  4.,  2.]),\n",
       " array([-1.61312383, -1.2132813 , -0.81343877, -0.41359624, -0.01375371,\n",
       "         0.38608882,  0.78593135,  1.18577388,  1.58561641,  1.98545894,\n",
       "         2.38530147]),\n",
       " <a list of 10 Patch objects>)"
      ]
     },
     "execution_count": 46,
     "metadata": {},
     "output_type": "execute_result"
    },
    {
     "data": {
      "image/png": "[encoded data removed]",
      "text/plain": [
       "<Figure size 432x288 with 1 Axes>"
      ]
     },
     "metadata": {
      "needs_background": "light"
     },
     "output_type": "display_data"
    }
   ],
   "source": [
    "plt.hist(df_val[\"bias_score_after\"])"
   ]
  },
  {
   "cell_type": "code",
   "execution_count": 47,
   "metadata": {
    "papermill": {
     "duration": 1.148051,
     "end_time": "2019-03-20T16:58:41.477949",
     "exception": false,
     "start_time": "2019-03-20T16:58:40.329898",
     "status": "completed"
    },
    "tags": []
   },
   "outputs": [
    {
     "data": {
      "text/plain": [
       "0.5580325083186229"
      ]
     },
     "execution_count": 47,
     "metadata": {},
     "output_type": "execute_result"
    }
   ],
   "source": [
    "df_val[\"original_bias_score\"].abs().mean()"
   ]
  },
  {
   "cell_type": "code",
   "execution_count": 48,
   "metadata": {
    "papermill": {
     "duration": 1.149796,
     "end_time": "2019-03-20T16:58:43.626873",
     "exception": false,
     "start_time": "2019-03-20T16:58:42.477077",
     "status": "completed"
    },
    "tags": []
   },
   "outputs": [
    {
     "data": {
      "text/plain": [
       "0.7422783874596158"
      ]
     },
     "execution_count": 48,
     "metadata": {},
     "output_type": "execute_result"
    }
   ],
   "source": [
    "df_val[\"bias_score_after\"].abs().mean()"
   ]
  },
  {
   "cell_type": "code",
   "execution_count": null,
   "metadata": {
    "papermill": {
     "duration": 1.171429,
     "end_time": "2019-03-20T16:58:46.029253",
     "exception": false,
     "start_time": "2019-03-20T16:58:44.857824",
     "status": "completed"
    },
    "tags": []
   },
   "outputs": [],
   "source": []
  },
  {
   "cell_type": "markdown",
   "metadata": {
    "papermill": {
     "duration": 1.276744,
     "end_time": "2019-03-20T16:58:48.812121",
     "exception": false,
     "start_time": "2019-03-20T16:58:47.535377",
     "status": "completed"
    },
    "tags": []
   },
   "source": [
    "# Unintended Side Effects"
   ]
  },
  {
   "cell_type": "markdown",
   "metadata": {
    "papermill": {
     "duration": 1.263496,
     "end_time": "2019-03-20T16:58:51.250781",
     "exception": false,
     "start_time": "2019-03-20T16:58:49.987285",
     "status": "completed"
    },
    "tags": []
   },
   "source": [
    "Are there any unintended side effects of this transformation? Let's test and see"
   ]
  },
  {
   "cell_type": "code",
   "execution_count": 49,
   "metadata": {
    "papermill": {
     "duration": 1.849516,
     "end_time": "2019-03-20T16:58:54.399993",
     "exception": false,
     "start_time": "2019-03-20T16:58:52.550477",
     "status": "completed"
    },
    "tags": []
   },
   "outputs": [
    {
     "data": {
      "text/plain": [
       "-0.05279458"
      ]
     },
     "execution_count": 49,
     "metadata": {},
     "output_type": "execute_result"
    }
   ],
   "source": [
    "compute_diff_similarity(\n",
    "    (ContextWord(\"I am a man.\", \"man\"), ContextWord(\"I am a woman.\", \"woman\")),\n",
    "    (ContextWord(\"The programmer went to the office.\", \"programmer\"),\n",
    "     ContextWord(\"The doctor went to the office.\", \"doctor\"))\n",
    ")"
   ]
  },
  {
   "cell_type": "code",
   "execution_count": 50,
   "metadata": {
    "papermill": {
     "duration": 1.228164,
     "end_time": "2019-03-20T16:58:56.667878",
     "exception": false,
     "start_time": "2019-03-20T16:58:55.439714",
     "status": "completed"
    },
    "tags": []
   },
   "outputs": [],
   "source": [
    " def construct_sim_matrix_df(cws: List[ContextWord]):\n",
    "    return pd.DataFrame(data=sim, index=words, columns=words)"
   ]
  },
  {
   "cell_type": "markdown",
   "metadata": {
    "papermill": {
     "duration": 1.122215,
     "end_time": "2019-03-20T16:58:58.831882",
     "exception": false,
     "start_time": "2019-03-20T16:58:57.709667",
     "status": "completed"
    },
    "tags": []
   },
   "source": [
    "Before processing:"
   ]
  },
  {
   "cell_type": "code",
   "execution_count": 51,
   "metadata": {
    "papermill": {
     "duration": 2.179112,
     "end_time": "2019-03-20T16:59:02.163370",
     "exception": false,
     "start_time": "2019-03-20T16:58:59.984258",
     "status": "completed"
    },
    "tags": []
   },
   "outputs": [
    {
     "data": {
      "text/html": [
       "<div>\n",
       "<style scoped>\n",
       "    .dataframe tbody tr th:only-of-type {\n",
       "        vertical-align: middle;\n",
       "    }\n",
       "\n",
       "    .dataframe tbody tr th {\n",
       "        vertical-align: top;\n",
       "    }\n",
       "\n",
       "    .dataframe thead th {\n",
       "        text-align: right;\n",
       "    }\n",
       "</style>\n",
       "<table border=\"1\" class=\"dataframe\">\n",
       "  <thead>\n",
       "    <tr style=\"text-align: right;\">\n",
       "      <th></th>\n",
       "      <th>programmer</th>\n",
       "      <th>doctor</th>\n",
       "      <th>nurse</th>\n",
       "    </tr>\n",
       "  </thead>\n",
       "  <tbody>\n",
       "    <tr>\n",
       "      <th>programmer</th>\n",
       "      <td>1.000000</td>\n",
       "      <td>0.736333</td>\n",
       "      <td>0.710306</td>\n",
       "    </tr>\n",
       "    <tr>\n",
       "      <th>doctor</th>\n",
       "      <td>0.736333</td>\n",
       "      <td>1.000000</td>\n",
       "      <td>0.758742</td>\n",
       "    </tr>\n",
       "    <tr>\n",
       "      <th>nurse</th>\n",
       "      <td>0.710306</td>\n",
       "      <td>0.758742</td>\n",
       "      <td>1.000000</td>\n",
       "    </tr>\n",
       "  </tbody>\n",
       "</table>\n",
       "</div>"
      ],
      "text/plain": [
       "            programmer    doctor     nurse\n",
       "programmer    1.000000  0.736333  0.710306\n",
       "doctor        0.736333  1.000000  0.758742\n",
       "nurse         0.710306  0.758742  1.000000"
      ]
     },
     "execution_count": 51,
     "metadata": {},
     "output_type": "execute_result"
    }
   ],
   "source": [
    "cws = [\n",
    "    ContextWord(\"The programmer went to the office.\", \"programmer\"),\n",
    "    ContextWord(\"The doctor went to the office.\", \"doctor\"),\n",
    "    ContextWord(\"The nurse went to the office.\", \"nurse\"),\n",
    "]\n",
    "sim = construct_sim_matrix([get_word_vector(cw) for cw in cws])\n",
    "pd.DataFrame(data=sim, index=[cw.word for cw in cws], columns=[cw.word for cw in cws])"
   ]
  },
  {
   "cell_type": "markdown",
   "metadata": {
    "papermill": {
     "duration": 1.162315,
     "end_time": "2019-03-20T16:59:04.508401",
     "exception": false,
     "start_time": "2019-03-20T16:59:03.346086",
     "status": "completed"
    },
    "tags": []
   },
   "source": [
    "After processing:"
   ]
  },
  {
   "cell_type": "code",
   "execution_count": 52,
   "metadata": {
    "papermill": {
     "duration": 1.608551,
     "end_time": "2019-03-20T16:59:07.278036",
     "exception": false,
     "start_time": "2019-03-20T16:59:05.669485",
     "status": "completed"
    },
    "tags": []
   },
   "outputs": [
    {
     "data": {
      "text/html": [
       "<div>\n",
       "<style scoped>\n",
       "    .dataframe tbody tr th:only-of-type {\n",
       "        vertical-align: middle;\n",
       "    }\n",
       "\n",
       "    .dataframe tbody tr th {\n",
       "        vertical-align: top;\n",
       "    }\n",
       "\n",
       "    .dataframe thead th {\n",
       "        text-align: right;\n",
       "    }\n",
       "</style>\n",
       "<table border=\"1\" class=\"dataframe\">\n",
       "  <thead>\n",
       "    <tr style=\"text-align: right;\">\n",
       "      <th></th>\n",
       "      <th>programmer</th>\n",
       "      <th>doctor</th>\n",
       "      <th>nurse</th>\n",
       "    </tr>\n",
       "  </thead>\n",
       "  <tbody>\n",
       "    <tr>\n",
       "      <th>programmer</th>\n",
       "      <td>1.000000</td>\n",
       "      <td>0.732260</td>\n",
       "      <td>0.711608</td>\n",
       "    </tr>\n",
       "    <tr>\n",
       "      <th>doctor</th>\n",
       "      <td>0.732260</td>\n",
       "      <td>1.000000</td>\n",
       "      <td>0.761288</td>\n",
       "    </tr>\n",
       "    <tr>\n",
       "      <th>nurse</th>\n",
       "      <td>0.711608</td>\n",
       "      <td>0.761288</td>\n",
       "      <td>1.000000</td>\n",
       "    </tr>\n",
       "  </tbody>\n",
       "</table>\n",
       "</div>"
      ],
      "text/plain": [
       "            programmer    doctor     nurse\n",
       "programmer    1.000000  0.732260  0.711608\n",
       "doctor        0.732260  1.000000  0.761288\n",
       "nurse         0.711608  0.761288  1.000000"
      ]
     },
     "execution_count": 52,
     "metadata": {},
     "output_type": "execute_result"
    }
   ],
   "source": [
    "sim = construct_sim_matrix([pp(get_word_vector(cw)) for cw in cws])\n",
    "pd.DataFrame(data=sim, index=[cw.word for cw in cws], columns=[cw.word for cw in cws])"
   ]
  },
  {
   "cell_type": "markdown",
   "metadata": {
    "papermill": {
     "duration": 1.073798,
     "end_time": "2019-03-20T16:59:09.426910",
     "exception": false,
     "start_time": "2019-03-20T16:59:08.353112",
     "status": "completed"
    },
    "tags": []
   },
   "source": [
    "Interestingly, the similarities here seem to be roughly preserved; perhaps because we are neutralizing w.r.t to the gender dimension in the subject space, but not the object space?"
   ]
  },
  {
   "cell_type": "code",
   "execution_count": null,
   "metadata": {
    "papermill": {
     "duration": 1.151958,
     "end_time": "2019-03-20T16:59:11.684649",
     "exception": false,
     "start_time": "2019-03-20T16:59:10.532691",
     "status": "completed"
    },
    "tags": []
   },
   "outputs": [],
   "source": []
  },
  {
   "cell_type": "code",
   "execution_count": 53,
   "metadata": {
    "papermill": {
     "duration": 1.911833,
     "end_time": "2019-03-20T16:59:14.716946",
     "exception": false,
     "start_time": "2019-03-20T16:59:12.805113",
     "status": "completed"
    },
    "tags": []
   },
   "outputs": [
    {
     "data": {
      "text/html": [
       "<div>\n",
       "<style scoped>\n",
       "    .dataframe tbody tr th:only-of-type {\n",
       "        vertical-align: middle;\n",
       "    }\n",
       "\n",
       "    .dataframe tbody tr th {\n",
       "        vertical-align: top;\n",
       "    }\n",
       "\n",
       "    .dataframe thead th {\n",
       "        text-align: right;\n",
       "    }\n",
       "</style>\n",
       "<table border=\"1\" class=\"dataframe\">\n",
       "  <thead>\n",
       "    <tr style=\"text-align: right;\">\n",
       "      <th></th>\n",
       "      <th>beautiful</th>\n",
       "      <th>dangerous</th>\n",
       "      <th>normal</th>\n",
       "    </tr>\n",
       "  </thead>\n",
       "  <tbody>\n",
       "    <tr>\n",
       "      <th>beautiful</th>\n",
       "      <td>1.000000</td>\n",
       "      <td>0.641661</td>\n",
       "      <td>0.568179</td>\n",
       "    </tr>\n",
       "    <tr>\n",
       "      <th>dangerous</th>\n",
       "      <td>0.641661</td>\n",
       "      <td>1.000000</td>\n",
       "      <td>0.568495</td>\n",
       "    </tr>\n",
       "    <tr>\n",
       "      <th>normal</th>\n",
       "      <td>0.568179</td>\n",
       "      <td>0.568495</td>\n",
       "      <td>1.000000</td>\n",
       "    </tr>\n",
       "  </tbody>\n",
       "</table>\n",
       "</div>"
      ],
      "text/plain": [
       "           beautiful  dangerous    normal\n",
       "beautiful   1.000000   0.641661  0.568179\n",
       "dangerous   0.641661   1.000000  0.568495\n",
       "normal      0.568179   0.568495  1.000000"
      ]
     },
     "execution_count": 53,
     "metadata": {},
     "output_type": "execute_result"
    }
   ],
   "source": [
    "cws = [\n",
    "    ContextWord(\"Your colleague is very beautiful.\", \"beautiful\"),\n",
    "    ContextWord(\"Your colleague is very dangerous.\", \"dangerous\"),\n",
    "    ContextWord(\"Your colleague is very normal.\", \"normal\"),\n",
    "]\n",
    "sim = construct_sim_matrix([get_word_vector(cw) for cw in cws])\n",
    "pd.DataFrame(data=sim, index=[cw.word for cw in cws], columns=[cw.word for cw in cws])"
   ]
  },
  {
   "cell_type": "markdown",
   "metadata": {
    "papermill": {
     "duration": 1.181456,
     "end_time": "2019-03-20T16:59:17.008798",
     "exception": false,
     "start_time": "2019-03-20T16:59:15.827342",
     "status": "completed"
    },
    "tags": []
   },
   "source": [
    "Again, not much reduction in similarities here..."
   ]
  },
  {
   "cell_type": "code",
   "execution_count": 54,
   "metadata": {
    "papermill": {
     "duration": 1.573719,
     "end_time": "2019-03-20T16:59:19.798294",
     "exception": false,
     "start_time": "2019-03-20T16:59:18.224575",
     "status": "completed"
    },
    "tags": []
   },
   "outputs": [
    {
     "data": {
      "text/html": [
       "<div>\n",
       "<style scoped>\n",
       "    .dataframe tbody tr th:only-of-type {\n",
       "        vertical-align: middle;\n",
       "    }\n",
       "\n",
       "    .dataframe tbody tr th {\n",
       "        vertical-align: top;\n",
       "    }\n",
       "\n",
       "    .dataframe thead th {\n",
       "        text-align: right;\n",
       "    }\n",
       "</style>\n",
       "<table border=\"1\" class=\"dataframe\">\n",
       "  <thead>\n",
       "    <tr style=\"text-align: right;\">\n",
       "      <th></th>\n",
       "      <th>beautiful</th>\n",
       "      <th>dangerous</th>\n",
       "      <th>normal</th>\n",
       "    </tr>\n",
       "  </thead>\n",
       "  <tbody>\n",
       "    <tr>\n",
       "      <th>beautiful</th>\n",
       "      <td>1.000000</td>\n",
       "      <td>0.652983</td>\n",
       "      <td>0.567802</td>\n",
       "    </tr>\n",
       "    <tr>\n",
       "      <th>dangerous</th>\n",
       "      <td>0.652983</td>\n",
       "      <td>1.000000</td>\n",
       "      <td>0.567475</td>\n",
       "    </tr>\n",
       "    <tr>\n",
       "      <th>normal</th>\n",
       "      <td>0.567802</td>\n",
       "      <td>0.567475</td>\n",
       "      <td>1.000000</td>\n",
       "    </tr>\n",
       "  </tbody>\n",
       "</table>\n",
       "</div>"
      ],
      "text/plain": [
       "           beautiful  dangerous    normal\n",
       "beautiful   1.000000   0.652983  0.567802\n",
       "dangerous   0.652983   1.000000  0.567475\n",
       "normal      0.567802   0.567475  1.000000"
      ]
     },
     "execution_count": 54,
     "metadata": {},
     "output_type": "execute_result"
    }
   ],
   "source": [
    "sim = construct_sim_matrix([pp(get_word_vector(cw)) for cw in cws])\n",
    "pd.DataFrame(data=sim, index=[cw.word for cw in cws], columns=[cw.word for cw in cws])"
   ]
  },
  {
   "cell_type": "code",
   "execution_count": null,
   "metadata": {
    "papermill": {
     "duration": 1.042739,
     "end_time": "2019-03-20T16:59:21.860219",
     "exception": false,
     "start_time": "2019-03-20T16:59:20.817480",
     "status": "completed"
    },
    "tags": []
   },
   "outputs": [],
   "source": []
  }
 ],
 "metadata": {
  "celltoolbar": "Tags",
  "kernelspec": {
   "display_name": "Python 3",
   "language": "python",
   "name": "python3"
  },
  "language_info": {
   "codemirror_mode": {
    "name": "ipython",
    "version": 3
   },
   "file_extension": ".py",
   "mimetype": "text/x-python",
   "name": "python",
   "nbconvert_exporter": "python",
   "pygments_lexer": "ipython3",
   "version": "3.6.10"
  },
  "papermill": {
   "duration": 563.064214,
   "end_time": "2019-03-20T16:59:25.958672",
   "environment_variables": {},
   "exception": null,
   "input_path": "NIPS_method_replication_template.ipynb",
   "output_path": "../notebook_outputs/NIPS_method_replication_emo.ipynb",
   "parameters": {
    "train_file": "gender_emo_w_probs_train.txt",
    "val_file": "gender_emo_w_probs_val.txt"
   },
   "start_time": "2019-03-20T16:50:02.894458",
   "version": "0.16.2"
  }
 },
 "nbformat": 4,
 "nbformat_minor": 2
}
